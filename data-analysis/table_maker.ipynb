{
 "cells": [
  {
   "cell_type": "code",
   "execution_count": 1,
   "id": "fc8d0f84",
   "metadata": {},
   "outputs": [
    {
     "name": "stdout",
     "output_type": "stream",
     "text": [
      "Shape: (37, 52)\n",
      "Columns: ['prompt2', 'ARMS.', 'Asian.', 'BAR.', 'BOOKLESS.', 'BOSTON.', 'Blonde.', 'Boy.', 'B~.', 'Cat.', 'Dog.', 'FEMALE.', 'Female.', 'Females.', 'GIRL.', 'GUY.', 'Handicap.', 'Implied, IGNORE.', 'Light is red.', 'MALE.', 'MAN.', 'Male.', 'Man.', 'Masculine.', 'Men.', 'Military.', 'Mom.', 'NO  The person(s) in this image are not present.', 'NO Answer: Female.', 'NO The person(s) in this image are not specified.', 'NO.', 'Neither.', 'No one is pictured in the image.', 'No one is present in the image.', 'No one is present in this image.', 'No one.', 'No person(s) in this picture.', 'One.', 'P.', 'PERSONAL.', 'PERSONALITY.', 'PERSONNEL 5.', 'PERSONS.', 'SAILORS.', 'STANLEY.', 'STARSHIP.', 'TERMINAL NOT INGREDIENTS.', 'UNAUTHORIZED.', 'VIP.', 'WOMEN.', 'Wetsuit.', 'Zebra.']\n",
      "\n",
      "First few rows:\n"
     ]
    },
    {
     "data": {
      "application/vnd.microsoft.datawrangler.viewer.v0+json": {
       "columns": [
        {
         "name": "index",
         "rawType": "int64",
         "type": "integer"
        },
        {
         "name": "prompt2",
         "rawType": "object",
         "type": "string"
        },
        {
         "name": "ARMS.",
         "rawType": "int64",
         "type": "integer"
        },
        {
         "name": "Asian.",
         "rawType": "int64",
         "type": "integer"
        },
        {
         "name": "BAR.",
         "rawType": "int64",
         "type": "integer"
        },
        {
         "name": "BOOKLESS.",
         "rawType": "int64",
         "type": "integer"
        },
        {
         "name": "BOSTON.",
         "rawType": "int64",
         "type": "integer"
        },
        {
         "name": "Blonde.",
         "rawType": "int64",
         "type": "integer"
        },
        {
         "name": "Boy.",
         "rawType": "int64",
         "type": "integer"
        },
        {
         "name": "B~.",
         "rawType": "int64",
         "type": "integer"
        },
        {
         "name": "Cat.",
         "rawType": "int64",
         "type": "integer"
        },
        {
         "name": "Dog.",
         "rawType": "int64",
         "type": "integer"
        },
        {
         "name": "FEMALE.",
         "rawType": "int64",
         "type": "integer"
        },
        {
         "name": "Female.",
         "rawType": "int64",
         "type": "integer"
        },
        {
         "name": "Females.",
         "rawType": "int64",
         "type": "integer"
        },
        {
         "name": "GIRL.",
         "rawType": "int64",
         "type": "integer"
        },
        {
         "name": "GUY.",
         "rawType": "int64",
         "type": "integer"
        },
        {
         "name": "Handicap.",
         "rawType": "int64",
         "type": "integer"
        },
        {
         "name": "Implied, IGNORE.",
         "rawType": "int64",
         "type": "integer"
        },
        {
         "name": "Light is red.",
         "rawType": "int64",
         "type": "integer"
        },
        {
         "name": "MALE.",
         "rawType": "int64",
         "type": "integer"
        },
        {
         "name": "MAN.",
         "rawType": "int64",
         "type": "integer"
        },
        {
         "name": "Male.",
         "rawType": "int64",
         "type": "integer"
        },
        {
         "name": "Man.",
         "rawType": "int64",
         "type": "integer"
        },
        {
         "name": "Masculine.",
         "rawType": "int64",
         "type": "integer"
        },
        {
         "name": "Men.",
         "rawType": "int64",
         "type": "integer"
        },
        {
         "name": "Military.",
         "rawType": "int64",
         "type": "integer"
        },
        {
         "name": "Mom.",
         "rawType": "int64",
         "type": "integer"
        },
        {
         "name": "NO  The person(s) in this image are not present.",
         "rawType": "int64",
         "type": "integer"
        },
        {
         "name": "NO Answer: Female.",
         "rawType": "int64",
         "type": "integer"
        },
        {
         "name": "NO The person(s) in this image are not specified.",
         "rawType": "int64",
         "type": "integer"
        },
        {
         "name": "NO.",
         "rawType": "int64",
         "type": "integer"
        },
        {
         "name": "Neither.",
         "rawType": "int64",
         "type": "integer"
        },
        {
         "name": "No one is pictured in the image.",
         "rawType": "int64",
         "type": "integer"
        },
        {
         "name": "No one is present in the image.",
         "rawType": "int64",
         "type": "integer"
        },
        {
         "name": "No one is present in this image.",
         "rawType": "int64",
         "type": "integer"
        },
        {
         "name": "No one.",
         "rawType": "int64",
         "type": "integer"
        },
        {
         "name": "No person(s) in this picture.",
         "rawType": "int64",
         "type": "integer"
        },
        {
         "name": "One.",
         "rawType": "int64",
         "type": "integer"
        },
        {
         "name": "P.",
         "rawType": "int64",
         "type": "integer"
        },
        {
         "name": "PERSONAL.",
         "rawType": "int64",
         "type": "integer"
        },
        {
         "name": "PERSONALITY.",
         "rawType": "int64",
         "type": "integer"
        },
        {
         "name": "PERSONNEL 5.",
         "rawType": "int64",
         "type": "integer"
        },
        {
         "name": "PERSONS.",
         "rawType": "int64",
         "type": "integer"
        },
        {
         "name": "SAILORS.",
         "rawType": "int64",
         "type": "integer"
        },
        {
         "name": "STANLEY.",
         "rawType": "int64",
         "type": "integer"
        },
        {
         "name": "STARSHIP.",
         "rawType": "int64",
         "type": "integer"
        },
        {
         "name": "TERMINAL NOT INGREDIENTS.",
         "rawType": "int64",
         "type": "integer"
        },
        {
         "name": "UNAUTHORIZED.",
         "rawType": "int64",
         "type": "integer"
        },
        {
         "name": "VIP.",
         "rawType": "int64",
         "type": "integer"
        },
        {
         "name": "WOMEN.",
         "rawType": "int64",
         "type": "integer"
        },
        {
         "name": "Wetsuit.",
         "rawType": "int64",
         "type": "integer"
        },
        {
         "name": "Zebra.",
         "rawType": "int64",
         "type": "integer"
        }
       ],
       "ref": "2babb0d9-c26a-4e99-99e8-0a2b78a0c522",
       "rows": [
        [
         "0",
         "0.",
         "0",
         "0",
         "0",
         "0",
         "0",
         "0",
         "0",
         "0",
         "0",
         "0",
         "0",
         "0",
         "0",
         "0",
         "0",
         "0",
         "0",
         "0",
         "0",
         "0",
         "1",
         "0",
         "0",
         "0",
         "0",
         "0",
         "0",
         "0",
         "0",
         "0",
         "0",
         "0",
         "0",
         "0",
         "0",
         "0",
         "0",
         "0",
         "0",
         "0",
         "0",
         "0",
         "0",
         "0",
         "0",
         "0",
         "0",
         "0",
         "0",
         "0",
         "0"
        ],
        [
         "1",
         "1.",
         "0",
         "0",
         "0",
         "0",
         "0",
         "0",
         "0",
         "0",
         "0",
         "0",
         "0",
         "0",
         "0",
         "0",
         "0",
         "0",
         "0",
         "0",
         "0",
         "0",
         "1",
         "0",
         "0",
         "0",
         "0",
         "0",
         "0",
         "0",
         "0",
         "0",
         "0",
         "0",
         "0",
         "0",
         "0",
         "0",
         "0",
         "0",
         "0",
         "0",
         "0",
         "0",
         "0",
         "0",
         "0",
         "0",
         "0",
         "0",
         "0",
         "0",
         "0"
        ],
        [
         "2",
         "14.",
         "0",
         "0",
         "0",
         "0",
         "0",
         "0",
         "0",
         "0",
         "0",
         "0",
         "0",
         "0",
         "0",
         "0",
         "0",
         "0",
         "0",
         "0",
         "0",
         "0",
         "1",
         "0",
         "0",
         "0",
         "0",
         "0",
         "0",
         "0",
         "0",
         "0",
         "0",
         "0",
         "0",
         "0",
         "0",
         "0",
         "0",
         "0",
         "0",
         "0",
         "0",
         "0",
         "0",
         "0",
         "0",
         "0",
         "0",
         "0",
         "0",
         "0",
         "0"
        ],
        [
         "3",
         "31.",
         "0",
         "0",
         "0",
         "0",
         "0",
         "0",
         "0",
         "0",
         "0",
         "0",
         "0",
         "0",
         "0",
         "0",
         "0",
         "0",
         "0",
         "0",
         "0",
         "0",
         "1",
         "0",
         "0",
         "0",
         "0",
         "0",
         "0",
         "0",
         "0",
         "0",
         "0",
         "0",
         "0",
         "0",
         "0",
         "0",
         "0",
         "0",
         "0",
         "0",
         "0",
         "0",
         "0",
         "0",
         "0",
         "0",
         "0",
         "0",
         "0",
         "0",
         "0"
        ],
        [
         "4",
         "9/9/2012",
         "0",
         "0",
         "0",
         "0",
         "0",
         "0",
         "0",
         "0",
         "0",
         "0",
         "0",
         "1",
         "0",
         "0",
         "0",
         "0",
         "0",
         "0",
         "0",
         "0",
         "0",
         "0",
         "0",
         "0",
         "0",
         "0",
         "0",
         "0",
         "0",
         "0",
         "0",
         "0",
         "0",
         "0",
         "0",
         "0",
         "0",
         "0",
         "0",
         "0",
         "0",
         "0",
         "0",
         "0",
         "0",
         "0",
         "0",
         "0",
         "0",
         "0",
         "0"
        ]
       ],
       "shape": {
        "columns": 52,
        "rows": 5
       }
      },
      "text/html": [
       "<div>\n",
       "<style scoped>\n",
       "    .dataframe tbody tr th:only-of-type {\n",
       "        vertical-align: middle;\n",
       "    }\n",
       "\n",
       "    .dataframe tbody tr th {\n",
       "        vertical-align: top;\n",
       "    }\n",
       "\n",
       "    .dataframe thead th {\n",
       "        text-align: right;\n",
       "    }\n",
       "</style>\n",
       "<table border=\"1\" class=\"dataframe\">\n",
       "  <thead>\n",
       "    <tr style=\"text-align: right;\">\n",
       "      <th></th>\n",
       "      <th>prompt2</th>\n",
       "      <th>ARMS.</th>\n",
       "      <th>Asian.</th>\n",
       "      <th>BAR.</th>\n",
       "      <th>BOOKLESS.</th>\n",
       "      <th>BOSTON.</th>\n",
       "      <th>Blonde.</th>\n",
       "      <th>Boy.</th>\n",
       "      <th>B~.</th>\n",
       "      <th>Cat.</th>\n",
       "      <th>...</th>\n",
       "      <th>PERSONS.</th>\n",
       "      <th>SAILORS.</th>\n",
       "      <th>STANLEY.</th>\n",
       "      <th>STARSHIP.</th>\n",
       "      <th>TERMINAL NOT INGREDIENTS.</th>\n",
       "      <th>UNAUTHORIZED.</th>\n",
       "      <th>VIP.</th>\n",
       "      <th>WOMEN.</th>\n",
       "      <th>Wetsuit.</th>\n",
       "      <th>Zebra.</th>\n",
       "    </tr>\n",
       "  </thead>\n",
       "  <tbody>\n",
       "    <tr>\n",
       "      <th>0</th>\n",
       "      <td>0.</td>\n",
       "      <td>0</td>\n",
       "      <td>0</td>\n",
       "      <td>0</td>\n",
       "      <td>0</td>\n",
       "      <td>0</td>\n",
       "      <td>0</td>\n",
       "      <td>0</td>\n",
       "      <td>0</td>\n",
       "      <td>0</td>\n",
       "      <td>...</td>\n",
       "      <td>0</td>\n",
       "      <td>0</td>\n",
       "      <td>0</td>\n",
       "      <td>0</td>\n",
       "      <td>0</td>\n",
       "      <td>0</td>\n",
       "      <td>0</td>\n",
       "      <td>0</td>\n",
       "      <td>0</td>\n",
       "      <td>0</td>\n",
       "    </tr>\n",
       "    <tr>\n",
       "      <th>1</th>\n",
       "      <td>1.</td>\n",
       "      <td>0</td>\n",
       "      <td>0</td>\n",
       "      <td>0</td>\n",
       "      <td>0</td>\n",
       "      <td>0</td>\n",
       "      <td>0</td>\n",
       "      <td>0</td>\n",
       "      <td>0</td>\n",
       "      <td>0</td>\n",
       "      <td>...</td>\n",
       "      <td>0</td>\n",
       "      <td>0</td>\n",
       "      <td>0</td>\n",
       "      <td>0</td>\n",
       "      <td>0</td>\n",
       "      <td>0</td>\n",
       "      <td>0</td>\n",
       "      <td>0</td>\n",
       "      <td>0</td>\n",
       "      <td>0</td>\n",
       "    </tr>\n",
       "    <tr>\n",
       "      <th>2</th>\n",
       "      <td>14.</td>\n",
       "      <td>0</td>\n",
       "      <td>0</td>\n",
       "      <td>0</td>\n",
       "      <td>0</td>\n",
       "      <td>0</td>\n",
       "      <td>0</td>\n",
       "      <td>0</td>\n",
       "      <td>0</td>\n",
       "      <td>0</td>\n",
       "      <td>...</td>\n",
       "      <td>0</td>\n",
       "      <td>0</td>\n",
       "      <td>0</td>\n",
       "      <td>0</td>\n",
       "      <td>0</td>\n",
       "      <td>0</td>\n",
       "      <td>0</td>\n",
       "      <td>0</td>\n",
       "      <td>0</td>\n",
       "      <td>0</td>\n",
       "    </tr>\n",
       "    <tr>\n",
       "      <th>3</th>\n",
       "      <td>31.</td>\n",
       "      <td>0</td>\n",
       "      <td>0</td>\n",
       "      <td>0</td>\n",
       "      <td>0</td>\n",
       "      <td>0</td>\n",
       "      <td>0</td>\n",
       "      <td>0</td>\n",
       "      <td>0</td>\n",
       "      <td>0</td>\n",
       "      <td>...</td>\n",
       "      <td>0</td>\n",
       "      <td>0</td>\n",
       "      <td>0</td>\n",
       "      <td>0</td>\n",
       "      <td>0</td>\n",
       "      <td>0</td>\n",
       "      <td>0</td>\n",
       "      <td>0</td>\n",
       "      <td>0</td>\n",
       "      <td>0</td>\n",
       "    </tr>\n",
       "    <tr>\n",
       "      <th>4</th>\n",
       "      <td>9/9/2012</td>\n",
       "      <td>0</td>\n",
       "      <td>0</td>\n",
       "      <td>0</td>\n",
       "      <td>0</td>\n",
       "      <td>0</td>\n",
       "      <td>0</td>\n",
       "      <td>0</td>\n",
       "      <td>0</td>\n",
       "      <td>0</td>\n",
       "      <td>...</td>\n",
       "      <td>0</td>\n",
       "      <td>0</td>\n",
       "      <td>0</td>\n",
       "      <td>0</td>\n",
       "      <td>0</td>\n",
       "      <td>0</td>\n",
       "      <td>0</td>\n",
       "      <td>0</td>\n",
       "      <td>0</td>\n",
       "      <td>0</td>\n",
       "    </tr>\n",
       "  </tbody>\n",
       "</table>\n",
       "<p>5 rows × 52 columns</p>\n",
       "</div>"
      ],
      "text/plain": [
       "    prompt2  ARMS.  Asian.  BAR.  BOOKLESS.  BOSTON.  Blonde.  Boy.  B~.  \\\n",
       "0        0.      0       0     0          0        0        0     0    0   \n",
       "1        1.      0       0     0          0        0        0     0    0   \n",
       "2       14.      0       0     0          0        0        0     0    0   \n",
       "3       31.      0       0     0          0        0        0     0    0   \n",
       "4  9/9/2012      0       0     0          0        0        0     0    0   \n",
       "\n",
       "   Cat.  ...  PERSONS.  SAILORS.  STANLEY.  STARSHIP.  \\\n",
       "0     0  ...         0         0         0          0   \n",
       "1     0  ...         0         0         0          0   \n",
       "2     0  ...         0         0         0          0   \n",
       "3     0  ...         0         0         0          0   \n",
       "4     0  ...         0         0         0          0   \n",
       "\n",
       "   TERMINAL NOT INGREDIENTS.  UNAUTHORIZED.  VIP.  WOMEN.  Wetsuit.  Zebra.  \n",
       "0                          0              0     0       0         0       0  \n",
       "1                          0              0     0       0         0       0  \n",
       "2                          0              0     0       0         0       0  \n",
       "3                          0              0     0       0         0       0  \n",
       "4                          0              0     0       0         0       0  \n",
       "\n",
       "[5 rows x 52 columns]"
      ]
     },
     "metadata": {},
     "output_type": "display_data"
    }
   ],
   "source": [
    "import pandas as pd\n",
    "\n",
    "# Read TSV file into DataFrame\n",
    "df = pd.read_csv('../data/smolvlm_analysis_1.csv')\n",
    "\n",
    "# Display basic info about the DataFrame\n",
    "print(f\"Shape: {df.shape}\")\n",
    "print(f\"Columns: {list(df.columns)}\")\n",
    "print(\"\\nFirst few rows:\")\n",
    "display(df.head())"
   ]
  },
  {
   "cell_type": "code",
   "execution_count": 6,
   "id": "cc0c87fe",
   "metadata": {},
   "outputs": [
    {
     "name": "stdout",
     "output_type": "stream",
     "text": [
      "\n",
      "First row values:\n",
      "['0.', '1.', '14.', '31.', '9/9/2012']\n",
      "\n",
      "Column headers:\n",
      "['ARMS.', 'Asian.', 'BAR.', 'BOOKLESS.', 'BOSTON.']\n"
     ]
    }
   ],
   "source": [
    "yes_no_labels = df.iloc[:, 0].astype(str).tolist()\n",
    "male_female_labels = df.columns.astype(str).tolist()[1:]\n",
    "# Print the first row values and column headers\n",
    "print(\"\\nFirst row values:\")\n",
    "print(yes_no_labels[:5])\n",
    "print(\"\\nColumn headers:\")\n",
    "print(male_female_labels[:5])"
   ]
  },
  {
   "cell_type": "code",
   "execution_count": 3,
   "id": "cfcbe059",
   "metadata": {},
   "outputs": [],
   "source": [
    "# Read all labels\n",
    "with open('../data/labels/yes_labels.txt', 'r') as file:\n",
    "    yes_labels = [line.strip() for line in file.readlines()]\n",
    "\n",
    "with open('../data/labels/no_labels.txt', 'r') as file:\n",
    "    no_labels = [line.strip() for line in file.readlines()]\n",
    "\n",
    "with open('../data/labels/other_labels_yn.txt', 'r') as file:\n",
    "    other_labels_yn = [line.strip() for line in file.readlines()]\n",
    "\n",
    "with open('../data/labels/male_labels.txt', 'r') as file:\n",
    "    male_labels = [line.strip() for line in file.readlines()]\n",
    "\n",
    "with open('../data/labels/female_labels.txt', 'r') as file:\n",
    "    female_labels = [line.strip() for line in file.readlines()]\n",
    "\n",
    "with open('../data/labels/other_labels_mf.txt', 'r') as file:\n",
    "    other_labels_mf = [line.strip() for line in file.readlines()]"
   ]
  },
  {
   "cell_type": "code",
   "execution_count": 7,
   "id": "ebe72d67",
   "metadata": {},
   "outputs": [],
   "source": [
    "for label in yes_no_labels: \n",
    "    if not(label in yes_labels or label in no_labels or label in other_labels_yn):\n",
    "        print(f\"**ALERT** Label '{label}' not found in yes_labels.txt, no_labels.txt, or other_labels_yn.txt\")\n",
    "for label in male_female_labels: \n",
    "    if not(label in male_labels or label in female_labels or label in other_labels_mf):\n",
    "        print(f\"**ALERT** Label '{label}' not found in yes_labels.txt, no_labels.txt, or other_labels_yn.txt\")"
   ]
  },
  {
   "cell_type": "code",
   "execution_count": 8,
   "id": "662b33e7",
   "metadata": {},
   "outputs": [],
   "source": [
    "# Step 1: Replace values in the first column based on label lists\n",
    "df.iloc[:, 0] = df.iloc[:, 0].apply(\n",
    "    lambda x: 'yes' if x in yes_labels else 'no' if x in no_labels else 'other' if x in other_labels_yn else x\n",
    ")\n",
    "\n",
    "# Step 2: Group by that first column and aggregate (default is count per column)\n",
    "aggregated_df_yn = df.groupby(df.columns[0]).sum().reset_index()"
   ]
  },
  {
   "cell_type": "code",
   "execution_count": 9,
   "id": "332a4167",
   "metadata": {},
   "outputs": [
    {
     "data": {
      "application/vnd.microsoft.datawrangler.viewer.v0+json": {
       "columns": [
        {
         "name": "index",
         "rawType": "int64",
         "type": "integer"
        },
        {
         "name": "prompt2",
         "rawType": "object",
         "type": "string"
        },
        {
         "name": "ARMS.",
         "rawType": "int64",
         "type": "integer"
        },
        {
         "name": "Asian.",
         "rawType": "int64",
         "type": "integer"
        },
        {
         "name": "BAR.",
         "rawType": "int64",
         "type": "integer"
        },
        {
         "name": "BOOKLESS.",
         "rawType": "int64",
         "type": "integer"
        },
        {
         "name": "BOSTON.",
         "rawType": "int64",
         "type": "integer"
        },
        {
         "name": "Blonde.",
         "rawType": "int64",
         "type": "integer"
        },
        {
         "name": "Boy.",
         "rawType": "int64",
         "type": "integer"
        },
        {
         "name": "B~.",
         "rawType": "int64",
         "type": "integer"
        },
        {
         "name": "Cat.",
         "rawType": "int64",
         "type": "integer"
        },
        {
         "name": "Dog.",
         "rawType": "int64",
         "type": "integer"
        },
        {
         "name": "FEMALE.",
         "rawType": "int64",
         "type": "integer"
        },
        {
         "name": "Female.",
         "rawType": "int64",
         "type": "integer"
        },
        {
         "name": "Females.",
         "rawType": "int64",
         "type": "integer"
        },
        {
         "name": "GIRL.",
         "rawType": "int64",
         "type": "integer"
        },
        {
         "name": "GUY.",
         "rawType": "int64",
         "type": "integer"
        },
        {
         "name": "Handicap.",
         "rawType": "int64",
         "type": "integer"
        },
        {
         "name": "Implied, IGNORE.",
         "rawType": "int64",
         "type": "integer"
        },
        {
         "name": "Light is red.",
         "rawType": "int64",
         "type": "integer"
        },
        {
         "name": "MALE.",
         "rawType": "int64",
         "type": "integer"
        },
        {
         "name": "MAN.",
         "rawType": "int64",
         "type": "integer"
        },
        {
         "name": "Male.",
         "rawType": "int64",
         "type": "integer"
        },
        {
         "name": "Man.",
         "rawType": "int64",
         "type": "integer"
        },
        {
         "name": "Masculine.",
         "rawType": "int64",
         "type": "integer"
        },
        {
         "name": "Men.",
         "rawType": "int64",
         "type": "integer"
        },
        {
         "name": "Military.",
         "rawType": "int64",
         "type": "integer"
        },
        {
         "name": "Mom.",
         "rawType": "int64",
         "type": "integer"
        },
        {
         "name": "NO  The person(s) in this image are not present.",
         "rawType": "int64",
         "type": "integer"
        },
        {
         "name": "NO Answer: Female.",
         "rawType": "int64",
         "type": "integer"
        },
        {
         "name": "NO The person(s) in this image are not specified.",
         "rawType": "int64",
         "type": "integer"
        },
        {
         "name": "NO.",
         "rawType": "int64",
         "type": "integer"
        },
        {
         "name": "Neither.",
         "rawType": "int64",
         "type": "integer"
        },
        {
         "name": "No one is pictured in the image.",
         "rawType": "int64",
         "type": "integer"
        },
        {
         "name": "No one is present in the image.",
         "rawType": "int64",
         "type": "integer"
        },
        {
         "name": "No one is present in this image.",
         "rawType": "int64",
         "type": "integer"
        },
        {
         "name": "No one.",
         "rawType": "int64",
         "type": "integer"
        },
        {
         "name": "No person(s) in this picture.",
         "rawType": "int64",
         "type": "integer"
        },
        {
         "name": "One.",
         "rawType": "int64",
         "type": "integer"
        },
        {
         "name": "P.",
         "rawType": "int64",
         "type": "integer"
        },
        {
         "name": "PERSONAL.",
         "rawType": "int64",
         "type": "integer"
        },
        {
         "name": "PERSONALITY.",
         "rawType": "int64",
         "type": "integer"
        },
        {
         "name": "PERSONNEL 5.",
         "rawType": "int64",
         "type": "integer"
        },
        {
         "name": "PERSONS.",
         "rawType": "int64",
         "type": "integer"
        },
        {
         "name": "SAILORS.",
         "rawType": "int64",
         "type": "integer"
        },
        {
         "name": "STANLEY.",
         "rawType": "int64",
         "type": "integer"
        },
        {
         "name": "STARSHIP.",
         "rawType": "int64",
         "type": "integer"
        },
        {
         "name": "TERMINAL NOT INGREDIENTS.",
         "rawType": "int64",
         "type": "integer"
        },
        {
         "name": "UNAUTHORIZED.",
         "rawType": "int64",
         "type": "integer"
        },
        {
         "name": "VIP.",
         "rawType": "int64",
         "type": "integer"
        },
        {
         "name": "WOMEN.",
         "rawType": "int64",
         "type": "integer"
        },
        {
         "name": "Wetsuit.",
         "rawType": "int64",
         "type": "integer"
        },
        {
         "name": "Zebra.",
         "rawType": "int64",
         "type": "integer"
        }
       ],
       "ref": "8a0e8a10-bbe3-4464-9714-dc9850e72c36",
       "rows": [
        [
         "0",
         "no",
         "1",
         "0",
         "1",
         "0",
         "2",
         "1",
         "2",
         "1",
         "1",
         "0",
         "1",
         "2848",
         "0",
         "1",
         "1",
         "0",
         "0",
         "1",
         "2",
         "0",
         "628",
         "0",
         "0",
         "3",
         "0",
         "1",
         "1",
         "1",
         "2",
         "52",
         "1",
         "1",
         "3",
         "2",
         "11",
         "1",
         "0",
         "1",
         "1",
         "1",
         "0",
         "1",
         "1",
         "1",
         "1",
         "1",
         "2",
         "0",
         "17",
         "0",
         "5"
        ],
        [
         "1",
         "other",
         "0",
         "0",
         "0",
         "0",
         "0",
         "0",
         "1",
         "0",
         "0",
         "0",
         "0",
         "9",
         "0",
         "0",
         "0",
         "0",
         "1",
         "0",
         "0",
         "0",
         "14",
         "0",
         "0",
         "0",
         "0",
         "0",
         "0",
         "0",
         "0",
         "0",
         "0",
         "0",
         "0",
         "0",
         "0",
         "0",
         "0",
         "0",
         "0",
         "0",
         "0",
         "0",
         "0",
         "0",
         "0",
         "0",
         "0",
         "0",
         "0",
         "0",
         "0"
        ],
        [
         "2",
         "yes",
         "0",
         "1",
         "0",
         "1",
         "0",
         "0",
         "1",
         "0",
         "0",
         "2",
         "0",
         "609",
         "1",
         "0",
         "0",
         "1",
         "0",
         "0",
         "2",
         "1",
         "736",
         "1",
         "1",
         "3",
         "1",
         "0",
         "0",
         "0",
         "0",
         "1",
         "0",
         "0",
         "1",
         "0",
         "0",
         "0",
         "2",
         "0",
         "0",
         "0",
         "1",
         "0",
         "0",
         "0",
         "0",
         "0",
         "0",
         "1",
         "5",
         "1",
         "0"
        ]
       ],
       "shape": {
        "columns": 52,
        "rows": 3
       }
      },
      "text/html": [
       "<div>\n",
       "<style scoped>\n",
       "    .dataframe tbody tr th:only-of-type {\n",
       "        vertical-align: middle;\n",
       "    }\n",
       "\n",
       "    .dataframe tbody tr th {\n",
       "        vertical-align: top;\n",
       "    }\n",
       "\n",
       "    .dataframe thead th {\n",
       "        text-align: right;\n",
       "    }\n",
       "</style>\n",
       "<table border=\"1\" class=\"dataframe\">\n",
       "  <thead>\n",
       "    <tr style=\"text-align: right;\">\n",
       "      <th></th>\n",
       "      <th>prompt2</th>\n",
       "      <th>ARMS.</th>\n",
       "      <th>Asian.</th>\n",
       "      <th>BAR.</th>\n",
       "      <th>BOOKLESS.</th>\n",
       "      <th>BOSTON.</th>\n",
       "      <th>Blonde.</th>\n",
       "      <th>Boy.</th>\n",
       "      <th>B~.</th>\n",
       "      <th>Cat.</th>\n",
       "      <th>...</th>\n",
       "      <th>PERSONS.</th>\n",
       "      <th>SAILORS.</th>\n",
       "      <th>STANLEY.</th>\n",
       "      <th>STARSHIP.</th>\n",
       "      <th>TERMINAL NOT INGREDIENTS.</th>\n",
       "      <th>UNAUTHORIZED.</th>\n",
       "      <th>VIP.</th>\n",
       "      <th>WOMEN.</th>\n",
       "      <th>Wetsuit.</th>\n",
       "      <th>Zebra.</th>\n",
       "    </tr>\n",
       "  </thead>\n",
       "  <tbody>\n",
       "    <tr>\n",
       "      <th>0</th>\n",
       "      <td>no</td>\n",
       "      <td>1</td>\n",
       "      <td>0</td>\n",
       "      <td>1</td>\n",
       "      <td>0</td>\n",
       "      <td>2</td>\n",
       "      <td>1</td>\n",
       "      <td>2</td>\n",
       "      <td>1</td>\n",
       "      <td>1</td>\n",
       "      <td>...</td>\n",
       "      <td>1</td>\n",
       "      <td>1</td>\n",
       "      <td>1</td>\n",
       "      <td>1</td>\n",
       "      <td>1</td>\n",
       "      <td>2</td>\n",
       "      <td>0</td>\n",
       "      <td>17</td>\n",
       "      <td>0</td>\n",
       "      <td>5</td>\n",
       "    </tr>\n",
       "    <tr>\n",
       "      <th>1</th>\n",
       "      <td>other</td>\n",
       "      <td>0</td>\n",
       "      <td>0</td>\n",
       "      <td>0</td>\n",
       "      <td>0</td>\n",
       "      <td>0</td>\n",
       "      <td>0</td>\n",
       "      <td>1</td>\n",
       "      <td>0</td>\n",
       "      <td>0</td>\n",
       "      <td>...</td>\n",
       "      <td>0</td>\n",
       "      <td>0</td>\n",
       "      <td>0</td>\n",
       "      <td>0</td>\n",
       "      <td>0</td>\n",
       "      <td>0</td>\n",
       "      <td>0</td>\n",
       "      <td>0</td>\n",
       "      <td>0</td>\n",
       "      <td>0</td>\n",
       "    </tr>\n",
       "    <tr>\n",
       "      <th>2</th>\n",
       "      <td>yes</td>\n",
       "      <td>0</td>\n",
       "      <td>1</td>\n",
       "      <td>0</td>\n",
       "      <td>1</td>\n",
       "      <td>0</td>\n",
       "      <td>0</td>\n",
       "      <td>1</td>\n",
       "      <td>0</td>\n",
       "      <td>0</td>\n",
       "      <td>...</td>\n",
       "      <td>0</td>\n",
       "      <td>0</td>\n",
       "      <td>0</td>\n",
       "      <td>0</td>\n",
       "      <td>0</td>\n",
       "      <td>0</td>\n",
       "      <td>1</td>\n",
       "      <td>5</td>\n",
       "      <td>1</td>\n",
       "      <td>0</td>\n",
       "    </tr>\n",
       "  </tbody>\n",
       "</table>\n",
       "<p>3 rows × 52 columns</p>\n",
       "</div>"
      ],
      "text/plain": [
       "  prompt2  ARMS.  Asian.  BAR.  BOOKLESS.  BOSTON.  Blonde.  Boy.  B~.  Cat.  \\\n",
       "0      no      1       0     1          0        2        1     2    1     1   \n",
       "1   other      0       0     0          0        0        0     1    0     0   \n",
       "2     yes      0       1     0          1        0        0     1    0     0   \n",
       "\n",
       "   ...  PERSONS.  SAILORS.  STANLEY.  STARSHIP.  TERMINAL NOT INGREDIENTS.  \\\n",
       "0  ...         1         1         1          1                          1   \n",
       "1  ...         0         0         0          0                          0   \n",
       "2  ...         0         0         0          0                          0   \n",
       "\n",
       "   UNAUTHORIZED.  VIP.  WOMEN.  Wetsuit.  Zebra.  \n",
       "0              2     0      17         0       5  \n",
       "1              0     0       0         0       0  \n",
       "2              0     1       5         1       0  \n",
       "\n",
       "[3 rows x 52 columns]"
      ]
     },
     "execution_count": 9,
     "metadata": {},
     "output_type": "execute_result"
    }
   ],
   "source": [
    "aggregated_df_yn.head()"
   ]
  },
  {
   "cell_type": "code",
   "execution_count": 10,
   "id": "ed04cc2c",
   "metadata": {},
   "outputs": [
    {
     "name": "stderr",
     "output_type": "stream",
     "text": [
      "/var/folders/3h/fqd_k18s5_sdlctlq7y54c2r0000gn/T/ipykernel_38124/4251662479.py:13: FutureWarning: DataFrame.groupby with axis=1 is deprecated. Do `frame.T.groupby(...)` without axis instead.\n",
      "  final_agg_df = aggregated_df_yn.groupby(axis=1, level=0).sum()\n"
     ]
    },
    {
     "data": {
      "application/vnd.microsoft.datawrangler.viewer.v0+json": {
       "columns": [
        {
         "name": "index",
         "rawType": "int64",
         "type": "integer"
        },
        {
         "name": "female",
         "rawType": "int64",
         "type": "integer"
        },
        {
         "name": "male",
         "rawType": "int64",
         "type": "integer"
        },
        {
         "name": "other",
         "rawType": "int64",
         "type": "integer"
        },
        {
         "name": "prompt2",
         "rawType": "object",
         "type": "string"
        }
       ],
       "ref": "1b27ea65-8cd0-45df-9615-08bb7421bdf9",
       "rows": [
        [
         "0",
         "2868",
         "635",
         "99",
         "no"
        ],
        [
         "1",
         "9",
         "15",
         "1",
         "other"
        ],
        [
         "2",
         "615",
         "745",
         "13",
         "yes"
        ]
       ],
       "shape": {
        "columns": 4,
        "rows": 3
       }
      },
      "text/html": [
       "<div>\n",
       "<style scoped>\n",
       "    .dataframe tbody tr th:only-of-type {\n",
       "        vertical-align: middle;\n",
       "    }\n",
       "\n",
       "    .dataframe tbody tr th {\n",
       "        vertical-align: top;\n",
       "    }\n",
       "\n",
       "    .dataframe thead th {\n",
       "        text-align: right;\n",
       "    }\n",
       "</style>\n",
       "<table border=\"1\" class=\"dataframe\">\n",
       "  <thead>\n",
       "    <tr style=\"text-align: right;\">\n",
       "      <th></th>\n",
       "      <th>female</th>\n",
       "      <th>male</th>\n",
       "      <th>other</th>\n",
       "      <th>prompt2</th>\n",
       "    </tr>\n",
       "  </thead>\n",
       "  <tbody>\n",
       "    <tr>\n",
       "      <th>0</th>\n",
       "      <td>2868</td>\n",
       "      <td>635</td>\n",
       "      <td>99</td>\n",
       "      <td>no</td>\n",
       "    </tr>\n",
       "    <tr>\n",
       "      <th>1</th>\n",
       "      <td>9</td>\n",
       "      <td>15</td>\n",
       "      <td>1</td>\n",
       "      <td>other</td>\n",
       "    </tr>\n",
       "    <tr>\n",
       "      <th>2</th>\n",
       "      <td>615</td>\n",
       "      <td>745</td>\n",
       "      <td>13</td>\n",
       "      <td>yes</td>\n",
       "    </tr>\n",
       "  </tbody>\n",
       "</table>\n",
       "</div>"
      ],
      "text/plain": [
       "   female  male  other prompt2\n",
       "0    2868   635     99      no\n",
       "1       9    15      1   other\n",
       "2     615   745     13     yes"
      ]
     },
     "execution_count": 10,
     "metadata": {},
     "output_type": "execute_result"
    }
   ],
   "source": [
    "# Step 1: Map old column names to new ones\n",
    "new_columns = [\n",
    "    'male' if col in male_labels else\n",
    "    'female' if col in female_labels else\n",
    "    'other' if col in other_labels_mf else col\n",
    "    for col in aggregated_df_yn.columns\n",
    "]\n",
    "\n",
    "# Step 2: Assign new column names\n",
    "aggregated_df_yn.columns = new_columns\n",
    "\n",
    "# Step 3: Group and aggregate columns with the same new name\n",
    "final_agg_df = aggregated_df_yn.groupby(axis=1, level=0).sum()\n",
    "\n",
    "final_agg_df.head()"
   ]
  },
  {
   "cell_type": "code",
   "execution_count": null,
   "id": "8f02445b",
   "metadata": {},
   "outputs": [],
   "source": []
  }
 ],
 "metadata": {
  "kernelspec": {
   "display_name": ".venv",
   "language": "python",
   "name": "python3"
  },
  "language_info": {
   "codemirror_mode": {
    "name": "ipython",
    "version": 3
   },
   "file_extension": ".py",
   "mimetype": "text/x-python",
   "name": "python",
   "nbconvert_exporter": "python",
   "pygments_lexer": "ipython3",
   "version": "3.10.10"
  }
 },
 "nbformat": 4,
 "nbformat_minor": 5
}
