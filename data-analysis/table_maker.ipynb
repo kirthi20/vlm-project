{
 "cells": [
  {
   "cell_type": "code",
   "execution_count": null,
   "id": "fc8d0f84",
   "metadata": {},
   "outputs": [],
   "source": [
    "import pandas as pd\n",
    "\n",
    "# Read TSV file into DataFrame\n",
    "df = pd.read_csv('../data/smolvlm_m2_sft.csv')\n",
    "\n",
    "# Display basic info about the DataFrame\n",
    "print(f\"Shape: {df.shape}\")\n",
    "print(f\"Columns: {list(df.columns)}\")\n",
    "print(\"\\nFirst few rows:\")\n",
    "display(df.head())"
   ]
  },
  {
   "cell_type": "markdown",
   "id": "3559e083",
   "metadata": {},
   "source": []
  },
  {
   "cell_type": "code",
   "execution_count": null,
   "id": "cc0c87fe",
   "metadata": {},
   "outputs": [],
   "source": [
    "yes_no_labels = df.iloc[:, 0].astype(str).tolist()\n",
    "male_female_labels = df.columns.astype(str).tolist()[1:]\n",
    "# Print the first row values and column headers\n",
    "print(\"\\nFirst row values:\")\n",
    "print(yes_no_labels[:5])\n",
    "print(\"\\nColumn headers:\")\n",
    "print(male_female_labels[:5])"
   ]
  },
  {
   "cell_type": "code",
   "execution_count": null,
   "id": "cfcbe059",
   "metadata": {},
   "outputs": [],
   "source": [
    "# Read all labels\n",
    "with open('../data/labels/yes_labels.txt', 'r') as file:\n",
    "    yes_labels = [line.strip() for line in file.readlines()]\n",
    "\n",
    "with open('../data/labels/no_labels.txt', 'r') as file:\n",
    "    no_labels = [line.strip() for line in file.readlines()]\n",
    "\n",
    "with open('../data/labels/other_labels_yn.txt', 'r') as file:\n",
    "    other_labels_yn = [line.strip() for line in file.readlines()]\n",
    "\n",
    "with open('../data/labels/male_labels.txt', 'r') as file:\n",
    "    male_labels = [line.strip() for line in file.readlines()]\n",
    "\n",
    "with open('../data/labels/female_labels.txt', 'r') as file:\n",
    "    female_labels = [line.strip() for line in file.readlines()]\n",
    "\n",
    "with open('../data/labels/other_labels_mf.txt', 'r') as file:\n",
    "    other_labels_mf = [line.strip() for line in file.readlines()]"
   ]
  },
  {
   "cell_type": "code",
   "execution_count": null,
   "id": "ebe72d67",
   "metadata": {},
   "outputs": [],
   "source": [
    "for label in yes_no_labels: \n",
    "    if not(label in yes_labels or label in no_labels or label in other_labels_yn):\n",
    "        print(f\"**ALERT** Label '{label}' not found in yes_labels.txt, no_labels.txt, or other_labels_yn.txt\")\n",
    "for label in male_female_labels: \n",
    "    if not(label in male_labels or label in female_labels or label in other_labels_mf):\n",
    "        print(f\"**ALERT** Label '{label}' not found in yes_labels.txt, no_labels.txt, or other_labels_yn.txt\")"
   ]
  },
  {
   "cell_type": "code",
   "execution_count": null,
   "id": "662b33e7",
   "metadata": {},
   "outputs": [],
   "source": [
    "# Step 1: Replace values in the first column based on label lists\n",
    "df.iloc[:, 0] = df.iloc[:, 0].apply(\n",
    "    lambda x: 'yes' if x in yes_labels else 'no' if x in no_labels else 'other' if x in other_labels_yn else x\n",
    ")\n",
    "\n",
    "# Step 2: Group by that first column and aggregate (default is count per column)\n",
    "aggregated_df_yn = df.groupby(df.columns[0]).sum().reset_index()"
   ]
  },
  {
   "cell_type": "code",
   "execution_count": null,
   "id": "332a4167",
   "metadata": {},
   "outputs": [],
   "source": [
    "aggregated_df_yn.head()"
   ]
  },
  {
   "cell_type": "code",
   "execution_count": null,
   "id": "ed04cc2c",
   "metadata": {},
   "outputs": [],
   "source": [
    "# Step 1: Map old column names to new ones\n",
    "new_columns = [\n",
    "    'male' if col in male_labels else\n",
    "    'female' if col in female_labels else\n",
    "    'other' if col in other_labels_mf else col\n",
    "    for col in aggregated_df_yn.columns\n",
    "]\n",
    "\n",
    "# Step 2: Assign new column names\n",
    "aggregated_df_yn.columns = new_columns\n",
    "\n",
    "# Step 3: Group and aggregate columns with the same new name\n",
    "final_agg_df = aggregated_df_yn.groupby(axis=1, level=0).sum()\n",
    "\n",
    "final_agg_df.head()"
   ]
  },
  {
   "cell_type": "code",
   "execution_count": null,
   "id": "8f02445b",
   "metadata": {},
   "outputs": [],
   "source": [
    "display(final_agg_df)"
   ]
  },
  {
   "cell_type": "code",
   "execution_count": null,
   "id": "a20bd9ca",
   "metadata": {},
   "outputs": [],
   "source": []
  }
 ],
 "metadata": {
  "kernelspec": {
   "display_name": ".venv",
   "language": "python",
   "name": "python3"
  },
  "language_info": {
   "codemirror_mode": {
    "name": "ipython",
    "version": 3
   },
   "file_extension": ".py",
   "mimetype": "text/x-python",
   "name": "python",
   "nbconvert_exporter": "python",
   "pygments_lexer": "ipython3",
   "version": "3.10.10"
  }
 },
 "nbformat": 4,
 "nbformat_minor": 5
}
