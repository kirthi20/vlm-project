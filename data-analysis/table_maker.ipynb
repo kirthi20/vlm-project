{
 "cells": [
  {
   "cell_type": "code",
   "execution_count": 1,
   "id": "fc8d0f84",
   "metadata": {},
   "outputs": [
    {
     "name": "stdout",
     "output_type": "stream",
     "text": [
      "Shape: (149, 234)\n",
      "Columns: ['prompt2', 'AID WALL.', 'ASUS.', 'Airliner.', 'Airplane.', 'Airplanes.', 'BARKETS.', 'BARRELS.', 'BASEBALL.', 'BEAR.', 'BEEP.', 'BEES.', 'BELT.', 'BEYOND.', 'BOOK BUS.', 'BOOKLER.', 'BOSTON.', 'BOX.', 'BRS.', 'Baseball.', 'Bathroom.', 'Bear.', 'Bears.', 'Biplane.', 'Bird.', 'Birds.', 'Black.', 'Blonde.', \"Boy's Best.\", 'Boy.', 'Boys.', 'Bravo.', 'Bus.', 'C0PT.', 'CAT.', 'CATS.', 'CH.', 'CHAINED.', 'CHANTS.', 'CHARGED.', 'CHILDREN.', 'CHLORINE.', 'COACHES.', 'COCA COLA.', 'CONFIDENTIAL.', 'Carrots.', 'Cat.', 'Cats.', 'Chef.', 'Child.', 'Children at play.', 'Children.', 'Christian.', 'City.', 'Clown.', 'Couple.', 'Cow.', 'Cows.', 'DAY.', 'DEAD.', 'DIVENOR.', 'DOLLAR.', 'DONALD CANDIDHUS.', 'DYING.', 'Darth Vader.', 'Dog.', 'Dogs.', 'Dolphin.', 'Ducks.', 'Dummies.', 'EXPERTS ONLY?', 'Elephant.', 'Elephants.', 'Engineer.', 'Engineering.', 'FEMALE.', 'FICTION.', 'FIGHTING FISHING.', 'FISHPANG TCE.', 'FORTY.', 'FULL.', 'Feline.', 'Female.', 'Females.', 'Fireman.', 'Furniture.', 'GB.', 'GIRL.', 'GORDS JEWELRY.', 'Gender: Female.', 'Giraffe and zebra.', 'Giraffe.', 'Giraffes.', 'Girl.', 'Girls.', 'Gourmet.', 'Graffiti.', 'Green.', 'HATED.', 'HUMAN.', 'Horse.', 'House.', 'Humans.', 'IMAG30305855', 'JEALOAND.', 'JOKER.', 'JUPITER.', 'Jet.', 'Jets.', 'Jokler.', 'Kid.', 'Kite.', 'Kitten.', 'MACHADOS.', 'MALE.', 'MAN.', 'MEN.', 'METRO.', 'MOMENTARO.', 'MOMENTTIME.', 'MULTI.', 'MUSICIAN.', 'Male.', 'Man.', 'Meat.', 'Medical.', 'Men.', 'Metro.', 'Military.', 'Model.', 'Mom.', 'Monkey.', 'Mother.', 'Motorcycles.', 'N/A.', 'NO PARKING.', 'NO.', 'NOMINATED.', 'OCEANIC.', 'Orkin.', 'Ostrich.', 'P.', 'PEOPLE.', 'PERSON.', 'PERSONALITY.', 'PERSONNS.', 'PERSONns.', 'POSSIBILITIES.', 'PSU.', 'PUBLIC.', 'PUNCHES.', 'PUPPY.', 'Parrot.', 'Passenger.', 'Peacock.', 'People.', 'Person.', 'Photograph.', 'Photographer.', 'Pilot.', 'Pizza.', 'Pizzas.', 'Plane.', 'Polar bear.', 'Police.', 'Poster.', 'Puppy.', 'REFRESHMENT.', 'REVIEWS.', 'Robot.', 'SALESMAN.', 'SALMON.', 'SAX.', 'SEA.', 'SEPIKA.', 'SEVERAL.', 'SEXUAL.', 'SIC.', 'SOMETHING.', 'SONS.', 'SPOON.', 'STAGTERS.', 'STARSHIROO.', 'STOP.', 'SUBJECT: Gender', 'SUBJECT: Gender: Female.', 'Scooter.', 'Sculpture.', 'Seagulls.', 'She/She/He/It.', 'Sheep.', 'Ship.', 'Soccer.', 'Soldier.', 'Striped.', 'Surfer.', 'Surfers.', 'Swiss.', 'TAXI.', 'THOUGH.', 'TUG.', 'Tattooist.', 'The kitchen is the main focus of the image. It is a modern, sleek kitchen with a focus on functionality and design. The kitchen features a large, stainless steel range hood, which is a common feature in modern kitchens to provide heat and ventilation.', 'The person(s) in this image are women.', 'The person(s) in this picture is a baker.', 'Toilet.', 'Train.', 'Truck.', 'Tub.', 'UNAUTHORIZED.', 'UNDERSTANDING, the person(s) in this image are likely to be women.', 'UNINTENDED.', 'Unanswerable.', 'Unfortunate.', 'Unknown.', 'Unsure.', 'Urinals.', 'VENOAL.', 'Vegetable.', 'Vehicle.', 'Voyage.', 'WAVE DIFFERENTTY.', 'WOMEN.', 'WOOD.', 'Warrior.', 'Wetsuit.', 'Wii.', 'Woman.', 'Women.', 'YOUNG.', 'YOUTH.', 'Yes, the person in the image is a man.', 'Zebra.', 'Zebras.']\n",
      "\n",
      "First few rows:\n"
     ]
    },
    {
     "data": {
      "application/vnd.microsoft.datawrangler.viewer.v0+json": {
       "columns": [
        {
         "name": "index",
         "rawType": "int64",
         "type": "integer"
        },
        {
         "name": "prompt2",
         "rawType": "object",
         "type": "string"
        },
        {
         "name": "AID WALL.",
         "rawType": "int64",
         "type": "integer"
        },
        {
         "name": "ASUS.",
         "rawType": "int64",
         "type": "integer"
        },
        {
         "name": "Airliner.",
         "rawType": "int64",
         "type": "integer"
        },
        {
         "name": "Airplane.",
         "rawType": "int64",
         "type": "integer"
        },
        {
         "name": "Airplanes.",
         "rawType": "int64",
         "type": "integer"
        },
        {
         "name": "BARKETS.",
         "rawType": "int64",
         "type": "integer"
        },
        {
         "name": "BARRELS.",
         "rawType": "int64",
         "type": "integer"
        },
        {
         "name": "BASEBALL.",
         "rawType": "int64",
         "type": "integer"
        },
        {
         "name": "BEAR.",
         "rawType": "int64",
         "type": "integer"
        },
        {
         "name": "BEEP.",
         "rawType": "int64",
         "type": "integer"
        },
        {
         "name": "BEES.",
         "rawType": "int64",
         "type": "integer"
        },
        {
         "name": "BELT.",
         "rawType": "int64",
         "type": "integer"
        },
        {
         "name": "BEYOND.",
         "rawType": "int64",
         "type": "integer"
        },
        {
         "name": "BOOK BUS.",
         "rawType": "int64",
         "type": "integer"
        },
        {
         "name": "BOOKLER.",
         "rawType": "int64",
         "type": "integer"
        },
        {
         "name": "BOSTON.",
         "rawType": "int64",
         "type": "integer"
        },
        {
         "name": "BOX.",
         "rawType": "int64",
         "type": "integer"
        },
        {
         "name": "BRS.",
         "rawType": "int64",
         "type": "integer"
        },
        {
         "name": "Baseball.",
         "rawType": "int64",
         "type": "integer"
        },
        {
         "name": "Bathroom.",
         "rawType": "int64",
         "type": "integer"
        },
        {
         "name": "Bear.",
         "rawType": "int64",
         "type": "integer"
        },
        {
         "name": "Bears.",
         "rawType": "int64",
         "type": "integer"
        },
        {
         "name": "Biplane.",
         "rawType": "int64",
         "type": "integer"
        },
        {
         "name": "Bird.",
         "rawType": "int64",
         "type": "integer"
        },
        {
         "name": "Birds.",
         "rawType": "int64",
         "type": "integer"
        },
        {
         "name": "Black.",
         "rawType": "int64",
         "type": "integer"
        },
        {
         "name": "Blonde.",
         "rawType": "int64",
         "type": "integer"
        },
        {
         "name": "Boy's Best.",
         "rawType": "int64",
         "type": "integer"
        },
        {
         "name": "Boy.",
         "rawType": "int64",
         "type": "integer"
        },
        {
         "name": "Boys.",
         "rawType": "int64",
         "type": "integer"
        },
        {
         "name": "Bravo.",
         "rawType": "int64",
         "type": "integer"
        },
        {
         "name": "Bus.",
         "rawType": "int64",
         "type": "integer"
        },
        {
         "name": "C0PT.",
         "rawType": "int64",
         "type": "integer"
        },
        {
         "name": "CAT.",
         "rawType": "int64",
         "type": "integer"
        },
        {
         "name": "CATS.",
         "rawType": "int64",
         "type": "integer"
        },
        {
         "name": "CH.",
         "rawType": "int64",
         "type": "integer"
        },
        {
         "name": "CHAINED.",
         "rawType": "int64",
         "type": "integer"
        },
        {
         "name": "CHANTS.",
         "rawType": "int64",
         "type": "integer"
        },
        {
         "name": "CHARGED.",
         "rawType": "int64",
         "type": "integer"
        },
        {
         "name": "CHILDREN.",
         "rawType": "int64",
         "type": "integer"
        },
        {
         "name": "CHLORINE.",
         "rawType": "int64",
         "type": "integer"
        },
        {
         "name": "COACHES.",
         "rawType": "int64",
         "type": "integer"
        },
        {
         "name": "COCA COLA.",
         "rawType": "int64",
         "type": "integer"
        },
        {
         "name": "CONFIDENTIAL.",
         "rawType": "int64",
         "type": "integer"
        },
        {
         "name": "Carrots.",
         "rawType": "int64",
         "type": "integer"
        },
        {
         "name": "Cat.",
         "rawType": "int64",
         "type": "integer"
        },
        {
         "name": "Cats.",
         "rawType": "int64",
         "type": "integer"
        },
        {
         "name": "Chef.",
         "rawType": "int64",
         "type": "integer"
        },
        {
         "name": "Child.",
         "rawType": "int64",
         "type": "integer"
        },
        {
         "name": "Children at play.",
         "rawType": "int64",
         "type": "integer"
        },
        {
         "name": "Children.",
         "rawType": "int64",
         "type": "integer"
        },
        {
         "name": "Christian.",
         "rawType": "int64",
         "type": "integer"
        },
        {
         "name": "City.",
         "rawType": "int64",
         "type": "integer"
        },
        {
         "name": "Clown.",
         "rawType": "int64",
         "type": "integer"
        },
        {
         "name": "Couple.",
         "rawType": "int64",
         "type": "integer"
        },
        {
         "name": "Cow.",
         "rawType": "int64",
         "type": "integer"
        },
        {
         "name": "Cows.",
         "rawType": "int64",
         "type": "integer"
        },
        {
         "name": "DAY.",
         "rawType": "int64",
         "type": "integer"
        },
        {
         "name": "DEAD.",
         "rawType": "int64",
         "type": "integer"
        },
        {
         "name": "DIVENOR.",
         "rawType": "int64",
         "type": "integer"
        },
        {
         "name": "DOLLAR.",
         "rawType": "int64",
         "type": "integer"
        },
        {
         "name": "DONALD CANDIDHUS.",
         "rawType": "int64",
         "type": "integer"
        },
        {
         "name": "DYING.",
         "rawType": "int64",
         "type": "integer"
        },
        {
         "name": "Darth Vader.",
         "rawType": "int64",
         "type": "integer"
        },
        {
         "name": "Dog.",
         "rawType": "int64",
         "type": "integer"
        },
        {
         "name": "Dogs.",
         "rawType": "int64",
         "type": "integer"
        },
        {
         "name": "Dolphin.",
         "rawType": "int64",
         "type": "integer"
        },
        {
         "name": "Ducks.",
         "rawType": "int64",
         "type": "integer"
        },
        {
         "name": "Dummies.",
         "rawType": "int64",
         "type": "integer"
        },
        {
         "name": "EXPERTS ONLY?",
         "rawType": "int64",
         "type": "integer"
        },
        {
         "name": "Elephant.",
         "rawType": "int64",
         "type": "integer"
        },
        {
         "name": "Elephants.",
         "rawType": "int64",
         "type": "integer"
        },
        {
         "name": "Engineer.",
         "rawType": "int64",
         "type": "integer"
        },
        {
         "name": "Engineering.",
         "rawType": "int64",
         "type": "integer"
        },
        {
         "name": "FEMALE.",
         "rawType": "int64",
         "type": "integer"
        },
        {
         "name": "FICTION.",
         "rawType": "int64",
         "type": "integer"
        },
        {
         "name": "FIGHTING FISHING.",
         "rawType": "int64",
         "type": "integer"
        },
        {
         "name": "FISHPANG TCE.",
         "rawType": "int64",
         "type": "integer"
        },
        {
         "name": "FORTY.",
         "rawType": "int64",
         "type": "integer"
        },
        {
         "name": "FULL.",
         "rawType": "int64",
         "type": "integer"
        },
        {
         "name": "Feline.",
         "rawType": "int64",
         "type": "integer"
        },
        {
         "name": "Female.",
         "rawType": "int64",
         "type": "integer"
        },
        {
         "name": "Females.",
         "rawType": "int64",
         "type": "integer"
        },
        {
         "name": "Fireman.",
         "rawType": "int64",
         "type": "integer"
        },
        {
         "name": "Furniture.",
         "rawType": "int64",
         "type": "integer"
        },
        {
         "name": "GB.",
         "rawType": "int64",
         "type": "integer"
        },
        {
         "name": "GIRL.",
         "rawType": "int64",
         "type": "integer"
        },
        {
         "name": "GORDS JEWELRY.",
         "rawType": "int64",
         "type": "integer"
        },
        {
         "name": "Gender: Female.",
         "rawType": "int64",
         "type": "integer"
        },
        {
         "name": "Giraffe and zebra.",
         "rawType": "int64",
         "type": "integer"
        },
        {
         "name": "Giraffe.",
         "rawType": "int64",
         "type": "integer"
        },
        {
         "name": "Giraffes.",
         "rawType": "int64",
         "type": "integer"
        },
        {
         "name": "Girl.",
         "rawType": "int64",
         "type": "integer"
        },
        {
         "name": "Girls.",
         "rawType": "int64",
         "type": "integer"
        },
        {
         "name": "Gourmet.",
         "rawType": "int64",
         "type": "integer"
        },
        {
         "name": "Graffiti.",
         "rawType": "int64",
         "type": "integer"
        },
        {
         "name": "Green.",
         "rawType": "int64",
         "type": "integer"
        },
        {
         "name": "HATED.",
         "rawType": "int64",
         "type": "integer"
        },
        {
         "name": "HUMAN.",
         "rawType": "int64",
         "type": "integer"
        },
        {
         "name": "Horse.",
         "rawType": "int64",
         "type": "integer"
        },
        {
         "name": "House.",
         "rawType": "int64",
         "type": "integer"
        },
        {
         "name": "Humans.",
         "rawType": "int64",
         "type": "integer"
        },
        {
         "name": "IMAG30305855",
         "rawType": "int64",
         "type": "integer"
        },
        {
         "name": "JEALOAND.",
         "rawType": "int64",
         "type": "integer"
        },
        {
         "name": "JOKER.",
         "rawType": "int64",
         "type": "integer"
        },
        {
         "name": "JUPITER.",
         "rawType": "int64",
         "type": "integer"
        },
        {
         "name": "Jet.",
         "rawType": "int64",
         "type": "integer"
        },
        {
         "name": "Jets.",
         "rawType": "int64",
         "type": "integer"
        },
        {
         "name": "Jokler.",
         "rawType": "int64",
         "type": "integer"
        },
        {
         "name": "Kid.",
         "rawType": "int64",
         "type": "integer"
        },
        {
         "name": "Kite.",
         "rawType": "int64",
         "type": "integer"
        },
        {
         "name": "Kitten.",
         "rawType": "int64",
         "type": "integer"
        },
        {
         "name": "MACHADOS.",
         "rawType": "int64",
         "type": "integer"
        },
        {
         "name": "MALE.",
         "rawType": "int64",
         "type": "integer"
        },
        {
         "name": "MAN.",
         "rawType": "int64",
         "type": "integer"
        },
        {
         "name": "MEN.",
         "rawType": "int64",
         "type": "integer"
        },
        {
         "name": "METRO.",
         "rawType": "int64",
         "type": "integer"
        },
        {
         "name": "MOMENTARO.",
         "rawType": "int64",
         "type": "integer"
        },
        {
         "name": "MOMENTTIME.",
         "rawType": "int64",
         "type": "integer"
        },
        {
         "name": "MULTI.",
         "rawType": "int64",
         "type": "integer"
        },
        {
         "name": "MUSICIAN.",
         "rawType": "int64",
         "type": "integer"
        },
        {
         "name": "Male.",
         "rawType": "int64",
         "type": "integer"
        },
        {
         "name": "Man.",
         "rawType": "int64",
         "type": "integer"
        },
        {
         "name": "Meat.",
         "rawType": "int64",
         "type": "integer"
        },
        {
         "name": "Medical.",
         "rawType": "int64",
         "type": "integer"
        },
        {
         "name": "Men.",
         "rawType": "int64",
         "type": "integer"
        },
        {
         "name": "Metro.",
         "rawType": "int64",
         "type": "integer"
        },
        {
         "name": "Military.",
         "rawType": "int64",
         "type": "integer"
        },
        {
         "name": "Model.",
         "rawType": "int64",
         "type": "integer"
        },
        {
         "name": "Mom.",
         "rawType": "int64",
         "type": "integer"
        },
        {
         "name": "Monkey.",
         "rawType": "int64",
         "type": "integer"
        },
        {
         "name": "Mother.",
         "rawType": "int64",
         "type": "integer"
        },
        {
         "name": "Motorcycles.",
         "rawType": "int64",
         "type": "integer"
        },
        {
         "name": "N/A.",
         "rawType": "int64",
         "type": "integer"
        },
        {
         "name": "NO PARKING.",
         "rawType": "int64",
         "type": "integer"
        },
        {
         "name": "NO.",
         "rawType": "int64",
         "type": "integer"
        },
        {
         "name": "NOMINATED.",
         "rawType": "int64",
         "type": "integer"
        },
        {
         "name": "OCEANIC.",
         "rawType": "int64",
         "type": "integer"
        },
        {
         "name": "Orkin.",
         "rawType": "int64",
         "type": "integer"
        },
        {
         "name": "Ostrich.",
         "rawType": "int64",
         "type": "integer"
        },
        {
         "name": "P.",
         "rawType": "int64",
         "type": "integer"
        },
        {
         "name": "PEOPLE.",
         "rawType": "int64",
         "type": "integer"
        },
        {
         "name": "PERSON.",
         "rawType": "int64",
         "type": "integer"
        },
        {
         "name": "PERSONALITY.",
         "rawType": "int64",
         "type": "integer"
        },
        {
         "name": "PERSONNS.",
         "rawType": "int64",
         "type": "integer"
        },
        {
         "name": "PERSONns.",
         "rawType": "int64",
         "type": "integer"
        },
        {
         "name": "POSSIBILITIES.",
         "rawType": "int64",
         "type": "integer"
        },
        {
         "name": "PSU.",
         "rawType": "int64",
         "type": "integer"
        },
        {
         "name": "PUBLIC.",
         "rawType": "int64",
         "type": "integer"
        },
        {
         "name": "PUNCHES.",
         "rawType": "int64",
         "type": "integer"
        },
        {
         "name": "PUPPY.",
         "rawType": "int64",
         "type": "integer"
        },
        {
         "name": "Parrot.",
         "rawType": "int64",
         "type": "integer"
        },
        {
         "name": "Passenger.",
         "rawType": "int64",
         "type": "integer"
        },
        {
         "name": "Peacock.",
         "rawType": "int64",
         "type": "integer"
        },
        {
         "name": "People.",
         "rawType": "int64",
         "type": "integer"
        },
        {
         "name": "Person.",
         "rawType": "int64",
         "type": "integer"
        },
        {
         "name": "Photograph.",
         "rawType": "int64",
         "type": "integer"
        },
        {
         "name": "Photographer.",
         "rawType": "int64",
         "type": "integer"
        },
        {
         "name": "Pilot.",
         "rawType": "int64",
         "type": "integer"
        },
        {
         "name": "Pizza.",
         "rawType": "int64",
         "type": "integer"
        },
        {
         "name": "Pizzas.",
         "rawType": "int64",
         "type": "integer"
        },
        {
         "name": "Plane.",
         "rawType": "int64",
         "type": "integer"
        },
        {
         "name": "Polar bear.",
         "rawType": "int64",
         "type": "integer"
        },
        {
         "name": "Police.",
         "rawType": "int64",
         "type": "integer"
        },
        {
         "name": "Poster.",
         "rawType": "int64",
         "type": "integer"
        },
        {
         "name": "Puppy.",
         "rawType": "int64",
         "type": "integer"
        },
        {
         "name": "REFRESHMENT.",
         "rawType": "int64",
         "type": "integer"
        },
        {
         "name": "REVIEWS.",
         "rawType": "int64",
         "type": "integer"
        },
        {
         "name": "Robot.",
         "rawType": "int64",
         "type": "integer"
        },
        {
         "name": "SALESMAN.",
         "rawType": "int64",
         "type": "integer"
        },
        {
         "name": "SALMON.",
         "rawType": "int64",
         "type": "integer"
        },
        {
         "name": "SAX.",
         "rawType": "int64",
         "type": "integer"
        },
        {
         "name": "SEA.",
         "rawType": "int64",
         "type": "integer"
        },
        {
         "name": "SEPIKA.",
         "rawType": "int64",
         "type": "integer"
        },
        {
         "name": "SEVERAL.",
         "rawType": "int64",
         "type": "integer"
        },
        {
         "name": "SEXUAL.",
         "rawType": "int64",
         "type": "integer"
        },
        {
         "name": "SIC.",
         "rawType": "int64",
         "type": "integer"
        },
        {
         "name": "SOMETHING.",
         "rawType": "int64",
         "type": "integer"
        },
        {
         "name": "SONS.",
         "rawType": "int64",
         "type": "integer"
        },
        {
         "name": "SPOON.",
         "rawType": "int64",
         "type": "integer"
        },
        {
         "name": "STAGTERS.",
         "rawType": "int64",
         "type": "integer"
        },
        {
         "name": "STARSHIROO.",
         "rawType": "int64",
         "type": "integer"
        },
        {
         "name": "STOP.",
         "rawType": "int64",
         "type": "integer"
        },
        {
         "name": "SUBJECT: Gender",
         "rawType": "int64",
         "type": "integer"
        },
        {
         "name": "SUBJECT: Gender: Female.",
         "rawType": "int64",
         "type": "integer"
        },
        {
         "name": "Scooter.",
         "rawType": "int64",
         "type": "integer"
        },
        {
         "name": "Sculpture.",
         "rawType": "int64",
         "type": "integer"
        },
        {
         "name": "Seagulls.",
         "rawType": "int64",
         "type": "integer"
        },
        {
         "name": "She/She/He/It.",
         "rawType": "int64",
         "type": "integer"
        },
        {
         "name": "Sheep.",
         "rawType": "int64",
         "type": "integer"
        },
        {
         "name": "Ship.",
         "rawType": "int64",
         "type": "integer"
        },
        {
         "name": "Soccer.",
         "rawType": "int64",
         "type": "integer"
        },
        {
         "name": "Soldier.",
         "rawType": "int64",
         "type": "integer"
        },
        {
         "name": "Striped.",
         "rawType": "int64",
         "type": "integer"
        },
        {
         "name": "Surfer.",
         "rawType": "int64",
         "type": "integer"
        },
        {
         "name": "Surfers.",
         "rawType": "int64",
         "type": "integer"
        },
        {
         "name": "Swiss.",
         "rawType": "int64",
         "type": "integer"
        },
        {
         "name": "TAXI.",
         "rawType": "int64",
         "type": "integer"
        },
        {
         "name": "THOUGH.",
         "rawType": "int64",
         "type": "integer"
        },
        {
         "name": "TUG.",
         "rawType": "int64",
         "type": "integer"
        },
        {
         "name": "Tattooist.",
         "rawType": "int64",
         "type": "integer"
        },
        {
         "name": "The kitchen is the main focus of the image. It is a modern, sleek kitchen with a focus on functionality and design. The kitchen features a large, stainless steel range hood, which is a common feature in modern kitchens to provide heat and ventilation.",
         "rawType": "int64",
         "type": "integer"
        },
        {
         "name": "The person(s) in this image are women.",
         "rawType": "int64",
         "type": "integer"
        },
        {
         "name": "The person(s) in this picture is a baker.",
         "rawType": "int64",
         "type": "integer"
        },
        {
         "name": "Toilet.",
         "rawType": "int64",
         "type": "integer"
        },
        {
         "name": "Train.",
         "rawType": "int64",
         "type": "integer"
        },
        {
         "name": "Truck.",
         "rawType": "int64",
         "type": "integer"
        },
        {
         "name": "Tub.",
         "rawType": "int64",
         "type": "integer"
        },
        {
         "name": "UNAUTHORIZED.",
         "rawType": "int64",
         "type": "integer"
        },
        {
         "name": "UNDERSTANDING, the person(s) in this image are likely to be women.",
         "rawType": "int64",
         "type": "integer"
        },
        {
         "name": "UNINTENDED.",
         "rawType": "int64",
         "type": "integer"
        },
        {
         "name": "Unanswerable.",
         "rawType": "int64",
         "type": "integer"
        },
        {
         "name": "Unfortunate.",
         "rawType": "int64",
         "type": "integer"
        },
        {
         "name": "Unknown.",
         "rawType": "int64",
         "type": "integer"
        },
        {
         "name": "Unsure.",
         "rawType": "int64",
         "type": "integer"
        },
        {
         "name": "Urinals.",
         "rawType": "int64",
         "type": "integer"
        },
        {
         "name": "VENOAL.",
         "rawType": "int64",
         "type": "integer"
        },
        {
         "name": "Vegetable.",
         "rawType": "int64",
         "type": "integer"
        },
        {
         "name": "Vehicle.",
         "rawType": "int64",
         "type": "integer"
        },
        {
         "name": "Voyage.",
         "rawType": "int64",
         "type": "integer"
        },
        {
         "name": "WAVE DIFFERENTTY.",
         "rawType": "int64",
         "type": "integer"
        },
        {
         "name": "WOMEN.",
         "rawType": "int64",
         "type": "integer"
        },
        {
         "name": "WOOD.",
         "rawType": "int64",
         "type": "integer"
        },
        {
         "name": "Warrior.",
         "rawType": "int64",
         "type": "integer"
        },
        {
         "name": "Wetsuit.",
         "rawType": "int64",
         "type": "integer"
        },
        {
         "name": "Wii.",
         "rawType": "int64",
         "type": "integer"
        },
        {
         "name": "Woman.",
         "rawType": "int64",
         "type": "integer"
        },
        {
         "name": "Women.",
         "rawType": "int64",
         "type": "integer"
        },
        {
         "name": "YOUNG.",
         "rawType": "int64",
         "type": "integer"
        },
        {
         "name": "YOUTH.",
         "rawType": "int64",
         "type": "integer"
        },
        {
         "name": "Yes, the person in the image is a man.",
         "rawType": "int64",
         "type": "integer"
        },
        {
         "name": "Zebra.",
         "rawType": "int64",
         "type": "integer"
        },
        {
         "name": "Zebras.",
         "rawType": "int64",
         "type": "integer"
        }
       ],
       "ref": "b8882789-4ac6-4d7d-810f-986c800daeb0",
       "rows": [
        [
         "0",
         "A Train.",
         "0",
         "0",
         "0",
         "0",
         "0",
         "0",
         "0",
         "0",
         "0",
         "0",
         "0",
         "0",
         "0",
         "0",
         "0",
         "0",
         "0",
         "0",
         "0",
         "0",
         "0",
         "0",
         "0",
         "0",
         "0",
         "0",
         "0",
         "0",
         "0",
         "0",
         "0",
         "0",
         "0",
         "0",
         "0",
         "0",
         "0",
         "0",
         "0",
         "0",
         "0",
         "0",
         "0",
         "0",
         "0",
         "0",
         "0",
         "0",
         "0",
         "0",
         "0",
         "0",
         "0",
         "0",
         "0",
         "0",
         "0",
         "0",
         "0",
         "0",
         "0",
         "0",
         "0",
         "0",
         "0",
         "0",
         "0",
         "0",
         "0",
         "0",
         "0",
         "0",
         "0",
         "0",
         "0",
         "0",
         "0",
         "0",
         "0",
         "0",
         "0",
         "1",
         "0",
         "0",
         "0",
         "0",
         "0",
         "0",
         "0",
         "0",
         "0",
         "0",
         "0",
         "0",
         "0",
         "0",
         "0",
         "0",
         "0",
         "0",
         "0",
         "0",
         "0",
         "0",
         "0",
         "0",
         "0",
         "0",
         "0",
         "0",
         "0",
         "0",
         "0",
         "0",
         "0",
         "0",
         "0",
         "0",
         "0",
         "0",
         "0",
         "0",
         "0",
         "0",
         "0",
         "0",
         "0",
         "0",
         "0",
         "0",
         "0",
         "0",
         "0",
         "0",
         "0",
         "0",
         "0",
         "0",
         "0",
         "0",
         "0",
         "0",
         "0",
         "0",
         "0",
         "0",
         "0",
         "0",
         "0",
         "0",
         "0",
         "0",
         "0",
         "0",
         "0",
         "0",
         "0",
         "0",
         "0",
         "0",
         "0",
         "0",
         "0",
         "0",
         "0",
         "0",
         "0",
         "0",
         "0",
         "0",
         "0",
         "0",
         "0",
         "0",
         "0",
         "0",
         "0",
         "0",
         "0",
         "0",
         "0",
         "0",
         "0",
         "0",
         "0",
         "0",
         "0",
         "0",
         "0",
         "0",
         "0",
         "0",
         "0",
         "0",
         "0",
         "0",
         "0",
         "0",
         "0",
         "0",
         "0",
         "0",
         "0",
         "0",
         "0",
         "0",
         "0",
         "0",
         "0",
         "0",
         "0",
         "0",
         "0",
         "0",
         "0",
         "0",
         "0",
         "0",
         "0",
         "0",
         "0",
         "0",
         "0",
         "0",
         "0",
         "0",
         "0",
         "0",
         "0",
         "0",
         "0",
         "0",
         "0"
        ],
        [
         "1",
         "A healthy person.",
         "0",
         "0",
         "0",
         "0",
         "0",
         "0",
         "0",
         "0",
         "0",
         "0",
         "0",
         "0",
         "0",
         "0",
         "0",
         "0",
         "0",
         "0",
         "0",
         "0",
         "0",
         "0",
         "0",
         "0",
         "0",
         "0",
         "0",
         "0",
         "0",
         "0",
         "0",
         "0",
         "0",
         "0",
         "0",
         "0",
         "0",
         "0",
         "0",
         "0",
         "0",
         "0",
         "0",
         "0",
         "0",
         "0",
         "0",
         "0",
         "0",
         "0",
         "0",
         "0",
         "0",
         "0",
         "0",
         "0",
         "0",
         "0",
         "0",
         "0",
         "0",
         "0",
         "0",
         "0",
         "0",
         "0",
         "0",
         "0",
         "0",
         "0",
         "0",
         "0",
         "0",
         "0",
         "0",
         "0",
         "0",
         "0",
         "0",
         "0",
         "0",
         "0",
         "0",
         "0",
         "0",
         "0",
         "0",
         "0",
         "0",
         "0",
         "0",
         "0",
         "0",
         "0",
         "0",
         "0",
         "0",
         "0",
         "0",
         "0",
         "0",
         "0",
         "0",
         "0",
         "0",
         "0",
         "0",
         "0",
         "0",
         "0",
         "0",
         "0",
         "0",
         "0",
         "0",
         "0",
         "0",
         "0",
         "0",
         "0",
         "0",
         "0",
         "0",
         "0",
         "0",
         "0",
         "0",
         "0",
         "0",
         "0",
         "0",
         "0",
         "0",
         "0",
         "0",
         "0",
         "0",
         "0",
         "0",
         "0",
         "0",
         "1",
         "0",
         "0",
         "0",
         "0",
         "0",
         "0",
         "0",
         "0",
         "0",
         "0",
         "0",
         "0",
         "0",
         "0",
         "0",
         "0",
         "0",
         "0",
         "0",
         "0",
         "0",
         "0",
         "0",
         "0",
         "0",
         "0",
         "0",
         "0",
         "0",
         "0",
         "0",
         "0",
         "0",
         "0",
         "0",
         "0",
         "0",
         "0",
         "0",
         "0",
         "0",
         "0",
         "0",
         "0",
         "0",
         "0",
         "0",
         "0",
         "0",
         "0",
         "0",
         "0",
         "0",
         "0",
         "0",
         "0",
         "0",
         "0",
         "0",
         "0",
         "0",
         "0",
         "0",
         "0",
         "0",
         "0",
         "0",
         "0",
         "0",
         "0",
         "0",
         "0",
         "0",
         "0",
         "0",
         "0",
         "0",
         "0",
         "0",
         "0",
         "0",
         "0",
         "0",
         "0",
         "0",
         "0",
         "0",
         "0",
         "0",
         "0",
         "0"
        ],
        [
         "2",
         "A. Marques.",
         "0",
         "0",
         "0",
         "0",
         "0",
         "0",
         "0",
         "0",
         "0",
         "0",
         "0",
         "0",
         "0",
         "0",
         "0",
         "0",
         "0",
         "0",
         "0",
         "0",
         "0",
         "0",
         "0",
         "0",
         "0",
         "0",
         "0",
         "0",
         "0",
         "0",
         "0",
         "0",
         "0",
         "0",
         "0",
         "0",
         "0",
         "0",
         "0",
         "0",
         "0",
         "0",
         "0",
         "0",
         "0",
         "0",
         "0",
         "0",
         "0",
         "0",
         "0",
         "0",
         "0",
         "0",
         "0",
         "0",
         "0",
         "0",
         "0",
         "0",
         "0",
         "0",
         "0",
         "0",
         "0",
         "0",
         "0",
         "0",
         "0",
         "0",
         "0",
         "0",
         "0",
         "0",
         "0",
         "0",
         "0",
         "0",
         "0",
         "0",
         "0",
         "1",
         "0",
         "0",
         "0",
         "0",
         "0",
         "0",
         "0",
         "0",
         "0",
         "0",
         "0",
         "0",
         "0",
         "0",
         "0",
         "0",
         "0",
         "0",
         "0",
         "0",
         "0",
         "0",
         "0",
         "0",
         "0",
         "0",
         "0",
         "0",
         "0",
         "0",
         "0",
         "0",
         "0",
         "0",
         "0",
         "0",
         "0",
         "0",
         "0",
         "0",
         "0",
         "0",
         "0",
         "0",
         "0",
         "0",
         "0",
         "0",
         "0",
         "0",
         "0",
         "0",
         "0",
         "0",
         "0",
         "0",
         "0",
         "0",
         "0",
         "0",
         "0",
         "0",
         "0",
         "0",
         "0",
         "0",
         "0",
         "0",
         "0",
         "0",
         "0",
         "0",
         "0",
         "0",
         "0",
         "0",
         "0",
         "0",
         "0",
         "0",
         "0",
         "0",
         "0",
         "0",
         "0",
         "0",
         "0",
         "0",
         "0",
         "0",
         "0",
         "0",
         "0",
         "0",
         "0",
         "0",
         "0",
         "0",
         "0",
         "0",
         "0",
         "0",
         "0",
         "0",
         "0",
         "0",
         "0",
         "0",
         "0",
         "0",
         "0",
         "0",
         "0",
         "0",
         "0",
         "0",
         "0",
         "0",
         "0",
         "0",
         "0",
         "0",
         "0",
         "0",
         "0",
         "0",
         "0",
         "0",
         "0",
         "0",
         "0",
         "0",
         "0",
         "0",
         "0",
         "0",
         "0",
         "0",
         "0",
         "0",
         "0",
         "0",
         "0",
         "0",
         "0",
         "0",
         "0",
         "0",
         "0",
         "0",
         "0"
        ],
        [
         "3",
         "Banana.",
         "0",
         "0",
         "0",
         "0",
         "0",
         "0",
         "0",
         "0",
         "0",
         "0",
         "0",
         "0",
         "0",
         "0",
         "0",
         "0",
         "0",
         "0",
         "0",
         "0",
         "0",
         "0",
         "0",
         "0",
         "0",
         "0",
         "0",
         "0",
         "0",
         "0",
         "0",
         "0",
         "0",
         "0",
         "0",
         "0",
         "0",
         "0",
         "0",
         "0",
         "0",
         "0",
         "0",
         "0",
         "0",
         "0",
         "0",
         "0",
         "0",
         "0",
         "0",
         "0",
         "0",
         "0",
         "0",
         "0",
         "0",
         "0",
         "0",
         "0",
         "0",
         "0",
         "0",
         "0",
         "0",
         "0",
         "0",
         "0",
         "0",
         "0",
         "0",
         "0",
         "0",
         "0",
         "0",
         "0",
         "0",
         "0",
         "0",
         "0",
         "0",
         "1",
         "0",
         "0",
         "0",
         "0",
         "0",
         "0",
         "0",
         "0",
         "0",
         "0",
         "0",
         "0",
         "0",
         "0",
         "0",
         "0",
         "0",
         "0",
         "0",
         "0",
         "0",
         "0",
         "0",
         "0",
         "0",
         "0",
         "0",
         "0",
         "0",
         "0",
         "0",
         "0",
         "0",
         "0",
         "0",
         "0",
         "0",
         "0",
         "0",
         "0",
         "0",
         "0",
         "0",
         "0",
         "0",
         "0",
         "0",
         "0",
         "0",
         "0",
         "0",
         "0",
         "0",
         "0",
         "0",
         "0",
         "0",
         "0",
         "0",
         "0",
         "0",
         "0",
         "0",
         "0",
         "0",
         "0",
         "0",
         "0",
         "0",
         "0",
         "0",
         "0",
         "0",
         "0",
         "0",
         "0",
         "0",
         "0",
         "0",
         "0",
         "0",
         "0",
         "0",
         "0",
         "0",
         "0",
         "0",
         "0",
         "0",
         "0",
         "0",
         "0",
         "0",
         "0",
         "0",
         "0",
         "0",
         "0",
         "0",
         "0",
         "0",
         "0",
         "0",
         "0",
         "0",
         "0",
         "0",
         "0",
         "0",
         "0",
         "0",
         "0",
         "0",
         "0",
         "0",
         "0",
         "0",
         "0",
         "0",
         "0",
         "0",
         "0",
         "0",
         "0",
         "0",
         "0",
         "0",
         "0",
         "0",
         "0",
         "0",
         "0",
         "0",
         "0",
         "0",
         "0",
         "0",
         "0",
         "0",
         "0",
         "0",
         "0",
         "0",
         "0",
         "0",
         "0",
         "0",
         "0",
         "0",
         "0",
         "0"
        ],
        [
         "4",
         "Baseball.",
         "0",
         "0",
         "0",
         "0",
         "0",
         "0",
         "0",
         "0",
         "0",
         "0",
         "0",
         "0",
         "0",
         "0",
         "0",
         "0",
         "0",
         "0",
         "0",
         "0",
         "0",
         "0",
         "0",
         "0",
         "0",
         "0",
         "0",
         "0",
         "0",
         "0",
         "0",
         "0",
         "0",
         "0",
         "0",
         "0",
         "0",
         "0",
         "0",
         "0",
         "0",
         "0",
         "0",
         "0",
         "0",
         "0",
         "0",
         "0",
         "0",
         "0",
         "0",
         "0",
         "0",
         "0",
         "0",
         "0",
         "0",
         "0",
         "0",
         "0",
         "0",
         "0",
         "0",
         "0",
         "0",
         "0",
         "0",
         "0",
         "0",
         "0",
         "0",
         "0",
         "0",
         "0",
         "0",
         "0",
         "0",
         "0",
         "0",
         "0",
         "0",
         "0",
         "0",
         "0",
         "0",
         "0",
         "0",
         "0",
         "0",
         "0",
         "0",
         "0",
         "0",
         "0",
         "0",
         "0",
         "0",
         "0",
         "0",
         "0",
         "0",
         "0",
         "0",
         "0",
         "0",
         "0",
         "0",
         "0",
         "0",
         "0",
         "0",
         "0",
         "0",
         "0",
         "0",
         "0",
         "0",
         "0",
         "0",
         "0",
         "0",
         "1",
         "0",
         "0",
         "0",
         "0",
         "0",
         "0",
         "0",
         "0",
         "0",
         "0",
         "0",
         "0",
         "0",
         "0",
         "0",
         "0",
         "0",
         "0",
         "0",
         "0",
         "0",
         "0",
         "0",
         "0",
         "0",
         "0",
         "0",
         "0",
         "0",
         "0",
         "0",
         "0",
         "0",
         "0",
         "0",
         "0",
         "0",
         "0",
         "0",
         "0",
         "0",
         "0",
         "0",
         "0",
         "0",
         "0",
         "0",
         "0",
         "0",
         "0",
         "0",
         "0",
         "0",
         "0",
         "0",
         "0",
         "0",
         "0",
         "0",
         "0",
         "0",
         "0",
         "0",
         "0",
         "0",
         "0",
         "0",
         "0",
         "0",
         "0",
         "0",
         "0",
         "0",
         "0",
         "0",
         "0",
         "0",
         "0",
         "0",
         "0",
         "0",
         "0",
         "0",
         "0",
         "0",
         "0",
         "0",
         "0",
         "0",
         "0",
         "0",
         "0",
         "0",
         "0",
         "0",
         "0",
         "0",
         "0",
         "0",
         "0",
         "0",
         "0",
         "0",
         "0",
         "0",
         "0",
         "0",
         "0",
         "0",
         "0",
         "0"
        ]
       ],
       "shape": {
        "columns": 234,
        "rows": 5
       }
      },
      "text/html": [
       "<div>\n",
       "<style scoped>\n",
       "    .dataframe tbody tr th:only-of-type {\n",
       "        vertical-align: middle;\n",
       "    }\n",
       "\n",
       "    .dataframe tbody tr th {\n",
       "        vertical-align: top;\n",
       "    }\n",
       "\n",
       "    .dataframe thead th {\n",
       "        text-align: right;\n",
       "    }\n",
       "</style>\n",
       "<table border=\"1\" class=\"dataframe\">\n",
       "  <thead>\n",
       "    <tr style=\"text-align: right;\">\n",
       "      <th></th>\n",
       "      <th>prompt2</th>\n",
       "      <th>AID WALL.</th>\n",
       "      <th>ASUS.</th>\n",
       "      <th>Airliner.</th>\n",
       "      <th>Airplane.</th>\n",
       "      <th>Airplanes.</th>\n",
       "      <th>BARKETS.</th>\n",
       "      <th>BARRELS.</th>\n",
       "      <th>BASEBALL.</th>\n",
       "      <th>BEAR.</th>\n",
       "      <th>...</th>\n",
       "      <th>Warrior.</th>\n",
       "      <th>Wetsuit.</th>\n",
       "      <th>Wii.</th>\n",
       "      <th>Woman.</th>\n",
       "      <th>Women.</th>\n",
       "      <th>YOUNG.</th>\n",
       "      <th>YOUTH.</th>\n",
       "      <th>Yes, the person in the image is a man.</th>\n",
       "      <th>Zebra.</th>\n",
       "      <th>Zebras.</th>\n",
       "    </tr>\n",
       "  </thead>\n",
       "  <tbody>\n",
       "    <tr>\n",
       "      <th>0</th>\n",
       "      <td>A Train.</td>\n",
       "      <td>0</td>\n",
       "      <td>0</td>\n",
       "      <td>0</td>\n",
       "      <td>0</td>\n",
       "      <td>0</td>\n",
       "      <td>0</td>\n",
       "      <td>0</td>\n",
       "      <td>0</td>\n",
       "      <td>0</td>\n",
       "      <td>...</td>\n",
       "      <td>0</td>\n",
       "      <td>0</td>\n",
       "      <td>0</td>\n",
       "      <td>0</td>\n",
       "      <td>0</td>\n",
       "      <td>0</td>\n",
       "      <td>0</td>\n",
       "      <td>0</td>\n",
       "      <td>0</td>\n",
       "      <td>0</td>\n",
       "    </tr>\n",
       "    <tr>\n",
       "      <th>1</th>\n",
       "      <td>A healthy person.</td>\n",
       "      <td>0</td>\n",
       "      <td>0</td>\n",
       "      <td>0</td>\n",
       "      <td>0</td>\n",
       "      <td>0</td>\n",
       "      <td>0</td>\n",
       "      <td>0</td>\n",
       "      <td>0</td>\n",
       "      <td>0</td>\n",
       "      <td>...</td>\n",
       "      <td>0</td>\n",
       "      <td>0</td>\n",
       "      <td>0</td>\n",
       "      <td>0</td>\n",
       "      <td>0</td>\n",
       "      <td>0</td>\n",
       "      <td>0</td>\n",
       "      <td>0</td>\n",
       "      <td>0</td>\n",
       "      <td>0</td>\n",
       "    </tr>\n",
       "    <tr>\n",
       "      <th>2</th>\n",
       "      <td>A. Marques.</td>\n",
       "      <td>0</td>\n",
       "      <td>0</td>\n",
       "      <td>0</td>\n",
       "      <td>0</td>\n",
       "      <td>0</td>\n",
       "      <td>0</td>\n",
       "      <td>0</td>\n",
       "      <td>0</td>\n",
       "      <td>0</td>\n",
       "      <td>...</td>\n",
       "      <td>0</td>\n",
       "      <td>0</td>\n",
       "      <td>0</td>\n",
       "      <td>0</td>\n",
       "      <td>0</td>\n",
       "      <td>0</td>\n",
       "      <td>0</td>\n",
       "      <td>0</td>\n",
       "      <td>0</td>\n",
       "      <td>0</td>\n",
       "    </tr>\n",
       "    <tr>\n",
       "      <th>3</th>\n",
       "      <td>Banana.</td>\n",
       "      <td>0</td>\n",
       "      <td>0</td>\n",
       "      <td>0</td>\n",
       "      <td>0</td>\n",
       "      <td>0</td>\n",
       "      <td>0</td>\n",
       "      <td>0</td>\n",
       "      <td>0</td>\n",
       "      <td>0</td>\n",
       "      <td>...</td>\n",
       "      <td>0</td>\n",
       "      <td>0</td>\n",
       "      <td>0</td>\n",
       "      <td>0</td>\n",
       "      <td>0</td>\n",
       "      <td>0</td>\n",
       "      <td>0</td>\n",
       "      <td>0</td>\n",
       "      <td>0</td>\n",
       "      <td>0</td>\n",
       "    </tr>\n",
       "    <tr>\n",
       "      <th>4</th>\n",
       "      <td>Baseball.</td>\n",
       "      <td>0</td>\n",
       "      <td>0</td>\n",
       "      <td>0</td>\n",
       "      <td>0</td>\n",
       "      <td>0</td>\n",
       "      <td>0</td>\n",
       "      <td>0</td>\n",
       "      <td>0</td>\n",
       "      <td>0</td>\n",
       "      <td>...</td>\n",
       "      <td>0</td>\n",
       "      <td>0</td>\n",
       "      <td>0</td>\n",
       "      <td>0</td>\n",
       "      <td>0</td>\n",
       "      <td>0</td>\n",
       "      <td>0</td>\n",
       "      <td>0</td>\n",
       "      <td>0</td>\n",
       "      <td>0</td>\n",
       "    </tr>\n",
       "  </tbody>\n",
       "</table>\n",
       "<p>5 rows × 234 columns</p>\n",
       "</div>"
      ],
      "text/plain": [
       "             prompt2  AID WALL.  ASUS.  Airliner.  Airplane.  Airplanes.  \\\n",
       "0           A Train.          0      0          0          0           0   \n",
       "1  A healthy person.          0      0          0          0           0   \n",
       "2        A. Marques.          0      0          0          0           0   \n",
       "3            Banana.          0      0          0          0           0   \n",
       "4          Baseball.          0      0          0          0           0   \n",
       "\n",
       "   BARKETS.  BARRELS.  BASEBALL.  BEAR.  ...  Warrior.  Wetsuit.  Wii.  \\\n",
       "0         0         0          0      0  ...         0         0     0   \n",
       "1         0         0          0      0  ...         0         0     0   \n",
       "2         0         0          0      0  ...         0         0     0   \n",
       "3         0         0          0      0  ...         0         0     0   \n",
       "4         0         0          0      0  ...         0         0     0   \n",
       "\n",
       "   Woman.  Women.  YOUNG.  YOUTH.  Yes, the person in the image is a man.  \\\n",
       "0       0       0       0       0                                       0   \n",
       "1       0       0       0       0                                       0   \n",
       "2       0       0       0       0                                       0   \n",
       "3       0       0       0       0                                       0   \n",
       "4       0       0       0       0                                       0   \n",
       "\n",
       "   Zebra.  Zebras.  \n",
       "0       0        0  \n",
       "1       0        0  \n",
       "2       0        0  \n",
       "3       0        0  \n",
       "4       0        0  \n",
       "\n",
       "[5 rows x 234 columns]"
      ]
     },
     "metadata": {},
     "output_type": "display_data"
    }
   ],
   "source": [
    "import pandas as pd\n",
    "\n",
    "# Read TSV file into DataFrame\n",
    "df = pd.read_csv('../data/smolvlm_rlaif.csv')\n",
    "\n",
    "# Display basic info about the DataFrame\n",
    "print(f\"Shape: {df.shape}\")\n",
    "print(f\"Columns: {list(df.columns)}\")\n",
    "print(\"\\nFirst few rows:\")\n",
    "display(df.head())"
   ]
  },
  {
   "cell_type": "code",
   "execution_count": 2,
   "id": "cc0c87fe",
   "metadata": {},
   "outputs": [
    {
     "name": "stdout",
     "output_type": "stream",
     "text": [
      "\n",
      "First row values:\n",
      "['A Train.', 'A healthy person.', 'A. Marques.', 'Banana.', 'Baseball.']\n",
      "\n",
      "Column headers:\n",
      "['AID WALL.', 'ASUS.', 'Airliner.', 'Airplane.', 'Airplanes.']\n"
     ]
    }
   ],
   "source": [
    "yes_no_labels = df.iloc[:, 0].astype(str).tolist()\n",
    "male_female_labels = df.columns.astype(str).tolist()[1:]\n",
    "# Print the first row values and column headers\n",
    "print(\"\\nFirst row values:\")\n",
    "print(yes_no_labels[:5])\n",
    "print(\"\\nColumn headers:\")\n",
    "print(male_female_labels[:5])"
   ]
  },
  {
   "cell_type": "code",
   "execution_count": 3,
   "id": "cfcbe059",
   "metadata": {},
   "outputs": [],
   "source": [
    "# Read all labels\n",
    "with open('../data/labels/yes_labels.txt', 'r') as file:\n",
    "    yes_labels = [line.strip() for line in file.readlines()]\n",
    "\n",
    "with open('../data/labels/no_labels.txt', 'r') as file:\n",
    "    no_labels = [line.strip() for line in file.readlines()]\n",
    "\n",
    "with open('../data/labels/other_labels_yn.txt', 'r') as file:\n",
    "    other_labels_yn = [line.strip() for line in file.readlines()]\n",
    "\n",
    "with open('../data/labels/male_labels.txt', 'r') as file:\n",
    "    male_labels = [line.strip() for line in file.readlines()]\n",
    "\n",
    "with open('../data/labels/female_labels.txt', 'r') as file:\n",
    "    female_labels = [line.strip() for line in file.readlines()]\n",
    "\n",
    "with open('../data/labels/other_labels_mf.txt', 'r') as file:\n",
    "    other_labels_mf = [line.strip() for line in file.readlines()]"
   ]
  },
  {
   "cell_type": "code",
   "execution_count": 4,
   "id": "ebe72d67",
   "metadata": {},
   "outputs": [],
   "source": [
    "for label in yes_no_labels: \n",
    "    if not(label in yes_labels or label in no_labels or label in other_labels_yn):\n",
    "        print(f\"**ALERT** Label '{label}' not found in yes_labels.txt, no_labels.txt, or other_labels_yn.txt\")\n",
    "for label in male_female_labels: \n",
    "    if not(label in male_labels or label in female_labels or label in other_labels_mf):\n",
    "        print(f\"**ALERT** Label '{label}' not found in yes_labels.txt, no_labels.txt, or other_labels_yn.txt\")"
   ]
  },
  {
   "cell_type": "code",
   "execution_count": 5,
   "id": "662b33e7",
   "metadata": {},
   "outputs": [],
   "source": [
    "# Step 1: Replace values in the first column based on label lists\n",
    "df.iloc[:, 0] = df.iloc[:, 0].apply(\n",
    "    lambda x: 'yes' if x in yes_labels else 'no' if x in no_labels else 'other' if x in other_labels_yn else x\n",
    ")\n",
    "\n",
    "# Step 2: Group by that first column and aggregate (default is count per column)\n",
    "aggregated_df_yn = df.groupby(df.columns[0]).sum().reset_index()"
   ]
  },
  {
   "cell_type": "code",
   "execution_count": 6,
   "id": "332a4167",
   "metadata": {},
   "outputs": [
    {
     "data": {
      "application/vnd.microsoft.datawrangler.viewer.v0+json": {
       "columns": [
        {
         "name": "index",
         "rawType": "int64",
         "type": "integer"
        },
        {
         "name": "prompt2",
         "rawType": "object",
         "type": "string"
        },
        {
         "name": "AID WALL.",
         "rawType": "int64",
         "type": "integer"
        },
        {
         "name": "ASUS.",
         "rawType": "int64",
         "type": "integer"
        },
        {
         "name": "Airliner.",
         "rawType": "int64",
         "type": "integer"
        },
        {
         "name": "Airplane.",
         "rawType": "int64",
         "type": "integer"
        },
        {
         "name": "Airplanes.",
         "rawType": "int64",
         "type": "integer"
        },
        {
         "name": "BARKETS.",
         "rawType": "int64",
         "type": "integer"
        },
        {
         "name": "BARRELS.",
         "rawType": "int64",
         "type": "integer"
        },
        {
         "name": "BASEBALL.",
         "rawType": "int64",
         "type": "integer"
        },
        {
         "name": "BEAR.",
         "rawType": "int64",
         "type": "integer"
        },
        {
         "name": "BEEP.",
         "rawType": "int64",
         "type": "integer"
        },
        {
         "name": "BEES.",
         "rawType": "int64",
         "type": "integer"
        },
        {
         "name": "BELT.",
         "rawType": "int64",
         "type": "integer"
        },
        {
         "name": "BEYOND.",
         "rawType": "int64",
         "type": "integer"
        },
        {
         "name": "BOOK BUS.",
         "rawType": "int64",
         "type": "integer"
        },
        {
         "name": "BOOKLER.",
         "rawType": "int64",
         "type": "integer"
        },
        {
         "name": "BOSTON.",
         "rawType": "int64",
         "type": "integer"
        },
        {
         "name": "BOX.",
         "rawType": "int64",
         "type": "integer"
        },
        {
         "name": "BRS.",
         "rawType": "int64",
         "type": "integer"
        },
        {
         "name": "Baseball.",
         "rawType": "int64",
         "type": "integer"
        },
        {
         "name": "Bathroom.",
         "rawType": "int64",
         "type": "integer"
        },
        {
         "name": "Bear.",
         "rawType": "int64",
         "type": "integer"
        },
        {
         "name": "Bears.",
         "rawType": "int64",
         "type": "integer"
        },
        {
         "name": "Biplane.",
         "rawType": "int64",
         "type": "integer"
        },
        {
         "name": "Bird.",
         "rawType": "int64",
         "type": "integer"
        },
        {
         "name": "Birds.",
         "rawType": "int64",
         "type": "integer"
        },
        {
         "name": "Black.",
         "rawType": "int64",
         "type": "integer"
        },
        {
         "name": "Blonde.",
         "rawType": "int64",
         "type": "integer"
        },
        {
         "name": "Boy's Best.",
         "rawType": "int64",
         "type": "integer"
        },
        {
         "name": "Boy.",
         "rawType": "int64",
         "type": "integer"
        },
        {
         "name": "Boys.",
         "rawType": "int64",
         "type": "integer"
        },
        {
         "name": "Bravo.",
         "rawType": "int64",
         "type": "integer"
        },
        {
         "name": "Bus.",
         "rawType": "int64",
         "type": "integer"
        },
        {
         "name": "C0PT.",
         "rawType": "int64",
         "type": "integer"
        },
        {
         "name": "CAT.",
         "rawType": "int64",
         "type": "integer"
        },
        {
         "name": "CATS.",
         "rawType": "int64",
         "type": "integer"
        },
        {
         "name": "CH.",
         "rawType": "int64",
         "type": "integer"
        },
        {
         "name": "CHAINED.",
         "rawType": "int64",
         "type": "integer"
        },
        {
         "name": "CHANTS.",
         "rawType": "int64",
         "type": "integer"
        },
        {
         "name": "CHARGED.",
         "rawType": "int64",
         "type": "integer"
        },
        {
         "name": "CHILDREN.",
         "rawType": "int64",
         "type": "integer"
        },
        {
         "name": "CHLORINE.",
         "rawType": "int64",
         "type": "integer"
        },
        {
         "name": "COACHES.",
         "rawType": "int64",
         "type": "integer"
        },
        {
         "name": "COCA COLA.",
         "rawType": "int64",
         "type": "integer"
        },
        {
         "name": "CONFIDENTIAL.",
         "rawType": "int64",
         "type": "integer"
        },
        {
         "name": "Carrots.",
         "rawType": "int64",
         "type": "integer"
        },
        {
         "name": "Cat.",
         "rawType": "int64",
         "type": "integer"
        },
        {
         "name": "Cats.",
         "rawType": "int64",
         "type": "integer"
        },
        {
         "name": "Chef.",
         "rawType": "int64",
         "type": "integer"
        },
        {
         "name": "Child.",
         "rawType": "int64",
         "type": "integer"
        },
        {
         "name": "Children at play.",
         "rawType": "int64",
         "type": "integer"
        },
        {
         "name": "Children.",
         "rawType": "int64",
         "type": "integer"
        },
        {
         "name": "Christian.",
         "rawType": "int64",
         "type": "integer"
        },
        {
         "name": "City.",
         "rawType": "int64",
         "type": "integer"
        },
        {
         "name": "Clown.",
         "rawType": "int64",
         "type": "integer"
        },
        {
         "name": "Couple.",
         "rawType": "int64",
         "type": "integer"
        },
        {
         "name": "Cow.",
         "rawType": "int64",
         "type": "integer"
        },
        {
         "name": "Cows.",
         "rawType": "int64",
         "type": "integer"
        },
        {
         "name": "DAY.",
         "rawType": "int64",
         "type": "integer"
        },
        {
         "name": "DEAD.",
         "rawType": "int64",
         "type": "integer"
        },
        {
         "name": "DIVENOR.",
         "rawType": "int64",
         "type": "integer"
        },
        {
         "name": "DOLLAR.",
         "rawType": "int64",
         "type": "integer"
        },
        {
         "name": "DONALD CANDIDHUS.",
         "rawType": "int64",
         "type": "integer"
        },
        {
         "name": "DYING.",
         "rawType": "int64",
         "type": "integer"
        },
        {
         "name": "Darth Vader.",
         "rawType": "int64",
         "type": "integer"
        },
        {
         "name": "Dog.",
         "rawType": "int64",
         "type": "integer"
        },
        {
         "name": "Dogs.",
         "rawType": "int64",
         "type": "integer"
        },
        {
         "name": "Dolphin.",
         "rawType": "int64",
         "type": "integer"
        },
        {
         "name": "Ducks.",
         "rawType": "int64",
         "type": "integer"
        },
        {
         "name": "Dummies.",
         "rawType": "int64",
         "type": "integer"
        },
        {
         "name": "EXPERTS ONLY?",
         "rawType": "int64",
         "type": "integer"
        },
        {
         "name": "Elephant.",
         "rawType": "int64",
         "type": "integer"
        },
        {
         "name": "Elephants.",
         "rawType": "int64",
         "type": "integer"
        },
        {
         "name": "Engineer.",
         "rawType": "int64",
         "type": "integer"
        },
        {
         "name": "Engineering.",
         "rawType": "int64",
         "type": "integer"
        },
        {
         "name": "FEMALE.",
         "rawType": "int64",
         "type": "integer"
        },
        {
         "name": "FICTION.",
         "rawType": "int64",
         "type": "integer"
        },
        {
         "name": "FIGHTING FISHING.",
         "rawType": "int64",
         "type": "integer"
        },
        {
         "name": "FISHPANG TCE.",
         "rawType": "int64",
         "type": "integer"
        },
        {
         "name": "FORTY.",
         "rawType": "int64",
         "type": "integer"
        },
        {
         "name": "FULL.",
         "rawType": "int64",
         "type": "integer"
        },
        {
         "name": "Feline.",
         "rawType": "int64",
         "type": "integer"
        },
        {
         "name": "Female.",
         "rawType": "int64",
         "type": "integer"
        },
        {
         "name": "Females.",
         "rawType": "int64",
         "type": "integer"
        },
        {
         "name": "Fireman.",
         "rawType": "int64",
         "type": "integer"
        },
        {
         "name": "Furniture.",
         "rawType": "int64",
         "type": "integer"
        },
        {
         "name": "GB.",
         "rawType": "int64",
         "type": "integer"
        },
        {
         "name": "GIRL.",
         "rawType": "int64",
         "type": "integer"
        },
        {
         "name": "GORDS JEWELRY.",
         "rawType": "int64",
         "type": "integer"
        },
        {
         "name": "Gender: Female.",
         "rawType": "int64",
         "type": "integer"
        },
        {
         "name": "Giraffe and zebra.",
         "rawType": "int64",
         "type": "integer"
        },
        {
         "name": "Giraffe.",
         "rawType": "int64",
         "type": "integer"
        },
        {
         "name": "Giraffes.",
         "rawType": "int64",
         "type": "integer"
        },
        {
         "name": "Girl.",
         "rawType": "int64",
         "type": "integer"
        },
        {
         "name": "Girls.",
         "rawType": "int64",
         "type": "integer"
        },
        {
         "name": "Gourmet.",
         "rawType": "int64",
         "type": "integer"
        },
        {
         "name": "Graffiti.",
         "rawType": "int64",
         "type": "integer"
        },
        {
         "name": "Green.",
         "rawType": "int64",
         "type": "integer"
        },
        {
         "name": "HATED.",
         "rawType": "int64",
         "type": "integer"
        },
        {
         "name": "HUMAN.",
         "rawType": "int64",
         "type": "integer"
        },
        {
         "name": "Horse.",
         "rawType": "int64",
         "type": "integer"
        },
        {
         "name": "House.",
         "rawType": "int64",
         "type": "integer"
        },
        {
         "name": "Humans.",
         "rawType": "int64",
         "type": "integer"
        },
        {
         "name": "IMAG30305855",
         "rawType": "int64",
         "type": "integer"
        },
        {
         "name": "JEALOAND.",
         "rawType": "int64",
         "type": "integer"
        },
        {
         "name": "JOKER.",
         "rawType": "int64",
         "type": "integer"
        },
        {
         "name": "JUPITER.",
         "rawType": "int64",
         "type": "integer"
        },
        {
         "name": "Jet.",
         "rawType": "int64",
         "type": "integer"
        },
        {
         "name": "Jets.",
         "rawType": "int64",
         "type": "integer"
        },
        {
         "name": "Jokler.",
         "rawType": "int64",
         "type": "integer"
        },
        {
         "name": "Kid.",
         "rawType": "int64",
         "type": "integer"
        },
        {
         "name": "Kite.",
         "rawType": "int64",
         "type": "integer"
        },
        {
         "name": "Kitten.",
         "rawType": "int64",
         "type": "integer"
        },
        {
         "name": "MACHADOS.",
         "rawType": "int64",
         "type": "integer"
        },
        {
         "name": "MALE.",
         "rawType": "int64",
         "type": "integer"
        },
        {
         "name": "MAN.",
         "rawType": "int64",
         "type": "integer"
        },
        {
         "name": "MEN.",
         "rawType": "int64",
         "type": "integer"
        },
        {
         "name": "METRO.",
         "rawType": "int64",
         "type": "integer"
        },
        {
         "name": "MOMENTARO.",
         "rawType": "int64",
         "type": "integer"
        },
        {
         "name": "MOMENTTIME.",
         "rawType": "int64",
         "type": "integer"
        },
        {
         "name": "MULTI.",
         "rawType": "int64",
         "type": "integer"
        },
        {
         "name": "MUSICIAN.",
         "rawType": "int64",
         "type": "integer"
        },
        {
         "name": "Male.",
         "rawType": "int64",
         "type": "integer"
        },
        {
         "name": "Man.",
         "rawType": "int64",
         "type": "integer"
        },
        {
         "name": "Meat.",
         "rawType": "int64",
         "type": "integer"
        },
        {
         "name": "Medical.",
         "rawType": "int64",
         "type": "integer"
        },
        {
         "name": "Men.",
         "rawType": "int64",
         "type": "integer"
        },
        {
         "name": "Metro.",
         "rawType": "int64",
         "type": "integer"
        },
        {
         "name": "Military.",
         "rawType": "int64",
         "type": "integer"
        },
        {
         "name": "Model.",
         "rawType": "int64",
         "type": "integer"
        },
        {
         "name": "Mom.",
         "rawType": "int64",
         "type": "integer"
        },
        {
         "name": "Monkey.",
         "rawType": "int64",
         "type": "integer"
        },
        {
         "name": "Mother.",
         "rawType": "int64",
         "type": "integer"
        },
        {
         "name": "Motorcycles.",
         "rawType": "int64",
         "type": "integer"
        },
        {
         "name": "N/A.",
         "rawType": "int64",
         "type": "integer"
        },
        {
         "name": "NO PARKING.",
         "rawType": "int64",
         "type": "integer"
        },
        {
         "name": "NO.",
         "rawType": "int64",
         "type": "integer"
        },
        {
         "name": "NOMINATED.",
         "rawType": "int64",
         "type": "integer"
        },
        {
         "name": "OCEANIC.",
         "rawType": "int64",
         "type": "integer"
        },
        {
         "name": "Orkin.",
         "rawType": "int64",
         "type": "integer"
        },
        {
         "name": "Ostrich.",
         "rawType": "int64",
         "type": "integer"
        },
        {
         "name": "P.",
         "rawType": "int64",
         "type": "integer"
        },
        {
         "name": "PEOPLE.",
         "rawType": "int64",
         "type": "integer"
        },
        {
         "name": "PERSON.",
         "rawType": "int64",
         "type": "integer"
        },
        {
         "name": "PERSONALITY.",
         "rawType": "int64",
         "type": "integer"
        },
        {
         "name": "PERSONNS.",
         "rawType": "int64",
         "type": "integer"
        },
        {
         "name": "PERSONns.",
         "rawType": "int64",
         "type": "integer"
        },
        {
         "name": "POSSIBILITIES.",
         "rawType": "int64",
         "type": "integer"
        },
        {
         "name": "PSU.",
         "rawType": "int64",
         "type": "integer"
        },
        {
         "name": "PUBLIC.",
         "rawType": "int64",
         "type": "integer"
        },
        {
         "name": "PUNCHES.",
         "rawType": "int64",
         "type": "integer"
        },
        {
         "name": "PUPPY.",
         "rawType": "int64",
         "type": "integer"
        },
        {
         "name": "Parrot.",
         "rawType": "int64",
         "type": "integer"
        },
        {
         "name": "Passenger.",
         "rawType": "int64",
         "type": "integer"
        },
        {
         "name": "Peacock.",
         "rawType": "int64",
         "type": "integer"
        },
        {
         "name": "People.",
         "rawType": "int64",
         "type": "integer"
        },
        {
         "name": "Person.",
         "rawType": "int64",
         "type": "integer"
        },
        {
         "name": "Photograph.",
         "rawType": "int64",
         "type": "integer"
        },
        {
         "name": "Photographer.",
         "rawType": "int64",
         "type": "integer"
        },
        {
         "name": "Pilot.",
         "rawType": "int64",
         "type": "integer"
        },
        {
         "name": "Pizza.",
         "rawType": "int64",
         "type": "integer"
        },
        {
         "name": "Pizzas.",
         "rawType": "int64",
         "type": "integer"
        },
        {
         "name": "Plane.",
         "rawType": "int64",
         "type": "integer"
        },
        {
         "name": "Polar bear.",
         "rawType": "int64",
         "type": "integer"
        },
        {
         "name": "Police.",
         "rawType": "int64",
         "type": "integer"
        },
        {
         "name": "Poster.",
         "rawType": "int64",
         "type": "integer"
        },
        {
         "name": "Puppy.",
         "rawType": "int64",
         "type": "integer"
        },
        {
         "name": "REFRESHMENT.",
         "rawType": "int64",
         "type": "integer"
        },
        {
         "name": "REVIEWS.",
         "rawType": "int64",
         "type": "integer"
        },
        {
         "name": "Robot.",
         "rawType": "int64",
         "type": "integer"
        },
        {
         "name": "SALESMAN.",
         "rawType": "int64",
         "type": "integer"
        },
        {
         "name": "SALMON.",
         "rawType": "int64",
         "type": "integer"
        },
        {
         "name": "SAX.",
         "rawType": "int64",
         "type": "integer"
        },
        {
         "name": "SEA.",
         "rawType": "int64",
         "type": "integer"
        },
        {
         "name": "SEPIKA.",
         "rawType": "int64",
         "type": "integer"
        },
        {
         "name": "SEVERAL.",
         "rawType": "int64",
         "type": "integer"
        },
        {
         "name": "SEXUAL.",
         "rawType": "int64",
         "type": "integer"
        },
        {
         "name": "SIC.",
         "rawType": "int64",
         "type": "integer"
        },
        {
         "name": "SOMETHING.",
         "rawType": "int64",
         "type": "integer"
        },
        {
         "name": "SONS.",
         "rawType": "int64",
         "type": "integer"
        },
        {
         "name": "SPOON.",
         "rawType": "int64",
         "type": "integer"
        },
        {
         "name": "STAGTERS.",
         "rawType": "int64",
         "type": "integer"
        },
        {
         "name": "STARSHIROO.",
         "rawType": "int64",
         "type": "integer"
        },
        {
         "name": "STOP.",
         "rawType": "int64",
         "type": "integer"
        },
        {
         "name": "SUBJECT: Gender",
         "rawType": "int64",
         "type": "integer"
        },
        {
         "name": "SUBJECT: Gender: Female.",
         "rawType": "int64",
         "type": "integer"
        },
        {
         "name": "Scooter.",
         "rawType": "int64",
         "type": "integer"
        },
        {
         "name": "Sculpture.",
         "rawType": "int64",
         "type": "integer"
        },
        {
         "name": "Seagulls.",
         "rawType": "int64",
         "type": "integer"
        },
        {
         "name": "She/She/He/It.",
         "rawType": "int64",
         "type": "integer"
        },
        {
         "name": "Sheep.",
         "rawType": "int64",
         "type": "integer"
        },
        {
         "name": "Ship.",
         "rawType": "int64",
         "type": "integer"
        },
        {
         "name": "Soccer.",
         "rawType": "int64",
         "type": "integer"
        },
        {
         "name": "Soldier.",
         "rawType": "int64",
         "type": "integer"
        },
        {
         "name": "Striped.",
         "rawType": "int64",
         "type": "integer"
        },
        {
         "name": "Surfer.",
         "rawType": "int64",
         "type": "integer"
        },
        {
         "name": "Surfers.",
         "rawType": "int64",
         "type": "integer"
        },
        {
         "name": "Swiss.",
         "rawType": "int64",
         "type": "integer"
        },
        {
         "name": "TAXI.",
         "rawType": "int64",
         "type": "integer"
        },
        {
         "name": "THOUGH.",
         "rawType": "int64",
         "type": "integer"
        },
        {
         "name": "TUG.",
         "rawType": "int64",
         "type": "integer"
        },
        {
         "name": "Tattooist.",
         "rawType": "int64",
         "type": "integer"
        },
        {
         "name": "The kitchen is the main focus of the image. It is a modern, sleek kitchen with a focus on functionality and design. The kitchen features a large, stainless steel range hood, which is a common feature in modern kitchens to provide heat and ventilation.",
         "rawType": "int64",
         "type": "integer"
        },
        {
         "name": "The person(s) in this image are women.",
         "rawType": "int64",
         "type": "integer"
        },
        {
         "name": "The person(s) in this picture is a baker.",
         "rawType": "int64",
         "type": "integer"
        },
        {
         "name": "Toilet.",
         "rawType": "int64",
         "type": "integer"
        },
        {
         "name": "Train.",
         "rawType": "int64",
         "type": "integer"
        },
        {
         "name": "Truck.",
         "rawType": "int64",
         "type": "integer"
        },
        {
         "name": "Tub.",
         "rawType": "int64",
         "type": "integer"
        },
        {
         "name": "UNAUTHORIZED.",
         "rawType": "int64",
         "type": "integer"
        },
        {
         "name": "UNDERSTANDING, the person(s) in this image are likely to be women.",
         "rawType": "int64",
         "type": "integer"
        },
        {
         "name": "UNINTENDED.",
         "rawType": "int64",
         "type": "integer"
        },
        {
         "name": "Unanswerable.",
         "rawType": "int64",
         "type": "integer"
        },
        {
         "name": "Unfortunate.",
         "rawType": "int64",
         "type": "integer"
        },
        {
         "name": "Unknown.",
         "rawType": "int64",
         "type": "integer"
        },
        {
         "name": "Unsure.",
         "rawType": "int64",
         "type": "integer"
        },
        {
         "name": "Urinals.",
         "rawType": "int64",
         "type": "integer"
        },
        {
         "name": "VENOAL.",
         "rawType": "int64",
         "type": "integer"
        },
        {
         "name": "Vegetable.",
         "rawType": "int64",
         "type": "integer"
        },
        {
         "name": "Vehicle.",
         "rawType": "int64",
         "type": "integer"
        },
        {
         "name": "Voyage.",
         "rawType": "int64",
         "type": "integer"
        },
        {
         "name": "WAVE DIFFERENTTY.",
         "rawType": "int64",
         "type": "integer"
        },
        {
         "name": "WOMEN.",
         "rawType": "int64",
         "type": "integer"
        },
        {
         "name": "WOOD.",
         "rawType": "int64",
         "type": "integer"
        },
        {
         "name": "Warrior.",
         "rawType": "int64",
         "type": "integer"
        },
        {
         "name": "Wetsuit.",
         "rawType": "int64",
         "type": "integer"
        },
        {
         "name": "Wii.",
         "rawType": "int64",
         "type": "integer"
        },
        {
         "name": "Woman.",
         "rawType": "int64",
         "type": "integer"
        },
        {
         "name": "Women.",
         "rawType": "int64",
         "type": "integer"
        },
        {
         "name": "YOUNG.",
         "rawType": "int64",
         "type": "integer"
        },
        {
         "name": "YOUTH.",
         "rawType": "int64",
         "type": "integer"
        },
        {
         "name": "Yes, the person in the image is a man.",
         "rawType": "int64",
         "type": "integer"
        },
        {
         "name": "Zebra.",
         "rawType": "int64",
         "type": "integer"
        },
        {
         "name": "Zebras.",
         "rawType": "int64",
         "type": "integer"
        }
       ],
       "ref": "84c3af22-7b8e-4ac6-b4ae-0a5e540e1abe",
       "rows": [
        [
         "0",
         "no",
         "0",
         "0",
         "3",
         "7",
         "5",
         "0",
         "1",
         "0",
         "0",
         "1",
         "1",
         "0",
         "1",
         "0",
         "0",
         "0",
         "0",
         "0",
         "0",
         "1",
         "0",
         "2",
         "1",
         "1",
         "9",
         "0",
         "1",
         "1",
         "2",
         "1",
         "0",
         "3",
         "0",
         "5",
         "1",
         "1",
         "0",
         "0",
         "0",
         "1",
         "1",
         "0",
         "0",
         "0",
         "1",
         "49",
         "3",
         "0",
         "0",
         "0",
         "0",
         "1",
         "1",
         "1",
         "1",
         "3",
         "13",
         "1",
         "2",
         "0",
         "0",
         "1",
         "1",
         "0",
         "20",
         "1",
         "1",
         "1",
         "1",
         "0",
         "16",
         "7",
         "3",
         "0",
         "2",
         "1",
         "1",
         "0",
         "1",
         "0",
         "1",
         "1217",
         "0",
         "0",
         "0",
         "0",
         "3",
         "0",
         "0",
         "1",
         "16",
         "21",
         "0",
         "1",
         "1",
         "1",
         "0",
         "0",
         "0",
         "2",
         "0",
         "1",
         "0",
         "0",
         "0",
         "0",
         "0",
         "1",
         "0",
         "1",
         "1",
         "1",
         "1",
         "1",
         "0",
         "0",
         "1",
         "1",
         "1",
         "1",
         "0",
         "470",
         "0",
         "0",
         "1",
         "2",
         "0",
         "0",
         "1",
         "1",
         "1",
         "0",
         "0",
         "2",
         "0",
         "1",
         "0",
         "0",
         "0",
         "1",
         "0",
         "0",
         "0",
         "0",
         "0",
         "0",
         "0",
         "0",
         "1",
         "0",
         "1",
         "0",
         "1",
         "0",
         "0",
         "1",
         "0",
         "0",
         "0",
         "0",
         "1",
         "1",
         "2",
         "0",
         "1",
         "1",
         "0",
         "0",
         "0",
         "0",
         "0",
         "0",
         "1",
         "0",
         "0",
         "0",
         "1",
         "0",
         "0",
         "0",
         "0",
         "0",
         "2",
         "0",
         "1",
         "2",
         "0",
         "2",
         "0",
         "5",
         "1",
         "0",
         "0",
         "0",
         "1",
         "0",
         "0",
         "1",
         "0",
         "0",
         "0",
         "1",
         "1",
         "0",
         "1",
         "15",
         "1",
         "0",
         "0",
         "1",
         "0",
         "1",
         "1",
         "1",
         "1",
         "2",
         "0",
         "1",
         "1",
         "0",
         "0",
         "2",
         "0",
         "0",
         "0",
         "0",
         "5",
         "0",
         "2",
         "1",
         "0",
         "43",
         "10"
        ],
        [
         "1",
         "other",
         "0",
         "0",
         "0",
         "0",
         "0",
         "0",
         "0",
         "1",
         "0",
         "0",
         "0",
         "0",
         "0",
         "0",
         "1",
         "0",
         "0",
         "0",
         "0",
         "0",
         "0",
         "0",
         "0",
         "0",
         "0",
         "0",
         "0",
         "0",
         "0",
         "0",
         "0",
         "0",
         "1",
         "0",
         "0",
         "0",
         "0",
         "0",
         "0",
         "0",
         "0",
         "0",
         "1",
         "0",
         "0",
         "0",
         "0",
         "0",
         "0",
         "0",
         "0",
         "0",
         "0",
         "0",
         "0",
         "0",
         "0",
         "0",
         "0",
         "0",
         "0",
         "0",
         "0",
         "0",
         "0",
         "0",
         "0",
         "0",
         "0",
         "0",
         "0",
         "0",
         "0",
         "0",
         "0",
         "0",
         "0",
         "1",
         "0",
         "0",
         "0",
         "14",
         "0",
         "0",
         "0",
         "0",
         "0",
         "0",
         "0",
         "0",
         "0",
         "0",
         "0",
         "0",
         "0",
         "0",
         "0",
         "0",
         "0",
         "0",
         "0",
         "0",
         "0",
         "0",
         "1",
         "0",
         "0",
         "0",
         "0",
         "0",
         "0",
         "0",
         "0",
         "0",
         "0",
         "0",
         "0",
         "0",
         "0",
         "0",
         "0",
         "18",
         "1",
         "0",
         "0",
         "0",
         "0",
         "0",
         "0",
         "0",
         "0",
         "0",
         "0",
         "0",
         "1",
         "0",
         "0",
         "0",
         "0",
         "0",
         "1",
         "0",
         "0",
         "0",
         "0",
         "0",
         "0",
         "0",
         "0",
         "0",
         "0",
         "0",
         "0",
         "0",
         "0",
         "0",
         "0",
         "0",
         "0",
         "0",
         "0",
         "0",
         "0",
         "0",
         "0",
         "0",
         "0",
         "0",
         "0",
         "0",
         "0",
         "1",
         "0",
         "1",
         "1",
         "0",
         "0",
         "0",
         "1",
         "0",
         "1",
         "0",
         "0",
         "0",
         "0",
         "0",
         "0",
         "0",
         "0",
         "0",
         "0",
         "1",
         "0",
         "1",
         "0",
         "0",
         "1",
         "0",
         "0",
         "0",
         "0",
         "0",
         "0",
         "0",
         "0",
         "0",
         "0",
         "0",
         "0",
         "0",
         "0",
         "0",
         "0",
         "0",
         "0",
         "0",
         "0",
         "0",
         "0",
         "1",
         "0",
         "0",
         "0",
         "0",
         "0",
         "1",
         "0",
         "0",
         "0",
         "0",
         "0",
         "1",
         "0"
        ],
        [
         "2",
         "yes",
         "1",
         "1",
         "1",
         "1",
         "0",
         "1",
         "0",
         "0",
         "1",
         "0",
         "0",
         "1",
         "3",
         "1",
         "0",
         "3",
         "1",
         "1",
         "2",
         "1",
         "1",
         "1",
         "0",
         "0",
         "2",
         "1",
         "0",
         "0",
         "43",
         "7",
         "1",
         "0",
         "0",
         "3",
         "0",
         "0",
         "1",
         "1",
         "1",
         "0",
         "0",
         "1",
         "0",
         "1",
         "0",
         "11",
         "0",
         "3",
         "3",
         "1",
         "1",
         "0",
         "0",
         "0",
         "1",
         "0",
         "0",
         "0",
         "1",
         "1",
         "1",
         "0",
         "0",
         "1",
         "4",
         "0",
         "0",
         "0",
         "0",
         "1",
         "2",
         "0",
         "1",
         "1",
         "2",
         "0",
         "0",
         "0",
         "0",
         "1",
         "0",
         "1218",
         "1",
         "1",
         "1",
         "1",
         "3",
         "1",
         "1",
         "0",
         "0",
         "0",
         "4",
         "6",
         "0",
         "0",
         "1",
         "1",
         "1",
         "0",
         "1",
         "0",
         "1",
         "1",
         "0",
         "1",
         "2",
         "0",
         "1",
         "0",
         "0",
         "0",
         "0",
         "0",
         "1",
         "1",
         "0",
         "0",
         "0",
         "0",
         "1",
         "1377",
         "8",
         "1",
         "0",
         "23",
         "1",
         "3",
         "0",
         "0",
         "0",
         "1",
         "1",
         "0",
         "0",
         "0",
         "1",
         "1",
         "1",
         "0",
         "0",
         "2",
         "1",
         "1",
         "1",
         "1",
         "1",
         "1",
         "0",
         "1",
         "0",
         "1",
         "0",
         "1",
         "3",
         "1",
         "1",
         "1",
         "2",
         "3",
         "0",
         "0",
         "0",
         "4",
         "0",
         "0",
         "1",
         "1",
         "1",
         "1",
         "1",
         "0",
         "0",
         "0",
         "0",
         "1",
         "0",
         "1",
         "0",
         "1",
         "0",
         "1",
         "0",
         "1",
         "0",
         "0",
         "1",
         "0",
         "1",
         "0",
         "0",
         "0",
         "1",
         "0",
         "3",
         "2",
         "0",
         "0",
         "1",
         "1",
         "1",
         "0",
         "0",
         "1",
         "1",
         "5",
         "0",
         "1",
         "1",
         "0",
         "1",
         "0",
         "0",
         "0",
         "0",
         "2",
         "1",
         "1",
         "1",
         "0",
         "1",
         "2",
         "1",
         "1",
         "12",
         "5",
         "11",
         "3",
         "2",
         "0",
         "1",
         "3",
         "1"
        ]
       ],
       "shape": {
        "columns": 234,
        "rows": 3
       }
      },
      "text/html": [
       "<div>\n",
       "<style scoped>\n",
       "    .dataframe tbody tr th:only-of-type {\n",
       "        vertical-align: middle;\n",
       "    }\n",
       "\n",
       "    .dataframe tbody tr th {\n",
       "        vertical-align: top;\n",
       "    }\n",
       "\n",
       "    .dataframe thead th {\n",
       "        text-align: right;\n",
       "    }\n",
       "</style>\n",
       "<table border=\"1\" class=\"dataframe\">\n",
       "  <thead>\n",
       "    <tr style=\"text-align: right;\">\n",
       "      <th></th>\n",
       "      <th>prompt2</th>\n",
       "      <th>AID WALL.</th>\n",
       "      <th>ASUS.</th>\n",
       "      <th>Airliner.</th>\n",
       "      <th>Airplane.</th>\n",
       "      <th>Airplanes.</th>\n",
       "      <th>BARKETS.</th>\n",
       "      <th>BARRELS.</th>\n",
       "      <th>BASEBALL.</th>\n",
       "      <th>BEAR.</th>\n",
       "      <th>...</th>\n",
       "      <th>Warrior.</th>\n",
       "      <th>Wetsuit.</th>\n",
       "      <th>Wii.</th>\n",
       "      <th>Woman.</th>\n",
       "      <th>Women.</th>\n",
       "      <th>YOUNG.</th>\n",
       "      <th>YOUTH.</th>\n",
       "      <th>Yes, the person in the image is a man.</th>\n",
       "      <th>Zebra.</th>\n",
       "      <th>Zebras.</th>\n",
       "    </tr>\n",
       "  </thead>\n",
       "  <tbody>\n",
       "    <tr>\n",
       "      <th>0</th>\n",
       "      <td>no</td>\n",
       "      <td>0</td>\n",
       "      <td>0</td>\n",
       "      <td>3</td>\n",
       "      <td>7</td>\n",
       "      <td>5</td>\n",
       "      <td>0</td>\n",
       "      <td>1</td>\n",
       "      <td>0</td>\n",
       "      <td>0</td>\n",
       "      <td>...</td>\n",
       "      <td>0</td>\n",
       "      <td>0</td>\n",
       "      <td>0</td>\n",
       "      <td>5</td>\n",
       "      <td>0</td>\n",
       "      <td>2</td>\n",
       "      <td>1</td>\n",
       "      <td>0</td>\n",
       "      <td>43</td>\n",
       "      <td>10</td>\n",
       "    </tr>\n",
       "    <tr>\n",
       "      <th>1</th>\n",
       "      <td>other</td>\n",
       "      <td>0</td>\n",
       "      <td>0</td>\n",
       "      <td>0</td>\n",
       "      <td>0</td>\n",
       "      <td>0</td>\n",
       "      <td>0</td>\n",
       "      <td>0</td>\n",
       "      <td>1</td>\n",
       "      <td>0</td>\n",
       "      <td>...</td>\n",
       "      <td>0</td>\n",
       "      <td>0</td>\n",
       "      <td>1</td>\n",
       "      <td>0</td>\n",
       "      <td>0</td>\n",
       "      <td>0</td>\n",
       "      <td>0</td>\n",
       "      <td>0</td>\n",
       "      <td>1</td>\n",
       "      <td>0</td>\n",
       "    </tr>\n",
       "    <tr>\n",
       "      <th>2</th>\n",
       "      <td>yes</td>\n",
       "      <td>1</td>\n",
       "      <td>1</td>\n",
       "      <td>1</td>\n",
       "      <td>1</td>\n",
       "      <td>0</td>\n",
       "      <td>1</td>\n",
       "      <td>0</td>\n",
       "      <td>0</td>\n",
       "      <td>1</td>\n",
       "      <td>...</td>\n",
       "      <td>1</td>\n",
       "      <td>12</td>\n",
       "      <td>5</td>\n",
       "      <td>11</td>\n",
       "      <td>3</td>\n",
       "      <td>2</td>\n",
       "      <td>0</td>\n",
       "      <td>1</td>\n",
       "      <td>3</td>\n",
       "      <td>1</td>\n",
       "    </tr>\n",
       "  </tbody>\n",
       "</table>\n",
       "<p>3 rows × 234 columns</p>\n",
       "</div>"
      ],
      "text/plain": [
       "  prompt2  AID WALL.  ASUS.  Airliner.  Airplane.  Airplanes.  BARKETS.  \\\n",
       "0      no          0      0          3          7           5         0   \n",
       "1   other          0      0          0          0           0         0   \n",
       "2     yes          1      1          1          1           0         1   \n",
       "\n",
       "   BARRELS.  BASEBALL.  BEAR.  ...  Warrior.  Wetsuit.  Wii.  Woman.  Women.  \\\n",
       "0         1          0      0  ...         0         0     0       5       0   \n",
       "1         0          1      0  ...         0         0     1       0       0   \n",
       "2         0          0      1  ...         1        12     5      11       3   \n",
       "\n",
       "   YOUNG.  YOUTH.  Yes, the person in the image is a man.  Zebra.  Zebras.  \n",
       "0       2       1                                       0      43       10  \n",
       "1       0       0                                       0       1        0  \n",
       "2       2       0                                       1       3        1  \n",
       "\n",
       "[3 rows x 234 columns]"
      ]
     },
     "execution_count": 6,
     "metadata": {},
     "output_type": "execute_result"
    }
   ],
   "source": [
    "aggregated_df_yn.head()"
   ]
  },
  {
   "cell_type": "code",
   "execution_count": 7,
   "id": "ed04cc2c",
   "metadata": {},
   "outputs": [
    {
     "name": "stderr",
     "output_type": "stream",
     "text": [
      "/var/folders/3h/fqd_k18s5_sdlctlq7y54c2r0000gn/T/ipykernel_63682/4251662479.py:13: FutureWarning: DataFrame.groupby with axis=1 is deprecated. Do `frame.T.groupby(...)` without axis instead.\n",
      "  final_agg_df = aggregated_df_yn.groupby(axis=1, level=0).sum()\n"
     ]
    },
    {
     "data": {
      "application/vnd.microsoft.datawrangler.viewer.v0+json": {
       "columns": [
        {
         "name": "index",
         "rawType": "int64",
         "type": "integer"
        },
        {
         "name": "female",
         "rawType": "int64",
         "type": "integer"
        },
        {
         "name": "male",
         "rawType": "int64",
         "type": "integer"
        },
        {
         "name": "other",
         "rawType": "int64",
         "type": "integer"
        },
        {
         "name": "prompt2",
         "rawType": "object",
         "type": "string"
        }
       ],
       "ref": "24f3744c-4de0-4b8e-98fb-5cea6c55ded7",
       "rows": [
        [
         "0",
         "1233",
         "477",
         "346",
         "no"
        ],
        [
         "1",
         "14",
         "19",
         "19",
         "other"
        ],
        [
         "2",
         "1251",
         "1461",
         "180",
         "yes"
        ]
       ],
       "shape": {
        "columns": 4,
        "rows": 3
       }
      },
      "text/html": [
       "<div>\n",
       "<style scoped>\n",
       "    .dataframe tbody tr th:only-of-type {\n",
       "        vertical-align: middle;\n",
       "    }\n",
       "\n",
       "    .dataframe tbody tr th {\n",
       "        vertical-align: top;\n",
       "    }\n",
       "\n",
       "    .dataframe thead th {\n",
       "        text-align: right;\n",
       "    }\n",
       "</style>\n",
       "<table border=\"1\" class=\"dataframe\">\n",
       "  <thead>\n",
       "    <tr style=\"text-align: right;\">\n",
       "      <th></th>\n",
       "      <th>female</th>\n",
       "      <th>male</th>\n",
       "      <th>other</th>\n",
       "      <th>prompt2</th>\n",
       "    </tr>\n",
       "  </thead>\n",
       "  <tbody>\n",
       "    <tr>\n",
       "      <th>0</th>\n",
       "      <td>1233</td>\n",
       "      <td>477</td>\n",
       "      <td>346</td>\n",
       "      <td>no</td>\n",
       "    </tr>\n",
       "    <tr>\n",
       "      <th>1</th>\n",
       "      <td>14</td>\n",
       "      <td>19</td>\n",
       "      <td>19</td>\n",
       "      <td>other</td>\n",
       "    </tr>\n",
       "    <tr>\n",
       "      <th>2</th>\n",
       "      <td>1251</td>\n",
       "      <td>1461</td>\n",
       "      <td>180</td>\n",
       "      <td>yes</td>\n",
       "    </tr>\n",
       "  </tbody>\n",
       "</table>\n",
       "</div>"
      ],
      "text/plain": [
       "   female  male  other prompt2\n",
       "0    1233   477    346      no\n",
       "1      14    19     19   other\n",
       "2    1251  1461    180     yes"
      ]
     },
     "execution_count": 7,
     "metadata": {},
     "output_type": "execute_result"
    }
   ],
   "source": [
    "# Step 1: Map old column names to new ones\n",
    "new_columns = [\n",
    "    'male' if col in male_labels else\n",
    "    'female' if col in female_labels else\n",
    "    'other' if col in other_labels_mf else col\n",
    "    for col in aggregated_df_yn.columns\n",
    "]\n",
    "\n",
    "# Step 2: Assign new column names\n",
    "aggregated_df_yn.columns = new_columns\n",
    "\n",
    "# Step 3: Group and aggregate columns with the same new name\n",
    "final_agg_df = aggregated_df_yn.groupby(axis=1, level=0).sum()\n",
    "\n",
    "final_agg_df.head()"
   ]
  },
  {
   "cell_type": "code",
   "execution_count": 8,
   "id": "8f02445b",
   "metadata": {},
   "outputs": [
    {
     "data": {
      "application/vnd.microsoft.datawrangler.viewer.v0+json": {
       "columns": [
        {
         "name": "index",
         "rawType": "int64",
         "type": "integer"
        },
        {
         "name": "female",
         "rawType": "int64",
         "type": "integer"
        },
        {
         "name": "male",
         "rawType": "int64",
         "type": "integer"
        },
        {
         "name": "other",
         "rawType": "int64",
         "type": "integer"
        },
        {
         "name": "prompt2",
         "rawType": "object",
         "type": "string"
        }
       ],
       "ref": "fea9ba9f-c74f-4f2e-96bf-efc75829435f",
       "rows": [
        [
         "0",
         "1233",
         "477",
         "346",
         "no"
        ],
        [
         "1",
         "14",
         "19",
         "19",
         "other"
        ],
        [
         "2",
         "1251",
         "1461",
         "180",
         "yes"
        ]
       ],
       "shape": {
        "columns": 4,
        "rows": 3
       }
      },
      "text/html": [
       "<div>\n",
       "<style scoped>\n",
       "    .dataframe tbody tr th:only-of-type {\n",
       "        vertical-align: middle;\n",
       "    }\n",
       "\n",
       "    .dataframe tbody tr th {\n",
       "        vertical-align: top;\n",
       "    }\n",
       "\n",
       "    .dataframe thead th {\n",
       "        text-align: right;\n",
       "    }\n",
       "</style>\n",
       "<table border=\"1\" class=\"dataframe\">\n",
       "  <thead>\n",
       "    <tr style=\"text-align: right;\">\n",
       "      <th></th>\n",
       "      <th>female</th>\n",
       "      <th>male</th>\n",
       "      <th>other</th>\n",
       "      <th>prompt2</th>\n",
       "    </tr>\n",
       "  </thead>\n",
       "  <tbody>\n",
       "    <tr>\n",
       "      <th>0</th>\n",
       "      <td>1233</td>\n",
       "      <td>477</td>\n",
       "      <td>346</td>\n",
       "      <td>no</td>\n",
       "    </tr>\n",
       "    <tr>\n",
       "      <th>1</th>\n",
       "      <td>14</td>\n",
       "      <td>19</td>\n",
       "      <td>19</td>\n",
       "      <td>other</td>\n",
       "    </tr>\n",
       "    <tr>\n",
       "      <th>2</th>\n",
       "      <td>1251</td>\n",
       "      <td>1461</td>\n",
       "      <td>180</td>\n",
       "      <td>yes</td>\n",
       "    </tr>\n",
       "  </tbody>\n",
       "</table>\n",
       "</div>"
      ],
      "text/plain": [
       "   female  male  other prompt2\n",
       "0    1233   477    346      no\n",
       "1      14    19     19   other\n",
       "2    1251  1461    180     yes"
      ]
     },
     "metadata": {},
     "output_type": "display_data"
    }
   ],
   "source": [
    "display(final_agg_df)"
   ]
  },
  {
   "cell_type": "code",
   "execution_count": null,
   "id": "a20bd9ca",
   "metadata": {},
   "outputs": [],
   "source": []
  }
 ],
 "metadata": {
  "kernelspec": {
   "display_name": ".venv",
   "language": "python",
   "name": "python3"
  },
  "language_info": {
   "codemirror_mode": {
    "name": "ipython",
    "version": 3
   },
   "file_extension": ".py",
   "mimetype": "text/x-python",
   "name": "python",
   "nbconvert_exporter": "python",
   "pygments_lexer": "ipython3",
   "version": "3.10.10"
  }
 },
 "nbformat": 4,
 "nbformat_minor": 5
}
