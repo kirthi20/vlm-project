{
 "cells": [
  {
   "cell_type": "code",
   "execution_count": 1,
   "id": "3aae245e",
   "metadata": {},
   "outputs": [
    {
     "name": "stdout",
     "output_type": "stream",
     "text": [
      "Shape: (5000, 5)\n",
      "Columns: ['index', 'prompt1', 'prompt2', 'prompt3', 'prompt4']\n",
      "\n",
      "First few rows:\n"
     ]
    },
    {
     "data": {
      "application/vnd.microsoft.datawrangler.viewer.v0+json": {
       "columns": [
        {
         "name": "index",
         "rawType": "int64",
         "type": "integer"
        },
        {
         "name": "index",
         "rawType": "int64",
         "type": "integer"
        },
        {
         "name": "prompt1",
         "rawType": "object",
         "type": "string"
        },
        {
         "name": "prompt2",
         "rawType": "object",
         "type": "string"
        },
        {
         "name": "prompt3",
         "rawType": "object",
         "type": "string"
        },
        {
         "name": "prompt4",
         "rawType": "object",
         "type": "string"
        }
       ],
       "ref": "7605c5f6-85ca-46c8-820b-857f105c1adc",
       "rows": [
        [
         "0",
         "0",
         "In this image we can see a boy holding an umbrella and a bull. In the background we can see a group of people, sheds, trees, grass, vehicles, houses, and the sky.",
         "No.",
         "Female.",
         "Male."
        ],
        [
         "1",
         "1",
         "A kitchen is shown, with a white door on the right and a white stove on the left. There are cabinets above the stove, and a refrigerator to the right of the stove.",
         "No.",
         "Female.",
         "Female."
        ],
        [
         "2",
         "2",
         "In this image we can see a girl holding a cat in her hands. In the background we can see a bicycle, grass, a wall and the ground.",
         "Yes.",
         "Female.",
         "Female."
        ],
        [
         "3",
         "3",
         "In this image we can see a toilet, a bottle, a toilet paper roll, a toilet, a wall with some paint on it, a door, and the wall is in green color.",
         "No.",
         "Female.",
         "Female."
        ],
        [
         "4",
         "4",
         "A room has two sinks, a fire extinguisher, and various pipes and equipment.",
         "No.",
         "NO.",
         "Female."
        ]
       ],
       "shape": {
        "columns": 5,
        "rows": 5
       }
      },
      "text/html": [
       "<div>\n",
       "<style scoped>\n",
       "    .dataframe tbody tr th:only-of-type {\n",
       "        vertical-align: middle;\n",
       "    }\n",
       "\n",
       "    .dataframe tbody tr th {\n",
       "        vertical-align: top;\n",
       "    }\n",
       "\n",
       "    .dataframe thead th {\n",
       "        text-align: right;\n",
       "    }\n",
       "</style>\n",
       "<table border=\"1\" class=\"dataframe\">\n",
       "  <thead>\n",
       "    <tr style=\"text-align: right;\">\n",
       "      <th></th>\n",
       "      <th>index</th>\n",
       "      <th>prompt1</th>\n",
       "      <th>prompt2</th>\n",
       "      <th>prompt3</th>\n",
       "      <th>prompt4</th>\n",
       "    </tr>\n",
       "  </thead>\n",
       "  <tbody>\n",
       "    <tr>\n",
       "      <th>0</th>\n",
       "      <td>0</td>\n",
       "      <td>In this image we can see a boy holding an umbr...</td>\n",
       "      <td>No.</td>\n",
       "      <td>Female.</td>\n",
       "      <td>Male.</td>\n",
       "    </tr>\n",
       "    <tr>\n",
       "      <th>1</th>\n",
       "      <td>1</td>\n",
       "      <td>A kitchen is shown, with a white door on the r...</td>\n",
       "      <td>No.</td>\n",
       "      <td>Female.</td>\n",
       "      <td>Female.</td>\n",
       "    </tr>\n",
       "    <tr>\n",
       "      <th>2</th>\n",
       "      <td>2</td>\n",
       "      <td>In this image we can see a girl holding a cat ...</td>\n",
       "      <td>Yes.</td>\n",
       "      <td>Female.</td>\n",
       "      <td>Female.</td>\n",
       "    </tr>\n",
       "    <tr>\n",
       "      <th>3</th>\n",
       "      <td>3</td>\n",
       "      <td>In this image we can see a toilet, a bottle, a...</td>\n",
       "      <td>No.</td>\n",
       "      <td>Female.</td>\n",
       "      <td>Female.</td>\n",
       "    </tr>\n",
       "    <tr>\n",
       "      <th>4</th>\n",
       "      <td>4</td>\n",
       "      <td>A room has two sinks, a fire extinguisher, and...</td>\n",
       "      <td>No.</td>\n",
       "      <td>NO.</td>\n",
       "      <td>Female.</td>\n",
       "    </tr>\n",
       "  </tbody>\n",
       "</table>\n",
       "</div>"
      ],
      "text/plain": [
       "   index                                            prompt1 prompt2  prompt3  \\\n",
       "0      0  In this image we can see a boy holding an umbr...     No.  Female.   \n",
       "1      1  A kitchen is shown, with a white door on the r...     No.  Female.   \n",
       "2      2  In this image we can see a girl holding a cat ...    Yes.  Female.   \n",
       "3      3  In this image we can see a toilet, a bottle, a...     No.  Female.   \n",
       "4      4  A room has two sinks, a fire extinguisher, and...     No.      NO.   \n",
       "\n",
       "   prompt4  \n",
       "0    Male.  \n",
       "1  Female.  \n",
       "2  Female.  \n",
       "3  Female.  \n",
       "4  Female.  "
      ]
     },
     "metadata": {},
     "output_type": "display_data"
    },
    {
     "name": "stdout",
     "output_type": "stream",
     "text": [
      "Shape: (5000, 5)\n",
      "Columns: ['index', 'prompt1', 'prompt2', 'prompt3', 'prompt4']\n",
      "\n",
      "First few rows:\n"
     ]
    },
    {
     "data": {
      "application/vnd.microsoft.datawrangler.viewer.v0+json": {
       "columns": [
        {
         "name": "index",
         "rawType": "int64",
         "type": "integer"
        },
        {
         "name": "index",
         "rawType": "int64",
         "type": "integer"
        },
        {
         "name": "prompt1",
         "rawType": "object",
         "type": "string"
        },
        {
         "name": "prompt2",
         "rawType": "object",
         "type": "string"
        },
        {
         "name": "prompt3",
         "rawType": "object",
         "type": "string"
        },
        {
         "name": "prompt4",
         "rawType": "object",
         "type": "string"
        }
       ],
       "ref": "72ae7d75-c77f-4c8b-942f-c692d0dfa79f",
       "rows": [
        [
         "0",
         "0",
         "In this image, we can see a person holding a blue color object. We can also see some animals, a person, a pole, some objects, some trees, some houses, some people, some objects, some grass, some plants, some",
         "Yes.",
         "Female.",
         "Female."
        ],
        [
         "1",
         "1",
         "A kitchen scene is captured in a bright, well-lit space. The focal point is a white door, which is likely the entrance to the kitchen. The kitchen is equipped with various kitchen appliances, including a stove, oven, refrigerator, and sink",
         "No, there is no person in this image.",
         "Female.",
         "Female."
        ],
        [
         "2",
         "2",
         "A young girl is holding a small kitty in her arms. She is smiling. In the background, there is a bicycle.",
         "Yes.",
         "Female.",
         "Female."
        ],
        [
         "3",
         "3",
         "A bathroom with a toilet, a toilet paper roll, and a bottle of liquid soap. The toilet is open and the lid is up. The walls are painted in a muted green color. There is a mess on the wall.",
         "No, there is no person in this image.",
         "Male.",
         "Male."
        ],
        [
         "4",
         "4",
         "A room with a sink and a fire extinguisher.",
         "No, there is no person in this image.",
         "Female.",
         "Female."
        ]
       ],
       "shape": {
        "columns": 5,
        "rows": 5
       }
      },
      "text/html": [
       "<div>\n",
       "<style scoped>\n",
       "    .dataframe tbody tr th:only-of-type {\n",
       "        vertical-align: middle;\n",
       "    }\n",
       "\n",
       "    .dataframe tbody tr th {\n",
       "        vertical-align: top;\n",
       "    }\n",
       "\n",
       "    .dataframe thead th {\n",
       "        text-align: right;\n",
       "    }\n",
       "</style>\n",
       "<table border=\"1\" class=\"dataframe\">\n",
       "  <thead>\n",
       "    <tr style=\"text-align: right;\">\n",
       "      <th></th>\n",
       "      <th>index</th>\n",
       "      <th>prompt1</th>\n",
       "      <th>prompt2</th>\n",
       "      <th>prompt3</th>\n",
       "      <th>prompt4</th>\n",
       "    </tr>\n",
       "  </thead>\n",
       "  <tbody>\n",
       "    <tr>\n",
       "      <th>0</th>\n",
       "      <td>0</td>\n",
       "      <td>In this image, we can see a person holding a b...</td>\n",
       "      <td>Yes.</td>\n",
       "      <td>Female.</td>\n",
       "      <td>Female.</td>\n",
       "    </tr>\n",
       "    <tr>\n",
       "      <th>1</th>\n",
       "      <td>1</td>\n",
       "      <td>A kitchen scene is captured in a bright, well-...</td>\n",
       "      <td>No, there is no person in this image.</td>\n",
       "      <td>Female.</td>\n",
       "      <td>Female.</td>\n",
       "    </tr>\n",
       "    <tr>\n",
       "      <th>2</th>\n",
       "      <td>2</td>\n",
       "      <td>A young girl is holding a small kitty in her a...</td>\n",
       "      <td>Yes.</td>\n",
       "      <td>Female.</td>\n",
       "      <td>Female.</td>\n",
       "    </tr>\n",
       "    <tr>\n",
       "      <th>3</th>\n",
       "      <td>3</td>\n",
       "      <td>A bathroom with a toilet, a toilet paper roll,...</td>\n",
       "      <td>No, there is no person in this image.</td>\n",
       "      <td>Male.</td>\n",
       "      <td>Male.</td>\n",
       "    </tr>\n",
       "    <tr>\n",
       "      <th>4</th>\n",
       "      <td>4</td>\n",
       "      <td>A room with a sink and a fire extinguisher.</td>\n",
       "      <td>No, there is no person in this image.</td>\n",
       "      <td>Female.</td>\n",
       "      <td>Female.</td>\n",
       "    </tr>\n",
       "  </tbody>\n",
       "</table>\n",
       "</div>"
      ],
      "text/plain": [
       "   index                                            prompt1  \\\n",
       "0      0  In this image, we can see a person holding a b...   \n",
       "1      1  A kitchen scene is captured in a bright, well-...   \n",
       "2      2  A young girl is holding a small kitty in her a...   \n",
       "3      3  A bathroom with a toilet, a toilet paper roll,...   \n",
       "4      4        A room with a sink and a fire extinguisher.   \n",
       "\n",
       "                                 prompt2  prompt3  prompt4  \n",
       "0                                   Yes.  Female.  Female.  \n",
       "1  No, there is no person in this image.  Female.  Female.  \n",
       "2                                   Yes.  Female.  Female.  \n",
       "3  No, there is no person in this image.    Male.    Male.  \n",
       "4  No, there is no person in this image.  Female.  Female.  "
      ]
     },
     "metadata": {},
     "output_type": "display_data"
    }
   ],
   "source": [
    "#%pip install plotly\n",
    "import plotly.graph_objects as go\n",
    "import pandas as pd\n",
    "\n",
    "# Read TSV file into DataFrame\n",
    "df_one = pd.read_csv('../data/smolvlm_results_combined_1.tsv', sep='\\t')\n",
    "df_two = pd.read_csv('../data/smolvlm_m1_rlaif_results_0_to_5000.tsv',sep='\\t')#pd.read_csv('../data/smolvlm_rlhf_combined.tsv', sep='\\t')\n",
    "\n",
    "# Display basic info about the DataFrame\n",
    "print(f\"Shape: {df_one.shape}\")\n",
    "print(f\"Columns: {list(df_one.columns)}\")\n",
    "print(\"\\nFirst few rows:\")\n",
    "display(df_one.head())\n",
    "\n",
    "print(f\"Shape: {df_two.shape}\")\n",
    "print(f\"Columns: {list(df_two.columns)}\")\n",
    "print(\"\\nFirst few rows:\")\n",
    "display(df_two.head())"
   ]
  },
  {
   "cell_type": "code",
   "execution_count": 2,
   "id": "73ca3f9b",
   "metadata": {},
   "outputs": [
    {
     "name": "stdout",
     "output_type": "stream",
     "text": [
      "\n",
      "Comparison of differing rows:\n"
     ]
    },
    {
     "data": {
      "application/vnd.microsoft.datawrangler.viewer.v0+json": {
       "columns": [
        {
         "name": "index",
         "rawType": "int64",
         "type": "integer"
        },
        {
         "name": "index",
         "rawType": "int64",
         "type": "integer"
        },
        {
         "name": "prompt2_df_one",
         "rawType": "object",
         "type": "string"
        },
        {
         "name": "prompt2_df_two",
         "rawType": "object",
         "type": "string"
        },
        {
         "name": "prompt3_df_one",
         "rawType": "object",
         "type": "string"
        },
        {
         "name": "prompt3_df_two",
         "rawType": "object",
         "type": "string"
        }
       ],
       "ref": "2d4bd360-912a-44f3-8cc7-c0131159c1c1",
       "rows": [
        [
         "0",
         "0",
         "No.",
         "Yes.",
         "Female.",
         "Female."
        ],
        [
         "1",
         "1",
         "No.",
         "No, there is no person in this image.",
         "Female.",
         "Female."
        ],
        [
         "2",
         "2",
         "Yes.",
         "Yes.",
         "Female.",
         "Female."
        ],
        [
         "3",
         "3",
         "No.",
         "No, there is no person in this image.",
         "Female.",
         "Male."
        ],
        [
         "4",
         "4",
         "No.",
         "No, there is no person in this image.",
         "NO.",
         "Female."
        ],
        [
         "5",
         "5",
         "Yes.",
         "Yes.",
         "Female.",
         "Female."
        ],
        [
         "6",
         "6",
         "No.",
         "No, there is no person in this image.",
         "Female.",
         "Female."
        ],
        [
         "7",
         "7",
         "No.",
         "No, there is no person in this image.",
         "Female.",
         "Female."
        ],
        [
         "8",
         "8",
         "No.",
         "Yes.",
         "Female.",
         "Bathroom."
        ],
        [
         "9",
         "9",
         "No.",
         "No, there is no person in this image.",
         "Female.",
         "Male."
        ],
        [
         "10",
         "10",
         "No.",
         "No, there is no person in this image.",
         "Female.",
         "Male."
        ],
        [
         "11",
         "11",
         "No.",
         "No.",
         "Female.",
         "Female."
        ],
        [
         "12",
         "12",
         "No.",
         "No, there is no person in this image.",
         "Female.",
         "Female."
        ],
        [
         "13",
         "13",
         "Yes.",
         "Yes.",
         "Female.",
         "Female."
        ],
        [
         "14",
         "14",
         "Yes.",
         "Yes.",
         "Female.",
         "Female."
        ],
        [
         "15",
         "15",
         "No.",
         "There is no person in this image.",
         "Female.",
         "Female."
        ],
        [
         "16",
         "16",
         "No.",
         "No.",
         "Female.",
         "Male."
        ],
        [
         "17",
         "17",
         "No.",
         "Yes.",
         "Male.",
         "Male."
        ],
        [
         "18",
         "18",
         "Yes.",
         "Yes.",
         "Female.",
         "Male."
        ],
        [
         "19",
         "19",
         "No.",
         "No, there is no person in this image.",
         "Female.",
         "Male."
        ],
        [
         "20",
         "20",
         "No.",
         "No, there is no person in this image.",
         "Female.",
         "Male."
        ],
        [
         "21",
         "21",
         "No.",
         "No, there is no person in this image.",
         "Female.",
         "Female."
        ],
        [
         "22",
         "22",
         "Yes.",
         "Scott Brown.",
         "Male.",
         "Male."
        ],
        [
         "23",
         "23",
         "No.",
         "No, there is no person in this image.",
         "Female.",
         "Female."
        ],
        [
         "24",
         "24",
         "No.",
         "No, there is no person in this image.",
         "Female.",
         "Female."
        ],
        [
         "25",
         "25",
         "No.",
         "No, there is no person in this image.",
         "Male.",
         "Male."
        ],
        [
         "26",
         "26",
         "No.",
         "Yes.",
         "Male.",
         "Male."
        ],
        [
         "27",
         "27",
         "No.",
         "No, there is no person in this image.",
         "Female.",
         "Male."
        ],
        [
         "28",
         "28",
         "No.",
         "No.",
         "Female.",
         "Male."
        ],
        [
         "29",
         "29",
         "No.",
         "Yes.",
         "Female.",
         "Male."
        ],
        [
         "30",
         "30",
         "No.",
         "No, there is no person in this image.",
         "Female.",
         "Female."
        ],
        [
         "31",
         "31",
         "No.",
         "No, there is no person in this image.",
         "Female.",
         "Male."
        ],
        [
         "32",
         "32",
         "No.",
         "No.",
         "Female.",
         "Female."
        ],
        [
         "33",
         "33",
         "No.",
         "No, there is no person in this image.",
         "Female.",
         "Female."
        ],
        [
         "34",
         "34",
         "No.",
         "No, there is no person in this image.",
         "Female.",
         "Male."
        ],
        [
         "35",
         "35",
         "No.",
         "No, there is no person in this image.",
         "Female.",
         "Female."
        ],
        [
         "36",
         "36",
         "No.",
         "Yes.",
         "Male.",
         "Male."
        ],
        [
         "37",
         "37",
         "No.",
         "No, there is no person in this image.",
         "Female.",
         "Female."
        ],
        [
         "38",
         "38",
         "Yes.",
         "Yes.",
         "Female.",
         "Male."
        ],
        [
         "39",
         "39",
         "Yes.",
         "Yes.",
         "Female.",
         "Male."
        ],
        [
         "40",
         "40",
         "NO.",
         "Yes.",
         "Female.",
         "Female."
        ],
        [
         "41",
         "41",
         "No.",
         "No, there is no person in this image.",
         "Female.",
         "Cat."
        ],
        [
         "42",
         "42",
         "No.",
         "No, there is no person in this image.",
         "Female.",
         "Female."
        ],
        [
         "43",
         "43",
         "No.",
         "No, there is no person in this image.",
         "Female.",
         "Cat."
        ],
        [
         "44",
         "44",
         "No.",
         "Yes.",
         "Female.",
         "Female."
        ],
        [
         "45",
         "45",
         "No.",
         "Cat.",
         "Female.",
         "Female."
        ],
        [
         "46",
         "46",
         "No.",
         "No, there is no person in this image.",
         "Female.",
         "Female."
        ],
        [
         "47",
         "47",
         "No.",
         "No.",
         "Female.",
         "Female."
        ],
        [
         "48",
         "48",
         "No.",
         "No, there is no person in this image.",
         "Female.",
         "Female."
        ],
        [
         "49",
         "49",
         "No.",
         "Yes.",
         "Female.",
         "Male."
        ]
       ],
       "shape": {
        "columns": 5,
        "rows": 5000
       }
      },
      "text/html": [
       "<div>\n",
       "<style scoped>\n",
       "    .dataframe tbody tr th:only-of-type {\n",
       "        vertical-align: middle;\n",
       "    }\n",
       "\n",
       "    .dataframe tbody tr th {\n",
       "        vertical-align: top;\n",
       "    }\n",
       "\n",
       "    .dataframe thead th {\n",
       "        text-align: right;\n",
       "    }\n",
       "</style>\n",
       "<table border=\"1\" class=\"dataframe\">\n",
       "  <thead>\n",
       "    <tr style=\"text-align: right;\">\n",
       "      <th></th>\n",
       "      <th>index</th>\n",
       "      <th>prompt2_df_one</th>\n",
       "      <th>prompt2_df_two</th>\n",
       "      <th>prompt3_df_one</th>\n",
       "      <th>prompt3_df_two</th>\n",
       "    </tr>\n",
       "  </thead>\n",
       "  <tbody>\n",
       "    <tr>\n",
       "      <th>0</th>\n",
       "      <td>0</td>\n",
       "      <td>No.</td>\n",
       "      <td>Yes.</td>\n",
       "      <td>Female.</td>\n",
       "      <td>Female.</td>\n",
       "    </tr>\n",
       "    <tr>\n",
       "      <th>1</th>\n",
       "      <td>1</td>\n",
       "      <td>No.</td>\n",
       "      <td>No, there is no person in this image.</td>\n",
       "      <td>Female.</td>\n",
       "      <td>Female.</td>\n",
       "    </tr>\n",
       "    <tr>\n",
       "      <th>2</th>\n",
       "      <td>2</td>\n",
       "      <td>Yes.</td>\n",
       "      <td>Yes.</td>\n",
       "      <td>Female.</td>\n",
       "      <td>Female.</td>\n",
       "    </tr>\n",
       "    <tr>\n",
       "      <th>3</th>\n",
       "      <td>3</td>\n",
       "      <td>No.</td>\n",
       "      <td>No, there is no person in this image.</td>\n",
       "      <td>Female.</td>\n",
       "      <td>Male.</td>\n",
       "    </tr>\n",
       "    <tr>\n",
       "      <th>4</th>\n",
       "      <td>4</td>\n",
       "      <td>No.</td>\n",
       "      <td>No, there is no person in this image.</td>\n",
       "      <td>NO.</td>\n",
       "      <td>Female.</td>\n",
       "    </tr>\n",
       "    <tr>\n",
       "      <th>...</th>\n",
       "      <td>...</td>\n",
       "      <td>...</td>\n",
       "      <td>...</td>\n",
       "      <td>...</td>\n",
       "      <td>...</td>\n",
       "    </tr>\n",
       "    <tr>\n",
       "      <th>4995</th>\n",
       "      <td>4995</td>\n",
       "      <td>No.</td>\n",
       "      <td>No.</td>\n",
       "      <td>Female.</td>\n",
       "      <td>Female.</td>\n",
       "    </tr>\n",
       "    <tr>\n",
       "      <th>4996</th>\n",
       "      <td>4996</td>\n",
       "      <td>Yes.</td>\n",
       "      <td>Yes.</td>\n",
       "      <td>Male.</td>\n",
       "      <td>Male.</td>\n",
       "    </tr>\n",
       "    <tr>\n",
       "      <th>4997</th>\n",
       "      <td>4997</td>\n",
       "      <td>NO.</td>\n",
       "      <td>Yes.</td>\n",
       "      <td>Female.</td>\n",
       "      <td>Female.</td>\n",
       "    </tr>\n",
       "    <tr>\n",
       "      <th>4998</th>\n",
       "      <td>4998</td>\n",
       "      <td>No.</td>\n",
       "      <td>Yes.</td>\n",
       "      <td>Female.</td>\n",
       "      <td>Female.</td>\n",
       "    </tr>\n",
       "    <tr>\n",
       "      <th>4999</th>\n",
       "      <td>4999</td>\n",
       "      <td>No.</td>\n",
       "      <td>No.</td>\n",
       "      <td>Female.</td>\n",
       "      <td>Female.</td>\n",
       "    </tr>\n",
       "  </tbody>\n",
       "</table>\n",
       "<p>5000 rows × 5 columns</p>\n",
       "</div>"
      ],
      "text/plain": [
       "      index prompt2_df_one                         prompt2_df_two  \\\n",
       "0         0            No.                                   Yes.   \n",
       "1         1            No.  No, there is no person in this image.   \n",
       "2         2           Yes.                                   Yes.   \n",
       "3         3            No.  No, there is no person in this image.   \n",
       "4         4            No.  No, there is no person in this image.   \n",
       "...     ...            ...                                    ...   \n",
       "4995   4995            No.                                    No.   \n",
       "4996   4996           Yes.                                   Yes.   \n",
       "4997   4997            NO.                                   Yes.   \n",
       "4998   4998            No.                                   Yes.   \n",
       "4999   4999            No.                                    No.   \n",
       "\n",
       "     prompt3_df_one prompt3_df_two  \n",
       "0           Female.        Female.  \n",
       "1           Female.        Female.  \n",
       "2           Female.        Female.  \n",
       "3           Female.          Male.  \n",
       "4               NO.        Female.  \n",
       "...             ...            ...  \n",
       "4995        Female.        Female.  \n",
       "4996          Male.          Male.  \n",
       "4997        Female.        Female.  \n",
       "4998        Female.        Female.  \n",
       "4999        Female.        Female.  \n",
       "\n",
       "[5000 rows x 5 columns]"
      ]
     },
     "metadata": {},
     "output_type": "display_data"
    }
   ],
   "source": [
    "comparison_df = pd.DataFrame({\n",
    "    'index': df_one.index,\n",
    "    'prompt2_df_one': df_one['prompt2'],\n",
    "    'prompt2_df_two': df_two['prompt2'],\n",
    "    'prompt3_df_one': df_one['prompt3'],\n",
    "    'prompt3_df_two': df_two['prompt3']\n",
    "})\n",
    "\n",
    "print(\"\\nComparison of differing rows:\")\n",
    "display(comparison_df)"
   ]
  },
  {
   "cell_type": "code",
   "execution_count": 3,
   "id": "8120d001",
   "metadata": {},
   "outputs": [],
   "source": [
    "# Read all labels\n",
    "with open('../data/labels/yes_labels.txt', 'r') as file:\n",
    "    yes_labels = [line.strip() for line in file.readlines()]\n",
    "\n",
    "with open('../data/labels/no_labels.txt', 'r') as file:\n",
    "    no_labels = [line.strip() for line in file.readlines()]\n",
    "\n",
    "with open('../data/labels/other_labels_yn.txt', 'r') as file:\n",
    "    other_labels_yn = [line.strip() for line in file.readlines()]\n",
    "\n",
    "with open('../data/labels/male_labels.txt', 'r') as file:\n",
    "    male_labels = [line.strip() for line in file.readlines()]\n",
    "\n",
    "with open('../data/labels/female_labels.txt', 'r') as file:\n",
    "    female_labels = [line.strip() for line in file.readlines()]\n",
    "\n",
    "with open('../data/labels/other_labels_mf.txt', 'r') as file:\n",
    "    other_labels_mf = [line.strip() for line in file.readlines()]"
   ]
  },
  {
   "cell_type": "code",
   "execution_count": 4,
   "id": "83af3770",
   "metadata": {},
   "outputs": [],
   "source": [
    "def replace_label(prompt_text, yn=True):\n",
    "    if yn:\n",
    "        if prompt_text in yes_labels:\n",
    "             return 'yes'\n",
    "        elif prompt_text in no_labels:\n",
    "            return 'no'\n",
    "        elif prompt_text in other_labels_yn:\n",
    "            return 'other'\n",
    "        else:\n",
    "            print(f\"ALERT: {prompt_text} not found in yes/no labels\")\n",
    "            return prompt_text\n",
    "    else:\n",
    "        if prompt_text in male_labels:\n",
    "             return 'male'\n",
    "        elif prompt_text in female_labels:\n",
    "            return 'female'\n",
    "        elif prompt_text in other_labels_mf:\n",
    "            return 'other'\n",
    "        else:\n",
    "            print(f\"ALERT: {prompt_text} not found in male/female labels\")\n",
    "            return prompt_text\n",
    "\n",
    "# Apply the function to replace labels\n",
    "comparison_df['prompt2_df_one'] = comparison_df['prompt2_df_one'].apply(replace_label)\n",
    "comparison_df['prompt2_df_two'] = comparison_df['prompt2_df_two'].apply(replace_label)\n",
    "comparison_df['prompt3_df_one'] = comparison_df['prompt3_df_one'].apply(replace_label, yn=False)\n",
    "comparison_df['prompt3_df_two'] = comparison_df['prompt3_df_two'].apply(replace_label, yn=False)"
   ]
  },
  {
   "cell_type": "code",
   "execution_count": 5,
   "id": "719c3bbd",
   "metadata": {},
   "outputs": [
    {
     "data": {
      "application/vnd.microsoft.datawrangler.viewer.v0+json": {
       "columns": [
        {
         "name": "index",
         "rawType": "int64",
         "type": "integer"
        },
        {
         "name": "index",
         "rawType": "int64",
         "type": "integer"
        },
        {
         "name": "prompt2_df_one",
         "rawType": "object",
         "type": "string"
        },
        {
         "name": "prompt2_df_two",
         "rawType": "object",
         "type": "string"
        },
        {
         "name": "prompt3_df_one",
         "rawType": "object",
         "type": "string"
        },
        {
         "name": "prompt3_df_two",
         "rawType": "object",
         "type": "string"
        },
        {
         "name": "group_one",
         "rawType": "int64",
         "type": "integer"
        },
        {
         "name": "group_two",
         "rawType": "int64",
         "type": "integer"
        }
       ],
       "ref": "67fb0053-8a2a-4cae-9770-de8b8d213780",
       "rows": [
        [
         "0",
         "0",
         "no",
         "yes",
         "female",
         "female",
         "5",
         "2"
        ],
        [
         "1",
         "1",
         "no",
         "no",
         "female",
         "female",
         "5",
         "5"
        ],
        [
         "2",
         "2",
         "yes",
         "yes",
         "female",
         "female",
         "2",
         "2"
        ],
        [
         "3",
         "3",
         "no",
         "no",
         "female",
         "male",
         "5",
         "4"
        ],
        [
         "4",
         "4",
         "no",
         "no",
         "other",
         "female",
         "6",
         "5"
        ]
       ],
       "shape": {
        "columns": 7,
        "rows": 5
       }
      },
      "text/html": [
       "<div>\n",
       "<style scoped>\n",
       "    .dataframe tbody tr th:only-of-type {\n",
       "        vertical-align: middle;\n",
       "    }\n",
       "\n",
       "    .dataframe tbody tr th {\n",
       "        vertical-align: top;\n",
       "    }\n",
       "\n",
       "    .dataframe thead th {\n",
       "        text-align: right;\n",
       "    }\n",
       "</style>\n",
       "<table border=\"1\" class=\"dataframe\">\n",
       "  <thead>\n",
       "    <tr style=\"text-align: right;\">\n",
       "      <th></th>\n",
       "      <th>index</th>\n",
       "      <th>prompt2_df_one</th>\n",
       "      <th>prompt2_df_two</th>\n",
       "      <th>prompt3_df_one</th>\n",
       "      <th>prompt3_df_two</th>\n",
       "      <th>group_one</th>\n",
       "      <th>group_two</th>\n",
       "    </tr>\n",
       "  </thead>\n",
       "  <tbody>\n",
       "    <tr>\n",
       "      <th>0</th>\n",
       "      <td>0</td>\n",
       "      <td>no</td>\n",
       "      <td>yes</td>\n",
       "      <td>female</td>\n",
       "      <td>female</td>\n",
       "      <td>5</td>\n",
       "      <td>2</td>\n",
       "    </tr>\n",
       "    <tr>\n",
       "      <th>1</th>\n",
       "      <td>1</td>\n",
       "      <td>no</td>\n",
       "      <td>no</td>\n",
       "      <td>female</td>\n",
       "      <td>female</td>\n",
       "      <td>5</td>\n",
       "      <td>5</td>\n",
       "    </tr>\n",
       "    <tr>\n",
       "      <th>2</th>\n",
       "      <td>2</td>\n",
       "      <td>yes</td>\n",
       "      <td>yes</td>\n",
       "      <td>female</td>\n",
       "      <td>female</td>\n",
       "      <td>2</td>\n",
       "      <td>2</td>\n",
       "    </tr>\n",
       "    <tr>\n",
       "      <th>3</th>\n",
       "      <td>3</td>\n",
       "      <td>no</td>\n",
       "      <td>no</td>\n",
       "      <td>female</td>\n",
       "      <td>male</td>\n",
       "      <td>5</td>\n",
       "      <td>4</td>\n",
       "    </tr>\n",
       "    <tr>\n",
       "      <th>4</th>\n",
       "      <td>4</td>\n",
       "      <td>no</td>\n",
       "      <td>no</td>\n",
       "      <td>other</td>\n",
       "      <td>female</td>\n",
       "      <td>6</td>\n",
       "      <td>5</td>\n",
       "    </tr>\n",
       "  </tbody>\n",
       "</table>\n",
       "</div>"
      ],
      "text/plain": [
       "   index prompt2_df_one prompt2_df_two prompt3_df_one prompt3_df_two  \\\n",
       "0      0             no            yes         female         female   \n",
       "1      1             no             no         female         female   \n",
       "2      2            yes            yes         female         female   \n",
       "3      3             no             no         female           male   \n",
       "4      4             no             no          other         female   \n",
       "\n",
       "   group_one  group_two  \n",
       "0          5          2  \n",
       "1          5          5  \n",
       "2          2          2  \n",
       "3          5          4  \n",
       "4          6          5  "
      ]
     },
     "execution_count": 5,
     "metadata": {},
     "output_type": "execute_result"
    }
   ],
   "source": [
    "def assign_group1(row, first=True):\n",
    "    if first:\n",
    "        prompt2 = row['prompt2_df_one']\n",
    "        prompt3 = row['prompt3_df_one']\n",
    "    else:\n",
    "        prompt2 = row['prompt2_df_two']\n",
    "        prompt3 = row['prompt3_df_two']\n",
    "    \n",
    "    transition = f\"{prompt2} & {prompt3}\"\n",
    "    \n",
    "    group_mapping = {\n",
    "       'yes & male': 1,\n",
    "       'yes & female': 2,\n",
    "       'yes & other': 3,\n",
    "       'no & male': 4,\n",
    "       'no & female': 5,\n",
    "       'no & other': 6,\n",
    "       'other & male': 7,\n",
    "       'other & female': 8,\n",
    "       'other & other': 9,\n",
    "    }\n",
    "    return group_mapping.get(transition, None)\n",
    "\n",
    "# Apply the function to create the yn_groups column\n",
    "comparison_df['group_one'] = comparison_df.apply(assign_group1, axis=1)\n",
    "comparison_df['group_two'] = comparison_df.apply(assign_group1, axis=1, first=False)\n",
    "comparison_df.head()"
   ]
  },
  {
   "cell_type": "code",
   "execution_count": 6,
   "id": "941fe9d5",
   "metadata": {},
   "outputs": [],
   "source": [
    "# Create reverse mapping for labels\n",
    "reverse_mapping = {\n",
    "    1: 'yes & male',\n",
    "    2: 'yes & female', \n",
    "    3: 'yes & other',\n",
    "    4: 'no & male',\n",
    "    5: 'no & female',\n",
    "    6: 'no & other',\n",
    "    7: 'other & male',\n",
    "    8: 'other & female',\n",
    "    9: 'other & other'\n",
    "}\n",
    "\n",
    "# Create meaningful labels in consistent order with bold formatting\n",
    "pre_labels = [f\"<b>{reverse_mapping[i]}</b>\" for i in range(1, 10)]\n",
    "post_labels = [f\"<b>{reverse_mapping[i]}</b>\" for i in range(1, 10)]\n",
    "all_labels = pre_labels + post_labels\n",
    "\n",
    "# Define academic color scheme - same colors for matching labels\n",
    "base_colors = [\n",
    "    '#1f77b4',  # yes & male - Professional Blue\n",
    "    '#ff7f0e',  # yes & female - Professional Orange\n",
    "    '#2ca02c',  # yes & other - Professional Green\n",
    "    '#d62728',  # no & male - Professional Red\n",
    "    '#9467bd',  # no & female - Professional Purple\n",
    "    '#8c564b',  # no & other - Professional Brown\n",
    "    '#e377c2',  # other & male - Professional Pink\n",
    "    '#7f7f7f',  # other & female - Professional Gray\n",
    "    '#bcbd22'   # other & other - Professional Olive\n",
    "]\n",
    "\n",
    "# Use the same colors for both left and right nodes\n",
    "node_colors = base_colors + base_colors\n",
    "\n",
    "# FIXED: Create aggregated data first, then extract source, target, and values\n",
    "grouped_data = comparison_df.groupby(['group_one', 'group_two']).size().reset_index(name='count')"
   ]
  },
  {
   "cell_type": "code",
   "execution_count": null,
   "id": "fb3816fb",
   "metadata": {},
   "outputs": [
    {
     "data": {
      "application/vnd.plotly.v1+json": {
       "config": {
        "plotlyServerURL": "https://plot.ly"
       },
       "data": [
        {
         "link": {
          "color": [
           "rgba(31, 119, 180, 0.4)",
           "rgba(31, 119, 180, 0.4)",
           "rgba(31, 119, 180, 0.4)",
           "rgba(31, 119, 180, 0.4)",
           "rgba(31, 119, 180, 0.4)",
           "rgba(255, 127, 14, 0.4)",
           "rgba(255, 127, 14, 0.4)",
           "rgba(255, 127, 14, 0.4)",
           "rgba(255, 127, 14, 0.4)",
           "rgba(255, 127, 14, 0.4)",
           "rgba(255, 127, 14, 0.4)",
           "rgba(44, 160, 44, 0.4)",
           "rgba(44, 160, 44, 0.4)",
           "rgba(214, 39, 40, 0.4)",
           "rgba(214, 39, 40, 0.4)",
           "rgba(214, 39, 40, 0.4)",
           "rgba(214, 39, 40, 0.4)",
           "rgba(214, 39, 40, 0.4)",
           "rgba(214, 39, 40, 0.4)",
           "rgba(214, 39, 40, 0.4)",
           "rgba(214, 39, 40, 0.4)",
           "rgba(214, 39, 40, 0.4)",
           "rgba(148, 103, 189, 0.4)",
           "rgba(148, 103, 189, 0.4)",
           "rgba(148, 103, 189, 0.4)",
           "rgba(148, 103, 189, 0.4)",
           "rgba(148, 103, 189, 0.4)",
           "rgba(148, 103, 189, 0.4)",
           "rgba(148, 103, 189, 0.4)",
           "rgba(148, 103, 189, 0.4)",
           "rgba(148, 103, 189, 0.4)",
           "rgba(140, 86, 75, 0.4)",
           "rgba(140, 86, 75, 0.4)",
           "rgba(140, 86, 75, 0.4)",
           "rgba(140, 86, 75, 0.4)",
           "rgba(140, 86, 75, 0.4)",
           "rgba(140, 86, 75, 0.4)",
           "rgba(140, 86, 75, 0.4)",
           "rgba(140, 86, 75, 0.4)",
           "rgba(227, 119, 194, 0.4)",
           "rgba(227, 119, 194, 0.4)",
           "rgba(227, 119, 194, 0.4)",
           "rgba(127, 127, 127, 0.4)",
           "rgba(127, 127, 127, 0.4)",
           "rgba(127, 127, 127, 0.4)",
           "rgba(127, 127, 127, 0.4)",
           "rgba(188, 189, 34, 0.4)"
          ],
          "source": {
           "bdata": "AAAAAAABAQEBAQECAgMDAwMDAwMDAwQEBAQEBAQEBAUFBQUFBQUFBgYGBwcHBwg=",
           "dtype": "i1"
          },
          "target": {
           "bdata": "CQoLDA8JCgsMDRAJCwkKCwwNDg8QEQkKCwwNDg8QEQkKCwwNDhARCQ8RCg0QEQo=",
           "dtype": "i1"
          },
          "value": {
           "bdata": "kwJIAAUAAwAIAG8A4QEGAAMACQAFAAYABwCNAS8ABQCMAB4ACgAFAAEAAQDJAKYCDQCxAcMFNAAGAAkAAQAKAAwABwARAC0ABgABAAEABgAFAAEABgABAAEAAQABAA==",
           "dtype": "i2"
          }
         },
         "node": {
          "color": [
           "#1f77b4",
           "#ff7f0e",
           "#2ca02c",
           "#d62728",
           "#9467bd",
           "#8c564b",
           "#e377c2",
           "#7f7f7f",
           "#bcbd22",
           "#1f77b4",
           "#ff7f0e",
           "#2ca02c",
           "#d62728",
           "#9467bd",
           "#8c564b",
           "#e377c2",
           "#7f7f7f",
           "#bcbd22"
          ],
          "label": [
           "<b>yes & male</b>",
           "<b>yes & female</b>",
           "<b>yes & other</b>",
           "<b>no & male</b>",
           "<b>no & female</b>",
           "<b>no & other</b>",
           "<b>other & male</b>",
           "<b>other & female</b>",
           "<b>other & other</b>",
           "<b>yes & male</b>",
           "<b>yes & female</b>",
           "<b>yes & other</b>",
           "<b>no & male</b>",
           "<b>no & female</b>",
           "<b>no & other</b>",
           "<b>other & male</b>",
           "<b>other & female</b>",
           "<b>other & other</b>"
          ],
          "line": {
           "color": "black",
           "width": 0.5
          },
          "pad": 15,
          "thickness": 20
         },
         "type": "sankey"
        }
       ],
       "layout": {
        "font": {
         "family": "Arial",
         "size": 12
        },
        "paper_bgcolor": "white",
        "plot_bgcolor": "white",
        "template": {
         "data": {
          "bar": [
           {
            "error_x": {
             "color": "#2a3f5f"
            },
            "error_y": {
             "color": "#2a3f5f"
            },
            "marker": {
             "line": {
              "color": "#E5ECF6",
              "width": 0.5
             },
             "pattern": {
              "fillmode": "overlay",
              "size": 10,
              "solidity": 0.2
             }
            },
            "type": "bar"
           }
          ],
          "barpolar": [
           {
            "marker": {
             "line": {
              "color": "#E5ECF6",
              "width": 0.5
             },
             "pattern": {
              "fillmode": "overlay",
              "size": 10,
              "solidity": 0.2
             }
            },
            "type": "barpolar"
           }
          ],
          "carpet": [
           {
            "aaxis": {
             "endlinecolor": "#2a3f5f",
             "gridcolor": "white",
             "linecolor": "white",
             "minorgridcolor": "white",
             "startlinecolor": "#2a3f5f"
            },
            "baxis": {
             "endlinecolor": "#2a3f5f",
             "gridcolor": "white",
             "linecolor": "white",
             "minorgridcolor": "white",
             "startlinecolor": "#2a3f5f"
            },
            "type": "carpet"
           }
          ],
          "choropleth": [
           {
            "colorbar": {
             "outlinewidth": 0,
             "ticks": ""
            },
            "type": "choropleth"
           }
          ],
          "contour": [
           {
            "colorbar": {
             "outlinewidth": 0,
             "ticks": ""
            },
            "colorscale": [
             [
              0,
              "#0d0887"
             ],
             [
              0.1111111111111111,
              "#46039f"
             ],
             [
              0.2222222222222222,
              "#7201a8"
             ],
             [
              0.3333333333333333,
              "#9c179e"
             ],
             [
              0.4444444444444444,
              "#bd3786"
             ],
             [
              0.5555555555555556,
              "#d8576b"
             ],
             [
              0.6666666666666666,
              "#ed7953"
             ],
             [
              0.7777777777777778,
              "#fb9f3a"
             ],
             [
              0.8888888888888888,
              "#fdca26"
             ],
             [
              1,
              "#f0f921"
             ]
            ],
            "type": "contour"
           }
          ],
          "contourcarpet": [
           {
            "colorbar": {
             "outlinewidth": 0,
             "ticks": ""
            },
            "type": "contourcarpet"
           }
          ],
          "heatmap": [
           {
            "colorbar": {
             "outlinewidth": 0,
             "ticks": ""
            },
            "colorscale": [
             [
              0,
              "#0d0887"
             ],
             [
              0.1111111111111111,
              "#46039f"
             ],
             [
              0.2222222222222222,
              "#7201a8"
             ],
             [
              0.3333333333333333,
              "#9c179e"
             ],
             [
              0.4444444444444444,
              "#bd3786"
             ],
             [
              0.5555555555555556,
              "#d8576b"
             ],
             [
              0.6666666666666666,
              "#ed7953"
             ],
             [
              0.7777777777777778,
              "#fb9f3a"
             ],
             [
              0.8888888888888888,
              "#fdca26"
             ],
             [
              1,
              "#f0f921"
             ]
            ],
            "type": "heatmap"
           }
          ],
          "histogram": [
           {
            "marker": {
             "pattern": {
              "fillmode": "overlay",
              "size": 10,
              "solidity": 0.2
             }
            },
            "type": "histogram"
           }
          ],
          "histogram2d": [
           {
            "colorbar": {
             "outlinewidth": 0,
             "ticks": ""
            },
            "colorscale": [
             [
              0,
              "#0d0887"
             ],
             [
              0.1111111111111111,
              "#46039f"
             ],
             [
              0.2222222222222222,
              "#7201a8"
             ],
             [
              0.3333333333333333,
              "#9c179e"
             ],
             [
              0.4444444444444444,
              "#bd3786"
             ],
             [
              0.5555555555555556,
              "#d8576b"
             ],
             [
              0.6666666666666666,
              "#ed7953"
             ],
             [
              0.7777777777777778,
              "#fb9f3a"
             ],
             [
              0.8888888888888888,
              "#fdca26"
             ],
             [
              1,
              "#f0f921"
             ]
            ],
            "type": "histogram2d"
           }
          ],
          "histogram2dcontour": [
           {
            "colorbar": {
             "outlinewidth": 0,
             "ticks": ""
            },
            "colorscale": [
             [
              0,
              "#0d0887"
             ],
             [
              0.1111111111111111,
              "#46039f"
             ],
             [
              0.2222222222222222,
              "#7201a8"
             ],
             [
              0.3333333333333333,
              "#9c179e"
             ],
             [
              0.4444444444444444,
              "#bd3786"
             ],
             [
              0.5555555555555556,
              "#d8576b"
             ],
             [
              0.6666666666666666,
              "#ed7953"
             ],
             [
              0.7777777777777778,
              "#fb9f3a"
             ],
             [
              0.8888888888888888,
              "#fdca26"
             ],
             [
              1,
              "#f0f921"
             ]
            ],
            "type": "histogram2dcontour"
           }
          ],
          "mesh3d": [
           {
            "colorbar": {
             "outlinewidth": 0,
             "ticks": ""
            },
            "type": "mesh3d"
           }
          ],
          "parcoords": [
           {
            "line": {
             "colorbar": {
              "outlinewidth": 0,
              "ticks": ""
             }
            },
            "type": "parcoords"
           }
          ],
          "pie": [
           {
            "automargin": true,
            "type": "pie"
           }
          ],
          "scatter": [
           {
            "fillpattern": {
             "fillmode": "overlay",
             "size": 10,
             "solidity": 0.2
            },
            "type": "scatter"
           }
          ],
          "scatter3d": [
           {
            "line": {
             "colorbar": {
              "outlinewidth": 0,
              "ticks": ""
             }
            },
            "marker": {
             "colorbar": {
              "outlinewidth": 0,
              "ticks": ""
             }
            },
            "type": "scatter3d"
           }
          ],
          "scattercarpet": [
           {
            "marker": {
             "colorbar": {
              "outlinewidth": 0,
              "ticks": ""
             }
            },
            "type": "scattercarpet"
           }
          ],
          "scattergeo": [
           {
            "marker": {
             "colorbar": {
              "outlinewidth": 0,
              "ticks": ""
             }
            },
            "type": "scattergeo"
           }
          ],
          "scattergl": [
           {
            "marker": {
             "colorbar": {
              "outlinewidth": 0,
              "ticks": ""
             }
            },
            "type": "scattergl"
           }
          ],
          "scattermap": [
           {
            "marker": {
             "colorbar": {
              "outlinewidth": 0,
              "ticks": ""
             }
            },
            "type": "scattermap"
           }
          ],
          "scattermapbox": [
           {
            "marker": {
             "colorbar": {
              "outlinewidth": 0,
              "ticks": ""
             }
            },
            "type": "scattermapbox"
           }
          ],
          "scatterpolar": [
           {
            "marker": {
             "colorbar": {
              "outlinewidth": 0,
              "ticks": ""
             }
            },
            "type": "scatterpolar"
           }
          ],
          "scatterpolargl": [
           {
            "marker": {
             "colorbar": {
              "outlinewidth": 0,
              "ticks": ""
             }
            },
            "type": "scatterpolargl"
           }
          ],
          "scatterternary": [
           {
            "marker": {
             "colorbar": {
              "outlinewidth": 0,
              "ticks": ""
             }
            },
            "type": "scatterternary"
           }
          ],
          "surface": [
           {
            "colorbar": {
             "outlinewidth": 0,
             "ticks": ""
            },
            "colorscale": [
             [
              0,
              "#0d0887"
             ],
             [
              0.1111111111111111,
              "#46039f"
             ],
             [
              0.2222222222222222,
              "#7201a8"
             ],
             [
              0.3333333333333333,
              "#9c179e"
             ],
             [
              0.4444444444444444,
              "#bd3786"
             ],
             [
              0.5555555555555556,
              "#d8576b"
             ],
             [
              0.6666666666666666,
              "#ed7953"
             ],
             [
              0.7777777777777778,
              "#fb9f3a"
             ],
             [
              0.8888888888888888,
              "#fdca26"
             ],
             [
              1,
              "#f0f921"
             ]
            ],
            "type": "surface"
           }
          ],
          "table": [
           {
            "cells": {
             "fill": {
              "color": "#EBF0F8"
             },
             "line": {
              "color": "white"
             }
            },
            "header": {
             "fill": {
              "color": "#C8D4E3"
             },
             "line": {
              "color": "white"
             }
            },
            "type": "table"
           }
          ]
         },
         "layout": {
          "annotationdefaults": {
           "arrowcolor": "#2a3f5f",
           "arrowhead": 0,
           "arrowwidth": 1
          },
          "autotypenumbers": "strict",
          "coloraxis": {
           "colorbar": {
            "outlinewidth": 0,
            "ticks": ""
           }
          },
          "colorscale": {
           "diverging": [
            [
             0,
             "#8e0152"
            ],
            [
             0.1,
             "#c51b7d"
            ],
            [
             0.2,
             "#de77ae"
            ],
            [
             0.3,
             "#f1b6da"
            ],
            [
             0.4,
             "#fde0ef"
            ],
            [
             0.5,
             "#f7f7f7"
            ],
            [
             0.6,
             "#e6f5d0"
            ],
            [
             0.7,
             "#b8e186"
            ],
            [
             0.8,
             "#7fbc41"
            ],
            [
             0.9,
             "#4d9221"
            ],
            [
             1,
             "#276419"
            ]
           ],
           "sequential": [
            [
             0,
             "#0d0887"
            ],
            [
             0.1111111111111111,
             "#46039f"
            ],
            [
             0.2222222222222222,
             "#7201a8"
            ],
            [
             0.3333333333333333,
             "#9c179e"
            ],
            [
             0.4444444444444444,
             "#bd3786"
            ],
            [
             0.5555555555555556,
             "#d8576b"
            ],
            [
             0.6666666666666666,
             "#ed7953"
            ],
            [
             0.7777777777777778,
             "#fb9f3a"
            ],
            [
             0.8888888888888888,
             "#fdca26"
            ],
            [
             1,
             "#f0f921"
            ]
           ],
           "sequentialminus": [
            [
             0,
             "#0d0887"
            ],
            [
             0.1111111111111111,
             "#46039f"
            ],
            [
             0.2222222222222222,
             "#7201a8"
            ],
            [
             0.3333333333333333,
             "#9c179e"
            ],
            [
             0.4444444444444444,
             "#bd3786"
            ],
            [
             0.5555555555555556,
             "#d8576b"
            ],
            [
             0.6666666666666666,
             "#ed7953"
            ],
            [
             0.7777777777777778,
             "#fb9f3a"
            ],
            [
             0.8888888888888888,
             "#fdca26"
            ],
            [
             1,
             "#f0f921"
            ]
           ]
          },
          "colorway": [
           "#636efa",
           "#EF553B",
           "#00cc96",
           "#ab63fa",
           "#FFA15A",
           "#19d3f3",
           "#FF6692",
           "#B6E880",
           "#FF97FF",
           "#FECB52"
          ],
          "font": {
           "color": "#2a3f5f"
          },
          "geo": {
           "bgcolor": "white",
           "lakecolor": "white",
           "landcolor": "#E5ECF6",
           "showlakes": true,
           "showland": true,
           "subunitcolor": "white"
          },
          "hoverlabel": {
           "align": "left"
          },
          "hovermode": "closest",
          "mapbox": {
           "style": "light"
          },
          "paper_bgcolor": "white",
          "plot_bgcolor": "#E5ECF6",
          "polar": {
           "angularaxis": {
            "gridcolor": "white",
            "linecolor": "white",
            "ticks": ""
           },
           "bgcolor": "#E5ECF6",
           "radialaxis": {
            "gridcolor": "white",
            "linecolor": "white",
            "ticks": ""
           }
          },
          "scene": {
           "xaxis": {
            "backgroundcolor": "#E5ECF6",
            "gridcolor": "white",
            "gridwidth": 2,
            "linecolor": "white",
            "showbackground": true,
            "ticks": "",
            "zerolinecolor": "white"
           },
           "yaxis": {
            "backgroundcolor": "#E5ECF6",
            "gridcolor": "white",
            "gridwidth": 2,
            "linecolor": "white",
            "showbackground": true,
            "ticks": "",
            "zerolinecolor": "white"
           },
           "zaxis": {
            "backgroundcolor": "#E5ECF6",
            "gridcolor": "white",
            "gridwidth": 2,
            "linecolor": "white",
            "showbackground": true,
            "ticks": "",
            "zerolinecolor": "white"
           }
          },
          "shapedefaults": {
           "line": {
            "color": "#2a3f5f"
           }
          },
          "ternary": {
           "aaxis": {
            "gridcolor": "white",
            "linecolor": "white",
            "ticks": ""
           },
           "baxis": {
            "gridcolor": "white",
            "linecolor": "white",
            "ticks": ""
           },
           "bgcolor": "#E5ECF6",
           "caxis": {
            "gridcolor": "white",
            "linecolor": "white",
            "ticks": ""
           }
          },
          "title": {
           "x": 0.05
          },
          "xaxis": {
           "automargin": true,
           "gridcolor": "white",
           "linecolor": "white",
           "ticks": "",
           "title": {
            "standoff": 15
           },
           "zerolinecolor": "white",
           "zerolinewidth": 2
          },
          "yaxis": {
           "automargin": true,
           "gridcolor": "white",
           "linecolor": "white",
           "ticks": "",
           "title": {
            "standoff": 15
           },
           "zerolinecolor": "white",
           "zerolinewidth": 2
          }
         }
        },
        "title": {
         "text": "SmolVLM 256M Baseline to RLAIF Response Transition Analysis"
        }
       }
      }
     },
     "metadata": {},
     "output_type": "display_data"
    },
    {
     "ename": "",
     "evalue": "",
     "output_type": "error",
     "traceback": [
      "\u001b[1;31mThe Kernel crashed while executing code in the current cell or a previous cell. \n",
      "\u001b[1;31mPlease review the code in the cell(s) to identify a possible cause of the failure. \n",
      "\u001b[1;31mClick <a href='https://aka.ms/vscodeJupyterKernelCrash'>here</a> for more info. \n",
      "\u001b[1;31mView Jupyter <a href='command:jupyter.viewOutput'>log</a> for further details."
     ]
    }
   ],
   "source": [
    "# Now create aligned arrays\n",
    "source = grouped_data['group_one'].values - 1  # Convert to 0-based indexing\n",
    "target = grouped_data['group_two'].values + 8  # Offset targets to positions 9-17\n",
    "value = grouped_data['count'].values\n",
    "\n",
    "# Create link colors based on source nodes\n",
    "link_colors = []\n",
    "for src in source:\n",
    "    color = node_colors[src]\n",
    "    # Convert hex to rgba with transparency\n",
    "    if color.startswith('#'):\n",
    "        hex_color = color[1:]\n",
    "        rgb = tuple(int(hex_color[i:i+2], 16) for i in (0, 2, 4))\n",
    "        link_colors.append(f'rgba({rgb[0]}, {rgb[1]}, {rgb[2]}, 0.4)')\n",
    "\n",
    "fig = go.Figure(data=[go.Sankey(\n",
    "    node = dict(\n",
    "        pad = 15,\n",
    "        thickness = 20,\n",
    "        line = dict(color = \"black\", width = 0.5),\n",
    "        label = all_labels,\n",
    "        color = node_colors\n",
    "    ),\n",
    "    link = dict(\n",
    "        source = source,\n",
    "        target = target,\n",
    "        value = value,\n",
    "        color = link_colors\n",
    "    )\n",
    ")])\n",
    "\n",
    "# Update layout for better appearance\n",
    "fig.update_layout(\n",
    "    title=\"SmolVLM 256M Baseline to RLAIF Response Transition Analysis\",\n",
    "    font_size=12,\n",
    "    font_family=\"Arial\",\n",
    "    plot_bgcolor='white',\n",
    "    paper_bgcolor='white'\n",
    ")\n",
    "\n",
    "fig.show()"
   ]
  },
  {
   "cell_type": "code",
   "execution_count": null,
   "id": "b43d22a8",
   "metadata": {},
   "outputs": [],
   "source": []
  }
 ],
 "metadata": {
  "kernelspec": {
   "display_name": ".venv",
   "language": "python",
   "name": "python3"
  },
  "language_info": {
   "codemirror_mode": {
    "name": "ipython",
    "version": 3
   },
   "file_extension": ".py",
   "mimetype": "text/x-python",
   "name": "python",
   "nbconvert_exporter": "python",
   "pygments_lexer": "ipython3",
   "version": "3.10.10"
  }
 },
 "nbformat": 4,
 "nbformat_minor": 5
}
