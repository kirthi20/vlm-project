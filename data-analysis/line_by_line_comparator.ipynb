{
 "cells": [
  {
   "cell_type": "code",
   "execution_count": null,
   "id": "649a4076",
   "metadata": {},
   "outputs": [],
   "source": [
    "import pandas as pd\n",
    "\n",
    "# Read TSV file into DataFrame\n",
    "df_one = pd.read_csv('../data/smolvlm_m2_baseline.tsv', sep='\\t')\n",
    "df_two = pd.read_csv('../data/smolvlm_m2_t1_results_0_to_5000.tsv', sep='\\t')\n",
    "\n",
    "# Display basic info about the DataFrame\n",
    "print(f\"Shape: {df_one.shape}\")\n",
    "print(f\"Columns: {list(df_one.columns)}\")\n",
    "print(\"\\nFirst few rows:\")\n",
    "display(df_one.head())\n",
    "\n",
    "print(f\"Shape: {df_two.shape}\")\n",
    "print(f\"Columns: {list(df_two.columns)}\")\n",
    "print(\"\\nFirst few rows:\")\n",
    "display(df_two.head())"
   ]
  },
  {
   "cell_type": "code",
   "execution_count": null,
   "id": "5fe034ae",
   "metadata": {},
   "outputs": [],
   "source": [
    "# Create a boolean mask for rows where prompt2 or prompt3 differ\n",
    "mask = (df_one['prompt2'] != df_two['prompt2']) | (df_one['prompt3'] != df_two['prompt3'])\n",
    "\n",
    "# Filter both dataframes to get only the differing rows\n",
    "df_one_filtered = df_one[mask]\n",
    "df_two_filtered = df_two[mask]\n",
    "\n",
    "# Optional: Create a comparison dataframe to see the differences side by side\n",
    "comparison_df = pd.DataFrame({\n",
    "    'index': df_one[mask].index,\n",
    "    'prompt2_df_one': df_one_filtered['prompt2'],\n",
    "    'prompt2_df_two': df_two_filtered['prompt2'],\n",
    "    'prompt3_df_one': df_one_filtered['prompt3'],\n",
    "    'prompt3_df_two': df_two_filtered['prompt3']\n",
    "})\n",
    "\n",
    "print(f\"Found {len(df_one_filtered)} rows with differences\")\n",
    "print(\"\\nComparison of differing rows:\")\n",
    "display(comparison_df)"
   ]
  },
  {
   "cell_type": "code",
   "execution_count": null,
   "id": "996dbc8c",
   "metadata": {},
   "outputs": [],
   "source": [
    "# Read all labels\n",
    "with open('../data/labels/yes_labels.txt', 'r') as file:\n",
    "    yes_labels = [line.strip() for line in file.readlines()]\n",
    "\n",
    "with open('../data/labels/no_labels.txt', 'r') as file:\n",
    "    no_labels = [line.strip() for line in file.readlines()]\n",
    "\n",
    "with open('../data/labels/other_labels_yn.txt', 'r') as file:\n",
    "    other_labels_yn = [line.strip() for line in file.readlines()]\n",
    "\n",
    "with open('../data/labels/male_labels.txt', 'r') as file:\n",
    "    male_labels = [line.strip() for line in file.readlines()]\n",
    "\n",
    "with open('../data/labels/female_labels.txt', 'r') as file:\n",
    "    female_labels = [line.strip() for line in file.readlines()]\n",
    "\n",
    "with open('../data/labels/other_labels_mf.txt', 'r') as file:\n",
    "    other_labels_mf = [line.strip() for line in file.readlines()]"
   ]
  },
  {
   "cell_type": "code",
   "execution_count": null,
   "id": "5c9b3b68",
   "metadata": {},
   "outputs": [],
   "source": [
    "def replace_label(prompt_text, yn=True):\n",
    "    if yn:\n",
    "        if prompt_text in yes_labels:\n",
    "             return 'yes'\n",
    "        elif prompt_text in no_labels:\n",
    "            return 'no'\n",
    "        elif prompt_text in other_labels_yn:\n",
    "            return 'other'\n",
    "        else:\n",
    "            print(f\"ALERT: {prompt_text} not found in yes/no labels\")\n",
    "            return prompt_text\n",
    "    else:\n",
    "        if prompt_text in male_labels:\n",
    "             return 'male'\n",
    "        elif prompt_text in female_labels:\n",
    "            return 'female'\n",
    "        elif prompt_text in other_labels_mf:\n",
    "            return 'other'\n",
    "        else:\n",
    "            print(f\"ALERT: {prompt_text} not found in male/female labels\")\n",
    "            return prompt_text\n",
    "\n",
    "# Apply the function to replace labels\n",
    "comparison_df['prompt2_df_one'] = comparison_df['prompt2_df_one'].apply(replace_label)"
   ]
  },
  {
   "cell_type": "code",
   "execution_count": null,
   "id": "caf5aa3f",
   "metadata": {},
   "outputs": [],
   "source": [
    "comparison_df['prompt2_df_two'] = comparison_df['prompt2_df_two'].apply(replace_label)\n",
    "comparison_df['prompt3_df_one'] = comparison_df['prompt3_df_one'].apply(replace_label, yn=False)\n",
    "comparison_df['prompt3_df_two'] = comparison_df['prompt3_df_two'].apply(replace_label, yn=False)"
   ]
  },
  {
   "cell_type": "code",
   "execution_count": null,
   "id": "4f600e7e",
   "metadata": {},
   "outputs": [],
   "source": [
    "comparison_df.head()"
   ]
  },
  {
   "cell_type": "code",
   "execution_count": null,
   "id": "5fb1e132",
   "metadata": {},
   "outputs": [],
   "source": [
    "def assign_yn_group(row):\n",
    "   prompt2_one = row['prompt2_df_one']\n",
    "   prompt2_two = row['prompt2_df_two']\n",
    "   \n",
    "   transition = f\"{prompt2_one} → {prompt2_two}\"\n",
    "   \n",
    "   group_mapping = {\n",
    "       'no → no': 1,\n",
    "       'yes → yes': 2,\n",
    "       'other → other': 3,\n",
    "       'no → yes': 4,\n",
    "       'no → other': 5,\n",
    "       'yes → no': 6,\n",
    "       'yes → other': 7,\n",
    "       'other → yes': 8,\n",
    "       'other → no': 9\n",
    "   }\n",
    "   \n",
    "   return group_mapping.get(transition, None)\n",
    "\n",
    "# Apply the function to create the yn_groups column\n",
    "comparison_df['yn_groups'] = comparison_df.apply(assign_yn_group, axis=1)\n",
    "comparison_df.head()"
   ]
  },
  {
   "cell_type": "code",
   "execution_count": null,
   "id": "a9590139",
   "metadata": {},
   "outputs": [],
   "source": [
    "def assign_gender_group(row):\n",
    "   prompt3_one = row['prompt3_df_one']\n",
    "   prompt3_two = row['prompt3_df_two']\n",
    "   \n",
    "   transition = f\"{prompt3_one} → {prompt3_two}\"\n",
    "   \n",
    "   group_mapping = {\n",
    "       'female → female': 1,\n",
    "       'male → male': 2,\n",
    "       'other → other': 3,\n",
    "       'female → male': 4,\n",
    "       'female → other': 5,\n",
    "       'male → female': 6,\n",
    "       'male → other': 7,\n",
    "       'other → male': 8,\n",
    "       'other → female': 9\n",
    "   }\n",
    "   \n",
    "   return group_mapping.get(transition, None)\n",
    "\n",
    "# Apply the function to create the mf_groups column\n",
    "comparison_df['mf_groups'] = comparison_df.apply(assign_gender_group, axis=1)\n",
    "comparison_df.head()"
   ]
  },
  {
   "cell_type": "code",
   "execution_count": null,
   "id": "84893de9",
   "metadata": {},
   "outputs": [],
   "source": [
    "def convert_yn_group_back(group_num):\n",
    "   yn_mapping = {\n",
    "       1: 'no → no',\n",
    "       2: 'yes → yes', \n",
    "       3: 'other → other',\n",
    "       4: 'no → yes',\n",
    "       5: 'no → other',\n",
    "       6: 'yes → no',\n",
    "       7: 'yes → other',\n",
    "       8: 'other → yes',\n",
    "       9: 'other → no'\n",
    "   }\n",
    "   return yn_mapping.get(group_num, group_num)\n",
    "\n",
    "def convert_mf_group_back(group_num):\n",
    "   mf_mapping = {\n",
    "       1: 'female → female',\n",
    "       2: 'male → male',\n",
    "       3: 'other → other', \n",
    "       4: 'female → male',\n",
    "       5: 'female → other',\n",
    "       6: 'male → female',\n",
    "       7: 'male → other',\n",
    "       8: 'other → male',\n",
    "       9: 'other → female'\n",
    "   }\n",
    "   return mf_mapping.get(group_num, group_num)"
   ]
  },
  {
   "cell_type": "code",
   "execution_count": null,
   "id": "1f502cb7",
   "metadata": {},
   "outputs": [
    {
     "ename": "",
     "evalue": "",
     "output_type": "error",
     "traceback": [
      "\u001b[1;31mThe Kernel crashed while executing code in the current cell or a previous cell. \n",
      "\u001b[1;31mPlease review the code in the cell(s) to identify a possible cause of the failure. \n",
      "\u001b[1;31mClick <a href='https://aka.ms/vscodeJupyterKernelCrash'>here</a> for more info. \n",
      "\u001b[1;31mView Jupyter <a href='command:jupyter.viewOutput'>log</a> for further details."
     ]
    }
   ],
   "source": [
    "# Create the pairing and get frequency counts\n",
    "pairing_counts = comparison_df.groupby(['yn_groups', 'mf_groups']).size().reset_index(name='count')\n",
    "\n",
    "# comparison_df = comparison_df[\n",
    "#    (~comparison_df['yn_groups'].isin([1, 2, 3])) & \n",
    "#    (~comparison_df['mf_groups'].isin([1, 2, 3]))\n",
    "# ]\n",
    "\n",
    "# Or if you prefer a more compact view, you can use value_counts\n",
    "pairing_frequency = comparison_df[['yn_groups', 'mf_groups']].value_counts().reset_index(name='count')\n",
    "\n",
    "# Convert back to readable labels\n",
    "pairing_frequency['yn_groups'] = pairing_frequency['yn_groups'].apply(convert_yn_group_back)\n",
    "pairing_frequency['mf_groups'] = pairing_frequency['mf_groups'].apply(convert_mf_group_back)\n",
    "\n",
    "print(pairing_frequency)"
   ]
  }
 ],
 "metadata": {
  "kernelspec": {
   "display_name": ".venv",
   "language": "python",
   "name": "python3"
  },
  "language_info": {
   "codemirror_mode": {
    "name": "ipython",
    "version": 3
   },
   "file_extension": ".py",
   "mimetype": "text/x-python",
   "name": "python",
   "nbconvert_exporter": "python",
   "pygments_lexer": "ipython3",
   "version": "3.10.10"
  }
 },
 "nbformat": 4,
 "nbformat_minor": 5
}
