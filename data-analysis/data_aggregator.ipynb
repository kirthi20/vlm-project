{
 "cells": [
  {
   "cell_type": "code",
   "execution_count": null,
   "metadata": {},
   "outputs": [],
   "source": [
    "import pandas as pd\n",
    "\n",
    "# Read TSV file into DataFrame\n",
    "df = pd.read_csv('../data/smolvlm_m2_sft_results_0_to_5000.tsv', sep='\\t')\n",
    "\n",
    "# chunk_list = []\n",
    "# chunk_size = 1000\n",
    "\n",
    "# try:\n",
    "#     for i, chunk in enumerate(pd.read_csv('../data/smolvlm_m2_t2_results_0_to_5000.tsv', \n",
    "#                                          sep='\\t', \n",
    "#                                          chunksize=chunk_size,\n",
    "#                                          on_bad_lines='skip')):\n",
    "#         print(f\"Successfully read chunk {i}\")\n",
    "#         chunk_list.append(chunk)\n",
    "# except Exception as e:\n",
    "#     print(f\"Error at chunk {i}: {e}\")\n",
    "    \n",
    "# df = pd.concat(chunk_list, ignore_index=True) if chunk_list else None\n",
    "\n",
    "# Display basic info about the DataFrame\n",
    "print(f\"Shape: {df.shape}\")\n",
    "print(f\"Columns: {list(df.columns)}\")\n",
    "print(\"\\nFirst few rows:\")\n",
    "display(df.head())"
   ]
  },
  {
   "cell_type": "code",
   "execution_count": null,
   "metadata": {},
   "outputs": [],
   "source": []
  },
  {
   "cell_type": "code",
   "execution_count": null,
   "metadata": {},
   "outputs": [],
   "source": [
    "df[['prompt2', 'prompt3']].value_counts(dropna=False)"
   ]
  },
  {
   "cell_type": "code",
   "execution_count": null,
   "metadata": {},
   "outputs": [],
   "source": [
    "df[['prompt2', 'prompt4']].value_counts(dropna=False)"
   ]
  },
  {
   "cell_type": "code",
   "execution_count": null,
   "metadata": {},
   "outputs": [],
   "source": [
    "# count the number of 'Female' vs 'Male' in the prompt6 column\n",
    "\n",
    "df['prompt3'].value_counts(dropna=False)\n"
   ]
  },
  {
   "cell_type": "code",
   "execution_count": null,
   "metadata": {},
   "outputs": [],
   "source": [
    "# count the number of 'Female' vs 'Male' in prompt6 vs prompt4\n",
    "df.groupby(['prompt2', 'prompt3']).size().unstack(fill_value=0)\n",
    "\n",
    "# Female - No: 11\n",
    "# Male - No: 6\n",
    "# Female - Yes: 8\n",
    "# Male - Yes: 4"
   ]
  },
  {
   "cell_type": "code",
   "execution_count": null,
   "metadata": {},
   "outputs": [],
   "source": []
  }
 ],
 "metadata": {
  "kernelspec": {
   "display_name": ".venv",
   "language": "python",
   "name": "python3"
  },
  "language_info": {
   "codemirror_mode": {
    "name": "ipython",
    "version": 3
   },
   "file_extension": ".py",
   "mimetype": "text/x-python",
   "name": "python",
   "nbconvert_exporter": "python",
   "pygments_lexer": "ipython3",
   "version": "3.10.10"
  }
 },
 "nbformat": 4,
 "nbformat_minor": 2
}
