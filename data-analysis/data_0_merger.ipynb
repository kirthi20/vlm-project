{
 "cells": [
  {
   "cell_type": "code",
   "execution_count": null,
   "id": "fec78c3f",
   "metadata": {},
   "outputs": [],
   "source": [
    "import pandas as pd\n",
    "\n",
    "# Method 1: If your datasets are in separate TSV files\n",
    "def stack_tsv_files(file_paths, output_path):\n",
    "    \"\"\"\n",
    "    Stack multiple TSV files with the same structure\n",
    "    \n",
    "    Args:\n",
    "        file_paths: List of file paths to TSV files\n",
    "        output_path: Path where to save the combined dataset\n",
    "    \"\"\"\n",
    "    dataframes = []\n",
    "    \n",
    "    # Read each TSV file (tab-separated)\n",
    "    for file_path in file_paths:\n",
    "        df = pd.read_csv(file_path, sep='\\t')\n",
    "        dataframes.append(df)\n",
    "    \n",
    "    # Stack all dataframes vertically\n",
    "    combined_df = pd.concat(dataframes, ignore_index=True)\n",
    "    \n",
    "    # Save to new file (as TSV or CSV)\n",
    "    if output_path.endswith('.tsv'):\n",
    "        combined_df.to_csv(output_path, sep='\\t', index=False)\n",
    "    else:\n",
    "        combined_df.to_csv(output_path, index=False)\n",
    "    print(f\"Combined dataset saved to {output_path}\")\n",
    "    print(f\"Total rows: {len(combined_df)}\")\n",
    "    return combined_df"
   ]
  },
  {
   "cell_type": "code",
   "execution_count": null,
   "id": "38dca906",
   "metadata": {},
   "outputs": [],
   "source": [
    "file_paths = [\n",
    "    '../data/raw_tsv_files/smolvlm_m2_vti_results_0_to_2500.tsv',\n",
    "    '../data/raw_tsv_files/smolvlm_m2_vti_results_2500_to_5000.tsv',\n",
    "]\n",
    "combined_data = stack_tsv_files(file_paths, 'smolvlm_m2_vti.tsv')"
   ]
  },
  {
   "cell_type": "code",
   "execution_count": null,
   "id": "05723904",
   "metadata": {},
   "outputs": [],
   "source": [
    "# Optional: Preview the result\n",
    "print(\"\\nFirst few rows of combined dataset:\")\n",
    "print(combined_data.head())\n",
    "print(f\"\\nDataset shape: {combined_data.shape}\")\n",
    "print(f\"Columns: {list(combined_data.columns)}\")\n",
    "\n",
    "# Optional: Check for any issues\n",
    "print(f\"\\nMissing values per column:\")\n",
    "print(combined_data.isnull().sum())"
   ]
  }
 ],
 "metadata": {
  "kernelspec": {
   "display_name": ".venv",
   "language": "python",
   "name": "python3"
  },
  "language_info": {
   "codemirror_mode": {
    "name": "ipython",
    "version": 3
   },
   "file_extension": ".py",
   "mimetype": "text/x-python",
   "name": "python",
   "nbconvert_exporter": "python",
   "pygments_lexer": "ipython3",
   "version": "3.10.10"
  }
 },
 "nbformat": 4,
 "nbformat_minor": 5
}
