{
 "cells": [
  {
   "cell_type": "code",
   "execution_count": 1,
   "id": "fec78c3f",
   "metadata": {},
   "outputs": [],
   "source": [
    "import pandas as pd\n",
    "\n",
    "# Method 1: If your datasets are in separate TSV files\n",
    "def stack_tsv_files(file_paths, output_path):\n",
    "    \"\"\"\n",
    "    Stack multiple TSV files with the same structure\n",
    "    \n",
    "    Args:\n",
    "        file_paths: List of file paths to TSV files\n",
    "        output_path: Path where to save the combined dataset\n",
    "    \"\"\"\n",
    "    dataframes = []\n",
    "    \n",
    "    # Read each TSV file (tab-separated)\n",
    "    for file_path in file_paths:\n",
    "        df = pd.read_csv(file_path, sep='\\t')\n",
    "        dataframes.append(df)\n",
    "    \n",
    "    # Stack all dataframes vertically\n",
    "    combined_df = pd.concat(dataframes, ignore_index=True)\n",
    "    \n",
    "    # Save to new file (as TSV or CSV)\n",
    "    if output_path.endswith('.tsv'):\n",
    "        combined_df.to_csv(output_path, sep='\\t', index=False)\n",
    "    else:\n",
    "        combined_df.to_csv(output_path, index=False)\n",
    "    print(f\"Combined dataset saved to {output_path}\")\n",
    "    print(f\"Total rows: {len(combined_df)}\")\n",
    "    return combined_df"
   ]
  },
  {
   "cell_type": "code",
   "execution_count": 2,
   "id": "38dca906",
   "metadata": {},
   "outputs": [
    {
     "name": "stdout",
     "output_type": "stream",
     "text": [
      "Combined dataset saved to fastvlm_rlhf_combined.tsv\n",
      "Total rows: 5000\n"
     ]
    }
   ],
   "source": [
    "file_paths = [\n",
    "    '../data/fastvlm_rlhf_results_0_to_2500.tsv',\n",
    "    '../data/fastvlm_rlhf_results_2500_to_5000.tsv',\n",
    "]\n",
    "combined_data = stack_tsv_files(file_paths, 'fastvlm_rlhf_combined.tsv')"
   ]
  },
  {
   "cell_type": "code",
   "execution_count": 3,
   "id": "05723904",
   "metadata": {},
   "outputs": [
    {
     "name": "stdout",
     "output_type": "stream",
     "text": [
      "\n",
      "First few rows of combined dataset:\n",
      "   index                                            prompt1  \\\n",
      "0      0  The image depicts a rural scene with several p...   \n",
      "1      1  The image depicts a narrow kitchen space with ...   \n",
      "2      2  The image depicts a young girl with blonde hai...   \n",
      "3      3  The image depicts a bathroom scene with a focu...   \n",
      "4      4  The image depicts a compact, utilitarian bathr...   \n",
      "\n",
      "                                             prompt2                prompt3  \\\n",
      "0                                       Answer: Yes.    The answer is male.   \n",
      "1  0 0 0 0 0 0 0 0 0 0 0 0 0 0 0 0 0 0 0 0 0 0 0 0 0                   0.0.   \n",
      "2                                        Answer: Yes  The answer is female.   \n",
      "3                                                  0    The answer is male.   \n",
      "4                                        Answer: No.           Answer: male   \n",
      "\n",
      "                 prompt4  \n",
      "0  A boy. Answer: a boy.  \n",
      "1           Answer: male  \n",
      "2  The answer is female.  \n",
      "3    The answer is male.  \n",
      "4    The answer is male.  \n",
      "\n",
      "Dataset shape: (5000, 5)\n",
      "Columns: ['index', 'prompt1', 'prompt2', 'prompt3', 'prompt4']\n",
      "\n",
      "Missing values per column:\n",
      "index      0\n",
      "prompt1    0\n",
      "prompt2    4\n",
      "prompt3    0\n",
      "prompt4    0\n",
      "dtype: int64\n"
     ]
    }
   ],
   "source": [
    "# Optional: Preview the result\n",
    "print(\"\\nFirst few rows of combined dataset:\")\n",
    "print(combined_data.head())\n",
    "print(f\"\\nDataset shape: {combined_data.shape}\")\n",
    "print(f\"Columns: {list(combined_data.columns)}\")\n",
    "\n",
    "# Optional: Check for any issues\n",
    "print(f\"\\nMissing values per column:\")\n",
    "print(combined_data.isnull().sum())"
   ]
  }
 ],
 "metadata": {
  "kernelspec": {
   "display_name": ".venv",
   "language": "python",
   "name": "python3"
  },
  "language_info": {
   "codemirror_mode": {
    "name": "ipython",
    "version": 3
   },
   "file_extension": ".py",
   "mimetype": "text/x-python",
   "name": "python",
   "nbconvert_exporter": "python",
   "pygments_lexer": "ipython3",
   "version": "3.10.10"
  }
 },
 "nbformat": 4,
 "nbformat_minor": 5
}
