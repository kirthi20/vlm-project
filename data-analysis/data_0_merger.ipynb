{
 "cells": [
  {
   "cell_type": "code",
   "execution_count": 8,
   "id": "fec78c3f",
   "metadata": {},
   "outputs": [],
   "source": [
    "import pandas as pd\n",
    "\n",
    "# Method 1: If your datasets are in separate TSV files\n",
    "def stack_tsv_files(file_paths, output_path):\n",
    "    \"\"\"\n",
    "    Stack multiple TSV files with the same structure\n",
    "    \n",
    "    Args:\n",
    "        file_paths: List of file paths to TSV files\n",
    "        output_path: Path where to save the combined dataset\n",
    "    \"\"\"\n",
    "    dataframes = []\n",
    "    \n",
    "    # Read each TSV file (tab-separated)\n",
    "    for file_path in file_paths:\n",
    "        df = pd.read_csv(file_path, sep='\\t')\n",
    "        dataframes.append(df)\n",
    "    \n",
    "    # Stack all dataframes vertically\n",
    "    combined_df = pd.concat(dataframes, ignore_index=True)\n",
    "    \n",
    "    # Save to new file (as TSV or CSV)\n",
    "    if output_path.endswith('.tsv'):\n",
    "        combined_df.to_csv(output_path, sep='\\t', index=False)\n",
    "    else:\n",
    "        combined_df.to_csv(output_path, index=False)\n",
    "    print(f\"Combined dataset saved to {output_path}\")\n",
    "    print(f\"Total rows: {len(combined_df)}\")\n",
    "    return combined_df"
   ]
  },
  {
   "cell_type": "code",
   "execution_count": 9,
   "id": "38dca906",
   "metadata": {},
   "outputs": [
    {
     "name": "stdout",
     "output_type": "stream",
     "text": [
      "Combined dataset saved to smolvlm_m2_vti.tsv\n",
      "Total rows: 5000\n"
     ]
    }
   ],
   "source": [
    "file_paths = [\n",
    "    '../data/smolvlm_m2_a02_vti_results_0_to_2500.tsv',\n",
    "    '../data/smolvlm_m2_a02_vti_results_2500_to_5000.tsv',\n",
    "]\n",
    "combined_data = stack_tsv_files(file_paths, 'smolvlm_m2_vti.tsv')"
   ]
  },
  {
   "cell_type": "code",
   "execution_count": 10,
   "id": "05723904",
   "metadata": {},
   "outputs": [
    {
     "name": "stdout",
     "output_type": "stream",
     "text": [
      "\n",
      "First few rows of combined dataset:\n",
      "   index                                            prompt1 prompt2 prompt3  \\\n",
      "0      0  In this image we can see a person holding an u...    Yes.   Male.   \n",
      "1      1           A kitchen with a white door and a stove.     No.   Male.   \n",
      "2      2               A girl is holding a cat in her arms.    Yes.   GIRL.   \n",
      "3      3  In this picture we can see a toilet, bottle, r...     No.   Male.   \n",
      "4      4  In this image we can see a washroom. There are...     No.   Male.   \n",
      "\n",
      "   prompt4  \n",
      "0    Male.  \n",
      "1  Female.  \n",
      "2    GIRL.  \n",
      "3  Female.  \n",
      "4    Male.  \n",
      "\n",
      "Dataset shape: (5000, 5)\n",
      "Columns: ['index', 'prompt1', 'prompt2', 'prompt3', 'prompt4']\n",
      "\n",
      "Missing values per column:\n",
      "index      0\n",
      "prompt1    0\n",
      "prompt2    0\n",
      "prompt3    0\n",
      "prompt4    0\n",
      "dtype: int64\n"
     ]
    }
   ],
   "source": [
    "# Optional: Preview the result\n",
    "print(\"\\nFirst few rows of combined dataset:\")\n",
    "print(combined_data.head())\n",
    "print(f\"\\nDataset shape: {combined_data.shape}\")\n",
    "print(f\"Columns: {list(combined_data.columns)}\")\n",
    "\n",
    "# Optional: Check for any issues\n",
    "print(f\"\\nMissing values per column:\")\n",
    "print(combined_data.isnull().sum())"
   ]
  }
 ],
 "metadata": {
  "kernelspec": {
   "display_name": ".venv",
   "language": "python",
   "name": "python3"
  },
  "language_info": {
   "codemirror_mode": {
    "name": "ipython",
    "version": 3
   },
   "file_extension": ".py",
   "mimetype": "text/x-python",
   "name": "python",
   "nbconvert_exporter": "python",
   "pygments_lexer": "ipython3",
   "version": "3.10.10"
  }
 },
 "nbformat": 4,
 "nbformat_minor": 5
}
