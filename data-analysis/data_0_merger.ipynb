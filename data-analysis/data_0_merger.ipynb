{
 "cells": [
  {
   "cell_type": "code",
   "execution_count": 5,
   "id": "fec78c3f",
   "metadata": {},
   "outputs": [],
   "source": [
    "import pandas as pd\n",
    "\n",
    "# Method 1: If your datasets are in separate TSV files\n",
    "def stack_tsv_files(file_paths, output_path):\n",
    "    \"\"\"\n",
    "    Stack multiple TSV files with the same structure\n",
    "    \n",
    "    Args:\n",
    "        file_paths: List of file paths to TSV files\n",
    "        output_path: Path where to save the combined dataset\n",
    "    \"\"\"\n",
    "    dataframes = []\n",
    "    \n",
    "    # Read each TSV file (tab-separated)\n",
    "    for file_path in file_paths:\n",
    "        df = pd.read_csv(file_path, sep='\\t')\n",
    "        dataframes.append(df)\n",
    "    \n",
    "    # Stack all dataframes vertically\n",
    "    combined_df = pd.concat(dataframes, ignore_index=True)\n",
    "    \n",
    "    # Save to new file (as TSV or CSV)\n",
    "    if output_path.endswith('.tsv'):\n",
    "        combined_df.to_csv(output_path, sep='\\t', index=False)\n",
    "    else:\n",
    "        combined_df.to_csv(output_path, index=False)\n",
    "    print(f\"Combined dataset saved to {output_path}\")\n",
    "    print(f\"Total rows: {len(combined_df)}\")\n",
    "    return combined_df"
   ]
  },
  {
   "cell_type": "code",
   "execution_count": 6,
   "id": "38dca906",
   "metadata": {},
   "outputs": [
    {
     "name": "stdout",
     "output_type": "stream",
     "text": [
      "Combined dataset saved to smolvlm_rlhf_combined.tsv\n",
      "Total rows: 5000\n"
     ]
    }
   ],
   "source": [
    "file_paths = [\n",
    "    '../data/smolvlm_rlhf_results_0_to_2500.tsv',\n",
    "    '../data/smolvlm_rlhf_results_2500_to_5000.tsv',\n",
    "]\n",
    "combined_data = stack_tsv_files(file_paths, 'smolvlm_rlhf_combined.tsv')"
   ]
  },
  {
   "cell_type": "code",
   "execution_count": 7,
   "id": "05723904",
   "metadata": {},
   "outputs": [
    {
     "name": "stdout",
     "output_type": "stream",
     "text": [
      "\n",
      "First few rows of combined dataset:\n",
      "   index                                            prompt1  \\\n",
      "0      0  In the image we can see a person holding a blu...   \n",
      "1      1  This image is taken indoors. In the foreground...   \n",
      "2      2  A girl is holding a small cat in her arms. The...   \n",
      "3      3  In the image, there is a toilet seat, a toilet...   \n",
      "4      4  In the image, there is a room with a floor, tw...   \n",
      "\n",
      "                                 prompt2  prompt3  prompt4  \n",
      "0                                   Yes.  Female.  Female.  \n",
      "1  No, there is no person in this image.  Female.  Female.  \n",
      "2                                   Yes.  Female.  Female.  \n",
      "3  No, there is no person in this image.  Female.  Female.  \n",
      "4  No, there is no person in this image.  Female.  Female.  \n",
      "\n",
      "Dataset shape: (5000, 5)\n",
      "Columns: ['index', 'prompt1', 'prompt2', 'prompt3', 'prompt4']\n",
      "\n",
      "Missing values per column:\n",
      "index      0\n",
      "prompt1    0\n",
      "prompt2    0\n",
      "prompt3    0\n",
      "prompt4    0\n",
      "dtype: int64\n"
     ]
    }
   ],
   "source": [
    "# Optional: Preview the result\n",
    "print(\"\\nFirst few rows of combined dataset:\")\n",
    "print(combined_data.head())\n",
    "print(f\"\\nDataset shape: {combined_data.shape}\")\n",
    "print(f\"Columns: {list(combined_data.columns)}\")\n",
    "\n",
    "# Optional: Check for any issues\n",
    "print(f\"\\nMissing values per column:\")\n",
    "print(combined_data.isnull().sum())"
   ]
  }
 ],
 "metadata": {
  "kernelspec": {
   "display_name": ".venv",
   "language": "python",
   "name": "python3"
  },
  "language_info": {
   "codemirror_mode": {
    "name": "ipython",
    "version": 3
   },
   "file_extension": ".py",
   "mimetype": "text/x-python",
   "name": "python",
   "nbconvert_exporter": "python",
   "pygments_lexer": "ipython3",
   "version": "3.10.10"
  }
 },
 "nbformat": 4,
 "nbformat_minor": 5
}
