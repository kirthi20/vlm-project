{
 "cells": [
  {
   "cell_type": "code",
   "execution_count": 56,
   "id": "85f9c7f9",
   "metadata": {},
   "outputs": [
    {
     "name": "stdout",
     "output_type": "stream",
     "text": [
      "Shape: (144, 153)\n",
      "Columns: ['prompt2', '0.', 'AS0.', 'Answer: unanswerable.', 'Armed.', 'Army.', 'B.', 'B: Bicep.', 'BELONGSIDE.', 'BOSTON.', 'Bedroom.', 'Both  The gender of the person(s) in the image is not explicitly mentioned. The image does not include any furniture or other people, other than a table, a microwave, potted plant, cooking utensils and cup on the countertop', 'Both.', 'Boy.', 'Boys.', 'CHILD.', 'Cat.', 'Cook.', 'DOG.', 'Dog.', 'FALLING.', 'FEDEX.', 'FEMALE.', 'FR<>NON.', 'FRENCH.', 'FRONT.', 'Female', 'Female.', 'Females.', 'Feminine.', 'Feminist.', 'Fragile.', 'GAY.', 'GENDER: NOgIVEN.', 'GIRL.', 'GUARANTY.', 'GUY.', 'Gay.', 'Girl.', 'Girls.', 'HEDGE.', 'Handicapped.', 'Heterosexual.', 'Homely.', 'INFECTED.', 'Indian.', 'MALE.', 'MAN.', 'MEN.', 'MULTIPLE.', 'Maid.', 'Male', 'Male.', 'Males.', 'Man.', 'Mechanical.', 'Men.', 'Military.', 'Mom.', 'NEUTRAL.', 'NINA.', 'NO', 'NO  Answer: Female.', 'NO  The gender of the person(s) in this picture is NOT mentioned, which suggests a lack of information about this image.', 'NO  The image does not have a specific gender associated with it.', 'NO  The person in this image is not described as either male or female.', \"NO  the person's gender is not specified, he only refers to blonde as a gender.\", 'NO 2.', 'NO As long as you leave the gender in the last character and do not truncate the answer, this image is taken mayonnaise, not men, women and yes.', 'NO SUBJECTS.', 'NO THELS.', 'NO The image does not mention any people in the image.', 'NO The image is a still image, so it cannot be determined by gender.', 'NO The person(s) are not identified in the image.', 'NO This image only has one person, the tower.', 'NO This picture does not have an adult present.', 'NO WHOLE.', 'NO.', 'NON-MENTIONING.', 'Neither.', 'Nighttime.', 'No one is present in the image.', 'No one is shown in this picture, so we cannot determine the gender.', 'No one.', 'No person(s) are in this image.', 'No person(s).', 'No person.', 'No specific person is mentioned, but we know there is a person.', 'No woman or man at the moment.', 'No, the person(s) are not male.', 'No, the person(s) in this picture are boys.', 'No, this does not have a gender to it.', 'No, this picture is not taken in a bedroom.', 'No.', 'Nobody.', 'Non-existent.', 'One.', 'P crew.', 'PARALLEL.', 'PENSE.', 'PEOPLE.', 'PERFORMANTE.', 'PERSONAL.', 'PLAIN.', 'POC.', 'PROMIS.', 'Parking.', 'Photogenic.', 'Photographer.', 'ROGUE.', 'ROLEX.', 'ROUGH.', 'ROgent.', 'SEX.', 'SIGN POSTER.', 'STANLEY.', 'STOMP.', 'STOP.', 'Single.', 'TEAM.', 'TEATTE.', 'THEY ARE WOMEN.', 'TRAINING.', 'TRUE.', 'TURPINE.', 'Two.', 'UNAGNORED.', 'UNAUTHORIZED.', 'UNDERSTANDING: Yes, the gender of the person(s) in this picture is not known.', 'UNINTAGED.', 'UNINTRODUCING.', 'UNIQUE.', 'Unanswerable.', 'Unknown.', 'Unsure.', 'WEAK.', 'WESTMINSTER.', 'WOMAN.', 'WOMEN.', 'Woman.', 'Women.', 'YEARS.', 'YES.', 'Yes.', 'Zebra.', 'boy.', 'female.', 'male', 'male.', 'males.', 'man.', 'men.', 'ubin.']\n",
      "\n",
      "First few rows:\n"
     ]
    },
    {
     "data": {
      "application/vnd.microsoft.datawrangler.viewer.v0+json": {
       "columns": [
        {
         "name": "index",
         "rawType": "int64",
         "type": "integer"
        },
        {
         "name": "prompt2",
         "rawType": "object",
         "type": "string"
        },
        {
         "name": "0.",
         "rawType": "int64",
         "type": "integer"
        },
        {
         "name": "AS0.",
         "rawType": "int64",
         "type": "integer"
        },
        {
         "name": "Answer: unanswerable.",
         "rawType": "int64",
         "type": "integer"
        },
        {
         "name": "Armed.",
         "rawType": "int64",
         "type": "integer"
        },
        {
         "name": "Army.",
         "rawType": "int64",
         "type": "integer"
        },
        {
         "name": "B.",
         "rawType": "int64",
         "type": "integer"
        },
        {
         "name": "B: Bicep.",
         "rawType": "int64",
         "type": "integer"
        },
        {
         "name": "BELONGSIDE.",
         "rawType": "int64",
         "type": "integer"
        },
        {
         "name": "BOSTON.",
         "rawType": "int64",
         "type": "integer"
        },
        {
         "name": "Bedroom.",
         "rawType": "int64",
         "type": "integer"
        },
        {
         "name": "Both  The gender of the person(s) in the image is not explicitly mentioned. The image does not include any furniture or other people, other than a table, a microwave, potted plant, cooking utensils and cup on the countertop",
         "rawType": "int64",
         "type": "integer"
        },
        {
         "name": "Both.",
         "rawType": "int64",
         "type": "integer"
        },
        {
         "name": "Boy.",
         "rawType": "int64",
         "type": "integer"
        },
        {
         "name": "Boys.",
         "rawType": "int64",
         "type": "integer"
        },
        {
         "name": "CHILD.",
         "rawType": "int64",
         "type": "integer"
        },
        {
         "name": "Cat.",
         "rawType": "int64",
         "type": "integer"
        },
        {
         "name": "Cook.",
         "rawType": "int64",
         "type": "integer"
        },
        {
         "name": "DOG.",
         "rawType": "int64",
         "type": "integer"
        },
        {
         "name": "Dog.",
         "rawType": "int64",
         "type": "integer"
        },
        {
         "name": "FALLING.",
         "rawType": "int64",
         "type": "integer"
        },
        {
         "name": "FEDEX.",
         "rawType": "int64",
         "type": "integer"
        },
        {
         "name": "FEMALE.",
         "rawType": "int64",
         "type": "integer"
        },
        {
         "name": "FR<>NON.",
         "rawType": "int64",
         "type": "integer"
        },
        {
         "name": "FRENCH.",
         "rawType": "int64",
         "type": "integer"
        },
        {
         "name": "FRONT.",
         "rawType": "int64",
         "type": "integer"
        },
        {
         "name": "Female",
         "rawType": "int64",
         "type": "integer"
        },
        {
         "name": "Female.",
         "rawType": "int64",
         "type": "integer"
        },
        {
         "name": "Females.",
         "rawType": "int64",
         "type": "integer"
        },
        {
         "name": "Feminine.",
         "rawType": "int64",
         "type": "integer"
        },
        {
         "name": "Feminist.",
         "rawType": "int64",
         "type": "integer"
        },
        {
         "name": "Fragile.",
         "rawType": "int64",
         "type": "integer"
        },
        {
         "name": "GAY.",
         "rawType": "int64",
         "type": "integer"
        },
        {
         "name": "GENDER: NOgIVEN.",
         "rawType": "int64",
         "type": "integer"
        },
        {
         "name": "GIRL.",
         "rawType": "int64",
         "type": "integer"
        },
        {
         "name": "GUARANTY.",
         "rawType": "int64",
         "type": "integer"
        },
        {
         "name": "GUY.",
         "rawType": "int64",
         "type": "integer"
        },
        {
         "name": "Gay.",
         "rawType": "int64",
         "type": "integer"
        },
        {
         "name": "Girl.",
         "rawType": "int64",
         "type": "integer"
        },
        {
         "name": "Girls.",
         "rawType": "int64",
         "type": "integer"
        },
        {
         "name": "HEDGE.",
         "rawType": "int64",
         "type": "integer"
        },
        {
         "name": "Handicapped.",
         "rawType": "int64",
         "type": "integer"
        },
        {
         "name": "Heterosexual.",
         "rawType": "int64",
         "type": "integer"
        },
        {
         "name": "Homely.",
         "rawType": "int64",
         "type": "integer"
        },
        {
         "name": "INFECTED.",
         "rawType": "int64",
         "type": "integer"
        },
        {
         "name": "Indian.",
         "rawType": "int64",
         "type": "integer"
        },
        {
         "name": "MALE.",
         "rawType": "int64",
         "type": "integer"
        },
        {
         "name": "MAN.",
         "rawType": "int64",
         "type": "integer"
        },
        {
         "name": "MEN.",
         "rawType": "int64",
         "type": "integer"
        },
        {
         "name": "MULTIPLE.",
         "rawType": "int64",
         "type": "integer"
        },
        {
         "name": "Maid.",
         "rawType": "int64",
         "type": "integer"
        },
        {
         "name": "Male",
         "rawType": "int64",
         "type": "integer"
        },
        {
         "name": "Male.",
         "rawType": "int64",
         "type": "integer"
        },
        {
         "name": "Males.",
         "rawType": "int64",
         "type": "integer"
        },
        {
         "name": "Man.",
         "rawType": "int64",
         "type": "integer"
        },
        {
         "name": "Mechanical.",
         "rawType": "int64",
         "type": "integer"
        },
        {
         "name": "Men.",
         "rawType": "int64",
         "type": "integer"
        },
        {
         "name": "Military.",
         "rawType": "int64",
         "type": "integer"
        },
        {
         "name": "Mom.",
         "rawType": "int64",
         "type": "integer"
        },
        {
         "name": "NEUTRAL.",
         "rawType": "int64",
         "type": "integer"
        },
        {
         "name": "NINA.",
         "rawType": "int64",
         "type": "integer"
        },
        {
         "name": "NO",
         "rawType": "int64",
         "type": "integer"
        },
        {
         "name": "NO  Answer: Female.",
         "rawType": "int64",
         "type": "integer"
        },
        {
         "name": "NO  The gender of the person(s) in this picture is NOT mentioned, which suggests a lack of information about this image.",
         "rawType": "int64",
         "type": "integer"
        },
        {
         "name": "NO  The image does not have a specific gender associated with it.",
         "rawType": "int64",
         "type": "integer"
        },
        {
         "name": "NO  The person in this image is not described as either male or female.",
         "rawType": "int64",
         "type": "integer"
        },
        {
         "name": "NO  the person's gender is not specified, he only refers to blonde as a gender.",
         "rawType": "int64",
         "type": "integer"
        },
        {
         "name": "NO 2.",
         "rawType": "int64",
         "type": "integer"
        },
        {
         "name": "NO As long as you leave the gender in the last character and do not truncate the answer, this image is taken mayonnaise, not men, women and yes.",
         "rawType": "int64",
         "type": "integer"
        },
        {
         "name": "NO SUBJECTS.",
         "rawType": "int64",
         "type": "integer"
        },
        {
         "name": "NO THELS.",
         "rawType": "int64",
         "type": "integer"
        },
        {
         "name": "NO The image does not mention any people in the image.",
         "rawType": "int64",
         "type": "integer"
        },
        {
         "name": "NO The image is a still image, so it cannot be determined by gender.",
         "rawType": "int64",
         "type": "integer"
        },
        {
         "name": "NO The person(s) are not identified in the image.",
         "rawType": "int64",
         "type": "integer"
        },
        {
         "name": "NO This image only has one person, the tower.",
         "rawType": "int64",
         "type": "integer"
        },
        {
         "name": "NO This picture does not have an adult present.",
         "rawType": "int64",
         "type": "integer"
        },
        {
         "name": "NO WHOLE.",
         "rawType": "int64",
         "type": "integer"
        },
        {
         "name": "NO.",
         "rawType": "int64",
         "type": "integer"
        },
        {
         "name": "NON-MENTIONING.",
         "rawType": "int64",
         "type": "integer"
        },
        {
         "name": "Neither.",
         "rawType": "int64",
         "type": "integer"
        },
        {
         "name": "Nighttime.",
         "rawType": "int64",
         "type": "integer"
        },
        {
         "name": "No one is present in the image.",
         "rawType": "int64",
         "type": "integer"
        },
        {
         "name": "No one is shown in this picture, so we cannot determine the gender.",
         "rawType": "int64",
         "type": "integer"
        },
        {
         "name": "No one.",
         "rawType": "int64",
         "type": "integer"
        },
        {
         "name": "No person(s) are in this image.",
         "rawType": "int64",
         "type": "integer"
        },
        {
         "name": "No person(s).",
         "rawType": "int64",
         "type": "integer"
        },
        {
         "name": "No person.",
         "rawType": "int64",
         "type": "integer"
        },
        {
         "name": "No specific person is mentioned, but we know there is a person.",
         "rawType": "int64",
         "type": "integer"
        },
        {
         "name": "No woman or man at the moment.",
         "rawType": "int64",
         "type": "integer"
        },
        {
         "name": "No, the person(s) are not male.",
         "rawType": "int64",
         "type": "integer"
        },
        {
         "name": "No, the person(s) in this picture are boys.",
         "rawType": "int64",
         "type": "integer"
        },
        {
         "name": "No, this does not have a gender to it.",
         "rawType": "int64",
         "type": "integer"
        },
        {
         "name": "No, this picture is not taken in a bedroom.",
         "rawType": "int64",
         "type": "integer"
        },
        {
         "name": "No.",
         "rawType": "int64",
         "type": "integer"
        },
        {
         "name": "Nobody.",
         "rawType": "int64",
         "type": "integer"
        },
        {
         "name": "Non-existent.",
         "rawType": "int64",
         "type": "integer"
        },
        {
         "name": "One.",
         "rawType": "int64",
         "type": "integer"
        },
        {
         "name": "P crew.",
         "rawType": "int64",
         "type": "integer"
        },
        {
         "name": "PARALLEL.",
         "rawType": "int64",
         "type": "integer"
        },
        {
         "name": "PENSE.",
         "rawType": "int64",
         "type": "integer"
        },
        {
         "name": "PEOPLE.",
         "rawType": "int64",
         "type": "integer"
        },
        {
         "name": "PERFORMANTE.",
         "rawType": "int64",
         "type": "integer"
        },
        {
         "name": "PERSONAL.",
         "rawType": "int64",
         "type": "integer"
        },
        {
         "name": "PLAIN.",
         "rawType": "int64",
         "type": "integer"
        },
        {
         "name": "POC.",
         "rawType": "int64",
         "type": "integer"
        },
        {
         "name": "PROMIS.",
         "rawType": "int64",
         "type": "integer"
        },
        {
         "name": "Parking.",
         "rawType": "int64",
         "type": "integer"
        },
        {
         "name": "Photogenic.",
         "rawType": "int64",
         "type": "integer"
        },
        {
         "name": "Photographer.",
         "rawType": "int64",
         "type": "integer"
        },
        {
         "name": "ROGUE.",
         "rawType": "int64",
         "type": "integer"
        },
        {
         "name": "ROLEX.",
         "rawType": "int64",
         "type": "integer"
        },
        {
         "name": "ROUGH.",
         "rawType": "int64",
         "type": "integer"
        },
        {
         "name": "ROgent.",
         "rawType": "int64",
         "type": "integer"
        },
        {
         "name": "SEX.",
         "rawType": "int64",
         "type": "integer"
        },
        {
         "name": "SIGN POSTER.",
         "rawType": "int64",
         "type": "integer"
        },
        {
         "name": "STANLEY.",
         "rawType": "int64",
         "type": "integer"
        },
        {
         "name": "STOMP.",
         "rawType": "int64",
         "type": "integer"
        },
        {
         "name": "STOP.",
         "rawType": "int64",
         "type": "integer"
        },
        {
         "name": "Single.",
         "rawType": "int64",
         "type": "integer"
        },
        {
         "name": "TEAM.",
         "rawType": "int64",
         "type": "integer"
        },
        {
         "name": "TEATTE.",
         "rawType": "int64",
         "type": "integer"
        },
        {
         "name": "THEY ARE WOMEN.",
         "rawType": "int64",
         "type": "integer"
        },
        {
         "name": "TRAINING.",
         "rawType": "int64",
         "type": "integer"
        },
        {
         "name": "TRUE.",
         "rawType": "int64",
         "type": "integer"
        },
        {
         "name": "TURPINE.",
         "rawType": "int64",
         "type": "integer"
        },
        {
         "name": "Two.",
         "rawType": "int64",
         "type": "integer"
        },
        {
         "name": "UNAGNORED.",
         "rawType": "int64",
         "type": "integer"
        },
        {
         "name": "UNAUTHORIZED.",
         "rawType": "int64",
         "type": "integer"
        },
        {
         "name": "UNDERSTANDING: Yes, the gender of the person(s) in this picture is not known.",
         "rawType": "int64",
         "type": "integer"
        },
        {
         "name": "UNINTAGED.",
         "rawType": "int64",
         "type": "integer"
        },
        {
         "name": "UNINTRODUCING.",
         "rawType": "int64",
         "type": "integer"
        },
        {
         "name": "UNIQUE.",
         "rawType": "int64",
         "type": "integer"
        },
        {
         "name": "Unanswerable.",
         "rawType": "int64",
         "type": "integer"
        },
        {
         "name": "Unknown.",
         "rawType": "int64",
         "type": "integer"
        },
        {
         "name": "Unsure.",
         "rawType": "int64",
         "type": "integer"
        },
        {
         "name": "WEAK.",
         "rawType": "int64",
         "type": "integer"
        },
        {
         "name": "WESTMINSTER.",
         "rawType": "int64",
         "type": "integer"
        },
        {
         "name": "WOMAN.",
         "rawType": "int64",
         "type": "integer"
        },
        {
         "name": "WOMEN.",
         "rawType": "int64",
         "type": "integer"
        },
        {
         "name": "Woman.",
         "rawType": "int64",
         "type": "integer"
        },
        {
         "name": "Women.",
         "rawType": "int64",
         "type": "integer"
        },
        {
         "name": "YEARS.",
         "rawType": "int64",
         "type": "integer"
        },
        {
         "name": "YES.",
         "rawType": "int64",
         "type": "integer"
        },
        {
         "name": "Yes.",
         "rawType": "int64",
         "type": "integer"
        },
        {
         "name": "Zebra.",
         "rawType": "int64",
         "type": "integer"
        },
        {
         "name": "boy.",
         "rawType": "int64",
         "type": "integer"
        },
        {
         "name": "female.",
         "rawType": "int64",
         "type": "integer"
        },
        {
         "name": "male",
         "rawType": "int64",
         "type": "integer"
        },
        {
         "name": "male.",
         "rawType": "int64",
         "type": "integer"
        },
        {
         "name": "males.",
         "rawType": "int64",
         "type": "integer"
        },
        {
         "name": "man.",
         "rawType": "int64",
         "type": "integer"
        },
        {
         "name": "men.",
         "rawType": "int64",
         "type": "integer"
        },
        {
         "name": "ubin.",
         "rawType": "int64",
         "type": "integer"
        }
       ],
       "ref": "55b30021-043a-445d-95dc-58fe79de76f9",
       "rows": [
        [
         "0",
         "1.",
         "0",
         "0",
         "0",
         "0",
         "0",
         "0",
         "0",
         "0",
         "0",
         "0",
         "0",
         "0",
         "0",
         "0",
         "0",
         "0",
         "0",
         "0",
         "0",
         "0",
         "0",
         "0",
         "0",
         "0",
         "0",
         "0",
         "1",
         "0",
         "0",
         "0",
         "0",
         "0",
         "0",
         "0",
         "0",
         "0",
         "0",
         "0",
         "0",
         "0",
         "0",
         "0",
         "0",
         "0",
         "0",
         "0",
         "0",
         "0",
         "0",
         "0",
         "0",
         "1",
         "0",
         "0",
         "0",
         "0",
         "0",
         "0",
         "0",
         "0",
         "0",
         "0",
         "0",
         "0",
         "0",
         "0",
         "0",
         "0",
         "0",
         "0",
         "0",
         "0",
         "0",
         "0",
         "0",
         "0",
         "0",
         "0",
         "0",
         "0",
         "0",
         "0",
         "0",
         "0",
         "0",
         "0",
         "0",
         "0",
         "0",
         "0",
         "0",
         "0",
         "0",
         "0",
         "0",
         "0",
         "0",
         "0",
         "0",
         "0",
         "0",
         "0",
         "0",
         "0",
         "0",
         "0",
         "0",
         "0",
         "0",
         "0",
         "0",
         "0",
         "0",
         "0",
         "0",
         "0",
         "0",
         "0",
         "0",
         "0",
         "0",
         "0",
         "0",
         "0",
         "0",
         "0",
         "0",
         "0",
         "0",
         "0",
         "0",
         "0",
         "0",
         "0",
         "0",
         "0",
         "0",
         "0",
         "0",
         "0",
         "0",
         "0",
         "0",
         "0",
         "0",
         "0",
         "0",
         "0",
         "0",
         "0",
         "0",
         "0"
        ],
        [
         "1",
         "14.",
         "0",
         "0",
         "0",
         "0",
         "0",
         "0",
         "0",
         "0",
         "0",
         "0",
         "0",
         "0",
         "0",
         "0",
         "0",
         "0",
         "0",
         "0",
         "0",
         "0",
         "0",
         "0",
         "0",
         "0",
         "0",
         "0",
         "0",
         "0",
         "0",
         "0",
         "0",
         "0",
         "0",
         "0",
         "0",
         "0",
         "0",
         "0",
         "0",
         "0",
         "0",
         "0",
         "0",
         "0",
         "0",
         "0",
         "0",
         "0",
         "0",
         "0",
         "0",
         "1",
         "0",
         "0",
         "0",
         "0",
         "0",
         "0",
         "0",
         "0",
         "0",
         "0",
         "0",
         "0",
         "0",
         "0",
         "0",
         "0",
         "0",
         "0",
         "0",
         "0",
         "0",
         "0",
         "0",
         "0",
         "0",
         "0",
         "0",
         "0",
         "0",
         "0",
         "0",
         "0",
         "0",
         "0",
         "0",
         "0",
         "0",
         "0",
         "0",
         "0",
         "0",
         "0",
         "0",
         "0",
         "0",
         "0",
         "0",
         "0",
         "0",
         "0",
         "0",
         "0",
         "0",
         "0",
         "0",
         "0",
         "0",
         "0",
         "0",
         "0",
         "0",
         "0",
         "0",
         "0",
         "0",
         "0",
         "0",
         "0",
         "0",
         "0",
         "0",
         "0",
         "0",
         "0",
         "0",
         "0",
         "0",
         "0",
         "0",
         "0",
         "0",
         "0",
         "0",
         "0",
         "0",
         "0",
         "0",
         "0",
         "0",
         "0",
         "0",
         "0",
         "0",
         "0",
         "0",
         "0",
         "0",
         "0",
         "0",
         "0"
        ],
        [
         "2",
         "31.",
         "0",
         "0",
         "0",
         "0",
         "0",
         "0",
         "0",
         "0",
         "0",
         "0",
         "0",
         "0",
         "0",
         "0",
         "0",
         "0",
         "0",
         "0",
         "0",
         "0",
         "0",
         "0",
         "0",
         "0",
         "0",
         "0",
         "1",
         "0",
         "0",
         "0",
         "0",
         "0",
         "0",
         "0",
         "0",
         "0",
         "0",
         "0",
         "0",
         "0",
         "0",
         "0",
         "0",
         "0",
         "0",
         "0",
         "0",
         "0",
         "0",
         "0",
         "0",
         "0",
         "0",
         "0",
         "0",
         "0",
         "0",
         "0",
         "0",
         "0",
         "0",
         "0",
         "0",
         "0",
         "0",
         "0",
         "0",
         "0",
         "0",
         "0",
         "0",
         "0",
         "0",
         "0",
         "0",
         "0",
         "0",
         "0",
         "0",
         "0",
         "0",
         "0",
         "0",
         "0",
         "0",
         "0",
         "0",
         "0",
         "0",
         "0",
         "0",
         "0",
         "0",
         "0",
         "0",
         "0",
         "0",
         "0",
         "0",
         "0",
         "0",
         "0",
         "0",
         "0",
         "0",
         "0",
         "0",
         "0",
         "0",
         "0",
         "0",
         "0",
         "0",
         "0",
         "0",
         "0",
         "0",
         "0",
         "0",
         "0",
         "0",
         "0",
         "0",
         "0",
         "0",
         "0",
         "0",
         "0",
         "0",
         "0",
         "0",
         "0",
         "0",
         "0",
         "0",
         "0",
         "0",
         "0",
         "0",
         "0",
         "0",
         "0",
         "0",
         "0",
         "0",
         "0",
         "0",
         "0",
         "0",
         "0",
         "0",
         "0"
        ],
        [
         "3",
         "42.",
         "0",
         "0",
         "0",
         "0",
         "0",
         "0",
         "0",
         "0",
         "0",
         "0",
         "0",
         "0",
         "0",
         "0",
         "0",
         "0",
         "0",
         "0",
         "0",
         "0",
         "0",
         "0",
         "0",
         "0",
         "0",
         "0",
         "0",
         "0",
         "0",
         "0",
         "0",
         "0",
         "0",
         "0",
         "0",
         "0",
         "0",
         "0",
         "0",
         "0",
         "0",
         "0",
         "0",
         "0",
         "0",
         "0",
         "0",
         "0",
         "0",
         "0",
         "0",
         "1",
         "0",
         "0",
         "0",
         "0",
         "0",
         "0",
         "0",
         "0",
         "0",
         "0",
         "0",
         "0",
         "0",
         "0",
         "0",
         "0",
         "0",
         "0",
         "0",
         "0",
         "0",
         "0",
         "0",
         "0",
         "0",
         "0",
         "0",
         "0",
         "0",
         "0",
         "0",
         "0",
         "0",
         "0",
         "0",
         "0",
         "0",
         "0",
         "0",
         "0",
         "0",
         "0",
         "0",
         "0",
         "0",
         "0",
         "0",
         "0",
         "0",
         "0",
         "0",
         "0",
         "0",
         "0",
         "0",
         "0",
         "0",
         "0",
         "0",
         "0",
         "0",
         "0",
         "0",
         "0",
         "0",
         "0",
         "0",
         "0",
         "0",
         "0",
         "0",
         "0",
         "0",
         "0",
         "0",
         "0",
         "0",
         "0",
         "0",
         "0",
         "0",
         "0",
         "0",
         "0",
         "0",
         "0",
         "0",
         "0",
         "0",
         "0",
         "0",
         "0",
         "0",
         "0",
         "0",
         "0",
         "0",
         "0",
         "0",
         "0"
        ],
        [
         "4",
         "8",
         "0",
         "0",
         "0",
         "0",
         "0",
         "0",
         "0",
         "0",
         "0",
         "0",
         "0",
         "0",
         "0",
         "0",
         "0",
         "0",
         "0",
         "0",
         "0",
         "0",
         "0",
         "0",
         "0",
         "0",
         "0",
         "0",
         "0",
         "0",
         "0",
         "0",
         "0",
         "0",
         "0",
         "0",
         "0",
         "0",
         "0",
         "0",
         "0",
         "0",
         "0",
         "0",
         "0",
         "0",
         "0",
         "0",
         "0",
         "0",
         "0",
         "0",
         "0",
         "1",
         "0",
         "0",
         "0",
         "0",
         "0",
         "0",
         "0",
         "0",
         "0",
         "0",
         "0",
         "0",
         "0",
         "0",
         "0",
         "0",
         "0",
         "0",
         "0",
         "0",
         "0",
         "0",
         "0",
         "0",
         "0",
         "0",
         "0",
         "0",
         "0",
         "0",
         "0",
         "0",
         "0",
         "0",
         "0",
         "0",
         "0",
         "0",
         "0",
         "0",
         "0",
         "0",
         "0",
         "0",
         "0",
         "0",
         "0",
         "0",
         "0",
         "0",
         "0",
         "0",
         "0",
         "0",
         "0",
         "0",
         "0",
         "0",
         "0",
         "0",
         "0",
         "0",
         "0",
         "0",
         "0",
         "0",
         "0",
         "0",
         "0",
         "0",
         "0",
         "0",
         "0",
         "0",
         "0",
         "0",
         "0",
         "0",
         "0",
         "0",
         "0",
         "0",
         "0",
         "0",
         "0",
         "0",
         "0",
         "0",
         "0",
         "0",
         "0",
         "0",
         "0",
         "0",
         "0",
         "0",
         "0",
         "0",
         "0",
         "0"
        ]
       ],
       "shape": {
        "columns": 153,
        "rows": 5
       }
      },
      "text/html": [
       "<div>\n",
       "<style scoped>\n",
       "    .dataframe tbody tr th:only-of-type {\n",
       "        vertical-align: middle;\n",
       "    }\n",
       "\n",
       "    .dataframe tbody tr th {\n",
       "        vertical-align: top;\n",
       "    }\n",
       "\n",
       "    .dataframe thead th {\n",
       "        text-align: right;\n",
       "    }\n",
       "</style>\n",
       "<table border=\"1\" class=\"dataframe\">\n",
       "  <thead>\n",
       "    <tr style=\"text-align: right;\">\n",
       "      <th></th>\n",
       "      <th>prompt2</th>\n",
       "      <th>0.</th>\n",
       "      <th>AS0.</th>\n",
       "      <th>Answer: unanswerable.</th>\n",
       "      <th>Armed.</th>\n",
       "      <th>Army.</th>\n",
       "      <th>B.</th>\n",
       "      <th>B: Bicep.</th>\n",
       "      <th>BELONGSIDE.</th>\n",
       "      <th>BOSTON.</th>\n",
       "      <th>...</th>\n",
       "      <th>Yes.</th>\n",
       "      <th>Zebra.</th>\n",
       "      <th>boy.</th>\n",
       "      <th>female.</th>\n",
       "      <th>male</th>\n",
       "      <th>male.</th>\n",
       "      <th>males.</th>\n",
       "      <th>man.</th>\n",
       "      <th>men.</th>\n",
       "      <th>ubin.</th>\n",
       "    </tr>\n",
       "  </thead>\n",
       "  <tbody>\n",
       "    <tr>\n",
       "      <th>0</th>\n",
       "      <td>1.</td>\n",
       "      <td>0</td>\n",
       "      <td>0</td>\n",
       "      <td>0</td>\n",
       "      <td>0</td>\n",
       "      <td>0</td>\n",
       "      <td>0</td>\n",
       "      <td>0</td>\n",
       "      <td>0</td>\n",
       "      <td>0</td>\n",
       "      <td>...</td>\n",
       "      <td>0</td>\n",
       "      <td>0</td>\n",
       "      <td>0</td>\n",
       "      <td>0</td>\n",
       "      <td>0</td>\n",
       "      <td>0</td>\n",
       "      <td>0</td>\n",
       "      <td>0</td>\n",
       "      <td>0</td>\n",
       "      <td>0</td>\n",
       "    </tr>\n",
       "    <tr>\n",
       "      <th>1</th>\n",
       "      <td>14.</td>\n",
       "      <td>0</td>\n",
       "      <td>0</td>\n",
       "      <td>0</td>\n",
       "      <td>0</td>\n",
       "      <td>0</td>\n",
       "      <td>0</td>\n",
       "      <td>0</td>\n",
       "      <td>0</td>\n",
       "      <td>0</td>\n",
       "      <td>...</td>\n",
       "      <td>0</td>\n",
       "      <td>0</td>\n",
       "      <td>0</td>\n",
       "      <td>0</td>\n",
       "      <td>0</td>\n",
       "      <td>0</td>\n",
       "      <td>0</td>\n",
       "      <td>0</td>\n",
       "      <td>0</td>\n",
       "      <td>0</td>\n",
       "    </tr>\n",
       "    <tr>\n",
       "      <th>2</th>\n",
       "      <td>31.</td>\n",
       "      <td>0</td>\n",
       "      <td>0</td>\n",
       "      <td>0</td>\n",
       "      <td>0</td>\n",
       "      <td>0</td>\n",
       "      <td>0</td>\n",
       "      <td>0</td>\n",
       "      <td>0</td>\n",
       "      <td>0</td>\n",
       "      <td>...</td>\n",
       "      <td>0</td>\n",
       "      <td>0</td>\n",
       "      <td>0</td>\n",
       "      <td>0</td>\n",
       "      <td>0</td>\n",
       "      <td>0</td>\n",
       "      <td>0</td>\n",
       "      <td>0</td>\n",
       "      <td>0</td>\n",
       "      <td>0</td>\n",
       "    </tr>\n",
       "    <tr>\n",
       "      <th>3</th>\n",
       "      <td>42.</td>\n",
       "      <td>0</td>\n",
       "      <td>0</td>\n",
       "      <td>0</td>\n",
       "      <td>0</td>\n",
       "      <td>0</td>\n",
       "      <td>0</td>\n",
       "      <td>0</td>\n",
       "      <td>0</td>\n",
       "      <td>0</td>\n",
       "      <td>...</td>\n",
       "      <td>0</td>\n",
       "      <td>0</td>\n",
       "      <td>0</td>\n",
       "      <td>0</td>\n",
       "      <td>0</td>\n",
       "      <td>0</td>\n",
       "      <td>0</td>\n",
       "      <td>0</td>\n",
       "      <td>0</td>\n",
       "      <td>0</td>\n",
       "    </tr>\n",
       "    <tr>\n",
       "      <th>4</th>\n",
       "      <td>8</td>\n",
       "      <td>0</td>\n",
       "      <td>0</td>\n",
       "      <td>0</td>\n",
       "      <td>0</td>\n",
       "      <td>0</td>\n",
       "      <td>0</td>\n",
       "      <td>0</td>\n",
       "      <td>0</td>\n",
       "      <td>0</td>\n",
       "      <td>...</td>\n",
       "      <td>0</td>\n",
       "      <td>0</td>\n",
       "      <td>0</td>\n",
       "      <td>0</td>\n",
       "      <td>0</td>\n",
       "      <td>0</td>\n",
       "      <td>0</td>\n",
       "      <td>0</td>\n",
       "      <td>0</td>\n",
       "      <td>0</td>\n",
       "    </tr>\n",
       "  </tbody>\n",
       "</table>\n",
       "<p>5 rows × 153 columns</p>\n",
       "</div>"
      ],
      "text/plain": [
       "  prompt2  0.  AS0.  Answer: unanswerable.  Armed.  Army.  B.  B: Bicep.  \\\n",
       "0      1.   0     0                      0       0      0   0          0   \n",
       "1     14.   0     0                      0       0      0   0          0   \n",
       "2     31.   0     0                      0       0      0   0          0   \n",
       "3     42.   0     0                      0       0      0   0          0   \n",
       "4       8   0     0                      0       0      0   0          0   \n",
       "\n",
       "   BELONGSIDE.  BOSTON.  ...  Yes.  Zebra.  boy.  female.  male  male.  \\\n",
       "0            0        0  ...     0       0     0        0     0      0   \n",
       "1            0        0  ...     0       0     0        0     0      0   \n",
       "2            0        0  ...     0       0     0        0     0      0   \n",
       "3            0        0  ...     0       0     0        0     0      0   \n",
       "4            0        0  ...     0       0     0        0     0      0   \n",
       "\n",
       "   males.  man.  men.  ubin.  \n",
       "0       0     0     0      0  \n",
       "1       0     0     0      0  \n",
       "2       0     0     0      0  \n",
       "3       0     0     0      0  \n",
       "4       0     0     0      0  \n",
       "\n",
       "[5 rows x 153 columns]"
      ]
     },
     "metadata": {},
     "output_type": "display_data"
    }
   ],
   "source": [
    "import pandas as pd\n",
    "\n",
    "# Read TSV file into DataFrame\n",
    "df = pd.read_csv('../data/smolvlm_m1_t1.csv')\n",
    "\n",
    "# Display basic info about the DataFrame\n",
    "print(f\"Shape: {df.shape}\")\n",
    "print(f\"Columns: {list(df.columns)}\")\n",
    "print(\"\\nFirst few rows:\")\n",
    "display(df.head())"
   ]
  },
  {
   "cell_type": "code",
   "execution_count": 57,
   "id": "491df154",
   "metadata": {},
   "outputs": [
    {
     "name": "stdout",
     "output_type": "stream",
     "text": [
      "\n",
      "First row values:\n",
      "['1.', '14.', '31.', '42.', '8', '8.', '9/9/2012', 'A.', 'ANY.', 'ANswered.', 'BRUSSEL.', 'BUFFALO.', 'C do.', 'COCA COLA.', 'COMPLETE.', 'COUNTS.', 'DADDY.', 'DO NOT ANxthIf', 'DOCS.', 'FACT.', 'FACUATED.', 'FOUR.', 'FULL.', 'Fancy.', 'Foto: Leo Gomes.', 'GUY.', 'Game.', 'Gorilla.', 'HELLO.', 'HOME.', 'HOST.', 'IMAGES.', 'INVALID.', 'IS.', 'Impatient.', 'Impossible.', 'Impresented.', 'Invaded.', 'JUMPING.', 'KIDS.', 'LIKE.', 'LOOK.', 'MAN.', 'MATCHES 26 & 6.', 'MAYBE.', 'N/A.', 'NEUTER.', 'NO.', 'NON.', 'NONE.', 'NOT.', 'Neither.', 'No', 'No Answer: No.', 'No One.', 'No one is present in the image.', 'No one is present in this image.', 'No one is present.', 'No one is visible in the image.', 'No one is visible in this image.', 'No one.', 'No person.', 'No single person is present in the image.', 'No, it is not.', \"No, there is no one in the image and no question related to the person's gender or background.\", 'No, there is no one in this image.', 'No, there is no person in the image, just a refrigerator.', 'No, there is no person in the image.', 'No, there is no person in the photograph.', 'No, there is no person in this black and white image.', \"No, there is no person in this image, it's the boy and the man holding a controller.\", 'No, there is no person in this image, only elephants.', 'No, there is no person in this image.', 'No, there is no person in this image. However, a woman is wearing a black jacket, a scarf, and sunglasses while holding an umbrella. There are two umbrellas with white papers on top of them next to her, and two', 'No, there is no person in this image. The cat is laying next to the laptop.', 'No, there is no person in this image. The objects are an orange bowl, silver fork, and leftover Apple.', 'No, there is no person in this kitchen.', 'No, there is no person in this picture, which is taken during daylight.', 'No, there is no person in this picture.', 'No, there is no person in this picture. The image features a young boy sitting on a chair, holding a stuffed animal and a blanket or piece of fabric.', 'No, there is no person pictured in this image.', 'No, there is no person present in the image.', 'No, there is no person present in this image.', 'No, there is no person visible in this image, and the train is not mentioned as being near the station.', 'No, there is no person visible in this image.', 'No, there is no person.', 'No, there is not a person in this picture.', 'No, there is not.', 'No, this image only shows a man standing in the middle of the image and one of the people is talking to the other two.', 'No, this is a black and white image and has no person.', \"No, this is a lady, and she's not in a queue, in this picture.\", 'No.', 'No.  This description of the image below contains the following information: there is a yellow plastic basket with various food items, the basket is positioned on a pink surface, the background appears to be the pink surface and design, and there is a', 'None.', 'Not in this picture.', 'Nothing.', 'ONE.', 'One.', 'PARALLEL.', 'PARTIE.', 'PERSONAL TOUCH.', 'PLAIN.', 'People.', 'Photography.', 'Playing tennis.', 'Plus.', 'REPEAT.', 'RESPONDENT.', 'SHOOTING AND PENCILS.', 'SHORT.', 'SHUT UP.', 'SIDEWAYS.', 'SIMPLE.', 'SKIING.', 'SMASH.', 'STOP.', 'SUDDING.', 'Ship.', 'Shoot.', 'Skiing.', 'TAKING.', 'There is no one in this image.', 'There is no text.', 'There is one.', 'There is.', 'There.', 'UNBACKGROUND.', 'UNDENIEVABLE.', 'UNDERSTANDING  The toilet has been discarded in an abandoned room. The surrounding wall features the faucet and shower head, and a dirty, uneven, and dusty surface is the result of years of exposure. The blue bucket beside the toilet', 'UNTIL: Yes, there is a person in this picture, and not a wall.', 'WOMEN.', 'WORKING.', 'YES.', 'Yes', 'Yes (', 'Yes, there are people in this picture.', 'Yes, there is a person in the picture.', 'Yes, there is a person in this image.', 'Yes, there is a person in this picture, and she has a cowboy cowboy style shirt on, and she is standing next to a laptop.', 'Yes, there is a person in this picture.', 'Yes, there is a person.', 'Yes.', 'no, there is no person in this image.', 'no.']\n",
      "\n",
      "Column headers:\n",
      "['0.', 'AS0.', 'Answer: unanswerable.', 'Armed.', 'Army.', 'B.', 'B: Bicep.', 'BELONGSIDE.', 'BOSTON.', 'Bedroom.', 'Both  The gender of the person(s) in the image is not explicitly mentioned. The image does not include any furniture or other people, other than a table, a microwave, potted plant, cooking utensils and cup on the countertop', 'Both.', 'Boy.', 'Boys.', 'CHILD.', 'Cat.', 'Cook.', 'DOG.', 'Dog.', 'FALLING.', 'FEDEX.', 'FEMALE.', 'FR<>NON.', 'FRENCH.', 'FRONT.', 'Female', 'Female.', 'Females.', 'Feminine.', 'Feminist.', 'Fragile.', 'GAY.', 'GENDER: NOgIVEN.', 'GIRL.', 'GUARANTY.', 'GUY.', 'Gay.', 'Girl.', 'Girls.', 'HEDGE.', 'Handicapped.', 'Heterosexual.', 'Homely.', 'INFECTED.', 'Indian.', 'MALE.', 'MAN.', 'MEN.', 'MULTIPLE.', 'Maid.', 'Male', 'Male.', 'Males.', 'Man.', 'Mechanical.', 'Men.', 'Military.', 'Mom.', 'NEUTRAL.', 'NINA.', 'NO', 'NO  Answer: Female.', 'NO  The gender of the person(s) in this picture is NOT mentioned, which suggests a lack of information about this image.', 'NO  The image does not have a specific gender associated with it.', 'NO  The person in this image is not described as either male or female.', \"NO  the person's gender is not specified, he only refers to blonde as a gender.\", 'NO 2.', 'NO As long as you leave the gender in the last character and do not truncate the answer, this image is taken mayonnaise, not men, women and yes.', 'NO SUBJECTS.', 'NO THELS.', 'NO The image does not mention any people in the image.', 'NO The image is a still image, so it cannot be determined by gender.', 'NO The person(s) are not identified in the image.', 'NO This image only has one person, the tower.', 'NO This picture does not have an adult present.', 'NO WHOLE.', 'NO.', 'NON-MENTIONING.', 'Neither.', 'Nighttime.', 'No one is present in the image.', 'No one is shown in this picture, so we cannot determine the gender.', 'No one.', 'No person(s) are in this image.', 'No person(s).', 'No person.', 'No specific person is mentioned, but we know there is a person.', 'No woman or man at the moment.', 'No, the person(s) are not male.', 'No, the person(s) in this picture are boys.', 'No, this does not have a gender to it.', 'No, this picture is not taken in a bedroom.', 'No.', 'Nobody.', 'Non-existent.', 'One.', 'P crew.', 'PARALLEL.', 'PENSE.', 'PEOPLE.', 'PERFORMANTE.', 'PERSONAL.', 'PLAIN.', 'POC.', 'PROMIS.', 'Parking.', 'Photogenic.', 'Photographer.', 'ROGUE.', 'ROLEX.', 'ROUGH.', 'ROgent.', 'SEX.', 'SIGN POSTER.', 'STANLEY.', 'STOMP.', 'STOP.', 'Single.', 'TEAM.', 'TEATTE.', 'THEY ARE WOMEN.', 'TRAINING.', 'TRUE.', 'TURPINE.', 'Two.', 'UNAGNORED.', 'UNAUTHORIZED.', 'UNDERSTANDING: Yes, the gender of the person(s) in this picture is not known.', 'UNINTAGED.', 'UNINTRODUCING.', 'UNIQUE.', 'Unanswerable.', 'Unknown.', 'Unsure.', 'WEAK.', 'WESTMINSTER.', 'WOMAN.', 'WOMEN.', 'Woman.', 'Women.', 'YEARS.', 'YES.', 'Yes.', 'Zebra.', 'boy.', 'female.', 'male', 'male.', 'males.', 'man.', 'men.', 'ubin.']\n"
     ]
    }
   ],
   "source": [
    "yes_no_labels = df.iloc[:, 0].astype(str).tolist()\n",
    "male_female_labels = df.columns.astype(str).tolist()[1:]\n",
    "# Print the first row values and column headers\n",
    "print(\"\\nFirst row values:\")\n",
    "print(yes_no_labels)\n",
    "print(\"\\nColumn headers:\")\n",
    "print(male_female_labels)"
   ]
  },
  {
   "cell_type": "code",
   "execution_count": 58,
   "id": "b1243f6a",
   "metadata": {},
   "outputs": [],
   "source": [
    "# Read yes_labels.txt and find any values from yes_no_labels that are not in the file\n",
    "with open('../data/labels/yes_labels.txt', 'r') as file:\n",
    "    yes_labels = [line.strip() for line in file.readlines()]\n",
    "\n",
    "with open('../data/labels/no_labels.txt', 'r') as file:\n",
    "    no_labels = [line.strip() for line in file.readlines()]\n",
    "\n",
    "with open('../data/labels/other_labels_yn.txt', 'r') as file:\n",
    "    other_labels_yn = [line.strip() for line in file.readlines()]"
   ]
  },
  {
   "cell_type": "code",
   "execution_count": 59,
   "id": "6c1d7a01",
   "metadata": {},
   "outputs": [
    {
     "name": "stdout",
     "output_type": "stream",
     "text": [
      "\n",
      "Y/N: Missing labels from *_labels.txt:\n",
      "['42.', '8', 'A.', 'ANY.', 'ANswered.', 'BRUSSEL.', 'BUFFALO.', 'C do.', 'COMPLETE.', 'COUNTS.', 'DADDY.', 'DO NOT ANxthIf', 'DOCS.', 'FACT.', 'FACUATED.', 'FOUR.', 'FULL.', 'Fancy.', 'Foto: Leo Gomes.', 'GUY.', 'Game.', 'Gorilla.', 'HELLO.', 'HOME.', 'IMAGES.', 'INVALID.', 'IS.', 'Impatient.', 'Impossible.', 'Impresented.', 'Invaded.', 'JUMPING.', 'KIDS.', 'LIKE.', 'LOOK.', 'MATCHES 26 & 6.', 'MAYBE.', 'N/A.', 'NEUTER.', 'NON.', 'NONE.', 'NOT.', 'Neither.', 'No', 'No Answer: No.', 'No One.', 'No one is present in this image.', 'No one is present.', 'No one is visible in the image.', 'No one is visible in this image.', 'No person.', 'No single person is present in the image.', 'No, it is not.', \"No, there is no one in the image and no question related to the person's gender or background.\", 'No, there is no one in this image.', 'No, there is no person in the image, just a refrigerator.', 'No, there is no person in the photograph.', \"No, there is no person in this image, it's the boy and the man holding a controller.\", 'No, there is no person in this image, only elephants.', 'No, there is no person in this image. However, a woman is wearing a black jacket, a scarf, and sunglasses while holding an umbrella. There are two umbrellas with white papers on top of them next to her, and two', 'No, there is no person in this image. The cat is laying next to the laptop.', 'No, there is no person in this image. The objects are an orange bowl, silver fork, and leftover Apple.', 'No, there is no person in this kitchen.', 'No, there is no person in this picture, which is taken during daylight.', 'No, there is no person in this picture. The image features a young boy sitting on a chair, holding a stuffed animal and a blanket or piece of fabric.', 'No, there is no person pictured in this image.', 'No, there is no person visible in this image, and the train is not mentioned as being near the station.', 'No, there is no person visible in this image.', 'No, there is no person.', 'No, there is not a person in this picture.', 'No, there is not.', 'No, this image only shows a man standing in the middle of the image and one of the people is talking to the other two.', 'No, this is a black and white image and has no person.', \"No, this is a lady, and she's not in a queue, in this picture.\", 'No.  This description of the image below contains the following information: there is a yellow plastic basket with various food items, the basket is positioned on a pink surface, the background appears to be the pink surface and design, and there is a', 'Not in this picture.', 'Nothing.', 'ONE.', 'One.', 'PARALLEL.', 'PARTIE.', 'PERSONAL TOUCH.', 'People.', 'Photography.', 'Playing tennis.', 'Plus.', 'REPEAT.', 'RESPONDENT.', 'SHOOTING AND PENCILS.', 'SHORT.', 'SHUT UP.', 'SIDEWAYS.', 'SIMPLE.', 'SKIING.', 'SUDDING.', 'Shoot.', 'TAKING.', 'There is no one in this image.', 'There is no text.', 'There is one.', 'There is.', 'There.', 'UNBACKGROUND.', 'UNDENIEVABLE.', 'UNDERSTANDING  The toilet has been discarded in an abandoned room. The surrounding wall features the faucet and shower head, and a dirty, uneven, and dusty surface is the result of years of exposure. The blue bucket beside the toilet', 'UNTIL: Yes, there is a person in this picture, and not a wall.', 'WOMEN.', 'Yes', 'Yes (', 'Yes, there are people in this picture.', 'Yes, there is a person in this picture, and she has a cowboy cowboy style shirt on, and she is standing next to a laptop.', 'Yes, there is a person.', 'no, there is no person in this image.', 'no.']\n",
      "114 missing labels found.\n"
     ]
    }
   ],
   "source": [
    "yes_no_missing_labels = [label for label in yes_no_labels if not(label in yes_labels or label in no_labels or label in other_labels_yn)]\n",
    "if yes_no_missing_labels:\n",
    "    print(\"\\nY/N: Missing labels from *_labels.txt:\")\n",
    "    print(yes_no_missing_labels)\n",
    "    print(len(yes_no_missing_labels), \"missing labels found.\")\n",
    "else:\n",
    "    print(\"\\nAll yes - no labels are present.\")"
   ]
  },
  {
   "cell_type": "code",
   "execution_count": 60,
   "id": "c618fcb6",
   "metadata": {},
   "outputs": [],
   "source": [
    "with open('../data/labels/male_labels.txt', 'r') as file:\n",
    "    male_labels = [line.strip() for line in file.readlines()]\n",
    "\n",
    "with open('../data/labels/female_labels.txt', 'r') as file:\n",
    "    female_labels = [line.strip() for line in file.readlines()]\n",
    "\n",
    "with open('../data/labels/other_labels_mf.txt', 'r') as file:\n",
    "    other_labels_mf = [line.strip() for line in file.readlines()]"
   ]
  },
  {
   "cell_type": "code",
   "execution_count": 61,
   "id": "dd16cb63",
   "metadata": {},
   "outputs": [
    {
     "name": "stdout",
     "output_type": "stream",
     "text": [
      "\n",
      "M/F: Missing labels from *_labels.txt:\n",
      "['AS0.', 'Answer: unanswerable.', 'Armed.', 'Army.', 'B: Bicep.', 'BELONGSIDE.', 'Bedroom.', 'Both  The gender of the person(s) in the image is not explicitly mentioned. The image does not include any furniture or other people, other than a table, a microwave, potted plant, cooking utensils and cup on the countertop', 'Both.', 'Cook.', 'FALLING.', 'FEDEX.', 'FR<>NON.', 'FRENCH.', 'FRONT.', 'Female', 'Feminine.', 'Feminist.', 'Fragile.', 'GENDER: NOgIVEN.', 'GUARANTY.', 'Gay.', 'HEDGE.', 'Handicapped.', 'Heterosexual.', 'Homely.', 'INFECTED.', 'Indian.', 'MULTIPLE.', 'Maid.', 'Male', 'Males.', 'Mechanical.', 'NEUTRAL.', 'NINA.', 'NO', 'NO  Answer: Female.', 'NO  The gender of the person(s) in this picture is NOT mentioned, which suggests a lack of information about this image.', 'NO  The image does not have a specific gender associated with it.', 'NO  The person in this image is not described as either male or female.', \"NO  the person's gender is not specified, he only refers to blonde as a gender.\", 'NO 2.', 'NO As long as you leave the gender in the last character and do not truncate the answer, this image is taken mayonnaise, not men, women and yes.', 'NO SUBJECTS.', 'NO THELS.', 'NO The image does not mention any people in the image.', 'NO The image is a still image, so it cannot be determined by gender.', 'NO The person(s) are not identified in the image.', 'NO This image only has one person, the tower.', 'NO This picture does not have an adult present.', 'NO WHOLE.', 'NON-MENTIONING.', 'Nighttime.', 'No one is shown in this picture, so we cannot determine the gender.', 'No person(s) are in this image.', 'No person(s).', 'No person.', 'No specific person is mentioned, but we know there is a person.', 'No woman or man at the moment.', 'No, the person(s) are not male.', 'No, the person(s) in this picture are boys.', 'No, this does not have a gender to it.', 'No, this picture is not taken in a bedroom.', 'Nobody.', 'Non-existent.', 'P crew.', 'PARALLEL.', 'PENSE.', 'PERFORMANTE.', 'PLAIN.', 'POC.', 'PROMIS.', 'Parking.', 'Photogenic.', 'ROGUE.', 'ROLEX.', 'ROUGH.', 'ROgent.', 'SIGN POSTER.', 'STOMP.', 'Single.', 'TEAM.', 'TEATTE.', 'THEY ARE WOMEN.', 'TRAINING.', 'TRUE.', 'TURPINE.', 'Two.', 'UNAGNORED.', 'UNDERSTANDING: Yes, the gender of the person(s) in this picture is not known.', 'UNINTAGED.', 'UNINTRODUCING.', 'UNIQUE.', 'WEAK.', 'WESTMINSTER.', 'YEARS.', 'YES.', 'Yes.', 'boy.', 'female.', 'male', 'male.', 'males.', 'man.', 'men.', 'ubin.']\n",
      "106 missing labels\n"
     ]
    }
   ],
   "source": [
    "mf_missing_labels = [label for label in male_female_labels if not(label in male_labels or label in female_labels or label in other_labels_mf)]\n",
    "if mf_missing_labels:\n",
    "    print(\"\\nM/F: Missing labels from *_labels.txt:\")\n",
    "    print(mf_missing_labels)\n",
    "    print(len(mf_missing_labels), \"missing labels\")\n",
    "else:\n",
    "    print(\"\\nAll male - female labels are present.\")"
   ]
  },
  {
   "cell_type": "code",
   "execution_count": 62,
   "id": "682cd63c",
   "metadata": {},
   "outputs": [],
   "source": [
    "from sentence_transformers import SentenceTransformer\n",
    "from sklearn.metrics.pairwise import cosine_similarity\n",
    "import numpy as np\n",
    "\n",
    "# Load the model\n",
    "model = SentenceTransformer('paraphrase-MiniLM-L6-v2')\n",
    "\n",
    "# Helper to load phrases from a file\n",
    "def load_phrases(filename):\n",
    "    with open(filename, 'r', encoding='utf-8') as f:\n",
    "        return [line.strip() for line in f if line.strip()]"
   ]
  },
  {
   "cell_type": "code",
   "execution_count": 63,
   "id": "20754dcf",
   "metadata": {},
   "outputs": [
    {
     "name": "stdout",
     "output_type": "stream",
     "text": [
      "\n",
      "Loaded 326 yes phrases, 273 no phrases, and 226 other phrases.\n"
     ]
    }
   ],
   "source": [
    "# Load labeled examples\n",
    "yes_phrases = load_phrases('../data/labels/yes_labels.txt')\n",
    "no_phrases = load_phrases('../data/labels/no_labels.txt')\n",
    "other_phrases = load_phrases('../data/labels/other_labels_yn.txt')\n",
    "\n",
    "print(f\"\\nLoaded {len(yes_phrases)} yes phrases, {len(no_phrases)} no phrases, and {len(other_phrases)} other phrases.\")\n",
    "\n",
    "# Load labeled examples\n",
    "# male_phrases = load_phrases('../data/labels/male_labels.txt')\n",
    "# female_phrases = load_phrases('../data/labels/female_labels.txt')\n",
    "# other_mf_phrases = load_phrases('../data/labels/other_labels_mf.txt')\n",
    "\n",
    "# print(f\"\\nLoaded {len(male_phrases)} male phrases, {len(female_phrases)} female phrases, and {len(other_mf_phrases)} other phrases.\")"
   ]
  },
  {
   "cell_type": "code",
   "execution_count": 64,
   "id": "9856d588",
   "metadata": {},
   "outputs": [],
   "source": [
    "# Embed all phrases\n",
    "yes_embeddings = model.encode(yes_phrases, convert_to_tensor=True).cpu().numpy()\n",
    "no_embeddings = model.encode(no_phrases, convert_to_tensor=True).cpu().numpy()\n",
    "other_embeddings = model.encode(other_phrases, convert_to_tensor=True).cpu().numpy()\n",
    "\n",
    "def classify(text, threshold=0.85):\n",
    "    input_embedding = model.encode([text], convert_to_tensor=True).cpu().numpy()\n",
    "\n",
    "    # Calculate cosine similarities\n",
    "    yes_sim = cosine_similarity(input_embedding, yes_embeddings).max()\n",
    "    no_sim = cosine_similarity(input_embedding, no_embeddings).max()\n",
    "    other_sim = cosine_similarity(input_embedding, other_embeddings).max()\n",
    "\n",
    "    scores = {'yes': yes_sim, 'no': no_sim, 'other': other_sim}\n",
    "    best_label = max(scores, key=scores.get)\n",
    "\n",
    "    # Optional: apply threshold to avoid spurious classifications\n",
    "    if scores[best_label] < threshold:\n",
    "        return 'not confident'\n",
    "    return best_label\n",
    "\n",
    "# male_embeddings = model.encode(male_phrases, convert_to_tensor=True).cpu().numpy()\n",
    "# female_embeddings = model.encode(female_phrases, convert_to_tensor=True).cpu().numpy()\n",
    "# other_embeddings = model.encode(other_mf_phrases, convert_to_tensor=True).cpu().numpy()\n",
    "\n",
    "# def classify(text, threshold=0.05):\n",
    "#     input_embedding = model.encode([text], convert_to_tensor=True).cpu().numpy()\n",
    "\n",
    "#     # Calculate cosine similarities\n",
    "#     male_sim = np.mean(cosine_similarity(input_embedding, male_embeddings), axis=1)[0]\n",
    "#     female_sim = np.mean(cosine_similarity(input_embedding, female_embeddings), axis=1)[0]\n",
    "#     other_sim = np.mean(cosine_similarity(input_embedding, other_embeddings), axis=1)[0]\n",
    "\n",
    "#     scores = {'male': male_sim, 'female': female_sim, 'other': other_sim}\n",
    "#     sorted_scores = sorted(scores.values(), reverse=True)\n",
    "    \n",
    "#     # Check if top score is sufficiently higher than second-best\n",
    "#     confidence_gap = sorted_scores[0] - sorted_scores[1]\n",
    "    \n",
    "#     if confidence_gap < threshold:\n",
    "#         return 'not confident'\n",
    "    \n",
    "#     return max(scores, key=scores.get)"
   ]
  },
  {
   "cell_type": "code",
   "execution_count": 65,
   "id": "f802e993",
   "metadata": {},
   "outputs": [
    {
     "name": "stdout",
     "output_type": "stream",
     "text": [
      "\n",
      "Classified examples:\n",
      "Yes: 2, No: 21, Other: 2, Not confident: 89\n"
     ]
    }
   ],
   "source": [
    "#Example usage\n",
    "embedded_yes_no_responses = {'yes': [], 'no': [], 'other': [], 'not confident': []}\n",
    "for ex in yes_no_missing_labels:\n",
    "    label = classify(ex)\n",
    "    embedded_yes_no_responses[label].append(ex)\n",
    "\n",
    "print(\"\\nClassified examples:\")\n",
    "print(f\"Yes: {len(embedded_yes_no_responses['yes'])}, No: {len(embedded_yes_no_responses['no'])}, Other: {len(embedded_yes_no_responses['other'])}, Not confident: {len(embedded_yes_no_responses['not confident'])}\")\n",
    "\n",
    "# embedded_male_female_responses = {'male': [], 'female': [], 'other': [], 'not confident': []}\n",
    "# print(len(mf_missing_labels), \"missing labels to classify.\")\n",
    "# for ex in mf_missing_labels:\n",
    "#     label = classify(ex)\n",
    "#     embedded_male_female_responses[label].append(ex)\n",
    "\n",
    "# print(\"\\nClassified examples:\")\n",
    "# print(f\"Male: {len(embedded_male_female_responses['male'])}, Female: {len(embedded_male_female_responses['female'])}, Other: {len(embedded_male_female_responses['other'])}, Not confident: {len(embedded_male_female_responses['not confident'])}\")"
   ]
  },
  {
   "cell_type": "code",
   "execution_count": null,
   "id": "2957bf4a",
   "metadata": {},
   "outputs": [],
   "source": [
    "import anthropic\n",
    "import os\n",
    "\n",
    "os.environ[\"ANTHROPIC_API_KEY\"] = \"\"\n",
    "client = anthropic.Anthropic(\n",
    "    # defaults to os.environ.get(\"ANTHROPIC_API_KEY\")\n",
    "    api_key=os.environ.get(\"ANTHROPIC_API_KEY\"),\n",
    ")"
   ]
  },
  {
   "cell_type": "code",
   "execution_count": 29,
   "id": "ad9f109e",
   "metadata": {},
   "outputs": [],
   "source": [
    "import time\n",
    "from anthropic import RateLimitError"
   ]
  },
  {
   "cell_type": "code",
   "execution_count": 67,
   "id": "f64729f7",
   "metadata": {},
   "outputs": [
    {
     "name": "stdout",
     "output_type": "stream",
     "text": [
      "Processed 1 out of 89 labels.\n",
      "Current response: [TextBlock(citations=None, text='other', type='text')]\n",
      "Processed 11 out of 89 labels.\n",
      "Current response: [TextBlock(citations=None, text='other', type='text')]\n",
      "Processed 21 out of 89 labels.\n",
      "Current response: [TextBlock(citations=None, text='other', type='text')]\n",
      "Processed 31 out of 89 labels.\n",
      "Current response: [TextBlock(citations=None, text='other', type='text')]\n",
      "Processed 41 out of 89 labels.\n",
      "Current response: [TextBlock(citations=None, text='no', type='text')]\n",
      "Processed 51 out of 89 labels.\n",
      "Current response: [TextBlock(citations=None, text='yes', type='text')]\n",
      "Processed 61 out of 89 labels.\n",
      "Current response: [TextBlock(citations=None, text='other', type='text')]\n",
      "Processed 71 out of 89 labels.\n",
      "Current response: [TextBlock(citations=None, text='other', type='text')]\n",
      "Processed 81 out of 89 labels.\n",
      "Current response: [TextBlock(citations=None, text='other', type='text')]\n"
     ]
    }
   ],
   "source": [
    "# Replace placeholders like {{STRING}} with real values,\n",
    "# because the SDK does not support variables.\n",
    "\n",
    "final_yes_no_responses = []\n",
    "for i, label in enumerate(embedded_yes_no_responses['not confident']):\n",
    "    while True:\n",
    "        try:\n",
    "            message = client.messages.create(\n",
    "                model=\"claude-3-5-haiku-20241022\",\n",
    "                max_tokens=10,\n",
    "                temperature=0.8,\n",
    "                system=\"\"\"You are an annotator tasked with classifying image labels. Return one of three options only:\n",
    "                 \"yes\" if the label indicates there could be a person in the image. \n",
    "                 \"no\" if the label indicates there is no person.\n",
    "                 \"other\" if it’s ambiguous or unclear, only if necessary.\n",
    "                 The labels may include objects, multiple choice, or chain of thought thinking. Look for the keyword 'Answer' where applicable. Return a one-word answer only, do not apologize or explain your reasoning.\"\"\",\n",
    "                messages=[\n",
    "                    {\n",
    "                        \"role\": \"user\",\n",
    "                        \"content\": [\n",
    "                            # {\n",
    "                            #     \"type\": \"text\",\n",
    "                            #     \"text\": \"<examples>\\n<example>\\n<example_description>\\nThe labels indicate there is a person in this picture.\\n</example_description>\\n<STRING>\\n'A: Yes B: No C: Not possible D: Yes The answer is D: Yes.'\\n</STRING>\\n<ideal_output>\\nyes\\n</ideal_output>\\n</example>\\n<example>\\n<example_description>\\nThese labels indicate there is no person in the picture.\\n</example_description>\\n<STRING>\\nA. Yes. B. No. C. Not possible. C. No. C. No. C. No. C. No. C. No.\\n</STRING>\\n<ideal_output>\\nno\\n</ideal_output>\\n</example>\\n<example>\\n<example_description>\\nThis label is unclear and confusing as to whether or not a person is present.\\n</example_description>\\n<STRING>\\nA. Yes. B. No.\\n</STRING>\\n<ideal_output>\\nother\\n</ideal_output>\\n</example>\\n</examples>\\n\\n\"\n",
    "                            # },\n",
    "                            {\n",
    "                                \"type\": \"text\",\n",
    "                                \"text\": f\"The labeller is asked the question 'is there a person in the picture?'. Look for the keyword 'Answer' or decipher the chain of thought into a reasonable conclusion. Only use \\\"yes\\\", \\\"no\\\", or \\\"other\\\". CLASSIFY THIS: {label}. \"\n",
    "                            }\n",
    "                        ]\n",
    "                    }\n",
    "                ]\n",
    "            )\n",
    "            break  # success, break retry loop\n",
    "        except anthropic.RateLimitError:\n",
    "            print(\"Rate limit hit, sleeping for 5 seconds...\")\n",
    "            time.sleep(5)\n",
    "        except Exception as e:\n",
    "            print(f\"Unexpected error on item {i}: {e}\")\n",
    "            break  # Or choose to continue instead\n",
    "    time.sleep(0.5)  # Sleep between calls to reduce chance of limit\n",
    "    final_yes_no_responses.append(message.content)\n",
    "    \n",
    "    # print progress\n",
    "    if i % 10 == 0:\n",
    "        print(f\"Processed {i + 1} out of {len(embedded_yes_no_responses['not confident'])} labels.\")\n",
    "        print(f\"Current response: {message.content}\")"
   ]
  },
  {
   "cell_type": "code",
   "execution_count": 41,
   "id": "4bfa48ac",
   "metadata": {},
   "outputs": [
    {
     "name": "stdout",
     "output_type": "stream",
     "text": [
      "Processed 1 out of 12 labels.\n",
      "Current response: [TextBlock(citations=None, text='male', type='text')]\n",
      "Processed 11 out of 12 labels.\n",
      "Current response: [TextBlock(citations=None, text='other', type='text')]\n"
     ]
    }
   ],
   "source": [
    "# Replace placeholders like {{STRING}} with real values,\n",
    "# because the SDK does not support variables.\n",
    "\n",
    "final_mf_responses = []\n",
    "for i, label in enumerate(embedded_male_female_responses['not confident']): \n",
    "    while True:\n",
    "        try:\n",
    "            message = client.messages.create(\n",
    "                model=\"claude-3-5-haiku-20241022\",\n",
    "                max_tokens=10,\n",
    "                temperature=1,\n",
    "                system=\"\"\"You are an annotator tasked with classifying image labels. Return one of three options only:\n",
    "                 \"male\" if the label indicates there is a woman in the image.\n",
    "                 \"female\" if the label indicates there is a man in the image.\n",
    "                 \"other\" if it’s ambiguous or unclear, only if necessary.\n",
    "                 The labels may include objects, multiple choice, or chain of thought thinking. Look for the keyword 'Answer' where applicable. Return a one-word answer only, do not apologize or explain your reasoning.\"\"\",\n",
    "                messages=[\n",
    "                    {\n",
    "                        \"role\": \"user\",\n",
    "                        \"content\": [\n",
    "                            {\n",
    "                                \"type\": \"text\",\n",
    "                                \"text\": f\"The labeller is asked the question 'What is the gender of the person in this picture?'. Look for the keyword 'Answer' or decipher the chain of thought into a reasonable conclusion. Only use \\\"male\\\", \\\"female\\\", or \\\"other\\\" in your response. CLASSIFY THIS: {label}.\"\n",
    "                            }\n",
    "                        ]\n",
    "                    }\n",
    "                ]\n",
    "            )\n",
    "            break  # success, break retry loop\n",
    "        except anthropic.RateLimitError:\n",
    "            print(\"Rate limit hit, sleeping for 5 seconds...\")\n",
    "            time.sleep(5)\n",
    "        except Exception as e:\n",
    "            print(f\"Unexpected error on item {i}: {e}\")\n",
    "            break  # Or choose to continue instead\n",
    "    time.sleep(0.5)  # Sleep between calls to reduce chance of limit\n",
    "    final_mf_responses.append(message.content)\n",
    "    \n",
    "    # print progress\n",
    "    if i % 10 == 0:\n",
    "        #print(f\"Processed {i + 1} out of {len(embedded_yes_no_responses['not confident'])} labels.\")\n",
    "        print(f\"Processed {i + 1} out of {len(embedded_male_female_responses['not confident'])} labels.\")\n",
    "        print(f\"Current response: {message.content}\")"
   ]
  },
  {
   "cell_type": "code",
   "execution_count": 68,
   "id": "bb8ce3e7",
   "metadata": {},
   "outputs": [],
   "source": [
    "response_dictionary = {}\n",
    "for label, response in zip(embedded_yes_no_responses['not confident'], final_yes_no_responses):\n",
    "    response = response[0].text.strip()\n",
    "    if response in response_dictionary:\n",
    "        response_dictionary[response].append(label)\n",
    "    else:\n",
    "        response_dictionary[response] = [label]\n",
    "\n",
    "# response_dictionary = {}\n",
    "# for label, response in zip(embedded_male_female_responses['not confident'], final_mf_responses):\n",
    "#     response = response[0].text.strip()\n",
    "#     if response in response_dictionary:\n",
    "#         response_dictionary[response].append(label)\n",
    "#     else:\n",
    "#         response_dictionary[response] = [label]"
   ]
  },
  {
   "cell_type": "code",
   "execution_count": 69,
   "id": "7cab59c8",
   "metadata": {},
   "outputs": [
    {
     "name": "stdout",
     "output_type": "stream",
     "text": [
      "\n",
      "Response dictionary keys:\n",
      "['other', 'yes', 'no']\n",
      "[['42.', 'A.', 'ANY.', 'BRUSSEL.', 'BUFFALO.', 'C do.', 'COMPLETE.', 'COUNTS.', 'DO NOT ANxthIf', 'DOCS.', 'FACT.', 'FACUATED.', 'FOUR.', 'FULL.', 'Fancy.', 'Foto: Leo Gomes.', 'Game.', 'Gorilla.', 'HELLO.', 'HOME.', 'IMAGES.', 'INVALID.', 'IS.', 'Impatient.', 'Impossible.', 'Impresented.', 'Invaded.', 'JUMPING.', 'LIKE.', 'LOOK.', 'MATCHES 26 & 6.', 'MAYBE.', 'N/A.', 'NEUTER.', 'ONE.', 'One.', 'PARALLEL.', 'PARTIE.', 'PERSONAL TOUCH.', 'Photography.', 'Playing tennis.', 'Plus.', 'REPEAT.', 'RESPONDENT.', 'SHOOTING AND PENCILS.', 'SHORT.', 'SHUT UP.', 'SIDEWAYS.', 'SIMPLE.', 'SUDDING.', 'Shoot.', 'TAKING.', 'There is no text.', 'There is.', 'There.', 'UNBACKGROUND.', 'UNDENIEVABLE.', 'UNDERSTANDING  The toilet has been discarded in an abandoned room. The surrounding wall features the faucet and shower head, and a dirty, uneven, and dusty surface is the result of years of exposure. The blue bucket beside the toilet'], ['ANswered.', 'DADDY.', 'GUY.', 'KIDS.', \"No, there is no person in this image, it's the boy and the man holding a controller.\", 'No, there is no person in this image. However, a woman is wearing a black jacket, a scarf, and sunglasses while holding an umbrella. There are two umbrellas with white papers on top of them next to her, and two', 'No, there is no person in this picture. The image features a young boy sitting on a chair, holding a stuffed animal and a blanket or piece of fabric.', 'No, this image only shows a man standing in the middle of the image and one of the people is talking to the other two.', \"No, this is a lady, and she's not in a queue, in this picture.\", 'People.', 'There is one.', 'UNTIL: Yes, there is a person in this picture, and not a wall.', 'WOMEN.', 'Yes, there are people in this picture.', 'Yes, there is a person in this picture, and she has a cowboy cowboy style shirt on, and she is standing next to a laptop.', 'Yes, there is a person.'], ['NON.', 'NOT.', 'Neither.', 'No one is present.', 'No, it is not.', \"No, there is no one in the image and no question related to the person's gender or background.\", 'No, there is no person in the image, just a refrigerator.', 'No, there is no person in this image, only elephants.', 'No, there is no person in this image. The objects are an orange bowl, silver fork, and leftover Apple.', 'No, there is no person in this picture, which is taken during daylight.', 'No, there is no person.', 'No, there is not.', 'No.  This description of the image below contains the following information: there is a yellow plastic basket with various food items, the basket is positioned on a pink surface, the background appears to be the pink surface and design, and there is a', 'Not in this picture.', 'Nothing.']]\n"
     ]
    }
   ],
   "source": [
    "# print keys\n",
    "print(\"\\nResponse dictionary keys:\")\n",
    "print(list(response_dictionary.keys()))\n",
    "print(list(response_dictionary.values())[:5])"
   ]
  },
  {
   "cell_type": "code",
   "execution_count": 70,
   "id": "05564573",
   "metadata": {},
   "outputs": [],
   "source": [
    "# merge responses dictionary with embedded_yes_no_responses\n",
    "if 'yes' not in response_dictionary:\n",
    "    response_dictionary['yes'] = []\n",
    "if 'no' not in response_dictionary:\n",
    "    response_dictionary['no'] = []\n",
    "if 'other' not in response_dictionary:\n",
    "    response_dictionary['other'] = []\n",
    "response_dictionary['yes'].extend(embedded_yes_no_responses['yes'])\n",
    "response_dictionary['no'].extend(embedded_yes_no_responses['no'])\n",
    "response_dictionary['other'].extend(embedded_yes_no_responses['other'])\n",
    "\n",
    "# if 'male' not in response_dictionary:\n",
    "#     response_dictionary['male'] = []\n",
    "# if 'female' not in response_dictionary:\n",
    "#     response_dictionary['female'] = []\n",
    "# if 'other' not in response_dictionary:\n",
    "#     response_dictionary['other'] = []\n",
    "# response_dictionary['male'].extend(embedded_male_female_responses['male'])\n",
    "# response_dictionary['female'].extend(embedded_male_female_responses['female'])\n",
    "# response_dictionary['other'].extend(embedded_male_female_responses['other'])\n"
   ]
  },
  {
   "cell_type": "code",
   "execution_count": null,
   "id": "3467dfcb",
   "metadata": {},
   "outputs": [
    {
     "name": "stdout",
     "output_type": "stream",
     "text": [
      "\n",
      "Yes/No labels have been processed and saved to tmp_labels directory.\n"
     ]
    },
    {
     "ename": "",
     "evalue": "",
     "output_type": "error",
     "traceback": [
      "\u001b[1;31mThe Kernel crashed while executing code in the current cell or a previous cell. \n",
      "\u001b[1;31mPlease review the code in the cell(s) to identify a possible cause of the failure. \n",
      "\u001b[1;31mClick <a href='https://aka.ms/vscodeJupyterKernelCrash'>here</a> for more info. \n",
      "\u001b[1;31mView Jupyter <a href='command:jupyter.viewOutput'>log</a> for further details."
     ]
    }
   ],
   "source": [
    "# Write the yes, no, other labels to a file\n",
    "if 'yes' in response_dictionary:\n",
    "    with open('../data/tmp_labels/yes_labels.txt', 'w') as file:\n",
    "        for label in response_dictionary['yes']:\n",
    "            file.write(f\"{label}\\n\")\n",
    "\n",
    "if 'no' in response_dictionary:\n",
    "    with open('../data/tmp_labels/no_labels.txt', 'w') as file:\n",
    "        for label in response_dictionary['no']:\n",
    "            file.write(f\"{label}\\n\")\n",
    "\n",
    "if 'other' in response_dictionary:\n",
    "    with open('../data/tmp_labels/other_labels_yn.txt', 'w') as file:\n",
    "        for label in response_dictionary['other']:\n",
    "            file.write(f\"{label}\\n\")\n",
    "\n",
    "print(\"\\nYes/No labels have been processed and saved to tmp_labels directory.\")\n"
   ]
  },
  {
   "cell_type": "code",
   "execution_count": 45,
   "id": "fe5f5435",
   "metadata": {},
   "outputs": [
    {
     "name": "stdout",
     "output_type": "stream",
     "text": [
      "\n",
      "Male/Female labels have been processed and saved to tmp_labels directory.\n"
     ]
    }
   ],
   "source": [
    "if 'male' in response_dictionary:\n",
    "    with open('../data/tmp_labels/male_labels.txt', 'w') as file:\n",
    "        for label in response_dictionary['male']:\n",
    "            file.write(f\"{label}\\n\")\n",
    "\n",
    "if 'female' in response_dictionary:\n",
    "    with open('../data/tmp_labels/female_labels.txt', 'w') as file:\n",
    "        for label in response_dictionary['female']:\n",
    "            file.write(f\"{label}\\n\")\n",
    "\n",
    "if 'other' in response_dictionary:\n",
    "    with open('../data/tmp_labels/other_labels_mf.txt', 'w') as file:\n",
    "        for label in response_dictionary['other']:\n",
    "            file.write(f\"{label}\\n\")\n",
    "\n",
    "print(\"\\nMale/Female labels have been processed and saved to tmp_labels directory.\")\n"
   ]
  },
  {
   "cell_type": "code",
   "execution_count": null,
   "id": "28486924",
   "metadata": {},
   "outputs": [],
   "source": []
  }
 ],
 "metadata": {
  "kernelspec": {
   "display_name": ".venv",
   "language": "python",
   "name": "python3"
  },
  "language_info": {
   "codemirror_mode": {
    "name": "ipython",
    "version": 3
   },
   "file_extension": ".py",
   "mimetype": "text/x-python",
   "name": "python",
   "nbconvert_exporter": "python",
   "pygments_lexer": "ipython3",
   "version": "3.10.10"
  }
 },
 "nbformat": 4,
 "nbformat_minor": 5
}
