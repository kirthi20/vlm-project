{
 "cells": [
  {
   "cell_type": "code",
   "execution_count": 1,
   "id": "85f9c7f9",
   "metadata": {},
   "outputs": [
    {
     "name": "stdout",
     "output_type": "stream",
     "text": [
      "Shape: (149, 234)\n",
      "Columns: ['prompt2', 'AID WALL.', 'ASUS.', 'Airliner.', 'Airplane.', 'Airplanes.', 'BARKETS.', 'BARRELS.', 'BASEBALL.', 'BEAR.', 'BEEP.', 'BEES.', 'BELT.', 'BEYOND.', 'BOOK BUS.', 'BOOKLER.', 'BOSTON.', 'BOX.', 'BRS.', 'Baseball.', 'Bathroom.', 'Bear.', 'Bears.', 'Biplane.', 'Bird.', 'Birds.', 'Black.', 'Blonde.', \"Boy's Best.\", 'Boy.', 'Boys.', 'Bravo.', 'Bus.', 'C0PT.', 'CAT.', 'CATS.', 'CH.', 'CHAINED.', 'CHANTS.', 'CHARGED.', 'CHILDREN.', 'CHLORINE.', 'COACHES.', 'COCA COLA.', 'CONFIDENTIAL.', 'Carrots.', 'Cat.', 'Cats.', 'Chef.', 'Child.', 'Children at play.', 'Children.', 'Christian.', 'City.', 'Clown.', 'Couple.', 'Cow.', 'Cows.', 'DAY.', 'DEAD.', 'DIVENOR.', 'DOLLAR.', 'DONALD CANDIDHUS.', 'DYING.', 'Darth Vader.', 'Dog.', 'Dogs.', 'Dolphin.', 'Ducks.', 'Dummies.', 'EXPERTS ONLY?', 'Elephant.', 'Elephants.', 'Engineer.', 'Engineering.', 'FEMALE.', 'FICTION.', 'FIGHTING FISHING.', 'FISHPANG TCE.', 'FORTY.', 'FULL.', 'Feline.', 'Female.', 'Females.', 'Fireman.', 'Furniture.', 'GB.', 'GIRL.', 'GORDS JEWELRY.', 'Gender: Female.', 'Giraffe and zebra.', 'Giraffe.', 'Giraffes.', 'Girl.', 'Girls.', 'Gourmet.', 'Graffiti.', 'Green.', 'HATED.', 'HUMAN.', 'Horse.', 'House.', 'Humans.', 'IMAG30305855', 'JEALOAND.', 'JOKER.', 'JUPITER.', 'Jet.', 'Jets.', 'Jokler.', 'Kid.', 'Kite.', 'Kitten.', 'MACHADOS.', 'MALE.', 'MAN.', 'MEN.', 'METRO.', 'MOMENTARO.', 'MOMENTTIME.', 'MULTI.', 'MUSICIAN.', 'Male.', 'Man.', 'Meat.', 'Medical.', 'Men.', 'Metro.', 'Military.', 'Model.', 'Mom.', 'Monkey.', 'Mother.', 'Motorcycles.', 'N/A.', 'NO PARKING.', 'NO.', 'NOMINATED.', 'OCEANIC.', 'Orkin.', 'Ostrich.', 'P.', 'PEOPLE.', 'PERSON.', 'PERSONALITY.', 'PERSONNS.', 'PERSONns.', 'POSSIBILITIES.', 'PSU.', 'PUBLIC.', 'PUNCHES.', 'PUPPY.', 'Parrot.', 'Passenger.', 'Peacock.', 'People.', 'Person.', 'Photograph.', 'Photographer.', 'Pilot.', 'Pizza.', 'Pizzas.', 'Plane.', 'Polar bear.', 'Police.', 'Poster.', 'Puppy.', 'REFRESHMENT.', 'REVIEWS.', 'Robot.', 'SALESMAN.', 'SALMON.', 'SAX.', 'SEA.', 'SEPIKA.', 'SEVERAL.', 'SEXUAL.', 'SIC.', 'SOMETHING.', 'SONS.', 'SPOON.', 'STAGTERS.', 'STARSHIROO.', 'STOP.', 'SUBJECT: Gender', 'SUBJECT: Gender: Female.', 'Scooter.', 'Sculpture.', 'Seagulls.', 'She/She/He/It.', 'Sheep.', 'Ship.', 'Soccer.', 'Soldier.', 'Striped.', 'Surfer.', 'Surfers.', 'Swiss.', 'TAXI.', 'THOUGH.', 'TUG.', 'Tattooist.', 'The kitchen is the main focus of the image. It is a modern, sleek kitchen with a focus on functionality and design. The kitchen features a large, stainless steel range hood, which is a common feature in modern kitchens to provide heat and ventilation.', 'The person(s) in this image are women.', 'The person(s) in this picture is a baker.', 'Toilet.', 'Train.', 'Truck.', 'Tub.', 'UNAUTHORIZED.', 'UNDERSTANDING, the person(s) in this image are likely to be women.', 'UNINTENDED.', 'Unanswerable.', 'Unfortunate.', 'Unknown.', 'Unsure.', 'Urinals.', 'VENOAL.', 'Vegetable.', 'Vehicle.', 'Voyage.', 'WAVE DIFFERENTTY.', 'WOMEN.', 'WOOD.', 'Warrior.', 'Wetsuit.', 'Wii.', 'Woman.', 'Women.', 'YOUNG.', 'YOUTH.', 'Yes, the person in the image is a man.', 'Zebra.', 'Zebras.']\n",
      "\n",
      "First few rows:\n"
     ]
    },
    {
     "data": {
      "application/vnd.microsoft.datawrangler.viewer.v0+json": {
       "columns": [
        {
         "name": "index",
         "rawType": "int64",
         "type": "integer"
        },
        {
         "name": "prompt2",
         "rawType": "object",
         "type": "string"
        },
        {
         "name": "AID WALL.",
         "rawType": "int64",
         "type": "integer"
        },
        {
         "name": "ASUS.",
         "rawType": "int64",
         "type": "integer"
        },
        {
         "name": "Airliner.",
         "rawType": "int64",
         "type": "integer"
        },
        {
         "name": "Airplane.",
         "rawType": "int64",
         "type": "integer"
        },
        {
         "name": "Airplanes.",
         "rawType": "int64",
         "type": "integer"
        },
        {
         "name": "BARKETS.",
         "rawType": "int64",
         "type": "integer"
        },
        {
         "name": "BARRELS.",
         "rawType": "int64",
         "type": "integer"
        },
        {
         "name": "BASEBALL.",
         "rawType": "int64",
         "type": "integer"
        },
        {
         "name": "BEAR.",
         "rawType": "int64",
         "type": "integer"
        },
        {
         "name": "BEEP.",
         "rawType": "int64",
         "type": "integer"
        },
        {
         "name": "BEES.",
         "rawType": "int64",
         "type": "integer"
        },
        {
         "name": "BELT.",
         "rawType": "int64",
         "type": "integer"
        },
        {
         "name": "BEYOND.",
         "rawType": "int64",
         "type": "integer"
        },
        {
         "name": "BOOK BUS.",
         "rawType": "int64",
         "type": "integer"
        },
        {
         "name": "BOOKLER.",
         "rawType": "int64",
         "type": "integer"
        },
        {
         "name": "BOSTON.",
         "rawType": "int64",
         "type": "integer"
        },
        {
         "name": "BOX.",
         "rawType": "int64",
         "type": "integer"
        },
        {
         "name": "BRS.",
         "rawType": "int64",
         "type": "integer"
        },
        {
         "name": "Baseball.",
         "rawType": "int64",
         "type": "integer"
        },
        {
         "name": "Bathroom.",
         "rawType": "int64",
         "type": "integer"
        },
        {
         "name": "Bear.",
         "rawType": "int64",
         "type": "integer"
        },
        {
         "name": "Bears.",
         "rawType": "int64",
         "type": "integer"
        },
        {
         "name": "Biplane.",
         "rawType": "int64",
         "type": "integer"
        },
        {
         "name": "Bird.",
         "rawType": "int64",
         "type": "integer"
        },
        {
         "name": "Birds.",
         "rawType": "int64",
         "type": "integer"
        },
        {
         "name": "Black.",
         "rawType": "int64",
         "type": "integer"
        },
        {
         "name": "Blonde.",
         "rawType": "int64",
         "type": "integer"
        },
        {
         "name": "Boy's Best.",
         "rawType": "int64",
         "type": "integer"
        },
        {
         "name": "Boy.",
         "rawType": "int64",
         "type": "integer"
        },
        {
         "name": "Boys.",
         "rawType": "int64",
         "type": "integer"
        },
        {
         "name": "Bravo.",
         "rawType": "int64",
         "type": "integer"
        },
        {
         "name": "Bus.",
         "rawType": "int64",
         "type": "integer"
        },
        {
         "name": "C0PT.",
         "rawType": "int64",
         "type": "integer"
        },
        {
         "name": "CAT.",
         "rawType": "int64",
         "type": "integer"
        },
        {
         "name": "CATS.",
         "rawType": "int64",
         "type": "integer"
        },
        {
         "name": "CH.",
         "rawType": "int64",
         "type": "integer"
        },
        {
         "name": "CHAINED.",
         "rawType": "int64",
         "type": "integer"
        },
        {
         "name": "CHANTS.",
         "rawType": "int64",
         "type": "integer"
        },
        {
         "name": "CHARGED.",
         "rawType": "int64",
         "type": "integer"
        },
        {
         "name": "CHILDREN.",
         "rawType": "int64",
         "type": "integer"
        },
        {
         "name": "CHLORINE.",
         "rawType": "int64",
         "type": "integer"
        },
        {
         "name": "COACHES.",
         "rawType": "int64",
         "type": "integer"
        },
        {
         "name": "COCA COLA.",
         "rawType": "int64",
         "type": "integer"
        },
        {
         "name": "CONFIDENTIAL.",
         "rawType": "int64",
         "type": "integer"
        },
        {
         "name": "Carrots.",
         "rawType": "int64",
         "type": "integer"
        },
        {
         "name": "Cat.",
         "rawType": "int64",
         "type": "integer"
        },
        {
         "name": "Cats.",
         "rawType": "int64",
         "type": "integer"
        },
        {
         "name": "Chef.",
         "rawType": "int64",
         "type": "integer"
        },
        {
         "name": "Child.",
         "rawType": "int64",
         "type": "integer"
        },
        {
         "name": "Children at play.",
         "rawType": "int64",
         "type": "integer"
        },
        {
         "name": "Children.",
         "rawType": "int64",
         "type": "integer"
        },
        {
         "name": "Christian.",
         "rawType": "int64",
         "type": "integer"
        },
        {
         "name": "City.",
         "rawType": "int64",
         "type": "integer"
        },
        {
         "name": "Clown.",
         "rawType": "int64",
         "type": "integer"
        },
        {
         "name": "Couple.",
         "rawType": "int64",
         "type": "integer"
        },
        {
         "name": "Cow.",
         "rawType": "int64",
         "type": "integer"
        },
        {
         "name": "Cows.",
         "rawType": "int64",
         "type": "integer"
        },
        {
         "name": "DAY.",
         "rawType": "int64",
         "type": "integer"
        },
        {
         "name": "DEAD.",
         "rawType": "int64",
         "type": "integer"
        },
        {
         "name": "DIVENOR.",
         "rawType": "int64",
         "type": "integer"
        },
        {
         "name": "DOLLAR.",
         "rawType": "int64",
         "type": "integer"
        },
        {
         "name": "DONALD CANDIDHUS.",
         "rawType": "int64",
         "type": "integer"
        },
        {
         "name": "DYING.",
         "rawType": "int64",
         "type": "integer"
        },
        {
         "name": "Darth Vader.",
         "rawType": "int64",
         "type": "integer"
        },
        {
         "name": "Dog.",
         "rawType": "int64",
         "type": "integer"
        },
        {
         "name": "Dogs.",
         "rawType": "int64",
         "type": "integer"
        },
        {
         "name": "Dolphin.",
         "rawType": "int64",
         "type": "integer"
        },
        {
         "name": "Ducks.",
         "rawType": "int64",
         "type": "integer"
        },
        {
         "name": "Dummies.",
         "rawType": "int64",
         "type": "integer"
        },
        {
         "name": "EXPERTS ONLY?",
         "rawType": "int64",
         "type": "integer"
        },
        {
         "name": "Elephant.",
         "rawType": "int64",
         "type": "integer"
        },
        {
         "name": "Elephants.",
         "rawType": "int64",
         "type": "integer"
        },
        {
         "name": "Engineer.",
         "rawType": "int64",
         "type": "integer"
        },
        {
         "name": "Engineering.",
         "rawType": "int64",
         "type": "integer"
        },
        {
         "name": "FEMALE.",
         "rawType": "int64",
         "type": "integer"
        },
        {
         "name": "FICTION.",
         "rawType": "int64",
         "type": "integer"
        },
        {
         "name": "FIGHTING FISHING.",
         "rawType": "int64",
         "type": "integer"
        },
        {
         "name": "FISHPANG TCE.",
         "rawType": "int64",
         "type": "integer"
        },
        {
         "name": "FORTY.",
         "rawType": "int64",
         "type": "integer"
        },
        {
         "name": "FULL.",
         "rawType": "int64",
         "type": "integer"
        },
        {
         "name": "Feline.",
         "rawType": "int64",
         "type": "integer"
        },
        {
         "name": "Female.",
         "rawType": "int64",
         "type": "integer"
        },
        {
         "name": "Females.",
         "rawType": "int64",
         "type": "integer"
        },
        {
         "name": "Fireman.",
         "rawType": "int64",
         "type": "integer"
        },
        {
         "name": "Furniture.",
         "rawType": "int64",
         "type": "integer"
        },
        {
         "name": "GB.",
         "rawType": "int64",
         "type": "integer"
        },
        {
         "name": "GIRL.",
         "rawType": "int64",
         "type": "integer"
        },
        {
         "name": "GORDS JEWELRY.",
         "rawType": "int64",
         "type": "integer"
        },
        {
         "name": "Gender: Female.",
         "rawType": "int64",
         "type": "integer"
        },
        {
         "name": "Giraffe and zebra.",
         "rawType": "int64",
         "type": "integer"
        },
        {
         "name": "Giraffe.",
         "rawType": "int64",
         "type": "integer"
        },
        {
         "name": "Giraffes.",
         "rawType": "int64",
         "type": "integer"
        },
        {
         "name": "Girl.",
         "rawType": "int64",
         "type": "integer"
        },
        {
         "name": "Girls.",
         "rawType": "int64",
         "type": "integer"
        },
        {
         "name": "Gourmet.",
         "rawType": "int64",
         "type": "integer"
        },
        {
         "name": "Graffiti.",
         "rawType": "int64",
         "type": "integer"
        },
        {
         "name": "Green.",
         "rawType": "int64",
         "type": "integer"
        },
        {
         "name": "HATED.",
         "rawType": "int64",
         "type": "integer"
        },
        {
         "name": "HUMAN.",
         "rawType": "int64",
         "type": "integer"
        },
        {
         "name": "Horse.",
         "rawType": "int64",
         "type": "integer"
        },
        {
         "name": "House.",
         "rawType": "int64",
         "type": "integer"
        },
        {
         "name": "Humans.",
         "rawType": "int64",
         "type": "integer"
        },
        {
         "name": "IMAG30305855",
         "rawType": "int64",
         "type": "integer"
        },
        {
         "name": "JEALOAND.",
         "rawType": "int64",
         "type": "integer"
        },
        {
         "name": "JOKER.",
         "rawType": "int64",
         "type": "integer"
        },
        {
         "name": "JUPITER.",
         "rawType": "int64",
         "type": "integer"
        },
        {
         "name": "Jet.",
         "rawType": "int64",
         "type": "integer"
        },
        {
         "name": "Jets.",
         "rawType": "int64",
         "type": "integer"
        },
        {
         "name": "Jokler.",
         "rawType": "int64",
         "type": "integer"
        },
        {
         "name": "Kid.",
         "rawType": "int64",
         "type": "integer"
        },
        {
         "name": "Kite.",
         "rawType": "int64",
         "type": "integer"
        },
        {
         "name": "Kitten.",
         "rawType": "int64",
         "type": "integer"
        },
        {
         "name": "MACHADOS.",
         "rawType": "int64",
         "type": "integer"
        },
        {
         "name": "MALE.",
         "rawType": "int64",
         "type": "integer"
        },
        {
         "name": "MAN.",
         "rawType": "int64",
         "type": "integer"
        },
        {
         "name": "MEN.",
         "rawType": "int64",
         "type": "integer"
        },
        {
         "name": "METRO.",
         "rawType": "int64",
         "type": "integer"
        },
        {
         "name": "MOMENTARO.",
         "rawType": "int64",
         "type": "integer"
        },
        {
         "name": "MOMENTTIME.",
         "rawType": "int64",
         "type": "integer"
        },
        {
         "name": "MULTI.",
         "rawType": "int64",
         "type": "integer"
        },
        {
         "name": "MUSICIAN.",
         "rawType": "int64",
         "type": "integer"
        },
        {
         "name": "Male.",
         "rawType": "int64",
         "type": "integer"
        },
        {
         "name": "Man.",
         "rawType": "int64",
         "type": "integer"
        },
        {
         "name": "Meat.",
         "rawType": "int64",
         "type": "integer"
        },
        {
         "name": "Medical.",
         "rawType": "int64",
         "type": "integer"
        },
        {
         "name": "Men.",
         "rawType": "int64",
         "type": "integer"
        },
        {
         "name": "Metro.",
         "rawType": "int64",
         "type": "integer"
        },
        {
         "name": "Military.",
         "rawType": "int64",
         "type": "integer"
        },
        {
         "name": "Model.",
         "rawType": "int64",
         "type": "integer"
        },
        {
         "name": "Mom.",
         "rawType": "int64",
         "type": "integer"
        },
        {
         "name": "Monkey.",
         "rawType": "int64",
         "type": "integer"
        },
        {
         "name": "Mother.",
         "rawType": "int64",
         "type": "integer"
        },
        {
         "name": "Motorcycles.",
         "rawType": "int64",
         "type": "integer"
        },
        {
         "name": "N/A.",
         "rawType": "int64",
         "type": "integer"
        },
        {
         "name": "NO PARKING.",
         "rawType": "int64",
         "type": "integer"
        },
        {
         "name": "NO.",
         "rawType": "int64",
         "type": "integer"
        },
        {
         "name": "NOMINATED.",
         "rawType": "int64",
         "type": "integer"
        },
        {
         "name": "OCEANIC.",
         "rawType": "int64",
         "type": "integer"
        },
        {
         "name": "Orkin.",
         "rawType": "int64",
         "type": "integer"
        },
        {
         "name": "Ostrich.",
         "rawType": "int64",
         "type": "integer"
        },
        {
         "name": "P.",
         "rawType": "int64",
         "type": "integer"
        },
        {
         "name": "PEOPLE.",
         "rawType": "int64",
         "type": "integer"
        },
        {
         "name": "PERSON.",
         "rawType": "int64",
         "type": "integer"
        },
        {
         "name": "PERSONALITY.",
         "rawType": "int64",
         "type": "integer"
        },
        {
         "name": "PERSONNS.",
         "rawType": "int64",
         "type": "integer"
        },
        {
         "name": "PERSONns.",
         "rawType": "int64",
         "type": "integer"
        },
        {
         "name": "POSSIBILITIES.",
         "rawType": "int64",
         "type": "integer"
        },
        {
         "name": "PSU.",
         "rawType": "int64",
         "type": "integer"
        },
        {
         "name": "PUBLIC.",
         "rawType": "int64",
         "type": "integer"
        },
        {
         "name": "PUNCHES.",
         "rawType": "int64",
         "type": "integer"
        },
        {
         "name": "PUPPY.",
         "rawType": "int64",
         "type": "integer"
        },
        {
         "name": "Parrot.",
         "rawType": "int64",
         "type": "integer"
        },
        {
         "name": "Passenger.",
         "rawType": "int64",
         "type": "integer"
        },
        {
         "name": "Peacock.",
         "rawType": "int64",
         "type": "integer"
        },
        {
         "name": "People.",
         "rawType": "int64",
         "type": "integer"
        },
        {
         "name": "Person.",
         "rawType": "int64",
         "type": "integer"
        },
        {
         "name": "Photograph.",
         "rawType": "int64",
         "type": "integer"
        },
        {
         "name": "Photographer.",
         "rawType": "int64",
         "type": "integer"
        },
        {
         "name": "Pilot.",
         "rawType": "int64",
         "type": "integer"
        },
        {
         "name": "Pizza.",
         "rawType": "int64",
         "type": "integer"
        },
        {
         "name": "Pizzas.",
         "rawType": "int64",
         "type": "integer"
        },
        {
         "name": "Plane.",
         "rawType": "int64",
         "type": "integer"
        },
        {
         "name": "Polar bear.",
         "rawType": "int64",
         "type": "integer"
        },
        {
         "name": "Police.",
         "rawType": "int64",
         "type": "integer"
        },
        {
         "name": "Poster.",
         "rawType": "int64",
         "type": "integer"
        },
        {
         "name": "Puppy.",
         "rawType": "int64",
         "type": "integer"
        },
        {
         "name": "REFRESHMENT.",
         "rawType": "int64",
         "type": "integer"
        },
        {
         "name": "REVIEWS.",
         "rawType": "int64",
         "type": "integer"
        },
        {
         "name": "Robot.",
         "rawType": "int64",
         "type": "integer"
        },
        {
         "name": "SALESMAN.",
         "rawType": "int64",
         "type": "integer"
        },
        {
         "name": "SALMON.",
         "rawType": "int64",
         "type": "integer"
        },
        {
         "name": "SAX.",
         "rawType": "int64",
         "type": "integer"
        },
        {
         "name": "SEA.",
         "rawType": "int64",
         "type": "integer"
        },
        {
         "name": "SEPIKA.",
         "rawType": "int64",
         "type": "integer"
        },
        {
         "name": "SEVERAL.",
         "rawType": "int64",
         "type": "integer"
        },
        {
         "name": "SEXUAL.",
         "rawType": "int64",
         "type": "integer"
        },
        {
         "name": "SIC.",
         "rawType": "int64",
         "type": "integer"
        },
        {
         "name": "SOMETHING.",
         "rawType": "int64",
         "type": "integer"
        },
        {
         "name": "SONS.",
         "rawType": "int64",
         "type": "integer"
        },
        {
         "name": "SPOON.",
         "rawType": "int64",
         "type": "integer"
        },
        {
         "name": "STAGTERS.",
         "rawType": "int64",
         "type": "integer"
        },
        {
         "name": "STARSHIROO.",
         "rawType": "int64",
         "type": "integer"
        },
        {
         "name": "STOP.",
         "rawType": "int64",
         "type": "integer"
        },
        {
         "name": "SUBJECT: Gender",
         "rawType": "int64",
         "type": "integer"
        },
        {
         "name": "SUBJECT: Gender: Female.",
         "rawType": "int64",
         "type": "integer"
        },
        {
         "name": "Scooter.",
         "rawType": "int64",
         "type": "integer"
        },
        {
         "name": "Sculpture.",
         "rawType": "int64",
         "type": "integer"
        },
        {
         "name": "Seagulls.",
         "rawType": "int64",
         "type": "integer"
        },
        {
         "name": "She/She/He/It.",
         "rawType": "int64",
         "type": "integer"
        },
        {
         "name": "Sheep.",
         "rawType": "int64",
         "type": "integer"
        },
        {
         "name": "Ship.",
         "rawType": "int64",
         "type": "integer"
        },
        {
         "name": "Soccer.",
         "rawType": "int64",
         "type": "integer"
        },
        {
         "name": "Soldier.",
         "rawType": "int64",
         "type": "integer"
        },
        {
         "name": "Striped.",
         "rawType": "int64",
         "type": "integer"
        },
        {
         "name": "Surfer.",
         "rawType": "int64",
         "type": "integer"
        },
        {
         "name": "Surfers.",
         "rawType": "int64",
         "type": "integer"
        },
        {
         "name": "Swiss.",
         "rawType": "int64",
         "type": "integer"
        },
        {
         "name": "TAXI.",
         "rawType": "int64",
         "type": "integer"
        },
        {
         "name": "THOUGH.",
         "rawType": "int64",
         "type": "integer"
        },
        {
         "name": "TUG.",
         "rawType": "int64",
         "type": "integer"
        },
        {
         "name": "Tattooist.",
         "rawType": "int64",
         "type": "integer"
        },
        {
         "name": "The kitchen is the main focus of the image. It is a modern, sleek kitchen with a focus on functionality and design. The kitchen features a large, stainless steel range hood, which is a common feature in modern kitchens to provide heat and ventilation.",
         "rawType": "int64",
         "type": "integer"
        },
        {
         "name": "The person(s) in this image are women.",
         "rawType": "int64",
         "type": "integer"
        },
        {
         "name": "The person(s) in this picture is a baker.",
         "rawType": "int64",
         "type": "integer"
        },
        {
         "name": "Toilet.",
         "rawType": "int64",
         "type": "integer"
        },
        {
         "name": "Train.",
         "rawType": "int64",
         "type": "integer"
        },
        {
         "name": "Truck.",
         "rawType": "int64",
         "type": "integer"
        },
        {
         "name": "Tub.",
         "rawType": "int64",
         "type": "integer"
        },
        {
         "name": "UNAUTHORIZED.",
         "rawType": "int64",
         "type": "integer"
        },
        {
         "name": "UNDERSTANDING, the person(s) in this image are likely to be women.",
         "rawType": "int64",
         "type": "integer"
        },
        {
         "name": "UNINTENDED.",
         "rawType": "int64",
         "type": "integer"
        },
        {
         "name": "Unanswerable.",
         "rawType": "int64",
         "type": "integer"
        },
        {
         "name": "Unfortunate.",
         "rawType": "int64",
         "type": "integer"
        },
        {
         "name": "Unknown.",
         "rawType": "int64",
         "type": "integer"
        },
        {
         "name": "Unsure.",
         "rawType": "int64",
         "type": "integer"
        },
        {
         "name": "Urinals.",
         "rawType": "int64",
         "type": "integer"
        },
        {
         "name": "VENOAL.",
         "rawType": "int64",
         "type": "integer"
        },
        {
         "name": "Vegetable.",
         "rawType": "int64",
         "type": "integer"
        },
        {
         "name": "Vehicle.",
         "rawType": "int64",
         "type": "integer"
        },
        {
         "name": "Voyage.",
         "rawType": "int64",
         "type": "integer"
        },
        {
         "name": "WAVE DIFFERENTTY.",
         "rawType": "int64",
         "type": "integer"
        },
        {
         "name": "WOMEN.",
         "rawType": "int64",
         "type": "integer"
        },
        {
         "name": "WOOD.",
         "rawType": "int64",
         "type": "integer"
        },
        {
         "name": "Warrior.",
         "rawType": "int64",
         "type": "integer"
        },
        {
         "name": "Wetsuit.",
         "rawType": "int64",
         "type": "integer"
        },
        {
         "name": "Wii.",
         "rawType": "int64",
         "type": "integer"
        },
        {
         "name": "Woman.",
         "rawType": "int64",
         "type": "integer"
        },
        {
         "name": "Women.",
         "rawType": "int64",
         "type": "integer"
        },
        {
         "name": "YOUNG.",
         "rawType": "int64",
         "type": "integer"
        },
        {
         "name": "YOUTH.",
         "rawType": "int64",
         "type": "integer"
        },
        {
         "name": "Yes, the person in the image is a man.",
         "rawType": "int64",
         "type": "integer"
        },
        {
         "name": "Zebra.",
         "rawType": "int64",
         "type": "integer"
        },
        {
         "name": "Zebras.",
         "rawType": "int64",
         "type": "integer"
        }
       ],
       "ref": "5da543e9-a932-4c59-9f73-8c90db14361c",
       "rows": [
        [
         "0",
         "A Train.",
         "0",
         "0",
         "0",
         "0",
         "0",
         "0",
         "0",
         "0",
         "0",
         "0",
         "0",
         "0",
         "0",
         "0",
         "0",
         "0",
         "0",
         "0",
         "0",
         "0",
         "0",
         "0",
         "0",
         "0",
         "0",
         "0",
         "0",
         "0",
         "0",
         "0",
         "0",
         "0",
         "0",
         "0",
         "0",
         "0",
         "0",
         "0",
         "0",
         "0",
         "0",
         "0",
         "0",
         "0",
         "0",
         "0",
         "0",
         "0",
         "0",
         "0",
         "0",
         "0",
         "0",
         "0",
         "0",
         "0",
         "0",
         "0",
         "0",
         "0",
         "0",
         "0",
         "0",
         "0",
         "0",
         "0",
         "0",
         "0",
         "0",
         "0",
         "0",
         "0",
         "0",
         "0",
         "0",
         "0",
         "0",
         "0",
         "0",
         "0",
         "0",
         "1",
         "0",
         "0",
         "0",
         "0",
         "0",
         "0",
         "0",
         "0",
         "0",
         "0",
         "0",
         "0",
         "0",
         "0",
         "0",
         "0",
         "0",
         "0",
         "0",
         "0",
         "0",
         "0",
         "0",
         "0",
         "0",
         "0",
         "0",
         "0",
         "0",
         "0",
         "0",
         "0",
         "0",
         "0",
         "0",
         "0",
         "0",
         "0",
         "0",
         "0",
         "0",
         "0",
         "0",
         "0",
         "0",
         "0",
         "0",
         "0",
         "0",
         "0",
         "0",
         "0",
         "0",
         "0",
         "0",
         "0",
         "0",
         "0",
         "0",
         "0",
         "0",
         "0",
         "0",
         "0",
         "0",
         "0",
         "0",
         "0",
         "0",
         "0",
         "0",
         "0",
         "0",
         "0",
         "0",
         "0",
         "0",
         "0",
         "0",
         "0",
         "0",
         "0",
         "0",
         "0",
         "0",
         "0",
         "0",
         "0",
         "0",
         "0",
         "0",
         "0",
         "0",
         "0",
         "0",
         "0",
         "0",
         "0",
         "0",
         "0",
         "0",
         "0",
         "0",
         "0",
         "0",
         "0",
         "0",
         "0",
         "0",
         "0",
         "0",
         "0",
         "0",
         "0",
         "0",
         "0",
         "0",
         "0",
         "0",
         "0",
         "0",
         "0",
         "0",
         "0",
         "0",
         "0",
         "0",
         "0",
         "0",
         "0",
         "0",
         "0",
         "0",
         "0",
         "0",
         "0",
         "0",
         "0",
         "0",
         "0",
         "0",
         "0",
         "0",
         "0",
         "0",
         "0",
         "0",
         "0",
         "0",
         "0",
         "0"
        ],
        [
         "1",
         "A healthy person.",
         "0",
         "0",
         "0",
         "0",
         "0",
         "0",
         "0",
         "0",
         "0",
         "0",
         "0",
         "0",
         "0",
         "0",
         "0",
         "0",
         "0",
         "0",
         "0",
         "0",
         "0",
         "0",
         "0",
         "0",
         "0",
         "0",
         "0",
         "0",
         "0",
         "0",
         "0",
         "0",
         "0",
         "0",
         "0",
         "0",
         "0",
         "0",
         "0",
         "0",
         "0",
         "0",
         "0",
         "0",
         "0",
         "0",
         "0",
         "0",
         "0",
         "0",
         "0",
         "0",
         "0",
         "0",
         "0",
         "0",
         "0",
         "0",
         "0",
         "0",
         "0",
         "0",
         "0",
         "0",
         "0",
         "0",
         "0",
         "0",
         "0",
         "0",
         "0",
         "0",
         "0",
         "0",
         "0",
         "0",
         "0",
         "0",
         "0",
         "0",
         "0",
         "0",
         "0",
         "0",
         "0",
         "0",
         "0",
         "0",
         "0",
         "0",
         "0",
         "0",
         "0",
         "0",
         "0",
         "0",
         "0",
         "0",
         "0",
         "0",
         "0",
         "0",
         "0",
         "0",
         "0",
         "0",
         "0",
         "0",
         "0",
         "0",
         "0",
         "0",
         "0",
         "0",
         "0",
         "0",
         "0",
         "0",
         "0",
         "0",
         "0",
         "0",
         "0",
         "0",
         "0",
         "0",
         "0",
         "0",
         "0",
         "0",
         "0",
         "0",
         "0",
         "0",
         "0",
         "0",
         "0",
         "0",
         "0",
         "0",
         "0",
         "1",
         "0",
         "0",
         "0",
         "0",
         "0",
         "0",
         "0",
         "0",
         "0",
         "0",
         "0",
         "0",
         "0",
         "0",
         "0",
         "0",
         "0",
         "0",
         "0",
         "0",
         "0",
         "0",
         "0",
         "0",
         "0",
         "0",
         "0",
         "0",
         "0",
         "0",
         "0",
         "0",
         "0",
         "0",
         "0",
         "0",
         "0",
         "0",
         "0",
         "0",
         "0",
         "0",
         "0",
         "0",
         "0",
         "0",
         "0",
         "0",
         "0",
         "0",
         "0",
         "0",
         "0",
         "0",
         "0",
         "0",
         "0",
         "0",
         "0",
         "0",
         "0",
         "0",
         "0",
         "0",
         "0",
         "0",
         "0",
         "0",
         "0",
         "0",
         "0",
         "0",
         "0",
         "0",
         "0",
         "0",
         "0",
         "0",
         "0",
         "0",
         "0",
         "0",
         "0",
         "0",
         "0",
         "0",
         "0",
         "0",
         "0",
         "0",
         "0"
        ],
        [
         "2",
         "A. Marques.",
         "0",
         "0",
         "0",
         "0",
         "0",
         "0",
         "0",
         "0",
         "0",
         "0",
         "0",
         "0",
         "0",
         "0",
         "0",
         "0",
         "0",
         "0",
         "0",
         "0",
         "0",
         "0",
         "0",
         "0",
         "0",
         "0",
         "0",
         "0",
         "0",
         "0",
         "0",
         "0",
         "0",
         "0",
         "0",
         "0",
         "0",
         "0",
         "0",
         "0",
         "0",
         "0",
         "0",
         "0",
         "0",
         "0",
         "0",
         "0",
         "0",
         "0",
         "0",
         "0",
         "0",
         "0",
         "0",
         "0",
         "0",
         "0",
         "0",
         "0",
         "0",
         "0",
         "0",
         "0",
         "0",
         "0",
         "0",
         "0",
         "0",
         "0",
         "0",
         "0",
         "0",
         "0",
         "0",
         "0",
         "0",
         "0",
         "0",
         "0",
         "0",
         "1",
         "0",
         "0",
         "0",
         "0",
         "0",
         "0",
         "0",
         "0",
         "0",
         "0",
         "0",
         "0",
         "0",
         "0",
         "0",
         "0",
         "0",
         "0",
         "0",
         "0",
         "0",
         "0",
         "0",
         "0",
         "0",
         "0",
         "0",
         "0",
         "0",
         "0",
         "0",
         "0",
         "0",
         "0",
         "0",
         "0",
         "0",
         "0",
         "0",
         "0",
         "0",
         "0",
         "0",
         "0",
         "0",
         "0",
         "0",
         "0",
         "0",
         "0",
         "0",
         "0",
         "0",
         "0",
         "0",
         "0",
         "0",
         "0",
         "0",
         "0",
         "0",
         "0",
         "0",
         "0",
         "0",
         "0",
         "0",
         "0",
         "0",
         "0",
         "0",
         "0",
         "0",
         "0",
         "0",
         "0",
         "0",
         "0",
         "0",
         "0",
         "0",
         "0",
         "0",
         "0",
         "0",
         "0",
         "0",
         "0",
         "0",
         "0",
         "0",
         "0",
         "0",
         "0",
         "0",
         "0",
         "0",
         "0",
         "0",
         "0",
         "0",
         "0",
         "0",
         "0",
         "0",
         "0",
         "0",
         "0",
         "0",
         "0",
         "0",
         "0",
         "0",
         "0",
         "0",
         "0",
         "0",
         "0",
         "0",
         "0",
         "0",
         "0",
         "0",
         "0",
         "0",
         "0",
         "0",
         "0",
         "0",
         "0",
         "0",
         "0",
         "0",
         "0",
         "0",
         "0",
         "0",
         "0",
         "0",
         "0",
         "0",
         "0",
         "0",
         "0",
         "0",
         "0",
         "0",
         "0",
         "0",
         "0",
         "0"
        ],
        [
         "3",
         "Banana.",
         "0",
         "0",
         "0",
         "0",
         "0",
         "0",
         "0",
         "0",
         "0",
         "0",
         "0",
         "0",
         "0",
         "0",
         "0",
         "0",
         "0",
         "0",
         "0",
         "0",
         "0",
         "0",
         "0",
         "0",
         "0",
         "0",
         "0",
         "0",
         "0",
         "0",
         "0",
         "0",
         "0",
         "0",
         "0",
         "0",
         "0",
         "0",
         "0",
         "0",
         "0",
         "0",
         "0",
         "0",
         "0",
         "0",
         "0",
         "0",
         "0",
         "0",
         "0",
         "0",
         "0",
         "0",
         "0",
         "0",
         "0",
         "0",
         "0",
         "0",
         "0",
         "0",
         "0",
         "0",
         "0",
         "0",
         "0",
         "0",
         "0",
         "0",
         "0",
         "0",
         "0",
         "0",
         "0",
         "0",
         "0",
         "0",
         "0",
         "0",
         "0",
         "1",
         "0",
         "0",
         "0",
         "0",
         "0",
         "0",
         "0",
         "0",
         "0",
         "0",
         "0",
         "0",
         "0",
         "0",
         "0",
         "0",
         "0",
         "0",
         "0",
         "0",
         "0",
         "0",
         "0",
         "0",
         "0",
         "0",
         "0",
         "0",
         "0",
         "0",
         "0",
         "0",
         "0",
         "0",
         "0",
         "0",
         "0",
         "0",
         "0",
         "0",
         "0",
         "0",
         "0",
         "0",
         "0",
         "0",
         "0",
         "0",
         "0",
         "0",
         "0",
         "0",
         "0",
         "0",
         "0",
         "0",
         "0",
         "0",
         "0",
         "0",
         "0",
         "0",
         "0",
         "0",
         "0",
         "0",
         "0",
         "0",
         "0",
         "0",
         "0",
         "0",
         "0",
         "0",
         "0",
         "0",
         "0",
         "0",
         "0",
         "0",
         "0",
         "0",
         "0",
         "0",
         "0",
         "0",
         "0",
         "0",
         "0",
         "0",
         "0",
         "0",
         "0",
         "0",
         "0",
         "0",
         "0",
         "0",
         "0",
         "0",
         "0",
         "0",
         "0",
         "0",
         "0",
         "0",
         "0",
         "0",
         "0",
         "0",
         "0",
         "0",
         "0",
         "0",
         "0",
         "0",
         "0",
         "0",
         "0",
         "0",
         "0",
         "0",
         "0",
         "0",
         "0",
         "0",
         "0",
         "0",
         "0",
         "0",
         "0",
         "0",
         "0",
         "0",
         "0",
         "0",
         "0",
         "0",
         "0",
         "0",
         "0",
         "0",
         "0",
         "0",
         "0",
         "0",
         "0",
         "0",
         "0",
         "0",
         "0"
        ],
        [
         "4",
         "Baseball.",
         "0",
         "0",
         "0",
         "0",
         "0",
         "0",
         "0",
         "0",
         "0",
         "0",
         "0",
         "0",
         "0",
         "0",
         "0",
         "0",
         "0",
         "0",
         "0",
         "0",
         "0",
         "0",
         "0",
         "0",
         "0",
         "0",
         "0",
         "0",
         "0",
         "0",
         "0",
         "0",
         "0",
         "0",
         "0",
         "0",
         "0",
         "0",
         "0",
         "0",
         "0",
         "0",
         "0",
         "0",
         "0",
         "0",
         "0",
         "0",
         "0",
         "0",
         "0",
         "0",
         "0",
         "0",
         "0",
         "0",
         "0",
         "0",
         "0",
         "0",
         "0",
         "0",
         "0",
         "0",
         "0",
         "0",
         "0",
         "0",
         "0",
         "0",
         "0",
         "0",
         "0",
         "0",
         "0",
         "0",
         "0",
         "0",
         "0",
         "0",
         "0",
         "0",
         "0",
         "0",
         "0",
         "0",
         "0",
         "0",
         "0",
         "0",
         "0",
         "0",
         "0",
         "0",
         "0",
         "0",
         "0",
         "0",
         "0",
         "0",
         "0",
         "0",
         "0",
         "0",
         "0",
         "0",
         "0",
         "0",
         "0",
         "0",
         "0",
         "0",
         "0",
         "0",
         "0",
         "0",
         "0",
         "0",
         "0",
         "0",
         "0",
         "1",
         "0",
         "0",
         "0",
         "0",
         "0",
         "0",
         "0",
         "0",
         "0",
         "0",
         "0",
         "0",
         "0",
         "0",
         "0",
         "0",
         "0",
         "0",
         "0",
         "0",
         "0",
         "0",
         "0",
         "0",
         "0",
         "0",
         "0",
         "0",
         "0",
         "0",
         "0",
         "0",
         "0",
         "0",
         "0",
         "0",
         "0",
         "0",
         "0",
         "0",
         "0",
         "0",
         "0",
         "0",
         "0",
         "0",
         "0",
         "0",
         "0",
         "0",
         "0",
         "0",
         "0",
         "0",
         "0",
         "0",
         "0",
         "0",
         "0",
         "0",
         "0",
         "0",
         "0",
         "0",
         "0",
         "0",
         "0",
         "0",
         "0",
         "0",
         "0",
         "0",
         "0",
         "0",
         "0",
         "0",
         "0",
         "0",
         "0",
         "0",
         "0",
         "0",
         "0",
         "0",
         "0",
         "0",
         "0",
         "0",
         "0",
         "0",
         "0",
         "0",
         "0",
         "0",
         "0",
         "0",
         "0",
         "0",
         "0",
         "0",
         "0",
         "0",
         "0",
         "0",
         "0",
         "0",
         "0",
         "0",
         "0",
         "0",
         "0"
        ]
       ],
       "shape": {
        "columns": 234,
        "rows": 5
       }
      },
      "text/html": [
       "<div>\n",
       "<style scoped>\n",
       "    .dataframe tbody tr th:only-of-type {\n",
       "        vertical-align: middle;\n",
       "    }\n",
       "\n",
       "    .dataframe tbody tr th {\n",
       "        vertical-align: top;\n",
       "    }\n",
       "\n",
       "    .dataframe thead th {\n",
       "        text-align: right;\n",
       "    }\n",
       "</style>\n",
       "<table border=\"1\" class=\"dataframe\">\n",
       "  <thead>\n",
       "    <tr style=\"text-align: right;\">\n",
       "      <th></th>\n",
       "      <th>prompt2</th>\n",
       "      <th>AID WALL.</th>\n",
       "      <th>ASUS.</th>\n",
       "      <th>Airliner.</th>\n",
       "      <th>Airplane.</th>\n",
       "      <th>Airplanes.</th>\n",
       "      <th>BARKETS.</th>\n",
       "      <th>BARRELS.</th>\n",
       "      <th>BASEBALL.</th>\n",
       "      <th>BEAR.</th>\n",
       "      <th>...</th>\n",
       "      <th>Warrior.</th>\n",
       "      <th>Wetsuit.</th>\n",
       "      <th>Wii.</th>\n",
       "      <th>Woman.</th>\n",
       "      <th>Women.</th>\n",
       "      <th>YOUNG.</th>\n",
       "      <th>YOUTH.</th>\n",
       "      <th>Yes, the person in the image is a man.</th>\n",
       "      <th>Zebra.</th>\n",
       "      <th>Zebras.</th>\n",
       "    </tr>\n",
       "  </thead>\n",
       "  <tbody>\n",
       "    <tr>\n",
       "      <th>0</th>\n",
       "      <td>A Train.</td>\n",
       "      <td>0</td>\n",
       "      <td>0</td>\n",
       "      <td>0</td>\n",
       "      <td>0</td>\n",
       "      <td>0</td>\n",
       "      <td>0</td>\n",
       "      <td>0</td>\n",
       "      <td>0</td>\n",
       "      <td>0</td>\n",
       "      <td>...</td>\n",
       "      <td>0</td>\n",
       "      <td>0</td>\n",
       "      <td>0</td>\n",
       "      <td>0</td>\n",
       "      <td>0</td>\n",
       "      <td>0</td>\n",
       "      <td>0</td>\n",
       "      <td>0</td>\n",
       "      <td>0</td>\n",
       "      <td>0</td>\n",
       "    </tr>\n",
       "    <tr>\n",
       "      <th>1</th>\n",
       "      <td>A healthy person.</td>\n",
       "      <td>0</td>\n",
       "      <td>0</td>\n",
       "      <td>0</td>\n",
       "      <td>0</td>\n",
       "      <td>0</td>\n",
       "      <td>0</td>\n",
       "      <td>0</td>\n",
       "      <td>0</td>\n",
       "      <td>0</td>\n",
       "      <td>...</td>\n",
       "      <td>0</td>\n",
       "      <td>0</td>\n",
       "      <td>0</td>\n",
       "      <td>0</td>\n",
       "      <td>0</td>\n",
       "      <td>0</td>\n",
       "      <td>0</td>\n",
       "      <td>0</td>\n",
       "      <td>0</td>\n",
       "      <td>0</td>\n",
       "    </tr>\n",
       "    <tr>\n",
       "      <th>2</th>\n",
       "      <td>A. Marques.</td>\n",
       "      <td>0</td>\n",
       "      <td>0</td>\n",
       "      <td>0</td>\n",
       "      <td>0</td>\n",
       "      <td>0</td>\n",
       "      <td>0</td>\n",
       "      <td>0</td>\n",
       "      <td>0</td>\n",
       "      <td>0</td>\n",
       "      <td>...</td>\n",
       "      <td>0</td>\n",
       "      <td>0</td>\n",
       "      <td>0</td>\n",
       "      <td>0</td>\n",
       "      <td>0</td>\n",
       "      <td>0</td>\n",
       "      <td>0</td>\n",
       "      <td>0</td>\n",
       "      <td>0</td>\n",
       "      <td>0</td>\n",
       "    </tr>\n",
       "    <tr>\n",
       "      <th>3</th>\n",
       "      <td>Banana.</td>\n",
       "      <td>0</td>\n",
       "      <td>0</td>\n",
       "      <td>0</td>\n",
       "      <td>0</td>\n",
       "      <td>0</td>\n",
       "      <td>0</td>\n",
       "      <td>0</td>\n",
       "      <td>0</td>\n",
       "      <td>0</td>\n",
       "      <td>...</td>\n",
       "      <td>0</td>\n",
       "      <td>0</td>\n",
       "      <td>0</td>\n",
       "      <td>0</td>\n",
       "      <td>0</td>\n",
       "      <td>0</td>\n",
       "      <td>0</td>\n",
       "      <td>0</td>\n",
       "      <td>0</td>\n",
       "      <td>0</td>\n",
       "    </tr>\n",
       "    <tr>\n",
       "      <th>4</th>\n",
       "      <td>Baseball.</td>\n",
       "      <td>0</td>\n",
       "      <td>0</td>\n",
       "      <td>0</td>\n",
       "      <td>0</td>\n",
       "      <td>0</td>\n",
       "      <td>0</td>\n",
       "      <td>0</td>\n",
       "      <td>0</td>\n",
       "      <td>0</td>\n",
       "      <td>...</td>\n",
       "      <td>0</td>\n",
       "      <td>0</td>\n",
       "      <td>0</td>\n",
       "      <td>0</td>\n",
       "      <td>0</td>\n",
       "      <td>0</td>\n",
       "      <td>0</td>\n",
       "      <td>0</td>\n",
       "      <td>0</td>\n",
       "      <td>0</td>\n",
       "    </tr>\n",
       "  </tbody>\n",
       "</table>\n",
       "<p>5 rows × 234 columns</p>\n",
       "</div>"
      ],
      "text/plain": [
       "             prompt2  AID WALL.  ASUS.  Airliner.  Airplane.  Airplanes.  \\\n",
       "0           A Train.          0      0          0          0           0   \n",
       "1  A healthy person.          0      0          0          0           0   \n",
       "2        A. Marques.          0      0          0          0           0   \n",
       "3            Banana.          0      0          0          0           0   \n",
       "4          Baseball.          0      0          0          0           0   \n",
       "\n",
       "   BARKETS.  BARRELS.  BASEBALL.  BEAR.  ...  Warrior.  Wetsuit.  Wii.  \\\n",
       "0         0         0          0      0  ...         0         0     0   \n",
       "1         0         0          0      0  ...         0         0     0   \n",
       "2         0         0          0      0  ...         0         0     0   \n",
       "3         0         0          0      0  ...         0         0     0   \n",
       "4         0         0          0      0  ...         0         0     0   \n",
       "\n",
       "   Woman.  Women.  YOUNG.  YOUTH.  Yes, the person in the image is a man.  \\\n",
       "0       0       0       0       0                                       0   \n",
       "1       0       0       0       0                                       0   \n",
       "2       0       0       0       0                                       0   \n",
       "3       0       0       0       0                                       0   \n",
       "4       0       0       0       0                                       0   \n",
       "\n",
       "   Zebra.  Zebras.  \n",
       "0       0        0  \n",
       "1       0        0  \n",
       "2       0        0  \n",
       "3       0        0  \n",
       "4       0        0  \n",
       "\n",
       "[5 rows x 234 columns]"
      ]
     },
     "metadata": {},
     "output_type": "display_data"
    }
   ],
   "source": [
    "import pandas as pd\n",
    "\n",
    "# Read TSV file into DataFrame\n",
    "df = pd.read_csv('../data/smolvlm_rlaif.csv')\n",
    "\n",
    "# Display basic info about the DataFrame\n",
    "print(f\"Shape: {df.shape}\")\n",
    "print(f\"Columns: {list(df.columns)}\")\n",
    "print(\"\\nFirst few rows:\")\n",
    "display(df.head())"
   ]
  },
  {
   "cell_type": "code",
   "execution_count": 2,
   "id": "491df154",
   "metadata": {},
   "outputs": [
    {
     "name": "stdout",
     "output_type": "stream",
     "text": [
      "\n",
      "First row values:\n",
      "['A Train.', 'A healthy person.', 'A. Marques.', 'Banana.', 'Baseball.', 'Bat Boy.', 'CULLEN.', 'Coca-Cola.', 'Crap.', 'DANGER.', 'Defence.', 'Dog.', 'Empty.', 'Established.', 'FISHPANG TCE.', 'Fanta.', 'HOTEL.', 'Hot dog.', 'I AM AM A PICTURE OF A STEPHEN COLBER  Step 1: Identify the main subject of the image, which is a book. Step 2: Note the title of the book, which is \"', 'It is very dark, very blue, and very rough. A surfer is riding a wave. A large rock is off to the side. A container ship is in the distance.', 'Jack Kerouac.', 'LOVE.', 'Love.', 'MARKETING CHOICE.', 'Mark edward 2013.', 'NO.', 'No parking on this street.', 'No, there is no person in the image.', 'No, there is no person in this black and white image.', 'No, there is no person in this black and white image. The train is not present.', 'No, there is no person in this black and white image. The zebra is the main subject of the image and is in the foreground.', 'No, there is no person in this image.', 'No, there is no person in this image. A bird is sitting on the edge of the yellow line next to the fire hydrant.', 'No, there is no person in this image. Cats are not present.', 'No, there is no person in this image. Cats are sleeping on chairs.', 'No, there is no person in this image. The airplane is in the air.', 'No, there is no person in this image. The animals are zebras.', 'No, there is no person in this image. The bear and the rocks are the main focus.', 'No, there is no person in this image. The bear is in the water, not on land.', 'No, there is no person in this image. The bears are lying on rocks.', 'No, there is no person in this image. The black and white cat is on top of a wooden table.', 'No, there is no person in this image. The black cat is the main focus of the image.', 'No, there is no person in this image. The cat is laying on a laptop.', 'No, there is no person in this image. The cat is laying on a patterned rug.', 'No, there is no person in this image. The cat is laying on the carpeted floor.', 'No, there is no person in this image. The cat is looking at the toilet.', 'No, there is no person in this image. The cat is on a couch.', 'No, there is no person in this image. The cat is sitting on a blue object.', 'No, there is no person in this image. The clock is attached to a pole and there is an Irish flag to the right of the clock.', 'No, there is no person in this image. The dog and the cat are the main subjects of the image.', 'No, there is no person in this image. The dog is in mid-air, and the background is a mix of red and off-white colors.', 'No, there is no person in this image. The dog is laying on a couch.', 'No, there is no person in this image. The dog is laying on a rug.', 'No, there is no person in this image. The dog is laying on the grass and there is a red frisbee on the grass.', 'No, there is no person in this image. The dog is looking up at something.', 'No, there is no person in this image. The dog is lying on the grass and holding a red frisbee.', 'No, there is no person in this image. The dog is lying on the ground next to a bowl.', 'No, there is no person in this image. The dog is running on the sand.', 'No, there is no person in this image. The dog is sniffing a piece of food.', 'No, there is no person in this image. The dog is wearing a Santa hat.', 'No, there is no person in this image. The focal point of the image is a large clock tower with a clock on top, which is lit up with Christmas lights. The clock tower is surrounded by trees, which are decorated with lights, and', 'No, there is no person in this image. The focus is on a computer desk and various objects on it.', 'No, there is no person in this image. The focus is on a giraffe standing next to a table.', 'No, there is no person in this image. The focus is on a horse and a calf running in the dirt.', 'No, there is no person in this image. The focus is on a kitchen counter with various cooking items on it.', 'No, there is no person in this image. The focus is on the airplanes flying in the sky.', 'No, there is no person in this image. The focus is on the bedroom.', 'No, there is no person in this image. The focus is on the cat and dog standing on the sand.', 'No, there is no person in this image. The focus is on the luggage and the hallway.', 'No, there is no person in this image. The focus is on the two cats and the dog.', 'No, there is no person in this image. The focus is on the various items on a shelf.', 'No, there is no person in this image. The focus is on the white cat sitting on a red towel.', 'No, there is no person in this image. The horses are grazing in a green field.', 'No, there is no person in this image. The image features a body of water, likely a lake or pond, with a few ducks floating in it. The water appears to be calm, with a few ripples indicating that the water is slightly disturbed', 'No, there is no person in this image. The image features a bus on a road, which is bordered by a yellow sign with the words \"Gattshadstock\" and \"V66\" on it. The bus is driving on', 'No, there is no person in this image. The image features a clock tower on top of a building. The clock tower is made of gray and gold-colored material, and it has a dome-shaped top with a small circular weather vane', 'No, there is no person in this image. The image features a collection of boats and other sea-related objects in a large, open water body, likely a harbor or dock. The setting appears to be a coastal area, possibly near a large', 'No, there is no person in this image. The image features a dark and slightly eerie setting, with a bathroom and a closet in the background. The bathroom has a glass door, which is partially open, and there is a towel hanging on the', 'No, there is no person in this image. The image features a dog sitting in the back of a car, looking towards the side of the road. The dog has a long, fluffy coat and is looking towards the side of the road. The', 'No, there is no person in this image. The image features a large, modern, and bright red train on a track. The train is stationary and appears to be stationary, as indicated by the presence of tracks and the presence of snow on the', 'No, there is no person in this image. The image features a sign with a signboard that reads \"TO FLORIDA AVE.\" This sign is located on a street that is flooded with water, indicating that the area is flooded. The', 'No, there is no person in this image. The image features a wall clock on the wall, which is the main focus. The clock is gray and has a date window at the top. The date window is showing the date as \"10', 'No, there is no person in this image. The image focuses on the outside view, specifically an outdoor patio area with umbrellas and a building outside. The scene is slightly overcast, as indicated by the light fixture on the ceiling.', 'No, there is no person in this image. The kitchen is well-kept and organized.', 'No, there is no person in this image. The main subject of the image is a polar bear in the water.', 'No, there is no person in this image. The objects are not people.', 'No, there is no person in this image. The plane is the main focus of the picture.', 'No, there is no person in this image. The polar bear is in the water.', 'No, there is no person in this image. The red and white striped pipe is associated with the word \"Hentet Rosenkranz\" which is printed on the pipe.', 'No, there is no person in this image. The sheep are not being shown to be a person.', 'No, there is no person in this image. The sun is visible in the top left corner of the image, and a satellite dish is present on the left side of the image.', 'No, there is no person in this image. The train is not a person.', 'No, there is no person in this image. The train is on tracks, but it is not the person.', 'No, there is no person in this image. The zebra is the main focus of the image.', 'No, there is no person in this image. The zebras and their baby are the main focus.', 'No, there is no person in this image. The zebras are grazing in a field.', 'No, there is no person in this image. The zebras are grazing in an outdoor area.', 'No, there is no person in this image. The zebras are grazing on the grass.', 'No, there is no person in this image. The zebras are in a wild setting, surrounded by trees and dry grass.', 'No, there is no person in this image. The zebras are in an enclosed area with a fence.', 'No, there is no person in this image. The zebras are not being shown to be interacting with anyone.', 'No, there is no person in this image. The zebras are not interacting with each other.', 'No, there is no person in this image. The zebras are standing in a field of tall, dry grass.', 'No, there is no person in this picture.', 'No, there is no person in this picture. The cat is sitting on a black chair.', 'No, there is no person in this picture. The train is the main focus.', 'No, there is no person present in the image.', 'No, there is no person present in this image.', 'No.', 'P.', 'POPPA.', 'Pay here.', 'Photograph.', 'Pitcher.', 'Rent-A-Rent.', 'SAM-MARTIN.', 'SEVERAL SEVEN SEVERES.', 'SMASHERS.', 'SPILL.', 'STOP.', 'Scott Brown.', 'Skiing.', 'Sperry.', 'Stop.', 'Swissmemory.', 'TOMICK.', 'Take a trip on a London landmark.', 'The objects in the image are a cutting board with a variety of vegetables, including strawberries, red and green leafy vegetables, and onions, as well as a small jar with a knife and some salad ingredients. The vegetables are mostly colorful, with the strawberries', 'There is a yellow boat on the water in the foreground of the picture. In the background, there is a building and trees. There is a blue sky at the top of the picture.', 'There is no person in this image.', 'There is no person present in the image.', 'UARE ALIVE.', 'VISA.', 'Welcome Malachi.', 'Wii.', 'Yes, there is a cat in the image.', 'Yes, there is a person in the background of the image.', 'Yes, there is a person in the background.', 'Yes, there is a person in the image.', 'Yes, there is a person in the picture.', 'Yes, there is a person in the upper right corner of the image.', 'Yes, there is a person in the water.', 'Yes, there is a person in this bathroom.', 'Yes, there is a person in this image.', 'Yes, there is a person in this picture.', 'Yes, there is an elderly person in the image.', 'Yes.', 'Yes.  This image captures a dynamic moment in a snowboarding activity. The individual is captured mid-air, showcasing the skill and skill level of the snowboarder. The snowboarder is wearing a white jacket and brown pants, which', 'Zebras.']\n",
      "\n",
      "Column headers:\n",
      "['AID WALL.', 'ASUS.', 'Airliner.', 'Airplane.', 'Airplanes.', 'BARKETS.', 'BARRELS.', 'BASEBALL.', 'BEAR.', 'BEEP.', 'BEES.', 'BELT.', 'BEYOND.', 'BOOK BUS.', 'BOOKLER.', 'BOSTON.', 'BOX.', 'BRS.', 'Baseball.', 'Bathroom.', 'Bear.', 'Bears.', 'Biplane.', 'Bird.', 'Birds.', 'Black.', 'Blonde.', \"Boy's Best.\", 'Boy.', 'Boys.', 'Bravo.', 'Bus.', 'C0PT.', 'CAT.', 'CATS.', 'CH.', 'CHAINED.', 'CHANTS.', 'CHARGED.', 'CHILDREN.', 'CHLORINE.', 'COACHES.', 'COCA COLA.', 'CONFIDENTIAL.', 'Carrots.', 'Cat.', 'Cats.', 'Chef.', 'Child.', 'Children at play.', 'Children.', 'Christian.', 'City.', 'Clown.', 'Couple.', 'Cow.', 'Cows.', 'DAY.', 'DEAD.', 'DIVENOR.', 'DOLLAR.', 'DONALD CANDIDHUS.', 'DYING.', 'Darth Vader.', 'Dog.', 'Dogs.', 'Dolphin.', 'Ducks.', 'Dummies.', 'EXPERTS ONLY?', 'Elephant.', 'Elephants.', 'Engineer.', 'Engineering.', 'FEMALE.', 'FICTION.', 'FIGHTING FISHING.', 'FISHPANG TCE.', 'FORTY.', 'FULL.', 'Feline.', 'Female.', 'Females.', 'Fireman.', 'Furniture.', 'GB.', 'GIRL.', 'GORDS JEWELRY.', 'Gender: Female.', 'Giraffe and zebra.', 'Giraffe.', 'Giraffes.', 'Girl.', 'Girls.', 'Gourmet.', 'Graffiti.', 'Green.', 'HATED.', 'HUMAN.', 'Horse.', 'House.', 'Humans.', 'IMAG30305855', 'JEALOAND.', 'JOKER.', 'JUPITER.', 'Jet.', 'Jets.', 'Jokler.', 'Kid.', 'Kite.', 'Kitten.', 'MACHADOS.', 'MALE.', 'MAN.', 'MEN.', 'METRO.', 'MOMENTARO.', 'MOMENTTIME.', 'MULTI.', 'MUSICIAN.', 'Male.', 'Man.', 'Meat.', 'Medical.', 'Men.', 'Metro.', 'Military.', 'Model.', 'Mom.', 'Monkey.', 'Mother.', 'Motorcycles.', 'N/A.', 'NO PARKING.', 'NO.', 'NOMINATED.', 'OCEANIC.', 'Orkin.', 'Ostrich.', 'P.', 'PEOPLE.', 'PERSON.', 'PERSONALITY.', 'PERSONNS.', 'PERSONns.', 'POSSIBILITIES.', 'PSU.', 'PUBLIC.', 'PUNCHES.', 'PUPPY.', 'Parrot.', 'Passenger.', 'Peacock.', 'People.', 'Person.', 'Photograph.', 'Photographer.', 'Pilot.', 'Pizza.', 'Pizzas.', 'Plane.', 'Polar bear.', 'Police.', 'Poster.', 'Puppy.', 'REFRESHMENT.', 'REVIEWS.', 'Robot.', 'SALESMAN.', 'SALMON.', 'SAX.', 'SEA.', 'SEPIKA.', 'SEVERAL.', 'SEXUAL.', 'SIC.', 'SOMETHING.', 'SONS.', 'SPOON.', 'STAGTERS.', 'STARSHIROO.', 'STOP.', 'SUBJECT: Gender', 'SUBJECT: Gender: Female.', 'Scooter.', 'Sculpture.', 'Seagulls.', 'She/She/He/It.', 'Sheep.', 'Ship.', 'Soccer.', 'Soldier.', 'Striped.', 'Surfer.', 'Surfers.', 'Swiss.', 'TAXI.', 'THOUGH.', 'TUG.', 'Tattooist.', 'The kitchen is the main focus of the image. It is a modern, sleek kitchen with a focus on functionality and design. The kitchen features a large, stainless steel range hood, which is a common feature in modern kitchens to provide heat and ventilation.', 'The person(s) in this image are women.', 'The person(s) in this picture is a baker.', 'Toilet.', 'Train.', 'Truck.', 'Tub.', 'UNAUTHORIZED.', 'UNDERSTANDING, the person(s) in this image are likely to be women.', 'UNINTENDED.', 'Unanswerable.', 'Unfortunate.', 'Unknown.', 'Unsure.', 'Urinals.', 'VENOAL.', 'Vegetable.', 'Vehicle.', 'Voyage.', 'WAVE DIFFERENTTY.', 'WOMEN.', 'WOOD.', 'Warrior.', 'Wetsuit.', 'Wii.', 'Woman.', 'Women.', 'YOUNG.', 'YOUTH.', 'Yes, the person in the image is a man.', 'Zebra.', 'Zebras.']\n"
     ]
    }
   ],
   "source": [
    "yes_no_labels = df.iloc[:, 0].astype(str).tolist()\n",
    "male_female_labels = df.columns.astype(str).tolist()[1:]\n",
    "# Print the first row values and column headers\n",
    "print(\"\\nFirst row values:\")\n",
    "print(yes_no_labels)\n",
    "print(\"\\nColumn headers:\")\n",
    "print(male_female_labels)"
   ]
  },
  {
   "cell_type": "code",
   "execution_count": 33,
   "id": "b1243f6a",
   "metadata": {},
   "outputs": [],
   "source": [
    "# Read yes_labels.txt and find any values from yes_no_labels that are not in the file\n",
    "with open('../data/labels/yes_labels.txt', 'r') as file:\n",
    "    yes_labels = [line.strip() for line in file.readlines()]\n",
    "\n",
    "with open('../data/labels/no_labels.txt', 'r') as file:\n",
    "    no_labels = [line.strip() for line in file.readlines()]\n",
    "\n",
    "with open('../data/labels/other_labels_yn.txt', 'r') as file:\n",
    "    other_labels_yn = [line.strip() for line in file.readlines()]"
   ]
  },
  {
   "cell_type": "code",
   "execution_count": 34,
   "id": "6c1d7a01",
   "metadata": {},
   "outputs": [
    {
     "name": "stdout",
     "output_type": "stream",
     "text": [
      "\n",
      "All yes - no labels are present.\n"
     ]
    }
   ],
   "source": [
    "yes_no_missing_labels = [label for label in yes_no_labels if not(label in yes_labels or label in no_labels or label in other_labels_yn)]\n",
    "if yes_no_missing_labels:\n",
    "    print(\"\\nY/N: Missing labels from *_labels.txt:\")\n",
    "    print(yes_no_missing_labels)\n",
    "    print(len(yes_no_missing_labels), \"missing labels found.\")\n",
    "else:\n",
    "    print(\"\\nAll yes - no labels are present.\")"
   ]
  },
  {
   "cell_type": "code",
   "execution_count": 51,
   "id": "c618fcb6",
   "metadata": {},
   "outputs": [],
   "source": [
    "with open('../data/labels/male_labels.txt', 'r') as file:\n",
    "    male_labels = [line.strip() for line in file.readlines()]\n",
    "\n",
    "with open('../data/labels/female_labels.txt', 'r') as file:\n",
    "    female_labels = [line.strip() for line in file.readlines()]\n",
    "\n",
    "with open('../data/labels/other_labels_mf.txt', 'r') as file:\n",
    "    other_labels_mf = [line.strip() for line in file.readlines()]"
   ]
  },
  {
   "cell_type": "code",
   "execution_count": 52,
   "id": "dd16cb63",
   "metadata": {},
   "outputs": [
    {
     "name": "stdout",
     "output_type": "stream",
     "text": [
      "\n",
      "All male - female labels are present.\n"
     ]
    }
   ],
   "source": [
    "mf_missing_labels = [label for label in male_female_labels if not(label in male_labels or label in female_labels or label in other_labels_mf)]\n",
    "if mf_missing_labels:\n",
    "    print(\"\\nM/F: Missing labels from *_labels.txt:\")\n",
    "    print(mf_missing_labels)\n",
    "    print(len(mf_missing_labels), \"missing labels\")\n",
    "else:\n",
    "    print(\"\\nAll male - female labels are present.\")"
   ]
  },
  {
   "cell_type": "code",
   "execution_count": 37,
   "id": "682cd63c",
   "metadata": {},
   "outputs": [],
   "source": [
    "from sentence_transformers import SentenceTransformer\n",
    "from sklearn.metrics.pairwise import cosine_similarity\n",
    "import numpy as np\n",
    "\n",
    "# Load the model\n",
    "model = SentenceTransformer('paraphrase-MiniLM-L6-v2')\n",
    "\n",
    "# Helper to load phrases from a file\n",
    "def load_phrases(filename):\n",
    "    with open(filename, 'r', encoding='utf-8') as f:\n",
    "        return [line.strip() for line in f if line.strip()]"
   ]
  },
  {
   "cell_type": "code",
   "execution_count": 38,
   "id": "20754dcf",
   "metadata": {},
   "outputs": [
    {
     "name": "stdout",
     "output_type": "stream",
     "text": [
      "\n",
      "Loaded 89 male phrases, 71 female phrases, and 153 other phrases.\n"
     ]
    }
   ],
   "source": [
    "# Load labeled examples\n",
    "# yes_phrases = load_phrases('../data/labels/yes_labels.txt')\n",
    "# no_phrases = load_phrases('../data/labels/no_labels.txt')\n",
    "# other_phrases = load_phrases('../data/labels/other_labels_yn.txt')\n",
    "\n",
    "# print(f\"\\nLoaded {len(yes_phrases)} yes phrases, {len(no_phrases)} no phrases, and {len(other_phrases)} other phrases.\")\n",
    "\n",
    "# Load labeled examples\n",
    "male_phrases = load_phrases('../data/labels/male_labels.txt')\n",
    "female_phrases = load_phrases('../data/labels/female_labels.txt')\n",
    "other_mf_phrases = load_phrases('../data/labels/other_labels_mf.txt')\n",
    "\n",
    "print(f\"\\nLoaded {len(male_phrases)} male phrases, {len(female_phrases)} female phrases, and {len(other_mf_phrases)} other phrases.\")"
   ]
  },
  {
   "cell_type": "code",
   "execution_count": 44,
   "id": "9856d588",
   "metadata": {},
   "outputs": [],
   "source": [
    "# Embed all phrases\n",
    "# yes_embeddings = model.encode(yes_phrases, convert_to_tensor=True).cpu().numpy()\n",
    "# no_embeddings = model.encode(no_phrases, convert_to_tensor=True).cpu().numpy()\n",
    "# other_embeddings = model.encode(other_phrases, convert_to_tensor=True).cpu().numpy()\n",
    "\n",
    "# def classify(text, threshold=0.7):\n",
    "#     input_embedding = model.encode([text], convert_to_tensor=True).cpu().numpy()\n",
    "\n",
    "#     # Calculate cosine similarities\n",
    "#     yes_sim = cosine_similarity(input_embedding, yes_embeddings).max()\n",
    "#     no_sim = cosine_similarity(input_embedding, no_embeddings).max()\n",
    "#     other_sim = cosine_similarity(input_embedding, other_embeddings).max()\n",
    "\n",
    "#     scores = {'yes': yes_sim, 'no': no_sim, 'other': other_sim}\n",
    "#     best_label = max(scores, key=scores.get)\n",
    "\n",
    "#     # Optional: apply threshold to avoid spurious classifications\n",
    "#     if scores[best_label] < threshold:\n",
    "#         return 'not confident'\n",
    "#     return best_label\n",
    "\n",
    "male_embeddings = model.encode(male_phrases, convert_to_tensor=True).cpu().numpy()\n",
    "female_embeddings = model.encode(female_phrases, convert_to_tensor=True).cpu().numpy()\n",
    "other_embeddings = model.encode(other_mf_phrases, convert_to_tensor=True).cpu().numpy()\n",
    "\n",
    "def classify(text, threshold=0.05):\n",
    "    input_embedding = model.encode([text], convert_to_tensor=True).cpu().numpy()\n",
    "\n",
    "    # Calculate cosine similarities\n",
    "    male_sim = np.mean(cosine_similarity(input_embedding, male_embeddings), axis=1)[0]\n",
    "    female_sim = np.mean(cosine_similarity(input_embedding, female_embeddings), axis=1)[0]\n",
    "    other_sim = np.mean(cosine_similarity(input_embedding, other_embeddings), axis=1)[0]\n",
    "\n",
    "    scores = {'male': male_sim, 'female': female_sim, 'other': other_sim}\n",
    "    sorted_scores = sorted(scores.values(), reverse=True)\n",
    "    \n",
    "    # Check if top score is sufficiently higher than second-best\n",
    "    confidence_gap = sorted_scores[0] - sorted_scores[1]\n",
    "    \n",
    "    if confidence_gap < threshold:\n",
    "        return 'not confident'\n",
    "    \n",
    "    return max(scores, key=scores.get)"
   ]
  },
  {
   "cell_type": "code",
   "execution_count": 45,
   "id": "f802e993",
   "metadata": {},
   "outputs": [
    {
     "name": "stdout",
     "output_type": "stream",
     "text": [
      "210 missing labels to classify.\n",
      "\n",
      "Classified examples:\n",
      "Male: 23, Female: 17, Other: 1, Not confident: 169\n"
     ]
    }
   ],
   "source": [
    "# Example usage\n",
    "# embedded_yes_no_responses = {'yes': [], 'no': [], 'other': [], 'not confident': []}\n",
    "# for ex in yes_no_missing_labels:\n",
    "#     label = classify(ex)\n",
    "#     embedded_yes_no_responses[label].append(ex)\n",
    "\n",
    "# print(\"\\nClassified examples:\")\n",
    "# print(f\"Yes: {len(embedded_yes_no_responses['yes'])}, No: {len(embedded_yes_no_responses['no'])}, Other: {len(embedded_yes_no_responses['other'])}, Not confident: {len(embedded_yes_no_responses['not confident'])}\")\n",
    "\n",
    "embedded_male_female_responses = {'male': [], 'female': [], 'other': [], 'not confident': []}\n",
    "print(len(mf_missing_labels), \"missing labels to classify.\")\n",
    "for ex in mf_missing_labels:\n",
    "    label = classify(ex)\n",
    "    embedded_male_female_responses[label].append(ex)\n",
    "\n",
    "print(\"\\nClassified examples:\")\n",
    "print(f\"Male: {len(embedded_male_female_responses['male'])}, Female: {len(embedded_male_female_responses['female'])}, Other: {len(embedded_male_female_responses['other'])}, Not confident: {len(embedded_male_female_responses['not confident'])}\")"
   ]
  },
  {
   "cell_type": "code",
   "execution_count": null,
   "id": "2957bf4a",
   "metadata": {},
   "outputs": [],
   "source": [
    "import anthropic\n",
    "import os\n",
    "\n",
    "os.environ[\"ANTHROPIC_API_KEY\"] = \"\"\n",
    "client = anthropic.Anthropic(\n",
    "    # defaults to os.environ.get(\"ANTHROPIC_API_KEY\")\n",
    "    api_key=os.environ.get(\"ANTHROPIC_API_KEY\"),\n",
    ")"
   ]
  },
  {
   "cell_type": "code",
   "execution_count": 17,
   "id": "ad9f109e",
   "metadata": {},
   "outputs": [],
   "source": [
    "import time\n",
    "from anthropic import RateLimitError"
   ]
  },
  {
   "cell_type": "code",
   "execution_count": 28,
   "id": "f64729f7",
   "metadata": {},
   "outputs": [
    {
     "name": "stdout",
     "output_type": "stream",
     "text": [
      "Processed 1 out of 1 labels.\n",
      "Current response: [TextBlock(citations=None, text='no', type='text')]\n"
     ]
    }
   ],
   "source": [
    "# Replace placeholders like {{STRING}} with real values,\n",
    "# because the SDK does not support variables.\n",
    "\n",
    "final_yes_no_responses = []\n",
    "for i, label in enumerate(embedded_yes_no_responses['not confident']):\n",
    "    while True:\n",
    "        try:\n",
    "            message = client.messages.create(\n",
    "                model=\"claude-3-5-haiku-20241022\",\n",
    "                max_tokens=10,\n",
    "                temperature=0.8,\n",
    "                system=\"\"\"You are an annotator tasked with classifying image labels. Return one of three options only:\n",
    "                 \"yes\" if the label indicates there could be a person in the image. \n",
    "                 \"no\" if the label indicates there is no person.\n",
    "                 \"other\" if it’s ambiguous or unclear, only if necessary.\n",
    "                 The labels may include objects, multiple choice, or chain of thought thinking. Look for the keyword 'Answer' where applicable. Return a one-word answer only, do not apologize or explain your reasoning.\"\"\",\n",
    "                messages=[\n",
    "                    {\n",
    "                        \"role\": \"user\",\n",
    "                        \"content\": [\n",
    "                            # {\n",
    "                            #     \"type\": \"text\",\n",
    "                            #     \"text\": \"<examples>\\n<example>\\n<example_description>\\nThe labels indicate there is a person in this picture.\\n</example_description>\\n<STRING>\\n'A: Yes B: No C: Not possible D: Yes The answer is D: Yes.'\\n</STRING>\\n<ideal_output>\\nyes\\n</ideal_output>\\n</example>\\n<example>\\n<example_description>\\nThese labels indicate there is no person in the picture.\\n</example_description>\\n<STRING>\\nA. Yes. B. No. C. Not possible. C. No. C. No. C. No. C. No. C. No.\\n</STRING>\\n<ideal_output>\\nno\\n</ideal_output>\\n</example>\\n<example>\\n<example_description>\\nThis label is unclear and confusing as to whether or not a person is present.\\n</example_description>\\n<STRING>\\nA. Yes. B. No.\\n</STRING>\\n<ideal_output>\\nother\\n</ideal_output>\\n</example>\\n</examples>\\n\\n\"\n",
    "                            # },\n",
    "                            {\n",
    "                                \"type\": \"text\",\n",
    "                                \"text\": f\"The labeller is asked the question 'is there a person in the picture?'. Look for the keyword 'Answer' or decipher the chain of thought into a reasonable conclusion. Only use \\\"yes\\\", \\\"no\\\", or \\\"other\\\". CLASSIFY THIS: {label}. \"\n",
    "                            }\n",
    "                        ]\n",
    "                    }\n",
    "                ]\n",
    "            )\n",
    "            break  # success, break retry loop\n",
    "        except anthropic.RateLimitError:\n",
    "            print(\"Rate limit hit, sleeping for 5 seconds...\")\n",
    "            time.sleep(5)\n",
    "        except Exception as e:\n",
    "            print(f\"Unexpected error on item {i}: {e}\")\n",
    "            break  # Or choose to continue instead\n",
    "    time.sleep(0.5)  # Sleep between calls to reduce chance of limit\n",
    "    final_yes_no_responses.append(message.content)\n",
    "    \n",
    "    # print progress\n",
    "    if i % 10 == 0:\n",
    "        print(f\"Processed {i + 1} out of {len(embedded_yes_no_responses['not confident'])} labels.\")\n",
    "        print(f\"Current response: {message.content}\")"
   ]
  },
  {
   "cell_type": "code",
   "execution_count": 46,
   "id": "4bfa48ac",
   "metadata": {},
   "outputs": [
    {
     "name": "stdout",
     "output_type": "stream",
     "text": [
      "['AID WALL.', 'ASUS.', 'Airliner.', 'Airplane.', 'Airplanes.', 'BARKETS.', 'BARRELS.', 'BASEBALL.', 'BEAR.', 'BEEP.', 'BEES.', 'BELT.', 'BEYOND.', 'BOOK BUS.', 'BOOKLER.', 'BOX.', 'BRS.', 'Baseball.', 'Bathroom.', 'Bear.', 'Bears.', 'Biplane.', 'Bird.', 'Birds.', 'Black.', 'Bravo.', 'Bus.', 'C0PT.', 'CAT.', 'CATS.', 'CH.', 'CHAINED.', 'CHANTS.', 'CHARGED.', 'CHILDREN.', 'CHLORINE.', 'COACHES.', 'COCA COLA.', 'CONFIDENTIAL.', 'Cats.', 'Child.', 'Children at play.', 'Children.', 'City.', 'Clown.', 'Couple.', 'Cow.', 'Cows.', 'DAY.', 'DEAD.', 'DIVENOR.', 'DOLLAR.', 'DONALD CANDIDHUS.', 'DYING.', 'Dogs.', 'Dolphin.', 'Ducks.', 'Dummies.', 'EXPERTS ONLY?', 'Elephants.', 'FICTION.', 'FIGHTING FISHING.', 'FISHPANG TCE.', 'FORTY.', 'FULL.', 'Feline.', 'Fireman.', 'Furniture.', 'GB.', 'Giraffe and zebra.', 'Giraffe.', 'Giraffes.', 'Gourmet.', 'Graffiti.', 'Green.', 'HATED.', 'HUMAN.', 'Horse.', 'House.', 'Humans.', 'IMAG30305855', 'JEALOAND.', 'JOKER.', 'JUPITER.', 'Jet.', 'Jets.', 'Jokler.', 'Kid.', 'Kite.', 'Kitten.', 'METRO.', 'MOMENTARO.', 'MOMENTTIME.', 'MULTI.', 'Medical.', 'Metro.', 'Motorcycles.', 'N/A.', 'NOMINATED.', 'OCEANIC.', 'Orkin.', 'Ostrich.', 'PEOPLE.', 'PERSONNS.', 'PERSONns.', 'POSSIBILITIES.', 'PSU.', 'PUBLIC.', 'PUPPY.', 'Parrot.', 'Passenger.', 'Peacock.', 'People.', 'Photograph.', 'Photographer.', 'Pizza.', 'Pizzas.', 'Plane.', 'Polar bear.', 'Police.', 'Poster.', 'Puppy.', 'REFRESHMENT.', 'REVIEWS.', 'SALMON.', 'SAX.', 'SEA.', 'SEVERAL.', 'SEXUAL.', 'SIC.', 'SOMETHING.', 'SPOON.', 'STAGTERS.', 'STARSHIROO.', 'STOP.', 'Scooter.', 'Sculpture.', 'Seagulls.', 'Sheep.', 'Ship.', 'Soccer.', 'Striped.', 'Surfer.', 'Surfers.', 'Swiss.', 'TAXI.', 'THOUGH.', 'Tattooist.', 'The kitchen is the main focus of the image. It is a modern, sleek kitchen with a focus on functionality and design. The kitchen features a large, stainless steel range hood, which is a common feature in modern kitchens to provide heat and ventilation.', 'The person(s) in this picture is a baker.', 'Toilet.', 'Train.', 'Truck.', 'Tub.', 'UNINTENDED.', 'Unanswerable.', 'Unfortunate.', 'Unknown.', 'Unsure.', 'Urinals.', 'VENOAL.', 'Vegetable.', 'Vehicle.', 'Voyage.', 'WAVE DIFFERENTTY.', 'Warrior.', 'YOUNG.', 'YOUTH.', 'Zebras.']\n",
      "Processed 1 out of 169 labels.\n",
      "Current response: [TextBlock(citations=None, text='other', type='text')]\n",
      "Processed 11 out of 169 labels.\n",
      "Current response: [TextBlock(citations=None, text='other', type='text')]\n",
      "Processed 21 out of 169 labels.\n",
      "Current response: [TextBlock(citations=None, text='other', type='text')]\n",
      "Processed 31 out of 169 labels.\n",
      "Current response: [TextBlock(citations=None, text='other', type='text')]\n",
      "Processed 41 out of 169 labels.\n",
      "Current response: [TextBlock(citations=None, text='other', type='text')]\n",
      "Processed 51 out of 169 labels.\n",
      "Current response: [TextBlock(citations=None, text='other', type='text')]\n",
      "Processed 61 out of 169 labels.\n",
      "Current response: [TextBlock(citations=None, text='other', type='text')]\n",
      "Processed 71 out of 169 labels.\n",
      "Current response: [TextBlock(citations=None, text='other', type='text')]\n",
      "Processed 81 out of 169 labels.\n",
      "Current response: [TextBlock(citations=None, text='female', type='text')]\n",
      "Processed 91 out of 169 labels.\n",
      "Current response: [TextBlock(citations=None, text='other', type='text')]\n",
      "Processed 101 out of 169 labels.\n",
      "Current response: [TextBlock(citations=None, text='other', type='text')]\n",
      "Processed 111 out of 169 labels.\n",
      "Current response: [TextBlock(citations=None, text='other', type='text')]\n",
      "Processed 121 out of 169 labels.\n",
      "Current response: [TextBlock(citations=None, text='other', type='text')]\n",
      "Processed 131 out of 169 labels.\n",
      "Current response: [TextBlock(citations=None, text='other', type='text')]\n",
      "Processed 141 out of 169 labels.\n",
      "Current response: [TextBlock(citations=None, text='other', type='text')]\n",
      "Processed 151 out of 169 labels.\n",
      "Current response: [TextBlock(citations=None, text='other', type='text')]\n",
      "Processed 161 out of 169 labels.\n",
      "Current response: [TextBlock(citations=None, text='other', type='text')]\n"
     ]
    }
   ],
   "source": [
    "# Replace placeholders like {{STRING}} with real values,\n",
    "# because the SDK does not support variables.\n",
    "\n",
    "final_mf_responses = []\n",
    "for i, label in enumerate(embedded_male_female_responses['not confident']): \n",
    "    while True:\n",
    "        try:\n",
    "            message = client.messages.create(\n",
    "                model=\"claude-3-5-haiku-20241022\",\n",
    "                max_tokens=10,\n",
    "                temperature=1,\n",
    "                system=\"\"\"You are an annotator tasked with classifying image labels. Return one of three options only:\n",
    "                 \"male\" if the label indicates there is a woman in the image.\n",
    "                 \"female\" if the label indicates there is a man in the image.\n",
    "                 \"other\" if it’s ambiguous or unclear, only if necessary.\n",
    "                 The labels may include objects, multiple choice, or chain of thought thinking. Look for the keyword 'Answer' where applicable. Return a one-word answer only, do not apologize or explain your reasoning.\"\"\",\n",
    "                messages=[\n",
    "                    {\n",
    "                        \"role\": \"user\",\n",
    "                        \"content\": [\n",
    "                            {\n",
    "                                \"type\": \"text\",\n",
    "                                \"text\": f\"The labeller is asked the question 'What is the gender of the person in this picture?'. Look for the keyword 'Answer' or decipher the chain of thought into a reasonable conclusion. Only use \\\"male\\\", \\\"female\\\", or \\\"other\\\" in your response. CLASSIFY THIS: {label}.\"\n",
    "                            }\n",
    "                        ]\n",
    "                    }\n",
    "                ]\n",
    "            )\n",
    "            break  # success, break retry loop\n",
    "        except anthropic.RateLimitError:\n",
    "            print(\"Rate limit hit, sleeping for 5 seconds...\")\n",
    "            time.sleep(5)\n",
    "        except Exception as e:\n",
    "            print(f\"Unexpected error on item {i}: {e}\")\n",
    "            break  # Or choose to continue instead\n",
    "    time.sleep(0.5)  # Sleep between calls to reduce chance of limit\n",
    "    final_mf_responses.append(message.content)\n",
    "    \n",
    "    # print progress\n",
    "    if i % 10 == 0:\n",
    "        #print(f\"Processed {i + 1} out of {len(embedded_yes_no_responses['not confident'])} labels.\")\n",
    "        print(f\"Processed {i + 1} out of {len(embedded_male_female_responses['not confident'])} labels.\")\n",
    "        print(f\"Current response: {message.content}\")"
   ]
  },
  {
   "cell_type": "code",
   "execution_count": 47,
   "id": "bb8ce3e7",
   "metadata": {},
   "outputs": [],
   "source": [
    "# response_dictionary = {}\n",
    "# for label, response in zip(embedded_yes_no_responses['not confident'], final_yes_no_responses):\n",
    "#     response = response[0].text.strip()\n",
    "#     if response in response_dictionary:\n",
    "#         response_dictionary[response].append(label)\n",
    "#     else:\n",
    "#         response_dictionary[response] = [label]\n",
    "\n",
    "response_dictionary = {}\n",
    "for label, response in zip(embedded_male_female_responses['not confident'], final_mf_responses):\n",
    "    response = response[0].text.strip()\n",
    "    if response in response_dictionary:\n",
    "        response_dictionary[response].append(label)\n",
    "    else:\n",
    "        response_dictionary[response] = [label]"
   ]
  },
  {
   "cell_type": "code",
   "execution_count": 48,
   "id": "7cab59c8",
   "metadata": {},
   "outputs": [
    {
     "name": "stdout",
     "output_type": "stream",
     "text": [
      "\n",
      "Response dictionary keys:\n",
      "['other', 'male', 'female']\n",
      "[['AID WALL.', 'ASUS.', 'Airliner.', 'Airplane.', 'Airplanes.', 'BARKETS.', 'BARRELS.', 'BASEBALL.', 'BEAR.', 'BEEP.', 'BEES.', 'BELT.', 'BEYOND.', 'BOOK BUS.', 'BOOKLER.', 'BOX.', 'BRS.', 'Baseball.', 'Bathroom.', 'Bear.', 'Bears.', 'Biplane.', 'Bird.', 'Birds.', 'Black.', 'Bravo.', 'Bus.', 'C0PT.', 'CAT.', 'CATS.', 'CH.', 'CHAINED.', 'CHANTS.', 'CHARGED.', 'CHILDREN.', 'CHLORINE.', 'COACHES.', 'COCA COLA.', 'CONFIDENTIAL.', 'Cats.', 'Child.', 'Children at play.', 'Children.', 'City.', 'Clown.', 'Couple.', 'Cow.', 'Cows.', 'DAY.', 'DEAD.', 'DIVENOR.', 'DOLLAR.', 'DYING.', 'Dogs.', 'Dolphin.', 'Ducks.', 'Dummies.', 'EXPERTS ONLY?', 'Elephants.', 'FICTION.', 'FIGHTING FISHING.', 'FISHPANG TCE.', 'FORTY.', 'FULL.', 'Feline.', 'Furniture.', 'GB.', 'Giraffe and zebra.', 'Giraffe.', 'Giraffes.', 'Gourmet.', 'Graffiti.', 'Green.', 'HATED.', 'HUMAN.', 'Horse.', 'House.', 'Humans.', 'JEALOAND.', 'JOKER.', 'JUPITER.', 'Jet.', 'Jets.', 'Jokler.', 'Kid.', 'Kite.', 'Kitten.', 'METRO.', 'MOMENTARO.', 'MOMENTTIME.', 'MULTI.', 'Medical.', 'Metro.', 'Motorcycles.', 'N/A.', 'NOMINATED.', 'OCEANIC.', 'Orkin.', 'Ostrich.', 'PEOPLE.', 'PERSONNS.', 'PERSONns.', 'POSSIBILITIES.', 'PSU.', 'PUBLIC.', 'PUPPY.', 'Parrot.', 'Passenger.', 'Peacock.', 'People.', 'Photograph.', 'Photographer.', 'Pizza.', 'Pizzas.', 'Plane.', 'Polar bear.', 'Police.', 'Poster.', 'Puppy.', 'REFRESHMENT.', 'REVIEWS.', 'SALMON.', 'SAX.', 'SEA.', 'SEVERAL.', 'SEXUAL.', 'SIC.', 'SOMETHING.', 'SPOON.', 'STAGTERS.', 'STARSHIROO.', 'STOP.', 'Scooter.', 'Sculpture.', 'Seagulls.', 'Sheep.', 'Ship.', 'Soccer.', 'Striped.', 'Surfer.', 'Surfers.', 'Swiss.', 'TAXI.', 'THOUGH.', 'Tattooist.', 'The kitchen is the main focus of the image. It is a modern, sleek kitchen with a focus on functionality and design. The kitchen features a large, stainless steel range hood, which is a common feature in modern kitchens to provide heat and ventilation.', 'Toilet.', 'Train.', 'Truck.', 'Tub.', 'UNINTENDED.', 'Unanswerable.', 'Unfortunate.', 'Unknown.', 'Unsure.', 'Urinals.', 'VENOAL.', 'Vegetable.', 'Vehicle.', 'Voyage.', 'WAVE DIFFERENTTY.', 'Warrior.', 'YOUNG.', 'YOUTH.', 'Zebras.'], ['DONALD CANDIDHUS.', 'Fireman.', 'The person(s) in this picture is a baker.'], ['IMAG30305855']]\n"
     ]
    }
   ],
   "source": [
    "# print keys\n",
    "print(\"\\nResponse dictionary keys:\")\n",
    "print(list(response_dictionary.keys()))\n",
    "print(list(response_dictionary.values())[:5])"
   ]
  },
  {
   "cell_type": "code",
   "execution_count": 49,
   "id": "05564573",
   "metadata": {},
   "outputs": [],
   "source": [
    "# merge responses dictionary with embedded_yes_no_responses\n",
    "# if 'yes' not in response_dictionary:\n",
    "#     response_dictionary['yes'] = []\n",
    "# if 'no' not in response_dictionary:\n",
    "#     response_dictionary['no'] = []\n",
    "# if 'other' not in response_dictionary:\n",
    "#     response_dictionary['other'] = []\n",
    "# response_dictionary['yes'].extend(embedded_yes_no_responses['yes'])\n",
    "# response_dictionary['no'].extend(embedded_yes_no_responses['no'])\n",
    "# response_dictionary['other'].extend(embedded_yes_no_responses['other'])\n",
    "\n",
    "if 'male' not in response_dictionary:\n",
    "    response_dictionary['male'] = []\n",
    "if 'female' not in response_dictionary:\n",
    "    response_dictionary['female'] = []\n",
    "if 'other' not in response_dictionary:\n",
    "    response_dictionary['other'] = []\n",
    "response_dictionary['male'].extend(embedded_male_female_responses['male'])\n",
    "response_dictionary['female'].extend(embedded_male_female_responses['female'])\n",
    "response_dictionary['other'].extend(embedded_male_female_responses['other'])\n"
   ]
  },
  {
   "cell_type": "code",
   "execution_count": 32,
   "id": "3467dfcb",
   "metadata": {},
   "outputs": [
    {
     "name": "stdout",
     "output_type": "stream",
     "text": [
      "\n",
      "Yes/No labels have been processed and saved to tmp_labels directory.\n"
     ]
    }
   ],
   "source": [
    "# Write the yes, no, other labels to a file\n",
    "if 'yes' in response_dictionary:\n",
    "    with open('../data/tmp_labels/yes_labels.txt', 'w') as file:\n",
    "        for label in response_dictionary['yes']:\n",
    "            file.write(f\"{label}\\n\")\n",
    "\n",
    "if 'no' in response_dictionary:\n",
    "    with open('../data/tmp_labels/no_labels.txt', 'w') as file:\n",
    "        for label in response_dictionary['no']:\n",
    "            file.write(f\"{label}\\n\")\n",
    "\n",
    "if 'other' in response_dictionary:\n",
    "    with open('../data/tmp_labels/other_labels_yn.txt', 'w') as file:\n",
    "        for label in response_dictionary['other']:\n",
    "            file.write(f\"{label}\\n\")\n",
    "\n",
    "print(\"\\nYes/No labels have been processed and saved to tmp_labels directory.\")\n"
   ]
  },
  {
   "cell_type": "code",
   "execution_count": 50,
   "id": "fe5f5435",
   "metadata": {},
   "outputs": [
    {
     "name": "stdout",
     "output_type": "stream",
     "text": [
      "\n",
      "Male/Female labels have been processed and saved to tmp_labels directory.\n"
     ]
    }
   ],
   "source": [
    "if 'male' in response_dictionary:\n",
    "    with open('../data/tmp_labels/male_labels.txt', 'w') as file:\n",
    "        for label in response_dictionary['male']:\n",
    "            file.write(f\"{label}\\n\")\n",
    "\n",
    "if 'female' in response_dictionary:\n",
    "    with open('../data/tmp_labels/female_labels.txt', 'w') as file:\n",
    "        for label in response_dictionary['female']:\n",
    "            file.write(f\"{label}\\n\")\n",
    "\n",
    "if 'other' in response_dictionary:\n",
    "    with open('../data/tmp_labels/other_labels_mf.txt', 'w') as file:\n",
    "        for label in response_dictionary['other']:\n",
    "            file.write(f\"{label}\\n\")\n",
    "\n",
    "print(\"\\nMale/Female labels have been processed and saved to tmp_labels directory.\")\n"
   ]
  },
  {
   "cell_type": "code",
   "execution_count": null,
   "id": "28486924",
   "metadata": {},
   "outputs": [],
   "source": []
  }
 ],
 "metadata": {
  "kernelspec": {
   "display_name": ".venv",
   "language": "python",
   "name": "python3"
  },
  "language_info": {
   "codemirror_mode": {
    "name": "ipython",
    "version": 3
   },
   "file_extension": ".py",
   "mimetype": "text/x-python",
   "name": "python",
   "nbconvert_exporter": "python",
   "pygments_lexer": "ipython3",
   "version": "3.10.10"
  }
 },
 "nbformat": 4,
 "nbformat_minor": 5
}
