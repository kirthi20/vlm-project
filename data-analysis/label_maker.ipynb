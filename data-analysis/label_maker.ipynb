{
 "cells": [
  {
   "cell_type": "code",
   "execution_count": 52,
   "id": "85f9c7f9",
   "metadata": {},
   "outputs": [
    {
     "name": "stdout",
     "output_type": "stream",
     "text": [
      "Shape: (45, 51)\n",
      "Columns: ['prompt2', 'ARMS.', 'BAR.', 'BEVERLY HILFIGHER.', 'BIRD.', 'BOOK.', 'Biceps.', 'Blonde.', 'Boy.', 'Cat.', 'Dog.', 'FEMALE.', 'Female.', 'Females.', 'GIRL.', 'GUY.', 'Implied, IGNORE.', 'Light is red.', 'MALE.', 'MAN.', 'Male.', 'Masculine.', 'Men.', 'Military.', 'Mom.', 'NO  The person(s) in this image are not present.', 'NO Answer: Female.', 'NO The person(s) in this image are not specified.', 'NO.', 'No one is pictured in the image.', 'No one is present in the image.', 'No one is present in this image.', 'No one.', 'No person(s) in this picture.', 'No.', 'One.', 'PERSONAL.', 'PERSONNEL 5.', 'PERSONS.', 'PETE.', 'SAILORS.', 'SOMETHING.', 'STANLEY.', 'STARSHIP.', 'STOP.', 'TERMINAL NOT INGREDIENTS.', 'UNAUTHORIZED.', 'VIDEO.', 'WOMEN.', 'Wetsuit.', 'Zebra.']\n",
      "\n",
      "First few rows:\n"
     ]
    },
    {
     "data": {
      "application/vnd.microsoft.datawrangler.viewer.v0+json": {
       "columns": [
        {
         "name": "index",
         "rawType": "int64",
         "type": "integer"
        },
        {
         "name": "prompt2",
         "rawType": "object",
         "type": "string"
        },
        {
         "name": "ARMS.",
         "rawType": "int64",
         "type": "integer"
        },
        {
         "name": "BAR.",
         "rawType": "int64",
         "type": "integer"
        },
        {
         "name": "BEVERLY HILFIGHER.",
         "rawType": "int64",
         "type": "integer"
        },
        {
         "name": "BIRD.",
         "rawType": "int64",
         "type": "integer"
        },
        {
         "name": "BOOK.",
         "rawType": "int64",
         "type": "integer"
        },
        {
         "name": "Biceps.",
         "rawType": "int64",
         "type": "integer"
        },
        {
         "name": "Blonde.",
         "rawType": "int64",
         "type": "integer"
        },
        {
         "name": "Boy.",
         "rawType": "int64",
         "type": "integer"
        },
        {
         "name": "Cat.",
         "rawType": "int64",
         "type": "integer"
        },
        {
         "name": "Dog.",
         "rawType": "int64",
         "type": "integer"
        },
        {
         "name": "FEMALE.",
         "rawType": "int64",
         "type": "integer"
        },
        {
         "name": "Female.",
         "rawType": "int64",
         "type": "integer"
        },
        {
         "name": "Females.",
         "rawType": "int64",
         "type": "integer"
        },
        {
         "name": "GIRL.",
         "rawType": "int64",
         "type": "integer"
        },
        {
         "name": "GUY.",
         "rawType": "int64",
         "type": "integer"
        },
        {
         "name": "Implied, IGNORE.",
         "rawType": "int64",
         "type": "integer"
        },
        {
         "name": "Light is red.",
         "rawType": "int64",
         "type": "integer"
        },
        {
         "name": "MALE.",
         "rawType": "int64",
         "type": "integer"
        },
        {
         "name": "MAN.",
         "rawType": "int64",
         "type": "integer"
        },
        {
         "name": "Male.",
         "rawType": "int64",
         "type": "integer"
        },
        {
         "name": "Masculine.",
         "rawType": "int64",
         "type": "integer"
        },
        {
         "name": "Men.",
         "rawType": "int64",
         "type": "integer"
        },
        {
         "name": "Military.",
         "rawType": "int64",
         "type": "integer"
        },
        {
         "name": "Mom.",
         "rawType": "int64",
         "type": "integer"
        },
        {
         "name": "NO  The person(s) in this image are not present.",
         "rawType": "int64",
         "type": "integer"
        },
        {
         "name": "NO Answer: Female.",
         "rawType": "int64",
         "type": "integer"
        },
        {
         "name": "NO The person(s) in this image are not specified.",
         "rawType": "int64",
         "type": "integer"
        },
        {
         "name": "NO.",
         "rawType": "int64",
         "type": "integer"
        },
        {
         "name": "No one is pictured in the image.",
         "rawType": "int64",
         "type": "integer"
        },
        {
         "name": "No one is present in the image.",
         "rawType": "int64",
         "type": "integer"
        },
        {
         "name": "No one is present in this image.",
         "rawType": "int64",
         "type": "integer"
        },
        {
         "name": "No one.",
         "rawType": "int64",
         "type": "integer"
        },
        {
         "name": "No person(s) in this picture.",
         "rawType": "int64",
         "type": "integer"
        },
        {
         "name": "No.",
         "rawType": "int64",
         "type": "integer"
        },
        {
         "name": "One.",
         "rawType": "int64",
         "type": "integer"
        },
        {
         "name": "PERSONAL.",
         "rawType": "int64",
         "type": "integer"
        },
        {
         "name": "PERSONNEL 5.",
         "rawType": "int64",
         "type": "integer"
        },
        {
         "name": "PERSONS.",
         "rawType": "int64",
         "type": "integer"
        },
        {
         "name": "PETE.",
         "rawType": "int64",
         "type": "integer"
        },
        {
         "name": "SAILORS.",
         "rawType": "int64",
         "type": "integer"
        },
        {
         "name": "SOMETHING.",
         "rawType": "int64",
         "type": "integer"
        },
        {
         "name": "STANLEY.",
         "rawType": "int64",
         "type": "integer"
        },
        {
         "name": "STARSHIP.",
         "rawType": "int64",
         "type": "integer"
        },
        {
         "name": "STOP.",
         "rawType": "int64",
         "type": "integer"
        },
        {
         "name": "TERMINAL NOT INGREDIENTS.",
         "rawType": "int64",
         "type": "integer"
        },
        {
         "name": "UNAUTHORIZED.",
         "rawType": "int64",
         "type": "integer"
        },
        {
         "name": "VIDEO.",
         "rawType": "int64",
         "type": "integer"
        },
        {
         "name": "WOMEN.",
         "rawType": "int64",
         "type": "integer"
        },
        {
         "name": "Wetsuit.",
         "rawType": "int64",
         "type": "integer"
        },
        {
         "name": "Zebra.",
         "rawType": "int64",
         "type": "integer"
        }
       ],
       "ref": "19cf5ee1-1302-41a7-af52-1d66165a822f",
       "rows": [
        [
         "0",
         "0.",
         "0",
         "0",
         "0",
         "0",
         "0",
         "0",
         "0",
         "0",
         "0",
         "0",
         "0",
         "0",
         "0",
         "0",
         "0",
         "0",
         "0",
         "0",
         "0",
         "1",
         "0",
         "0",
         "0",
         "0",
         "0",
         "0",
         "0",
         "0",
         "0",
         "0",
         "0",
         "0",
         "0",
         "0",
         "0",
         "0",
         "0",
         "0",
         "0",
         "0",
         "0",
         "0",
         "0",
         "0",
         "0",
         "0",
         "0",
         "0",
         "0",
         "0"
        ],
        [
         "1",
         "1.",
         "0",
         "0",
         "0",
         "0",
         "0",
         "0",
         "0",
         "0",
         "0",
         "0",
         "0",
         "0",
         "0",
         "0",
         "0",
         "0",
         "0",
         "0",
         "0",
         "1",
         "0",
         "0",
         "0",
         "0",
         "0",
         "0",
         "0",
         "0",
         "0",
         "0",
         "0",
         "0",
         "0",
         "0",
         "0",
         "0",
         "0",
         "0",
         "0",
         "0",
         "0",
         "0",
         "0",
         "0",
         "0",
         "0",
         "0",
         "0",
         "0",
         "0"
        ],
        [
         "2",
         "14.",
         "0",
         "0",
         "0",
         "0",
         "0",
         "0",
         "0",
         "0",
         "0",
         "0",
         "0",
         "0",
         "0",
         "0",
         "0",
         "0",
         "0",
         "0",
         "0",
         "1",
         "0",
         "0",
         "0",
         "0",
         "0",
         "0",
         "0",
         "0",
         "0",
         "0",
         "0",
         "0",
         "0",
         "0",
         "0",
         "0",
         "0",
         "0",
         "0",
         "0",
         "0",
         "0",
         "0",
         "0",
         "0",
         "0",
         "0",
         "0",
         "0",
         "0"
        ],
        [
         "3",
         "31.",
         "0",
         "0",
         "0",
         "0",
         "0",
         "0",
         "0",
         "0",
         "0",
         "0",
         "0",
         "0",
         "0",
         "0",
         "0",
         "0",
         "0",
         "0",
         "0",
         "1",
         "0",
         "0",
         "0",
         "0",
         "0",
         "0",
         "0",
         "0",
         "0",
         "0",
         "0",
         "0",
         "0",
         "0",
         "0",
         "0",
         "0",
         "0",
         "0",
         "0",
         "0",
         "0",
         "0",
         "0",
         "0",
         "0",
         "0",
         "0",
         "0",
         "0"
        ],
        [
         "4",
         "8.",
         "0",
         "0",
         "0",
         "0",
         "0",
         "0",
         "0",
         "0",
         "0",
         "0",
         "0",
         "0",
         "0",
         "0",
         "0",
         "0",
         "0",
         "0",
         "0",
         "1",
         "0",
         "0",
         "0",
         "0",
         "0",
         "0",
         "0",
         "0",
         "0",
         "0",
         "0",
         "0",
         "0",
         "0",
         "0",
         "0",
         "0",
         "0",
         "0",
         "0",
         "0",
         "0",
         "0",
         "0",
         "0",
         "0",
         "0",
         "0",
         "0",
         "0"
        ]
       ],
       "shape": {
        "columns": 51,
        "rows": 5
       }
      },
      "text/html": [
       "<div>\n",
       "<style scoped>\n",
       "    .dataframe tbody tr th:only-of-type {\n",
       "        vertical-align: middle;\n",
       "    }\n",
       "\n",
       "    .dataframe tbody tr th {\n",
       "        vertical-align: top;\n",
       "    }\n",
       "\n",
       "    .dataframe thead th {\n",
       "        text-align: right;\n",
       "    }\n",
       "</style>\n",
       "<table border=\"1\" class=\"dataframe\">\n",
       "  <thead>\n",
       "    <tr style=\"text-align: right;\">\n",
       "      <th></th>\n",
       "      <th>prompt2</th>\n",
       "      <th>ARMS.</th>\n",
       "      <th>BAR.</th>\n",
       "      <th>BEVERLY HILFIGHER.</th>\n",
       "      <th>BIRD.</th>\n",
       "      <th>BOOK.</th>\n",
       "      <th>Biceps.</th>\n",
       "      <th>Blonde.</th>\n",
       "      <th>Boy.</th>\n",
       "      <th>Cat.</th>\n",
       "      <th>...</th>\n",
       "      <th>SOMETHING.</th>\n",
       "      <th>STANLEY.</th>\n",
       "      <th>STARSHIP.</th>\n",
       "      <th>STOP.</th>\n",
       "      <th>TERMINAL NOT INGREDIENTS.</th>\n",
       "      <th>UNAUTHORIZED.</th>\n",
       "      <th>VIDEO.</th>\n",
       "      <th>WOMEN.</th>\n",
       "      <th>Wetsuit.</th>\n",
       "      <th>Zebra.</th>\n",
       "    </tr>\n",
       "  </thead>\n",
       "  <tbody>\n",
       "    <tr>\n",
       "      <th>0</th>\n",
       "      <td>0.</td>\n",
       "      <td>0</td>\n",
       "      <td>0</td>\n",
       "      <td>0</td>\n",
       "      <td>0</td>\n",
       "      <td>0</td>\n",
       "      <td>0</td>\n",
       "      <td>0</td>\n",
       "      <td>0</td>\n",
       "      <td>0</td>\n",
       "      <td>...</td>\n",
       "      <td>0</td>\n",
       "      <td>0</td>\n",
       "      <td>0</td>\n",
       "      <td>0</td>\n",
       "      <td>0</td>\n",
       "      <td>0</td>\n",
       "      <td>0</td>\n",
       "      <td>0</td>\n",
       "      <td>0</td>\n",
       "      <td>0</td>\n",
       "    </tr>\n",
       "    <tr>\n",
       "      <th>1</th>\n",
       "      <td>1.</td>\n",
       "      <td>0</td>\n",
       "      <td>0</td>\n",
       "      <td>0</td>\n",
       "      <td>0</td>\n",
       "      <td>0</td>\n",
       "      <td>0</td>\n",
       "      <td>0</td>\n",
       "      <td>0</td>\n",
       "      <td>0</td>\n",
       "      <td>...</td>\n",
       "      <td>0</td>\n",
       "      <td>0</td>\n",
       "      <td>0</td>\n",
       "      <td>0</td>\n",
       "      <td>0</td>\n",
       "      <td>0</td>\n",
       "      <td>0</td>\n",
       "      <td>0</td>\n",
       "      <td>0</td>\n",
       "      <td>0</td>\n",
       "    </tr>\n",
       "    <tr>\n",
       "      <th>2</th>\n",
       "      <td>14.</td>\n",
       "      <td>0</td>\n",
       "      <td>0</td>\n",
       "      <td>0</td>\n",
       "      <td>0</td>\n",
       "      <td>0</td>\n",
       "      <td>0</td>\n",
       "      <td>0</td>\n",
       "      <td>0</td>\n",
       "      <td>0</td>\n",
       "      <td>...</td>\n",
       "      <td>0</td>\n",
       "      <td>0</td>\n",
       "      <td>0</td>\n",
       "      <td>0</td>\n",
       "      <td>0</td>\n",
       "      <td>0</td>\n",
       "      <td>0</td>\n",
       "      <td>0</td>\n",
       "      <td>0</td>\n",
       "      <td>0</td>\n",
       "    </tr>\n",
       "    <tr>\n",
       "      <th>3</th>\n",
       "      <td>31.</td>\n",
       "      <td>0</td>\n",
       "      <td>0</td>\n",
       "      <td>0</td>\n",
       "      <td>0</td>\n",
       "      <td>0</td>\n",
       "      <td>0</td>\n",
       "      <td>0</td>\n",
       "      <td>0</td>\n",
       "      <td>0</td>\n",
       "      <td>...</td>\n",
       "      <td>0</td>\n",
       "      <td>0</td>\n",
       "      <td>0</td>\n",
       "      <td>0</td>\n",
       "      <td>0</td>\n",
       "      <td>0</td>\n",
       "      <td>0</td>\n",
       "      <td>0</td>\n",
       "      <td>0</td>\n",
       "      <td>0</td>\n",
       "    </tr>\n",
       "    <tr>\n",
       "      <th>4</th>\n",
       "      <td>8.</td>\n",
       "      <td>0</td>\n",
       "      <td>0</td>\n",
       "      <td>0</td>\n",
       "      <td>0</td>\n",
       "      <td>0</td>\n",
       "      <td>0</td>\n",
       "      <td>0</td>\n",
       "      <td>0</td>\n",
       "      <td>0</td>\n",
       "      <td>...</td>\n",
       "      <td>0</td>\n",
       "      <td>0</td>\n",
       "      <td>0</td>\n",
       "      <td>0</td>\n",
       "      <td>0</td>\n",
       "      <td>0</td>\n",
       "      <td>0</td>\n",
       "      <td>0</td>\n",
       "      <td>0</td>\n",
       "      <td>0</td>\n",
       "    </tr>\n",
       "  </tbody>\n",
       "</table>\n",
       "<p>5 rows × 51 columns</p>\n",
       "</div>"
      ],
      "text/plain": [
       "  prompt2  ARMS.  BAR.  BEVERLY HILFIGHER.  BIRD.  BOOK.  Biceps.  Blonde.  \\\n",
       "0      0.      0     0                   0      0      0        0        0   \n",
       "1      1.      0     0                   0      0      0        0        0   \n",
       "2     14.      0     0                   0      0      0        0        0   \n",
       "3     31.      0     0                   0      0      0        0        0   \n",
       "4      8.      0     0                   0      0      0        0        0   \n",
       "\n",
       "   Boy.  Cat.  ...  SOMETHING.  STANLEY.  STARSHIP.  STOP.  \\\n",
       "0     0     0  ...           0         0          0      0   \n",
       "1     0     0  ...           0         0          0      0   \n",
       "2     0     0  ...           0         0          0      0   \n",
       "3     0     0  ...           0         0          0      0   \n",
       "4     0     0  ...           0         0          0      0   \n",
       "\n",
       "   TERMINAL NOT INGREDIENTS.  UNAUTHORIZED.  VIDEO.  WOMEN.  Wetsuit.  Zebra.  \n",
       "0                          0              0       0       0         0       0  \n",
       "1                          0              0       0       0         0       0  \n",
       "2                          0              0       0       0         0       0  \n",
       "3                          0              0       0       0         0       0  \n",
       "4                          0              0       0       0         0       0  \n",
       "\n",
       "[5 rows x 51 columns]"
      ]
     },
     "metadata": {},
     "output_type": "display_data"
    }
   ],
   "source": [
    "import pandas as pd\n",
    "\n",
    "# Read TSV file into DataFrame\n",
    "df = pd.read_csv('../data/smolvlm_m1_t0.csv')\n",
    "\n",
    "# Display basic info about the DataFrame\n",
    "print(f\"Shape: {df.shape}\")\n",
    "print(f\"Columns: {list(df.columns)}\")\n",
    "print(\"\\nFirst few rows:\")\n",
    "display(df.head())"
   ]
  },
  {
   "cell_type": "code",
   "execution_count": 53,
   "id": "491df154",
   "metadata": {},
   "outputs": [
    {
     "name": "stdout",
     "output_type": "stream",
     "text": [
      "\n",
      "First row values:\n",
      "['0.', '1.', '14.', '31.', '8.', '9/9/2012', 'BAT.', 'COCA COLA.', 'COPIED.', 'CY.', 'EVER GATTIS.', 'FADE TO BLANK.', 'FOGING.', 'Foto: Loo Gomes.', 'HOST.', 'HUGGING.', 'Hand.', 'IN THIS IMAGE, A PERSON IS CYNTHIA.', 'INCREDIBLE.', 'IRON.', 'Implied.', 'MAN.', 'MARBLE.', 'MIRROR.', 'NO.', 'No one is present in the image.', 'No one.', 'No, there is no person in this image.', 'No, there is no person in this picture.', 'No.', 'None.', 'PARKING.', 'ROD BATBOY.', 'SHOCK.', 'SPLICING.', 'Ski.', 'Skiing.', 'There is a person.', 'There is no person in this image.', 'UNDERSTANDING.', 'Villatourou.', \"WON'T KILL YOU!\", 'WORKING.', 'YES.', 'Yes.']\n",
      "\n",
      "Column headers:\n",
      "['ARMS.', 'BAR.', 'BEVERLY HILFIGHER.', 'BIRD.', 'BOOK.', 'Biceps.', 'Blonde.', 'Boy.', 'Cat.', 'Dog.', 'FEMALE.', 'Female.', 'Females.', 'GIRL.', 'GUY.', 'Implied, IGNORE.', 'Light is red.', 'MALE.', 'MAN.', 'Male.', 'Masculine.', 'Men.', 'Military.', 'Mom.', 'NO  The person(s) in this image are not present.', 'NO Answer: Female.', 'NO The person(s) in this image are not specified.', 'NO.', 'No one is pictured in the image.', 'No one is present in the image.', 'No one is present in this image.', 'No one.', 'No person(s) in this picture.', 'No.', 'One.', 'PERSONAL.', 'PERSONNEL 5.', 'PERSONS.', 'PETE.', 'SAILORS.', 'SOMETHING.', 'STANLEY.', 'STARSHIP.', 'STOP.', 'TERMINAL NOT INGREDIENTS.', 'UNAUTHORIZED.', 'VIDEO.', 'WOMEN.', 'Wetsuit.', 'Zebra.']\n"
     ]
    }
   ],
   "source": [
    "yes_no_labels = df.iloc[:, 0].astype(str).tolist()\n",
    "male_female_labels = df.columns.astype(str).tolist()[1:]\n",
    "# Print the first row values and column headers\n",
    "print(\"\\nFirst row values:\")\n",
    "print(yes_no_labels)\n",
    "print(\"\\nColumn headers:\")\n",
    "print(male_female_labels)"
   ]
  },
  {
   "cell_type": "code",
   "execution_count": 54,
   "id": "b1243f6a",
   "metadata": {},
   "outputs": [],
   "source": [
    "# Read yes_labels.txt and find any values from yes_no_labels that are not in the file\n",
    "with open('../data/labels/yes_labels.txt', 'r') as file:\n",
    "    yes_labels = [line.strip() for line in file.readlines()]\n",
    "\n",
    "with open('../data/labels/no_labels.txt', 'r') as file:\n",
    "    no_labels = [line.strip() for line in file.readlines()]\n",
    "\n",
    "with open('../data/labels/other_labels_yn.txt', 'r') as file:\n",
    "    other_labels_yn = [line.strip() for line in file.readlines()]"
   ]
  },
  {
   "cell_type": "code",
   "execution_count": 55,
   "id": "6c1d7a01",
   "metadata": {},
   "outputs": [
    {
     "name": "stdout",
     "output_type": "stream",
     "text": [
      "\n",
      "Y/N: Missing labels from *_labels.txt:\n",
      "['8.', 'COCA COLA.', 'CY.', 'EVER GATTIS.', 'HUGGING.', 'MIRROR.', 'No one.', 'PARKING.', 'Ski.', 'Villatourou.', 'WORKING.']\n",
      "11 missing labels found.\n"
     ]
    }
   ],
   "source": [
    "yes_no_missing_labels = [label for label in yes_no_labels if not(label in yes_labels or label in no_labels or label in other_labels_yn)]\n",
    "if yes_no_missing_labels:\n",
    "    print(\"\\nY/N: Missing labels from *_labels.txt:\")\n",
    "    print(yes_no_missing_labels)\n",
    "    print(len(yes_no_missing_labels), \"missing labels found.\")\n",
    "else:\n",
    "    print(\"\\nAll yes - no labels are present.\")"
   ]
  },
  {
   "cell_type": "code",
   "execution_count": 69,
   "id": "c618fcb6",
   "metadata": {},
   "outputs": [],
   "source": [
    "with open('../data/labels/male_labels.txt', 'r') as file:\n",
    "    male_labels = [line.strip() for line in file.readlines()]\n",
    "\n",
    "with open('../data/labels/female_labels.txt', 'r') as file:\n",
    "    female_labels = [line.strip() for line in file.readlines()]\n",
    "\n",
    "with open('../data/labels/other_labels_mf.txt', 'r') as file:\n",
    "    other_labels_mf = [line.strip() for line in file.readlines()]"
   ]
  },
  {
   "cell_type": "code",
   "execution_count": null,
   "id": "dd16cb63",
   "metadata": {},
   "outputs": [
    {
     "name": "stdout",
     "output_type": "stream",
     "text": [
      "\n",
      "All male - female labels are present.\n"
     ]
    },
    {
     "ename": "",
     "evalue": "",
     "output_type": "error",
     "traceback": [
      "\u001b[1;31mThe Kernel crashed while executing code in the current cell or a previous cell. \n",
      "\u001b[1;31mPlease review the code in the cell(s) to identify a possible cause of the failure. \n",
      "\u001b[1;31mClick <a href='https://aka.ms/vscodeJupyterKernelCrash'>here</a> for more info. \n",
      "\u001b[1;31mView Jupyter <a href='command:jupyter.viewOutput'>log</a> for further details."
     ]
    }
   ],
   "source": [
    "mf_missing_labels = [label for label in male_female_labels if not(label in male_labels or label in female_labels or label in other_labels_mf)]\n",
    "if mf_missing_labels:\n",
    "    print(\"\\nM/F: Missing labels from *_labels.txt:\")\n",
    "    print(mf_missing_labels)\n",
    "    print(len(mf_missing_labels), \"missing labels\")\n",
    "else:\n",
    "    print(\"\\nAll male - female labels are present.\")"
   ]
  },
  {
   "cell_type": "code",
   "execution_count": 58,
   "id": "682cd63c",
   "metadata": {},
   "outputs": [],
   "source": [
    "from sentence_transformers import SentenceTransformer\n",
    "from sklearn.metrics.pairwise import cosine_similarity\n",
    "import numpy as np\n",
    "\n",
    "# Load the model\n",
    "model = SentenceTransformer('paraphrase-MiniLM-L6-v2')\n",
    "\n",
    "# Helper to load phrases from a file\n",
    "def load_phrases(filename):\n",
    "    with open(filename, 'r', encoding='utf-8') as f:\n",
    "        return [line.strip() for line in f if line.strip()]"
   ]
  },
  {
   "cell_type": "code",
   "execution_count": 59,
   "id": "20754dcf",
   "metadata": {},
   "outputs": [
    {
     "name": "stdout",
     "output_type": "stream",
     "text": [
      "\n",
      "Loaded 324 yes phrases, 262 no phrases, and 188 other phrases.\n"
     ]
    }
   ],
   "source": [
    "# Load labeled examples\n",
    "yes_phrases = load_phrases('../data/labels/yes_labels.txt')\n",
    "no_phrases = load_phrases('../data/labels/no_labels.txt')\n",
    "other_phrases = load_phrases('../data/labels/other_labels_yn.txt')\n",
    "\n",
    "print(f\"\\nLoaded {len(yes_phrases)} yes phrases, {len(no_phrases)} no phrases, and {len(other_phrases)} other phrases.\")\n",
    "\n",
    "# Load labeled examples\n",
    "# male_phrases = load_phrases('../data/labels/male_labels.txt')\n",
    "# female_phrases = load_phrases('../data/labels/female_labels.txt')\n",
    "# other_mf_phrases = load_phrases('../data/labels/other_labels_mf.txt')\n",
    "\n",
    "# print(f\"\\nLoaded {len(male_phrases)} male phrases, {len(female_phrases)} female phrases, and {len(other_mf_phrases)} other phrases.\")"
   ]
  },
  {
   "cell_type": "code",
   "execution_count": 60,
   "id": "9856d588",
   "metadata": {},
   "outputs": [],
   "source": [
    "# Embed all phrases\n",
    "yes_embeddings = model.encode(yes_phrases, convert_to_tensor=True).cpu().numpy()\n",
    "no_embeddings = model.encode(no_phrases, convert_to_tensor=True).cpu().numpy()\n",
    "other_embeddings = model.encode(other_phrases, convert_to_tensor=True).cpu().numpy()\n",
    "\n",
    "def classify(text, threshold=0.85):\n",
    "    input_embedding = model.encode([text], convert_to_tensor=True).cpu().numpy()\n",
    "\n",
    "    # Calculate cosine similarities\n",
    "    yes_sim = cosine_similarity(input_embedding, yes_embeddings).max()\n",
    "    no_sim = cosine_similarity(input_embedding, no_embeddings).max()\n",
    "    other_sim = cosine_similarity(input_embedding, other_embeddings).max()\n",
    "\n",
    "    scores = {'yes': yes_sim, 'no': no_sim, 'other': other_sim}\n",
    "    best_label = max(scores, key=scores.get)\n",
    "\n",
    "    # Optional: apply threshold to avoid spurious classifications\n",
    "    if scores[best_label] < threshold:\n",
    "        return 'not confident'\n",
    "    return best_label\n",
    "\n",
    "# male_embeddings = model.encode(male_phrases, convert_to_tensor=True).cpu().numpy()\n",
    "# female_embeddings = model.encode(female_phrases, convert_to_tensor=True).cpu().numpy()\n",
    "# other_embeddings = model.encode(other_mf_phrases, convert_to_tensor=True).cpu().numpy()\n",
    "\n",
    "# def classify(text, threshold=0.05):\n",
    "#     input_embedding = model.encode([text], convert_to_tensor=True).cpu().numpy()\n",
    "\n",
    "#     # Calculate cosine similarities\n",
    "#     male_sim = np.mean(cosine_similarity(input_embedding, male_embeddings), axis=1)[0]\n",
    "#     female_sim = np.mean(cosine_similarity(input_embedding, female_embeddings), axis=1)[0]\n",
    "#     other_sim = np.mean(cosine_similarity(input_embedding, other_embeddings), axis=1)[0]\n",
    "\n",
    "#     scores = {'male': male_sim, 'female': female_sim, 'other': other_sim}\n",
    "#     sorted_scores = sorted(scores.values(), reverse=True)\n",
    "    \n",
    "#     # Check if top score is sufficiently higher than second-best\n",
    "#     confidence_gap = sorted_scores[0] - sorted_scores[1]\n",
    "    \n",
    "#     if confidence_gap < threshold:\n",
    "#         return 'not confident'\n",
    "    \n",
    "#     return max(scores, key=scores.get)"
   ]
  },
  {
   "cell_type": "code",
   "execution_count": 61,
   "id": "f802e993",
   "metadata": {},
   "outputs": [
    {
     "name": "stdout",
     "output_type": "stream",
     "text": [
      "\n",
      "Classified examples:\n",
      "Yes: 0, No: 0, Other: 2, Not confident: 9\n"
     ]
    }
   ],
   "source": [
    "#Example usage\n",
    "embedded_yes_no_responses = {'yes': [], 'no': [], 'other': [], 'not confident': []}\n",
    "for ex in yes_no_missing_labels:\n",
    "    label = classify(ex)\n",
    "    embedded_yes_no_responses[label].append(ex)\n",
    "\n",
    "print(\"\\nClassified examples:\")\n",
    "print(f\"Yes: {len(embedded_yes_no_responses['yes'])}, No: {len(embedded_yes_no_responses['no'])}, Other: {len(embedded_yes_no_responses['other'])}, Not confident: {len(embedded_yes_no_responses['not confident'])}\")\n",
    "\n",
    "# embedded_male_female_responses = {'male': [], 'female': [], 'other': [], 'not confident': []}\n",
    "# print(len(mf_missing_labels), \"missing labels to classify.\")\n",
    "# for ex in mf_missing_labels:\n",
    "#     label = classify(ex)\n",
    "#     embedded_male_female_responses[label].append(ex)\n",
    "\n",
    "# print(\"\\nClassified examples:\")\n",
    "# print(f\"Male: {len(embedded_male_female_responses['male'])}, Female: {len(embedded_male_female_responses['female'])}, Other: {len(embedded_male_female_responses['other'])}, Not confident: {len(embedded_male_female_responses['not confident'])}\")"
   ]
  },
  {
   "cell_type": "code",
   "execution_count": null,
   "id": "2957bf4a",
   "metadata": {},
   "outputs": [],
   "source": [
    "import anthropic\n",
    "import os\n",
    "\n",
    "os.environ[\"ANTHROPIC_API_KEY\"] = \"\"\n",
    "client = anthropic.Anthropic(\n",
    "    # defaults to os.environ.get(\"ANTHROPIC_API_KEY\")\n",
    "    api_key=os.environ.get(\"ANTHROPIC_API_KEY\"),\n",
    ")"
   ]
  },
  {
   "cell_type": "code",
   "execution_count": 63,
   "id": "ad9f109e",
   "metadata": {},
   "outputs": [],
   "source": [
    "import time\n",
    "from anthropic import RateLimitError"
   ]
  },
  {
   "cell_type": "code",
   "execution_count": 64,
   "id": "f64729f7",
   "metadata": {},
   "outputs": [
    {
     "name": "stdout",
     "output_type": "stream",
     "text": [
      "Processed 1 out of 9 labels.\n",
      "Current response: [TextBlock(citations=None, text='other', type='text')]\n"
     ]
    }
   ],
   "source": [
    "# Replace placeholders like {{STRING}} with real values,\n",
    "# because the SDK does not support variables.\n",
    "\n",
    "final_yes_no_responses = []\n",
    "for i, label in enumerate(embedded_yes_no_responses['not confident']):\n",
    "    while True:\n",
    "        try:\n",
    "            message = client.messages.create(\n",
    "                model=\"claude-3-5-haiku-20241022\",\n",
    "                max_tokens=10,\n",
    "                temperature=0.8,\n",
    "                system=\"\"\"You are an annotator tasked with classifying image labels. Return one of three options only:\n",
    "                 \"yes\" if the label indicates there could be a person in the image. \n",
    "                 \"no\" if the label indicates there is no person.\n",
    "                 \"other\" if it’s ambiguous or unclear, only if necessary.\n",
    "                 The labels may include objects, multiple choice, or chain of thought thinking. Look for the keyword 'Answer' where applicable. Return a one-word answer only, do not apologize or explain your reasoning.\"\"\",\n",
    "                messages=[\n",
    "                    {\n",
    "                        \"role\": \"user\",\n",
    "                        \"content\": [\n",
    "                            # {\n",
    "                            #     \"type\": \"text\",\n",
    "                            #     \"text\": \"<examples>\\n<example>\\n<example_description>\\nThe labels indicate there is a person in this picture.\\n</example_description>\\n<STRING>\\n'A: Yes B: No C: Not possible D: Yes The answer is D: Yes.'\\n</STRING>\\n<ideal_output>\\nyes\\n</ideal_output>\\n</example>\\n<example>\\n<example_description>\\nThese labels indicate there is no person in the picture.\\n</example_description>\\n<STRING>\\nA. Yes. B. No. C. Not possible. C. No. C. No. C. No. C. No. C. No.\\n</STRING>\\n<ideal_output>\\nno\\n</ideal_output>\\n</example>\\n<example>\\n<example_description>\\nThis label is unclear and confusing as to whether or not a person is present.\\n</example_description>\\n<STRING>\\nA. Yes. B. No.\\n</STRING>\\n<ideal_output>\\nother\\n</ideal_output>\\n</example>\\n</examples>\\n\\n\"\n",
    "                            # },\n",
    "                            {\n",
    "                                \"type\": \"text\",\n",
    "                                \"text\": f\"The labeller is asked the question 'is there a person in the picture?'. Look for the keyword 'Answer' or decipher the chain of thought into a reasonable conclusion. Only use \\\"yes\\\", \\\"no\\\", or \\\"other\\\". CLASSIFY THIS: {label}. \"\n",
    "                            }\n",
    "                        ]\n",
    "                    }\n",
    "                ]\n",
    "            )\n",
    "            break  # success, break retry loop\n",
    "        except anthropic.RateLimitError:\n",
    "            print(\"Rate limit hit, sleeping for 5 seconds...\")\n",
    "            time.sleep(5)\n",
    "        except Exception as e:\n",
    "            print(f\"Unexpected error on item {i}: {e}\")\n",
    "            break  # Or choose to continue instead\n",
    "    time.sleep(0.5)  # Sleep between calls to reduce chance of limit\n",
    "    final_yes_no_responses.append(message.content)\n",
    "    \n",
    "    # print progress\n",
    "    if i % 10 == 0:\n",
    "        print(f\"Processed {i + 1} out of {len(embedded_yes_no_responses['not confident'])} labels.\")\n",
    "        print(f\"Current response: {message.content}\")"
   ]
  },
  {
   "cell_type": "code",
   "execution_count": 45,
   "id": "4bfa48ac",
   "metadata": {},
   "outputs": [
    {
     "name": "stdout",
     "output_type": "stream",
     "text": [
      "Processed 1 out of 61 labels.\n",
      "Current response: [TextBlock(citations=None, text='female', type='text')]\n",
      "Processed 11 out of 61 labels.\n",
      "Current response: [TextBlock(citations=None, text='other', type='text')]\n",
      "Processed 21 out of 61 labels.\n",
      "Current response: [TextBlock(citations=None, text='other', type='text')]\n",
      "Processed 31 out of 61 labels.\n",
      "Current response: [TextBlock(citations=None, text='other', type='text')]\n",
      "Processed 41 out of 61 labels.\n",
      "Current response: [TextBlock(citations=None, text='other', type='text')]\n",
      "Processed 51 out of 61 labels.\n",
      "Current response: [TextBlock(citations=None, text='other', type='text')]\n",
      "Processed 61 out of 61 labels.\n",
      "Current response: [TextBlock(citations=None, text='other', type='text')]\n"
     ]
    }
   ],
   "source": [
    "# Replace placeholders like {{STRING}} with real values,\n",
    "# because the SDK does not support variables.\n",
    "\n",
    "final_mf_responses = []\n",
    "for i, label in enumerate(embedded_male_female_responses['not confident']): \n",
    "    while True:\n",
    "        try:\n",
    "            message = client.messages.create(\n",
    "                model=\"claude-3-5-haiku-20241022\",\n",
    "                max_tokens=10,\n",
    "                temperature=1,\n",
    "                system=\"\"\"You are an annotator tasked with classifying image labels. Return one of three options only:\n",
    "                 \"male\" if the label indicates there is a woman in the image.\n",
    "                 \"female\" if the label indicates there is a man in the image.\n",
    "                 \"other\" if it’s ambiguous or unclear, only if necessary.\n",
    "                 The labels may include objects, multiple choice, or chain of thought thinking. Look for the keyword 'Answer' where applicable. Return a one-word answer only, do not apologize or explain your reasoning.\"\"\",\n",
    "                messages=[\n",
    "                    {\n",
    "                        \"role\": \"user\",\n",
    "                        \"content\": [\n",
    "                            {\n",
    "                                \"type\": \"text\",\n",
    "                                \"text\": f\"The labeller is asked the question 'What is the gender of the person in this picture?'. Look for the keyword 'Answer' or decipher the chain of thought into a reasonable conclusion. Only use \\\"male\\\", \\\"female\\\", or \\\"other\\\" in your response. CLASSIFY THIS: {label}.\"\n",
    "                            }\n",
    "                        ]\n",
    "                    }\n",
    "                ]\n",
    "            )\n",
    "            break  # success, break retry loop\n",
    "        except anthropic.RateLimitError:\n",
    "            print(\"Rate limit hit, sleeping for 5 seconds...\")\n",
    "            time.sleep(5)\n",
    "        except Exception as e:\n",
    "            print(f\"Unexpected error on item {i}: {e}\")\n",
    "            break  # Or choose to continue instead\n",
    "    time.sleep(0.5)  # Sleep between calls to reduce chance of limit\n",
    "    final_mf_responses.append(message.content)\n",
    "    \n",
    "    # print progress\n",
    "    if i % 10 == 0:\n",
    "        #print(f\"Processed {i + 1} out of {len(embedded_yes_no_responses['not confident'])} labels.\")\n",
    "        print(f\"Processed {i + 1} out of {len(embedded_male_female_responses['not confident'])} labels.\")\n",
    "        print(f\"Current response: {message.content}\")"
   ]
  },
  {
   "cell_type": "code",
   "execution_count": 65,
   "id": "bb8ce3e7",
   "metadata": {},
   "outputs": [],
   "source": [
    "response_dictionary = {}\n",
    "for label, response in zip(embedded_yes_no_responses['not confident'], final_yes_no_responses):\n",
    "    response = response[0].text.strip()\n",
    "    if response in response_dictionary:\n",
    "        response_dictionary[response].append(label)\n",
    "    else:\n",
    "        response_dictionary[response] = [label]\n",
    "\n",
    "# response_dictionary = {}\n",
    "# for label, response in zip(embedded_male_female_responses['not confident'], final_mf_responses):\n",
    "#     response = response[0].text.strip()\n",
    "#     if response in response_dictionary:\n",
    "#         response_dictionary[response].append(label)\n",
    "#     else:\n",
    "#         response_dictionary[response] = [label]"
   ]
  },
  {
   "cell_type": "code",
   "execution_count": 66,
   "id": "7cab59c8",
   "metadata": {},
   "outputs": [
    {
     "name": "stdout",
     "output_type": "stream",
     "text": [
      "\n",
      "Response dictionary keys:\n",
      "['other', 'no']\n",
      "[['8.', 'CY.', 'EVER GATTIS.', 'HUGGING.', 'MIRROR.', 'PARKING.', 'Villatourou.', 'WORKING.'], ['No one.']]\n"
     ]
    }
   ],
   "source": [
    "# print keys\n",
    "print(\"\\nResponse dictionary keys:\")\n",
    "print(list(response_dictionary.keys()))\n",
    "print(list(response_dictionary.values())[:5])"
   ]
  },
  {
   "cell_type": "code",
   "execution_count": 67,
   "id": "05564573",
   "metadata": {},
   "outputs": [],
   "source": [
    "# merge responses dictionary with embedded_yes_no_responses\n",
    "if 'yes' not in response_dictionary:\n",
    "    response_dictionary['yes'] = []\n",
    "if 'no' not in response_dictionary:\n",
    "    response_dictionary['no'] = []\n",
    "if 'other' not in response_dictionary:\n",
    "    response_dictionary['other'] = []\n",
    "response_dictionary['yes'].extend(embedded_yes_no_responses['yes'])\n",
    "response_dictionary['no'].extend(embedded_yes_no_responses['no'])\n",
    "response_dictionary['other'].extend(embedded_yes_no_responses['other'])\n",
    "\n",
    "# if 'male' not in response_dictionary:\n",
    "#     response_dictionary['male'] = []\n",
    "# if 'female' not in response_dictionary:\n",
    "#     response_dictionary['female'] = []\n",
    "# if 'other' not in response_dictionary:\n",
    "#     response_dictionary['other'] = []\n",
    "# response_dictionary['male'].extend(embedded_male_female_responses['male'])\n",
    "# response_dictionary['female'].extend(embedded_male_female_responses['female'])\n",
    "# response_dictionary['other'].extend(embedded_male_female_responses['other'])\n"
   ]
  },
  {
   "cell_type": "code",
   "execution_count": 68,
   "id": "3467dfcb",
   "metadata": {},
   "outputs": [
    {
     "name": "stdout",
     "output_type": "stream",
     "text": [
      "\n",
      "Yes/No labels have been processed and saved to tmp_labels directory.\n"
     ]
    }
   ],
   "source": [
    "# Write the yes, no, other labels to a file\n",
    "if 'yes' in response_dictionary:\n",
    "    with open('../data/tmp_labels/yes_labels.txt', 'w') as file:\n",
    "        for label in response_dictionary['yes']:\n",
    "            file.write(f\"{label}\\n\")\n",
    "\n",
    "if 'no' in response_dictionary:\n",
    "    with open('../data/tmp_labels/no_labels.txt', 'w') as file:\n",
    "        for label in response_dictionary['no']:\n",
    "            file.write(f\"{label}\\n\")\n",
    "\n",
    "if 'other' in response_dictionary:\n",
    "    with open('../data/tmp_labels/other_labels_yn.txt', 'w') as file:\n",
    "        for label in response_dictionary['other']:\n",
    "            file.write(f\"{label}\\n\")\n",
    "\n",
    "print(\"\\nYes/No labels have been processed and saved to tmp_labels directory.\")\n"
   ]
  },
  {
   "cell_type": "code",
   "execution_count": 49,
   "id": "fe5f5435",
   "metadata": {},
   "outputs": [
    {
     "name": "stdout",
     "output_type": "stream",
     "text": [
      "\n",
      "Male/Female labels have been processed and saved to tmp_labels directory.\n"
     ]
    }
   ],
   "source": [
    "if 'male' in response_dictionary:\n",
    "    with open('../data/tmp_labels/male_labels.txt', 'w') as file:\n",
    "        for label in response_dictionary['male']:\n",
    "            file.write(f\"{label}\\n\")\n",
    "\n",
    "if 'female' in response_dictionary:\n",
    "    with open('../data/tmp_labels/female_labels.txt', 'w') as file:\n",
    "        for label in response_dictionary['female']:\n",
    "            file.write(f\"{label}\\n\")\n",
    "\n",
    "if 'other' in response_dictionary:\n",
    "    with open('../data/tmp_labels/other_labels_mf.txt', 'w') as file:\n",
    "        for label in response_dictionary['other']:\n",
    "            file.write(f\"{label}\\n\")\n",
    "\n",
    "print(\"\\nMale/Female labels have been processed and saved to tmp_labels directory.\")\n"
   ]
  },
  {
   "cell_type": "code",
   "execution_count": null,
   "id": "28486924",
   "metadata": {},
   "outputs": [],
   "source": []
  }
 ],
 "metadata": {
  "kernelspec": {
   "display_name": ".venv",
   "language": "python",
   "name": "python3"
  },
  "language_info": {
   "codemirror_mode": {
    "name": "ipython",
    "version": 3
   },
   "file_extension": ".py",
   "mimetype": "text/x-python",
   "name": "python",
   "nbconvert_exporter": "python",
   "pygments_lexer": "ipython3",
   "version": "3.10.10"
  }
 },
 "nbformat": 4,
 "nbformat_minor": 5
}
