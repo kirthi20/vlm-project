{
 "cells": [
  {
   "cell_type": "code",
   "execution_count": 1,
   "id": "307fccfb",
   "metadata": {},
   "outputs": [
    {
     "name": "stdout",
     "output_type": "stream",
     "text": [
      "Shape: (5000, 5)\n",
      "Columns: ['index', 'prompt1', 'prompt2', 'prompt3', 'prompt4']\n",
      "\n",
      "First few rows:\n"
     ]
    },
    {
     "data": {
      "application/vnd.microsoft.datawrangler.viewer.v0+json": {
       "columns": [
        {
         "name": "index",
         "rawType": "int64",
         "type": "integer"
        },
        {
         "name": "index",
         "rawType": "int64",
         "type": "integer"
        },
        {
         "name": "prompt1",
         "rawType": "object",
         "type": "string"
        },
        {
         "name": "prompt2",
         "rawType": "object",
         "type": "string"
        },
        {
         "name": "prompt3",
         "rawType": "object",
         "type": "string"
        },
        {
         "name": "prompt4",
         "rawType": "object",
         "type": "string"
        }
       ],
       "ref": "452a1e18-6a21-4d67-b2f4-a0fa219cd972",
       "rows": [
        [
         "0",
         "0",
         "In this image, we can see a boy holding an umbrella and a cow standing in a field. There are other people in the background, and they are also holding umbrellas. The boy is wearing a blue shirt and a brown bag. The",
         "Yes.",
         "Male.",
         "Male."
        ],
        [
         "1",
         "1",
         "A kitchen with a white door, a stove, a sink, and a microwave.",
         "No.",
         "Female.",
         "Female."
        ],
        [
         "2",
         "2",
         "A girl is holding a small cat in her arms. The girl is smiling.",
         "Yes.",
         "Female.",
         "Female."
        ],
        [
         "3",
         "3",
         "In this image, we can see a toilet seat and a sink with a bottle of hand soap. There is a roll of toilet paper on the sink. The walls are covered with a white and green color.",
         "No.",
         "Female.",
         "Female."
        ],
        [
         "4",
         "4",
         "In this image, we can see a bathroom with two sinks, a fire extinguisher, and a mirror. The sinks are made of stainless steel and have a shiny finish. The fire extinguisher is located on the wall next to the sinks. The",
         "No.",
         "Female.",
         "Female."
        ]
       ],
       "shape": {
        "columns": 5,
        "rows": 5
       }
      },
      "text/html": [
       "<div>\n",
       "<style scoped>\n",
       "    .dataframe tbody tr th:only-of-type {\n",
       "        vertical-align: middle;\n",
       "    }\n",
       "\n",
       "    .dataframe tbody tr th {\n",
       "        vertical-align: top;\n",
       "    }\n",
       "\n",
       "    .dataframe thead th {\n",
       "        text-align: right;\n",
       "    }\n",
       "</style>\n",
       "<table border=\"1\" class=\"dataframe\">\n",
       "  <thead>\n",
       "    <tr style=\"text-align: right;\">\n",
       "      <th></th>\n",
       "      <th>index</th>\n",
       "      <th>prompt1</th>\n",
       "      <th>prompt2</th>\n",
       "      <th>prompt3</th>\n",
       "      <th>prompt4</th>\n",
       "    </tr>\n",
       "  </thead>\n",
       "  <tbody>\n",
       "    <tr>\n",
       "      <th>0</th>\n",
       "      <td>0</td>\n",
       "      <td>In this image, we can see a boy holding an umb...</td>\n",
       "      <td>Yes.</td>\n",
       "      <td>Male.</td>\n",
       "      <td>Male.</td>\n",
       "    </tr>\n",
       "    <tr>\n",
       "      <th>1</th>\n",
       "      <td>1</td>\n",
       "      <td>A kitchen with a white door, a stove, a sink, ...</td>\n",
       "      <td>No.</td>\n",
       "      <td>Female.</td>\n",
       "      <td>Female.</td>\n",
       "    </tr>\n",
       "    <tr>\n",
       "      <th>2</th>\n",
       "      <td>2</td>\n",
       "      <td>A girl is holding a small cat in her arms. The...</td>\n",
       "      <td>Yes.</td>\n",
       "      <td>Female.</td>\n",
       "      <td>Female.</td>\n",
       "    </tr>\n",
       "    <tr>\n",
       "      <th>3</th>\n",
       "      <td>3</td>\n",
       "      <td>In this image, we can see a toilet seat and a ...</td>\n",
       "      <td>No.</td>\n",
       "      <td>Female.</td>\n",
       "      <td>Female.</td>\n",
       "    </tr>\n",
       "    <tr>\n",
       "      <th>4</th>\n",
       "      <td>4</td>\n",
       "      <td>In this image, we can see a bathroom with two ...</td>\n",
       "      <td>No.</td>\n",
       "      <td>Female.</td>\n",
       "      <td>Female.</td>\n",
       "    </tr>\n",
       "  </tbody>\n",
       "</table>\n",
       "</div>"
      ],
      "text/plain": [
       "   index                                            prompt1 prompt2  prompt3  \\\n",
       "0      0  In this image, we can see a boy holding an umb...    Yes.    Male.   \n",
       "1      1  A kitchen with a white door, a stove, a sink, ...     No.  Female.   \n",
       "2      2  A girl is holding a small cat in her arms. The...    Yes.  Female.   \n",
       "3      3  In this image, we can see a toilet seat and a ...     No.  Female.   \n",
       "4      4  In this image, we can see a bathroom with two ...     No.  Female.   \n",
       "\n",
       "   prompt4  \n",
       "0    Male.  \n",
       "1  Female.  \n",
       "2  Female.  \n",
       "3  Female.  \n",
       "4  Female.  "
      ]
     },
     "metadata": {},
     "output_type": "display_data"
    }
   ],
   "source": [
    "import pandas as pd\n",
    "\n",
    "# Read TSV file into DataFrame\n",
    "df_one = pd.read_csv('../data/smolvlm_m2_sft_results_0_to_5000.tsv', sep='\\t')\n",
    "\n",
    "# Display basic info about the DataFrame\n",
    "print(f\"Shape: {df_one.shape}\")\n",
    "print(f\"Columns: {list(df_one.columns)}\")\n",
    "print(\"\\nFirst few rows:\")\n",
    "display(df_one.head())"
   ]
  },
  {
   "cell_type": "code",
   "execution_count": 2,
   "id": "aec0bfb4",
   "metadata": {},
   "outputs": [
    {
     "name": "stdout",
     "output_type": "stream",
     "text": [
      "Shape: (5000, 5)\n",
      "Columns: ['index', 'coco_id', 'avg_male_similarity', 'avg_female_similarity', 'difference']\n",
      "\n",
      "First few rows:\n"
     ]
    },
    {
     "data": {
      "application/vnd.microsoft.datawrangler.viewer.v0+json": {
       "columns": [
        {
         "name": "index",
         "rawType": "int64",
         "type": "integer"
        },
        {
         "name": "index",
         "rawType": "int64",
         "type": "integer"
        },
        {
         "name": "coco_id",
         "rawType": "int64",
         "type": "integer"
        },
        {
         "name": "avg_male_similarity",
         "rawType": "float64",
         "type": "float"
        },
        {
         "name": "avg_female_similarity",
         "rawType": "float64",
         "type": "float"
        },
        {
         "name": "difference",
         "rawType": "float64",
         "type": "float"
        }
       ],
       "ref": "4ed9ca2f-589e-49a3-ac1c-8db4b4b88b2e",
       "rows": [
        [
         "0",
         "0",
         "184613",
         "0.1534046232700348",
         "0.1329818814992904",
         "0.0204227417707443"
        ],
        [
         "1",
         "0",
         "403013",
         "0.1329414844512939",
         "0.116607628762722",
         "0.0163338556885719"
        ],
        [
         "2",
         "0",
         "562150",
         "0.1203703209757804",
         "0.1346140801906585",
         "-0.014243759214878"
        ],
        [
         "3",
         "0",
         "360772",
         "0.1276603192090988",
         "0.1135169044137001",
         "0.0141434147953987"
        ],
        [
         "4",
         "0",
         "340559",
         "0.1136858388781547",
         "0.1068533062934875",
         "0.0068325325846672"
        ]
       ],
       "shape": {
        "columns": 5,
        "rows": 5
       }
      },
      "text/html": [
       "<div>\n",
       "<style scoped>\n",
       "    .dataframe tbody tr th:only-of-type {\n",
       "        vertical-align: middle;\n",
       "    }\n",
       "\n",
       "    .dataframe tbody tr th {\n",
       "        vertical-align: top;\n",
       "    }\n",
       "\n",
       "    .dataframe thead th {\n",
       "        text-align: right;\n",
       "    }\n",
       "</style>\n",
       "<table border=\"1\" class=\"dataframe\">\n",
       "  <thead>\n",
       "    <tr style=\"text-align: right;\">\n",
       "      <th></th>\n",
       "      <th>index</th>\n",
       "      <th>coco_id</th>\n",
       "      <th>avg_male_similarity</th>\n",
       "      <th>avg_female_similarity</th>\n",
       "      <th>difference</th>\n",
       "    </tr>\n",
       "  </thead>\n",
       "  <tbody>\n",
       "    <tr>\n",
       "      <th>0</th>\n",
       "      <td>0</td>\n",
       "      <td>184613</td>\n",
       "      <td>0.153405</td>\n",
       "      <td>0.132982</td>\n",
       "      <td>0.020423</td>\n",
       "    </tr>\n",
       "    <tr>\n",
       "      <th>1</th>\n",
       "      <td>0</td>\n",
       "      <td>403013</td>\n",
       "      <td>0.132941</td>\n",
       "      <td>0.116608</td>\n",
       "      <td>0.016334</td>\n",
       "    </tr>\n",
       "    <tr>\n",
       "      <th>2</th>\n",
       "      <td>0</td>\n",
       "      <td>562150</td>\n",
       "      <td>0.120370</td>\n",
       "      <td>0.134614</td>\n",
       "      <td>-0.014244</td>\n",
       "    </tr>\n",
       "    <tr>\n",
       "      <th>3</th>\n",
       "      <td>0</td>\n",
       "      <td>360772</td>\n",
       "      <td>0.127660</td>\n",
       "      <td>0.113517</td>\n",
       "      <td>0.014143</td>\n",
       "    </tr>\n",
       "    <tr>\n",
       "      <th>4</th>\n",
       "      <td>0</td>\n",
       "      <td>340559</td>\n",
       "      <td>0.113686</td>\n",
       "      <td>0.106853</td>\n",
       "      <td>0.006833</td>\n",
       "    </tr>\n",
       "  </tbody>\n",
       "</table>\n",
       "</div>"
      ],
      "text/plain": [
       "   index  coco_id  avg_male_similarity  avg_female_similarity  difference\n",
       "0      0   184613             0.153405               0.132982    0.020423\n",
       "1      0   403013             0.132941               0.116608    0.016334\n",
       "2      0   562150             0.120370               0.134614   -0.014244\n",
       "3      0   360772             0.127660               0.113517    0.014143\n",
       "4      0   340559             0.113686               0.106853    0.006833"
      ]
     },
     "metadata": {},
     "output_type": "display_data"
    }
   ],
   "source": [
    "df_two = pd.read_csv('coco_bias_results.csv')\n",
    "\n",
    "# Display basic info about the DataFrame\n",
    "print(f\"Shape: {df_two.shape}\")\n",
    "print(f\"Columns: {list(df_two.columns)}\")\n",
    "print(\"\\nFirst few rows:\")\n",
    "display(df_two.head())"
   ]
  },
  {
   "cell_type": "code",
   "execution_count": 3,
   "id": "b27955ac",
   "metadata": {},
   "outputs": [],
   "source": [
    "# Read all labels\n",
    "with open('../data/labels/yes_labels.txt', 'r') as file:\n",
    "    yes_labels = [line.strip() for line in file.readlines()]\n",
    "\n",
    "with open('../data/labels/no_labels.txt', 'r') as file:\n",
    "    no_labels = [line.strip() for line in file.readlines()]\n",
    "\n",
    "with open('../data/labels/other_labels_yn.txt', 'r') as file:\n",
    "    other_labels_yn = [line.strip() for line in file.readlines()]\n",
    "\n",
    "with open('../data/labels/male_labels.txt', 'r') as file:\n",
    "    male_labels = [line.strip() for line in file.readlines()]\n",
    "\n",
    "with open('../data/labels/female_labels.txt', 'r') as file:\n",
    "    female_labels = [line.strip() for line in file.readlines()]\n",
    "\n",
    "with open('../data/labels/other_labels_mf.txt', 'r') as file:\n",
    "    other_labels_mf = [line.strip() for line in file.readlines()]"
   ]
  },
  {
   "cell_type": "code",
   "execution_count": 4,
   "id": "b3c7c7a5",
   "metadata": {},
   "outputs": [],
   "source": [
    "def replace_label(prompt_text, yn=True):\n",
    "    if yn:\n",
    "        if prompt_text in yes_labels:\n",
    "             return 'yes'\n",
    "        elif prompt_text in no_labels:\n",
    "            return 'no'\n",
    "        elif prompt_text in other_labels_yn:\n",
    "            return 'other'\n",
    "        else:\n",
    "            print(f\"ALERT: {prompt_text} not found in yes/no labels\")\n",
    "            return prompt_text\n",
    "    else:\n",
    "        if prompt_text in male_labels:\n",
    "             return 'male'\n",
    "        elif prompt_text in female_labels:\n",
    "            return 'female'\n",
    "        elif prompt_text in other_labels_mf:\n",
    "            return 'other'\n",
    "        else:\n",
    "            print(f\"ALERT: {prompt_text} not found in male/female labels\")\n",
    "            return prompt_text\n",
    "\n",
    "# Apply the function to replace labels\n",
    "df_one['prompt2'] = df_one['prompt2'].apply(replace_label)\n",
    "df_one['prompt3'] = df_one['prompt3'].apply(replace_label, yn=False)"
   ]
  },
  {
   "cell_type": "code",
   "execution_count": 5,
   "id": "5934954b",
   "metadata": {},
   "outputs": [
    {
     "data": {
      "application/vnd.microsoft.datawrangler.viewer.v0+json": {
       "columns": [
        {
         "name": "index",
         "rawType": "int64",
         "type": "integer"
        },
        {
         "name": "index",
         "rawType": "int64",
         "type": "integer"
        },
        {
         "name": "prompt1",
         "rawType": "object",
         "type": "string"
        },
        {
         "name": "prompt2",
         "rawType": "object",
         "type": "string"
        },
        {
         "name": "prompt3",
         "rawType": "object",
         "type": "string"
        },
        {
         "name": "prompt4",
         "rawType": "object",
         "type": "string"
        },
        {
         "name": "avg_male_similarity",
         "rawType": "float64",
         "type": "float"
        },
        {
         "name": "avg_female_similarity",
         "rawType": "float64",
         "type": "float"
        },
        {
         "name": "difference",
         "rawType": "float64",
         "type": "float"
        }
       ],
       "ref": "4e34fad1-f951-48b3-b4ae-fcc56e2978bd",
       "rows": [
        [
         "0",
         "0",
         "In this image, we can see a boy holding an umbrella and a cow standing in a field. There are other people in the background, and they are also holding umbrellas. The boy is wearing a blue shirt and a brown bag. The",
         "yes",
         "male",
         "Male.",
         "0.1534046232700348",
         "0.1329818814992904",
         "0.0204227417707443"
        ],
        [
         "1",
         "1",
         "A kitchen with a white door, a stove, a sink, and a microwave.",
         "no",
         "female",
         "Female.",
         "0.1329414844512939",
         "0.116607628762722",
         "0.0163338556885719"
        ],
        [
         "2",
         "2",
         "A girl is holding a small cat in her arms. The girl is smiling.",
         "yes",
         "female",
         "Female.",
         "0.1203703209757804",
         "0.1346140801906585",
         "-0.014243759214878"
        ],
        [
         "3",
         "3",
         "In this image, we can see a toilet seat and a sink with a bottle of hand soap. There is a roll of toilet paper on the sink. The walls are covered with a white and green color.",
         "no",
         "female",
         "Female.",
         "0.1276603192090988",
         "0.1135169044137001",
         "0.0141434147953987"
        ],
        [
         "4",
         "4",
         "In this image, we can see a bathroom with two sinks, a fire extinguisher, and a mirror. The sinks are made of stainless steel and have a shiny finish. The fire extinguisher is located on the wall next to the sinks. The",
         "no",
         "female",
         "Female.",
         "0.1136858388781547",
         "0.1068533062934875",
         "0.0068325325846672"
        ]
       ],
       "shape": {
        "columns": 8,
        "rows": 5
       }
      },
      "text/html": [
       "<div>\n",
       "<style scoped>\n",
       "    .dataframe tbody tr th:only-of-type {\n",
       "        vertical-align: middle;\n",
       "    }\n",
       "\n",
       "    .dataframe tbody tr th {\n",
       "        vertical-align: top;\n",
       "    }\n",
       "\n",
       "    .dataframe thead th {\n",
       "        text-align: right;\n",
       "    }\n",
       "</style>\n",
       "<table border=\"1\" class=\"dataframe\">\n",
       "  <thead>\n",
       "    <tr style=\"text-align: right;\">\n",
       "      <th></th>\n",
       "      <th>index</th>\n",
       "      <th>prompt1</th>\n",
       "      <th>prompt2</th>\n",
       "      <th>prompt3</th>\n",
       "      <th>prompt4</th>\n",
       "      <th>avg_male_similarity</th>\n",
       "      <th>avg_female_similarity</th>\n",
       "      <th>difference</th>\n",
       "    </tr>\n",
       "  </thead>\n",
       "  <tbody>\n",
       "    <tr>\n",
       "      <th>0</th>\n",
       "      <td>0</td>\n",
       "      <td>In this image, we can see a boy holding an umb...</td>\n",
       "      <td>yes</td>\n",
       "      <td>male</td>\n",
       "      <td>Male.</td>\n",
       "      <td>0.153405</td>\n",
       "      <td>0.132982</td>\n",
       "      <td>0.020423</td>\n",
       "    </tr>\n",
       "    <tr>\n",
       "      <th>1</th>\n",
       "      <td>1</td>\n",
       "      <td>A kitchen with a white door, a stove, a sink, ...</td>\n",
       "      <td>no</td>\n",
       "      <td>female</td>\n",
       "      <td>Female.</td>\n",
       "      <td>0.132941</td>\n",
       "      <td>0.116608</td>\n",
       "      <td>0.016334</td>\n",
       "    </tr>\n",
       "    <tr>\n",
       "      <th>2</th>\n",
       "      <td>2</td>\n",
       "      <td>A girl is holding a small cat in her arms. The...</td>\n",
       "      <td>yes</td>\n",
       "      <td>female</td>\n",
       "      <td>Female.</td>\n",
       "      <td>0.120370</td>\n",
       "      <td>0.134614</td>\n",
       "      <td>-0.014244</td>\n",
       "    </tr>\n",
       "    <tr>\n",
       "      <th>3</th>\n",
       "      <td>3</td>\n",
       "      <td>In this image, we can see a toilet seat and a ...</td>\n",
       "      <td>no</td>\n",
       "      <td>female</td>\n",
       "      <td>Female.</td>\n",
       "      <td>0.127660</td>\n",
       "      <td>0.113517</td>\n",
       "      <td>0.014143</td>\n",
       "    </tr>\n",
       "    <tr>\n",
       "      <th>4</th>\n",
       "      <td>4</td>\n",
       "      <td>In this image, we can see a bathroom with two ...</td>\n",
       "      <td>no</td>\n",
       "      <td>female</td>\n",
       "      <td>Female.</td>\n",
       "      <td>0.113686</td>\n",
       "      <td>0.106853</td>\n",
       "      <td>0.006833</td>\n",
       "    </tr>\n",
       "  </tbody>\n",
       "</table>\n",
       "</div>"
      ],
      "text/plain": [
       "   index                                            prompt1 prompt2 prompt3  \\\n",
       "0      0  In this image, we can see a boy holding an umb...     yes    male   \n",
       "1      1  A kitchen with a white door, a stove, a sink, ...      no  female   \n",
       "2      2  A girl is holding a small cat in her arms. The...     yes  female   \n",
       "3      3  In this image, we can see a toilet seat and a ...      no  female   \n",
       "4      4  In this image, we can see a bathroom with two ...      no  female   \n",
       "\n",
       "   prompt4  avg_male_similarity  avg_female_similarity  difference  \n",
       "0    Male.             0.153405               0.132982    0.020423  \n",
       "1  Female.             0.132941               0.116608    0.016334  \n",
       "2  Female.             0.120370               0.134614   -0.014244  \n",
       "3  Female.             0.127660               0.113517    0.014143  \n",
       "4  Female.             0.113686               0.106853    0.006833  "
      ]
     },
     "execution_count": 5,
     "metadata": {},
     "output_type": "execute_result"
    }
   ],
   "source": [
    "joined = pd.concat([df_one, df_two[['avg_male_similarity', 'avg_female_similarity', 'difference']]], axis=1)\n",
    "\n",
    "joined.head()"
   ]
  },
  {
   "cell_type": "code",
   "execution_count": 6,
   "id": "1dbd88aa",
   "metadata": {},
   "outputs": [
    {
     "data": {
      "image/png": "[encoded data removed]",
      "text/plain": [
       "<Figure size 1000x600 with 1 Axes>"
      ]
     },
     "metadata": {},
     "output_type": "display_data"
    }
   ],
   "source": [
    "import matplotlib.pyplot as plt\n",
    "\n",
    "filtered = joined[joined['prompt2'] == 'no']\n",
    "male_diff = filtered[filtered['prompt3'] == 'male']['difference']\n",
    "female_diff = filtered[filtered['prompt3'] == 'female']['difference']\n",
    "\n",
    "plt.figure(figsize=(10, 6))\n",
    "plt.hist([male_diff, female_diff], bins=20, alpha=0.7, label=['Male', 'Female'])\n",
    "plt.xlabel('Difference')\n",
    "plt.ylabel('Frequency')\n",
    "plt.legend()\n",
    "plt.show()"
   ]
  },
  {
   "cell_type": "code",
   "execution_count": 7,
   "id": "ae4ce522",
   "metadata": {},
   "outputs": [
    {
     "data": {
      "image/png": "[encoded data removed]",
      "text/plain": [
       "<Figure size 800x600 with 1 Axes>"
      ]
     },
     "metadata": {},
     "output_type": "display_data"
    }
   ],
   "source": [
    "import matplotlib.pyplot as plt\n",
    "import seaborn as sns\n",
    "\n",
    "filtered = joined[joined['prompt2'] == 'no']\n",
    "#filtered = filtered[filtered['prompt3'].isin(['male', 'female'])]\n",
    "\n",
    "plt.figure(figsize=(8, 6))\n",
    "sns.violinplot(data=filtered, x='prompt3', y='difference', order=['female', 'other', 'male'])\n",
    "plt.xlabel('Gender')\n",
    "plt.ylabel('Difference in CLiP Score (Male - Female)')\n",
    "plt.xticks([0, 1, 2], ['Female', 'Other', 'Male'])\n",
    "plt.title('Difference in CLiP Scores for Images Hallucinated by SmolVLM 500M SFT')\n",
    "plt.show()"
   ]
  },
  {
   "cell_type": "code",
   "execution_count": 8,
   "id": "db4bd9b7",
   "metadata": {},
   "outputs": [
    {
     "name": "stdout",
     "output_type": "stream",
     "text": [
      "T-test: t=6.611087592934584, p=4.631313538331132e-11\n",
      "Mann-Whitney U: U=499680.0, p=9.551783434364894e-10\n"
     ]
    }
   ],
   "source": [
    "from scipy import stats\n",
    "\n",
    "filtered = joined[joined['prompt2'] == 'no']\n",
    "male_diff = filtered[filtered['prompt3'] == 'male']['difference']\n",
    "female_diff = filtered[filtered['prompt3'] == 'female']['difference']\n",
    "\n",
    "# T-test\n",
    "t_stat, p_value = stats.ttest_ind(male_diff, female_diff)\n",
    "print(f\"T-test: t={t_stat}, p={p_value}\")\n",
    "\n",
    "# Mann-Whitney U test (non-parametric alternative)\n",
    "u_stat, p_value_mw = stats.mannwhitneyu(male_diff, female_diff, alternative='two-sided')\n",
    "print(f\"Mann-Whitney U: U={u_stat}, p={p_value_mw}\")"
   ]
  },
  {
   "cell_type": "code",
   "execution_count": null,
   "id": "d4a6d236",
   "metadata": {},
   "outputs": [],
   "source": []
  }
 ],
 "metadata": {
  "kernelspec": {
   "display_name": ".venv",
   "language": "python",
   "name": "python3"
  },
  "language_info": {
   "codemirror_mode": {
    "name": "ipython",
    "version": 3
   },
   "file_extension": ".py",
   "mimetype": "text/x-python",
   "name": "python",
   "nbconvert_exporter": "python",
   "pygments_lexer": "ipython3",
   "version": "3.10.10"
  }
 },
 "nbformat": 4,
 "nbformat_minor": 5
}
