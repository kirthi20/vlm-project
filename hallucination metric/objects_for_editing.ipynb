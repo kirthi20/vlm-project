{
 "cells": [
  {
   "cell_type": "code",
   "execution_count": 1,
   "id": "8480ce5e",
   "metadata": {},
   "outputs": [
    {
     "name": "stdout",
     "output_type": "stream",
     "text": [
      "Sample data from imid_to_objects:\n",
      "Image ID: 558840, Objects: ['car', 'dining table', 'hot dog', 'cup', 'spoon', 'bottle', 'person']\n",
      "Image ID: 200365, Objects: ['car', 'dining table', 'hot dog', 'cup', 'bicycle']\n",
      "Image ID: 495357, Objects: ['dog', 'person', 'motorcycle', 'handbag']\n",
      "Image ID: 116061, Objects: ['car', 'dog', 'handbag', 'bottle', 'person', 'motorcycle', 'bus']\n",
      "Image ID: 16164, Objects: ['dog', 'toilet']\n",
      "Total number of images: 40504\n"
     ]
    }
   ],
   "source": [
    "# load the save imid_to_objects dictionary from '../data/coco/imid_to_objects.json'\n",
    "import json\n",
    "\n",
    "with open('../data/coco/imid_to_objects.json', 'r') as f:\n",
    "    imid_to_objects = json.load(f)\n",
    "\n",
    "# print a bit of the imid_to_objects dictionary to make sure it worked\n",
    "print(\"Sample data from imid_to_objects:\")\n",
    "for imid, objects in list(imid_to_objects.items())[:5]:\n",
    "    print(f\"Image ID: {imid}, Objects: {objects}\")\n",
    "# print the number of images in the imid_to_objects dictionary\n",
    "print(f\"Total number of images: {len(imid_to_objects)}\")"
   ]
  },
  {
   "cell_type": "code",
   "execution_count": 2,
   "id": "02b21b25",
   "metadata": {},
   "outputs": [
    {
     "name": "stdout",
     "output_type": "stream",
     "text": [
      "Total number of distinct object names: 80\n",
      "First 10 distinct object names:\n",
      "['teddy bear', 'train', 'keyboard', 'tennis racket', 'cell phone', 'dog', 'cake', 'traffic light', 'mouse', 'zebra']\n"
     ]
    }
   ],
   "source": [
    "# Get a list of all the distinct object names in the imid_to_objects dictionary\n",
    "distinct_objects = set()\n",
    "for objects in imid_to_objects.values():\n",
    "    for obj in objects:\n",
    "        distinct_objects.add(obj)\n",
    "# print the number of distinct object names\n",
    "print(f\"Total number of distinct object names: {len(distinct_objects)}\")\n",
    "# print the first 10 distinct object names\n",
    "print(\"First 10 distinct object names:\")\n",
    "print(list(distinct_objects)[:10])"
   ]
  },
  {
   "cell_type": "code",
   "execution_count": 3,
   "id": "e3ea9044",
   "metadata": {},
   "outputs": [],
   "source": [
    "# Save list to a json file\n",
    "with open('../model-editing/distinct_objects.json', 'w') as f:\n",
    "    json.dump(list(distinct_objects), f)"
   ]
  },
  {
   "cell_type": "code",
   "execution_count": null,
   "id": "ec7962a7",
   "metadata": {},
   "outputs": [],
   "source": []
  }
 ],
 "metadata": {
  "kernelspec": {
   "display_name": ".venv",
   "language": "python",
   "name": "python3"
  },
  "language_info": {
   "codemirror_mode": {
    "name": "ipython",
    "version": 3
   },
   "file_extension": ".py",
   "mimetype": "text/x-python",
   "name": "python",
   "nbconvert_exporter": "python",
   "pygments_lexer": "ipython3",
   "version": "3.10.10"
  }
 },
 "nbformat": 4,
 "nbformat_minor": 5
}
