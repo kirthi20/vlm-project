{
 "cells": [
  {
   "cell_type": "markdown",
   "id": "25a4b89d",
   "metadata": {},
   "source": [
    "Adapted from chair.py for thesis experimentation. "
   ]
  },
  {
   "cell_type": "code",
   "execution_count": 1,
   "id": "55802406",
   "metadata": {},
   "outputs": [
    {
     "name": "stdout",
     "output_type": "stream",
     "text": [
      "Sample data from imid_to_objects:\n",
      "Image ID: 558840, Objects: ['car', 'dining table', 'hot dog', 'cup', 'spoon', 'bottle', 'person']\n",
      "Image ID: 200365, Objects: ['car', 'dining table', 'hot dog', 'cup', 'bicycle']\n",
      "Image ID: 495357, Objects: ['dog', 'person', 'motorcycle', 'handbag']\n",
      "Image ID: 116061, Objects: ['car', 'dog', 'handbag', 'bottle', 'person', 'motorcycle', 'bus']\n",
      "Image ID: 16164, Objects: ['dog', 'toilet']\n",
      "Total number of images: 40504\n"
     ]
    }
   ],
   "source": [
    "# load the save imid_to_objects dictionary from '../data/coco/imid_to_objects.json'\n",
    "import json\n",
    "\n",
    "with open('../data/coco/imid_to_objects.json', 'r') as f:\n",
    "    imid_to_objects = json.load(f)\n",
    "\n",
    "# print a bit of the imid_to_objects dictionary to make sure it worked\n",
    "print(\"Sample data from imid_to_objects:\")\n",
    "for imid, objects in list(imid_to_objects.items())[:5]:\n",
    "    print(f\"Image ID: {imid}, Objects: {objects}\")\n",
    "# print the number of images in the imid_to_objects dictionary\n",
    "print(f\"Total number of images: {len(imid_to_objects)}\")"
   ]
  },
  {
   "cell_type": "code",
   "execution_count": 2,
   "id": "d089586e",
   "metadata": {},
   "outputs": [
    {
     "name": "stdout",
     "output_type": "stream",
     "text": [
      "Sample data from captions DataFrame:\n"
     ]
    },
    {
     "data": {
      "application/vnd.microsoft.datawrangler.viewer.v0+json": {
       "columns": [
        {
         "name": "index",
         "rawType": "int64",
         "type": "integer"
        },
        {
         "name": "index",
         "rawType": "int64",
         "type": "integer"
        },
        {
         "name": "prompt1",
         "rawType": "object",
         "type": "string"
        },
        {
         "name": "prompt2",
         "rawType": "object",
         "type": "string"
        },
        {
         "name": "prompt3",
         "rawType": "object",
         "type": "string"
        },
        {
         "name": "prompt4",
         "rawType": "object",
         "type": "string"
        }
       ],
       "ref": "d31a1607-72ff-44be-b607-d317a5e21252",
       "rows": [
        [
         "0",
         "0",
         "In this image we can see a person holding an umbrella and holding a rope. There are animals. There are people. There are trees. There are houses. There are clouds in the sky.",
         "Yes.",
         "Male.",
         "Male."
        ],
        [
         "1",
         "1",
         "A kitchen with a white door and a stove.",
         "No.",
         "Male.",
         "Female."
        ],
        [
         "2",
         "2",
         "A girl is holding a cat in her arms.",
         "Yes.",
         "GIRL.",
         "GIRL."
        ],
        [
         "3",
         "3",
         "In this picture we can see a toilet, bottle, roll of paper, and a wall.",
         "No.",
         "Male.",
         "Female."
        ],
        [
         "4",
         "4",
         "In this image we can see a washroom. There are two sinks, a fire extinguisher, a mirror, a pipe, a light, a switch board, a pipe, a wall, a door, a floor, a wall, a pipe",
         "No.",
         "Male.",
         "Male."
        ]
       ],
       "shape": {
        "columns": 5,
        "rows": 5
       }
      },
      "text/html": [
       "<div>\n",
       "<style scoped>\n",
       "    .dataframe tbody tr th:only-of-type {\n",
       "        vertical-align: middle;\n",
       "    }\n",
       "\n",
       "    .dataframe tbody tr th {\n",
       "        vertical-align: top;\n",
       "    }\n",
       "\n",
       "    .dataframe thead th {\n",
       "        text-align: right;\n",
       "    }\n",
       "</style>\n",
       "<table border=\"1\" class=\"dataframe\">\n",
       "  <thead>\n",
       "    <tr style=\"text-align: right;\">\n",
       "      <th></th>\n",
       "      <th>index</th>\n",
       "      <th>prompt1</th>\n",
       "      <th>prompt2</th>\n",
       "      <th>prompt3</th>\n",
       "      <th>prompt4</th>\n",
       "    </tr>\n",
       "  </thead>\n",
       "  <tbody>\n",
       "    <tr>\n",
       "      <th>0</th>\n",
       "      <td>0</td>\n",
       "      <td>In this image we can see a person holding an u...</td>\n",
       "      <td>Yes.</td>\n",
       "      <td>Male.</td>\n",
       "      <td>Male.</td>\n",
       "    </tr>\n",
       "    <tr>\n",
       "      <th>1</th>\n",
       "      <td>1</td>\n",
       "      <td>A kitchen with a white door and a stove.</td>\n",
       "      <td>No.</td>\n",
       "      <td>Male.</td>\n",
       "      <td>Female.</td>\n",
       "    </tr>\n",
       "    <tr>\n",
       "      <th>2</th>\n",
       "      <td>2</td>\n",
       "      <td>A girl is holding a cat in her arms.</td>\n",
       "      <td>Yes.</td>\n",
       "      <td>GIRL.</td>\n",
       "      <td>GIRL.</td>\n",
       "    </tr>\n",
       "    <tr>\n",
       "      <th>3</th>\n",
       "      <td>3</td>\n",
       "      <td>In this picture we can see a toilet, bottle, r...</td>\n",
       "      <td>No.</td>\n",
       "      <td>Male.</td>\n",
       "      <td>Female.</td>\n",
       "    </tr>\n",
       "    <tr>\n",
       "      <th>4</th>\n",
       "      <td>4</td>\n",
       "      <td>In this image we can see a washroom. There are...</td>\n",
       "      <td>No.</td>\n",
       "      <td>Male.</td>\n",
       "      <td>Male.</td>\n",
       "    </tr>\n",
       "  </tbody>\n",
       "</table>\n",
       "</div>"
      ],
      "text/plain": [
       "   index                                            prompt1 prompt2 prompt3  \\\n",
       "0      0  In this image we can see a person holding an u...    Yes.   Male.   \n",
       "1      1           A kitchen with a white door and a stove.     No.   Male.   \n",
       "2      2               A girl is holding a cat in her arms.    Yes.   GIRL.   \n",
       "3      3  In this picture we can see a toilet, bottle, r...     No.   Male.   \n",
       "4      4  In this image we can see a washroom. There are...     No.   Male.   \n",
       "\n",
       "   prompt4  \n",
       "0    Male.  \n",
       "1  Female.  \n",
       "2    GIRL.  \n",
       "3  Female.  \n",
       "4    Male.  "
      ]
     },
     "metadata": {},
     "output_type": "display_data"
    },
    {
     "name": "stdout",
     "output_type": "stream",
     "text": [
      "Total number of captions: 5000\n",
      "Sample captions: ['In this image we can see a person holding an umbrella and holding a rope. There are animals. There are people. There are trees. There are houses. There are clouds in the sky.', 'A kitchen with a white door and a stove.', 'A girl is holding a cat in her arms.', 'In this picture we can see a toilet, bottle, roll of paper, and a wall.', 'In this image we can see a washroom. There are two sinks, a fire extinguisher, a mirror, a pipe, a light, a switch board, a pipe, a wall, a door, a floor, a wall, a pipe']\n"
     ]
    }
   ],
   "source": [
    "# load generated captions from file '../data/smolvlm_results_combined_1.tsv'\n",
    "import pandas as pd\n",
    "caption_df = pd.read_csv('../data/smolvlm_m2_vti.tsv', sep='\\t')\n",
    "# print the first few rows of the captions DataFrame\n",
    "print(\"Sample data from captions DataFrame:\")\n",
    "display(caption_df.head())\n",
    "\n",
    "caps = caption_df['prompt1'].tolist()\n",
    "\n",
    "print(f\"Total number of captions: {len(caps)}\")\n",
    "print(f\"Sample captions: {caps[:5]}\")\n"
   ]
  },
  {
   "cell_type": "code",
   "execution_count": 3,
   "id": "a201e445",
   "metadata": {},
   "outputs": [
    {
     "name": "stdout",
     "output_type": "stream",
     "text": [
      "[184613, 403013, 562150, 360772, 340559]\n",
      "Total number of eval image ids: 5000\n"
     ]
    }
   ],
   "source": [
    "# load image ids from hugggingface dataset validation yerevann/coco-karpathy\n",
    "# from datasets import load_dataset\n",
    "# dataset = load_dataset('yerevann/coco-karpathy', split='validation')\n",
    "# eval_imids = list(dataset['cocoid'])\n",
    "\n",
    "# #write eval_imids to a file '../data/coco/karpathy_eval_imids.json'\n",
    "# with open('../data/coco/karpathy_eval_imids.json', 'w') as f:\n",
    "#     json.dump(eval_imids, f)\n",
    "\n",
    "# read eval_imids from the file '../data/coco/karpathy_eval_imids.json'\n",
    "with open('../data/coco/karpathy_eval_imids.json', 'r') as f:\n",
    "    eval_imids = json.load(f)\n",
    "\n",
    "print(eval_imids[:5])\n",
    "print(f\"Total number of eval image ids: {len(eval_imids)}\")"
   ]
  },
  {
   "cell_type": "code",
   "execution_count": 4,
   "id": "b54cd3a6",
   "metadata": {},
   "outputs": [
    {
     "name": "stdout",
     "output_type": "stream",
     "text": [
      "Synonyms Loaded Successfully!\n"
     ]
    }
   ],
   "source": [
    "# load synonyms.txt\n",
    "with open('synonyms.txt', 'r') as f:\n",
    "    synonyms_txt = f.readlines()\n",
    "\n",
    "print(\"Synonyms Loaded Successfully!\")\n",
    "\n",
    "synonyms = [s.strip().split(', ') for s in synonyms_txt if s.strip()]\n",
    "mscoco_objects = [] #mscoco objects and *all* synonyms\n",
    "inverse_synonym_dict = {}\n",
    "for synonym in synonyms:\n",
    "    mscoco_objects.extend(synonym)\n",
    "    for s in synonym:\n",
    "        inverse_synonym_dict[s] = synonym[0]\n",
    "\n",
    "#Some hard coded rules for implementing CHAIR metrics on MSCOCO\n",
    "        \n",
    "#common 'double words' in MSCOCO that should be treated as a single word\n",
    "coco_double_words = ['motor bike', 'motor cycle', 'air plane', 'traffic light', 'street light', 'traffic signal', 'stop light', 'fire hydrant', 'stop sign', 'parking meter', 'suit case', 'sports ball', 'baseball bat', 'baseball glove', 'tennis racket', 'wine glass', 'hot dog', 'cell phone', 'mobile phone', 'teddy bear', 'hair drier', 'potted plant', 'bow tie', 'laptop computer', 'stove top oven', 'hot dog', 'teddy bear', 'home plate', 'train track']\n",
    "        \n",
    "#Hard code some rules for special cases in MSCOCO\n",
    "#qualifiers like 'baby' or 'adult' animal will lead to a false fire for the MSCOCO object 'person'.  'baby bird' --> 'bird'.\n",
    "animal_words = ['bird', 'cat', 'dog', 'horse', 'sheep', 'cow', 'elephant', 'bear', 'zebra', 'giraffe', 'animal', 'cub']\n",
    "#qualifiers like 'passenger' vehicle will lead to a false fire for the MSCOCO object 'person'.  'passenger jet' --> 'jet'.\n",
    "vehicle_words = ['jet', 'train']\n",
    "        \n",
    "#double_word_dict will map double words to the word they should be treated as in our analysis\n",
    "        \n",
    "double_word_dict = {}\n",
    "for double_word in coco_double_words:\n",
    "    double_word_dict[double_word] = double_word\n",
    "for animal_word in animal_words:\n",
    "    double_word_dict['baby %s' %animal_word] = animal_word\n",
    "    double_word_dict['adult %s' %animal_word] = animal_word\n",
    "for vehicle_word in vehicle_words:\n",
    "    double_word_dict['passenger %s' %vehicle_word] = vehicle_word\n",
    "double_word_dict['bow tie'] = 'tie'\n",
    "double_word_dict['toilet seat'] = 'toilet'\n",
    "double_word_dict['wine glas'] = 'wine glass'"
   ]
  },
  {
   "cell_type": "code",
   "execution_count": 5,
   "id": "d350cb78",
   "metadata": {},
   "outputs": [],
   "source": [
    "import nltk\n",
    "\n",
    "nltk.download('wordnet', quiet=True)\n",
    "from nltk.stem import WordNetLemmatizer\n",
    "\n",
    "lemmatizer = WordNetLemmatizer()\n",
    "\n",
    "def caption_to_words(caption):\n",
    "    '''\n",
    "    Input: caption\n",
    "    Output: MSCOCO words in the caption\n",
    "    '''\n",
    "\n",
    "    #standard preprocessing\n",
    "    words = nltk.word_tokenize(caption.lower())\n",
    "    words = [lemmatizer.lemmatize(w, pos='n') for w in words]\n",
    "\n",
    "    #replace double words\n",
    "    i = 0\n",
    "    double_words = []\n",
    "    idxs = []\n",
    "    while i < len(words):\n",
    "        idxs.append(i) \n",
    "        double_word = ' '.join(words[i:i+2])\n",
    "        if double_word in double_word_dict: \n",
    "            double_words.append(double_word_dict[double_word])\n",
    "            i += 2\n",
    "        else:\n",
    "            double_words.append(words[i])\n",
    "            i += 1\n",
    "    words = double_words\n",
    "\n",
    "    #toilet seat is not chair (sentences like \"the seat of the toilet\" will fire for \"chair\" if we do not include this line)\n",
    "    if ('toilet' in words) & ('seat' in words): words = [word for word in words if word != 'seat']\n",
    "\n",
    "    #get synonyms for all words in the caption\n",
    "    idxs = [idxs[idx] for idx, word in enumerate(words) \\\n",
    "            if word in set(mscoco_objects)]\n",
    "    words = [word for word in words if word in set(mscoco_objects)]\n",
    "    node_words = []\n",
    "    for word in words:\n",
    "        node_words.append(inverse_synonym_dict[word])\n",
    "    #return all the MSCOCO objects in the caption\n",
    "    return words, node_words, idxs, double_words"
   ]
  },
  {
   "cell_type": "code",
   "execution_count": 6,
   "id": "90565cc5",
   "metadata": {},
   "outputs": [],
   "source": [
    "def compute_chair(): \n",
    "    num_caps = 0.\n",
    "    num_hallucinated_caps = 0.\n",
    "    hallucinated_word_count = 0.\n",
    "    coco_word_count = 0.\n",
    "\n",
    "    num_recall_gt_objects = 0.\n",
    "    num_gt_objects = 0.\n",
    "\n",
    "    output = {'sentences': []} \n",
    "\n",
    "    for i in range(len(caps)):\n",
    "        cap :str = caps[i]\n",
    "        imid :int = eval_imids[i]\n",
    "\n",
    "        words, node_words, idxs, raw_words = caption_to_words(cap) \n",
    "\n",
    "        if str(imid) not in imid_to_objects:\n",
    "            print(f\"Image ID {imid} not found in imid_to_objects. Skipping caption.\")\n",
    "            print(type(imid))\n",
    "            continue\n",
    "\n",
    "        gt_objects = imid_to_objects[str(imid)]\n",
    "        cap_dict = {'image_id': imid, \n",
    "                        'caption': cap,\n",
    "                        'mscoco_hallucinated_words': [],\n",
    "                        'mscoco_gt_words': list(gt_objects),\n",
    "                        'mscoco_generated_words': list(node_words),\n",
    "                        'hallucination_idxs': [], \n",
    "                        'words': raw_words \n",
    "                        }\n",
    "        \n",
    "        cap_dict['metrics'] = {'CHAIRs': 0,\n",
    "                                   'CHAIRi': 0,\n",
    "                                   'Recall': 0}\n",
    "        \n",
    "        #count hallucinated words\n",
    "        coco_word_count += len(node_words) \n",
    "        hallucinated = False\n",
    "            \n",
    "        # add\n",
    "        recall_gt_objects = set()\n",
    "        for word, node_word, idx in zip(words, node_words, idxs):\n",
    "            if node_word not in gt_objects:\n",
    "                hallucinated_word_count += 1 \n",
    "                cap_dict['mscoco_hallucinated_words'].append((word, node_word))\n",
    "                cap_dict['hallucination_idxs'].append(idx)\n",
    "                hallucinated = True\n",
    "            else:\n",
    "                recall_gt_objects.add(node_word)\n",
    "    \n",
    "        #count hallucinated caps\n",
    "        num_caps += 1\n",
    "        if hallucinated:\n",
    "            num_hallucinated_caps += 1\n",
    "        \n",
    "        # add\n",
    "        num_gt_objects += len(gt_objects)\n",
    "        num_recall_gt_objects += len(recall_gt_objects)\n",
    "\n",
    "        cap_dict['metrics']['CHAIRs'] = int(hallucinated)\n",
    "        cap_dict['metrics']['CHAIRi'] = 0.\n",
    "        cap_dict['metrics']['Recall'] = 0.\n",
    "        \n",
    "        if len(words) > 0:\n",
    "            cap_dict['metrics']['CHAIRi'] = len(cap_dict['mscoco_hallucinated_words'])/float(len(words))\n",
    "        \n",
    "        # add\n",
    "        if len(gt_objects) > 0:\n",
    "            cap_dict['metrics']['Recall'] = len(recall_gt_objects) / len(gt_objects)\n",
    "\n",
    "        output['sentences'].append(cap_dict)\n",
    " \n",
    "    chair_s = (num_hallucinated_caps/num_caps)\n",
    "    chair_i = (hallucinated_word_count/coco_word_count)\n",
    "\n",
    "    recall = num_recall_gt_objects / num_gt_objects\n",
    "\n",
    "    output['overall_metrics'] = {'CHAIRs': chair_s,\n",
    "                                    'CHAIRi': chair_i,\n",
    "                                    'Recall': recall}\n",
    "\n",
    "    return output "
   ]
  },
  {
   "cell_type": "code",
   "execution_count": 7,
   "id": "0ce2be15",
   "metadata": {},
   "outputs": [],
   "source": [
    "output = compute_chair()"
   ]
  },
  {
   "cell_type": "code",
   "execution_count": 8,
   "id": "1a6caf03",
   "metadata": {},
   "outputs": [
    {
     "data": {
      "text/plain": [
       "{'CHAIRs': 0.1664, 'CHAIRi': 0.09850846886323418, 'Recall': 0.5406761588157812}"
      ]
     },
     "execution_count": 8,
     "metadata": {},
     "output_type": "execute_result"
    }
   ],
   "source": [
    "output['overall_metrics']"
   ]
  }
 ],
 "metadata": {
  "kernelspec": {
   "display_name": ".venv",
   "language": "python",
   "name": "python3"
  },
  "language_info": {
   "codemirror_mode": {
    "name": "ipython",
    "version": 3
   },
   "file_extension": ".py",
   "mimetype": "text/x-python",
   "name": "python",
   "nbconvert_exporter": "python",
   "pygments_lexer": "ipython3",
   "version": "3.10.10"
  }
 },
 "nbformat": 4,
 "nbformat_minor": 5
}
