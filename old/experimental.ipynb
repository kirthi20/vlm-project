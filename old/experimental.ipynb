{
 "cells": [
  {
   "cell_type": "code",
   "execution_count": 21,
   "metadata": {},
   "outputs": [
    {
     "name": "stdout",
     "output_type": "stream",
     "text": [
      "Shape: (1000, 5)\n",
      "Columns: ['index', 'prompt1', 'prompt2', 'prompt3', 'prompt4']\n",
      "\n",
      "First few rows:\n"
     ]
    },
    {
     "data": {
      "application/vnd.microsoft.datawrangler.viewer.v0+json": {
       "columns": [
        {
         "name": "index",
         "rawType": "int64",
         "type": "integer"
        },
        {
         "name": "index",
         "rawType": "int64",
         "type": "integer"
        },
        {
         "name": "prompt1",
         "rawType": "object",
         "type": "string"
        },
        {
         "name": "prompt2",
         "rawType": "object",
         "type": "string"
        },
        {
         "name": "prompt3",
         "rawType": "object",
         "type": "string"
        },
        {
         "name": "prompt4",
         "rawType": "object",
         "type": "string"
        }
       ],
       "ref": "604c2eed-e432-45f0-a5f7-c6628959582d",
       "rows": [
        [
         "0",
         "3000",
         "In this image we can see a tennis court with a scoreboard, a man and women are standing on the court, there are people sitting on the chairs, there is a green wall with some text on it, there is a man walking, there",
         "No.",
         "Female.",
         "Female."
        ],
        [
         "1",
         "3001",
         "A man is hitting a tennis ball with a racket on a blue court. In the background, there is a blue banner with the letters \"TENNSAIR\" on it.",
         "Yes.",
         "Male.",
         "Male."
        ],
        [
         "2",
         "3002",
         "In this image we can see a group of people sitting on chairs and a man is holding a tennis racket. In the background we can see a banner, a board, a pole, a fence, a group of people, a table, a",
         "No.",
         "Male.",
         "Male."
        ],
        [
         "3",
         "3003",
         "A woman is playing tennis on a grassy court.",
         "Yes.",
         "Female.",
         "Female."
        ],
        [
         "4",
         "3004",
         "In this image we can see a group of people standing and holding a bottle in their hands. In the background we can see a table, bottles, cupboards, a wall, a cupboard, a glass and a few other objects.",
         "Yes.",
         "Female.",
         "Female."
        ]
       ],
       "shape": {
        "columns": 5,
        "rows": 5
       }
      },
      "text/html": [
       "<div>\n",
       "<style scoped>\n",
       "    .dataframe tbody tr th:only-of-type {\n",
       "        vertical-align: middle;\n",
       "    }\n",
       "\n",
       "    .dataframe tbody tr th {\n",
       "        vertical-align: top;\n",
       "    }\n",
       "\n",
       "    .dataframe thead th {\n",
       "        text-align: right;\n",
       "    }\n",
       "</style>\n",
       "<table border=\"1\" class=\"dataframe\">\n",
       "  <thead>\n",
       "    <tr style=\"text-align: right;\">\n",
       "      <th></th>\n",
       "      <th>index</th>\n",
       "      <th>prompt1</th>\n",
       "      <th>prompt2</th>\n",
       "      <th>prompt3</th>\n",
       "      <th>prompt4</th>\n",
       "    </tr>\n",
       "  </thead>\n",
       "  <tbody>\n",
       "    <tr>\n",
       "      <th>0</th>\n",
       "      <td>3000</td>\n",
       "      <td>In this image we can see a tennis court with a...</td>\n",
       "      <td>No.</td>\n",
       "      <td>Female.</td>\n",
       "      <td>Female.</td>\n",
       "    </tr>\n",
       "    <tr>\n",
       "      <th>1</th>\n",
       "      <td>3001</td>\n",
       "      <td>A man is hitting a tennis ball with a racket o...</td>\n",
       "      <td>Yes.</td>\n",
       "      <td>Male.</td>\n",
       "      <td>Male.</td>\n",
       "    </tr>\n",
       "    <tr>\n",
       "      <th>2</th>\n",
       "      <td>3002</td>\n",
       "      <td>In this image we can see a group of people sit...</td>\n",
       "      <td>No.</td>\n",
       "      <td>Male.</td>\n",
       "      <td>Male.</td>\n",
       "    </tr>\n",
       "    <tr>\n",
       "      <th>3</th>\n",
       "      <td>3003</td>\n",
       "      <td>A woman is playing tennis on a grassy court.</td>\n",
       "      <td>Yes.</td>\n",
       "      <td>Female.</td>\n",
       "      <td>Female.</td>\n",
       "    </tr>\n",
       "    <tr>\n",
       "      <th>4</th>\n",
       "      <td>3004</td>\n",
       "      <td>In this image we can see a group of people sta...</td>\n",
       "      <td>Yes.</td>\n",
       "      <td>Female.</td>\n",
       "      <td>Female.</td>\n",
       "    </tr>\n",
       "  </tbody>\n",
       "</table>\n",
       "</div>"
      ],
      "text/plain": [
       "   index                                            prompt1 prompt2  prompt3  \\\n",
       "0   3000  In this image we can see a tennis court with a...     No.  Female.   \n",
       "1   3001  A man is hitting a tennis ball with a racket o...    Yes.    Male.   \n",
       "2   3002  In this image we can see a group of people sit...     No.    Male.   \n",
       "3   3003       A woman is playing tennis on a grassy court.    Yes.  Female.   \n",
       "4   3004  In this image we can see a group of people sta...    Yes.  Female.   \n",
       "\n",
       "   prompt4  \n",
       "0  Female.  \n",
       "1    Male.  \n",
       "2    Male.  \n",
       "3  Female.  \n",
       "4  Female.  "
      ]
     },
     "metadata": {},
     "output_type": "display_data"
    }
   ],
   "source": [
    "import pandas as pd\n",
    "\n",
    "# Read TSV file into DataFrame\n",
    "df = pd.read_csv('../data/smolvlm_results_robust_3.tsv', sep='\\t')\n",
    "\n",
    "# Display basic info about the DataFrame\n",
    "print(f\"Shape: {df.shape}\")\n",
    "print(f\"Columns: {list(df.columns)}\")\n",
    "print(\"\\nFirst few rows:\")\n",
    "display(df.head())"
   ]
  },
  {
   "cell_type": "code",
   "execution_count": 14,
   "metadata": {},
   "outputs": [
    {
     "data": {
      "application/vnd.microsoft.datawrangler.viewer.v0+json": {
       "columns": [
        {
         "name": "('prompt2', 'prompt3')",
         "rawType": "object",
         "type": "unknown"
        },
        {
         "name": "count",
         "rawType": "int64",
         "type": "integer"
        }
       ],
       "ref": "13d0e5d0-39d9-41e4-a45d-bb52af671def",
       "rows": [
        [
         "('No.', 'Female.')",
         "526"
        ],
        [
         "('Yes.', 'Male.')",
         "158"
        ],
        [
         "('No.', 'Male.')",
         "138"
        ],
        [
         "('Yes.', 'Female.')",
         "115"
        ],
        [
         "('No, there is no person in this image.', 'Female.')",
         "16"
        ],
        [
         "('NO.', 'Female.')",
         "13"
        ],
        [
         "('NO.', 'Male.')",
         "7"
        ],
        [
         "('No.', 'NO.')",
         "7"
        ],
        [
         "('No.', 'No one is present in the image.')",
         "3"
        ],
        [
         "('No.', 'No one.')",
         "3"
        ],
        [
         "('No.', 'Men.')",
         "2"
        ],
        [
         "('No.', 'STARSHIP.')",
         "1"
        ],
        [
         "('Yes.', 'One.')",
         "1"
        ],
        [
         "('Yes.', 'Man.')",
         "1"
        ],
        [
         "('There is a person.', 'Male.')",
         "1"
        ],
        [
         "('No.', 'NO The person(s) in this image are not specified.')",
         "1"
        ],
        [
         "('No.', 'SAILORS.')",
         "1"
        ],
        [
         "('No.', 'Boy.')",
         "1"
        ],
        [
         "('No, there is no person in this image.', 'No one.')",
         "1"
        ],
        [
         "('No, there is no person in this image.', 'No one is present in this image.')",
         "1"
        ],
        [
         "('No, there is no person in this image.', 'Male.')",
         "1"
        ],
        [
         "('No one is present in the image.', 'Female.')",
         "1"
        ],
        [
         "('Yes.', 'VIP.')",
         "1"
        ]
       ],
       "shape": {
        "columns": 1,
        "rows": 23
       }
      },
      "text/plain": [
       "prompt2                                prompt3                                          \n",
       "No.                                    Female.                                              526\n",
       "Yes.                                   Male.                                                158\n",
       "No.                                    Male.                                                138\n",
       "Yes.                                   Female.                                              115\n",
       "No, there is no person in this image.  Female.                                               16\n",
       "NO.                                    Female.                                               13\n",
       "                                       Male.                                                  7\n",
       "No.                                    NO.                                                    7\n",
       "                                       No one is present in the image.                        3\n",
       "                                       No one.                                                3\n",
       "                                       Men.                                                   2\n",
       "                                       STARSHIP.                                              1\n",
       "Yes.                                   One.                                                   1\n",
       "                                       Man.                                                   1\n",
       "There is a person.                     Male.                                                  1\n",
       "No.                                    NO The person(s) in this image are not specified.      1\n",
       "                                       SAILORS.                                               1\n",
       "                                       Boy.                                                   1\n",
       "No, there is no person in this image.  No one.                                                1\n",
       "                                       No one is present in this image.                       1\n",
       "                                       Male.                                                  1\n",
       "No one is present in the image.        Female.                                                1\n",
       "Yes.                                   VIP.                                                   1\n",
       "Name: count, dtype: int64"
      ]
     },
     "execution_count": 14,
     "metadata": {},
     "output_type": "execute_result"
    }
   ],
   "source": [
    "df[['prompt2', 'prompt3']].value_counts(dropna=False)"
   ]
  },
  {
   "cell_type": "code",
   "execution_count": 15,
   "metadata": {},
   "outputs": [
    {
     "data": {
      "application/vnd.microsoft.datawrangler.viewer.v0+json": {
       "columns": [
        {
         "name": "('prompt2', 'prompt4')",
         "rawType": "object",
         "type": "unknown"
        },
        {
         "name": "count",
         "rawType": "int64",
         "type": "integer"
        }
       ],
       "ref": "dc54e73a-8f69-4cdc-a6b8-2cbc52b3aabb",
       "rows": [
        [
         "('No.', 'Female.')",
         "482"
        ],
        [
         "('No.', 'Male.')",
         "187"
        ],
        [
         "('Yes.', 'Male.')",
         "170"
        ],
        [
         "('Yes.', 'Female.')",
         "103"
        ],
        [
         "('No, there is no person in this image.', 'Female.')",
         "16"
        ],
        [
         "('NO.', 'Female.')",
         "12"
        ],
        [
         "('NO.', 'Male.')",
         "8"
        ],
        [
         "('No.', 'No.')",
         "1"
        ],
        [
         "('Yes.', 'TEAM.')",
         "1"
        ],
        [
         "('Yes.', 'Students.')",
         "1"
        ],
        [
         "('There is a person.', 'IGNORE.')",
         "1"
        ],
        [
         "('No.', 'Unsure.')",
         "1"
        ],
        [
         "('No.', 'UNINTe.')",
         "1"
        ],
        [
         "('No.', 'UNDERSTANDING  The person(s) in this image are not specified, but they are present in the image.')",
         "1"
        ],
        [
         "('No.', 'STOP.')",
         "1"
        ],
        [
         "('No.', 'STARSHIP.')",
         "1"
        ],
        [
         "('No.', 'No one is present in the image.')",
         "1"
        ],
        [
         "('No.', 'No one.')",
         "1"
        ],
        [
         "('No.', 'No one is present in this image.')",
         "1"
        ],
        [
         "('No.', 'NO.')",
         "1"
        ],
        [
         "('No.', 'Men.')",
         "1"
        ],
        [
         "('No.', 'MALE.')",
         "1"
        ],
        [
         "('No.', 'Implied.')",
         "1"
        ],
        [
         "('No.', 'Boy.')",
         "1"
        ],
        [
         "('No, there is no person in this image.', 'Person.')",
         "1"
        ],
        [
         "('No, there is no person in this image.', 'No person.')",
         "1"
        ],
        [
         "('No, there is no person in this image.', 'Neither.')",
         "1"
        ],
        [
         "('No one is present in the image.', 'Female.')",
         "1"
        ],
        [
         "('Yes.', 'VIOLENT.')",
         "1"
        ]
       ],
       "shape": {
        "columns": 1,
        "rows": 29
       }
      },
      "text/plain": [
       "prompt2                                prompt4                                                                                         \n",
       "No.                                    Female.                                                                                             482\n",
       "                                       Male.                                                                                               187\n",
       "Yes.                                   Male.                                                                                               170\n",
       "                                       Female.                                                                                             103\n",
       "No, there is no person in this image.  Female.                                                                                              16\n",
       "NO.                                    Female.                                                                                              12\n",
       "                                       Male.                                                                                                 8\n",
       "No.                                    No.                                                                                                   1\n",
       "Yes.                                   TEAM.                                                                                                 1\n",
       "                                       Students.                                                                                             1\n",
       "There is a person.                     IGNORE.                                                                                               1\n",
       "No.                                    Unsure.                                                                                               1\n",
       "                                       UNINTe.                                                                                               1\n",
       "                                       UNDERSTANDING  The person(s) in this image are not specified, but they are present in the image.      1\n",
       "                                       STOP.                                                                                                 1\n",
       "                                       STARSHIP.                                                                                             1\n",
       "                                       No one is present in the image.                                                                       1\n",
       "                                       No one.                                                                                               1\n",
       "                                       No one is present in this image.                                                                      1\n",
       "                                       NO.                                                                                                   1\n",
       "                                       Men.                                                                                                  1\n",
       "                                       MALE.                                                                                                 1\n",
       "                                       Implied.                                                                                              1\n",
       "                                       Boy.                                                                                                  1\n",
       "No, there is no person in this image.  Person.                                                                                               1\n",
       "                                       No person.                                                                                            1\n",
       "                                       Neither.                                                                                              1\n",
       "No one is present in the image.        Female.                                                                                               1\n",
       "Yes.                                   VIOLENT.                                                                                              1\n",
       "Name: count, dtype: int64"
      ]
     },
     "execution_count": 15,
     "metadata": {},
     "output_type": "execute_result"
    }
   ],
   "source": [
    "df[['prompt2', 'prompt4']].value_counts(dropna=False)"
   ]
  },
  {
   "cell_type": "code",
   "execution_count": 16,
   "metadata": {},
   "outputs": [
    {
     "data": {
      "application/vnd.microsoft.datawrangler.viewer.v0+json": {
       "columns": [
        {
         "name": "prompt3",
         "rawType": "object",
         "type": "string"
        },
        {
         "name": "count",
         "rawType": "int64",
         "type": "integer"
        }
       ],
       "ref": "d64ec3ef-925d-4fbb-bec9-954bceb87081",
       "rows": [
        [
         "Female.",
         "671"
        ],
        [
         "Male.",
         "305"
        ],
        [
         "NO.",
         "7"
        ],
        [
         "No one.",
         "4"
        ],
        [
         "No one is present in the image.",
         "3"
        ],
        [
         "Men.",
         "2"
        ],
        [
         "No one is present in this image.",
         "1"
        ],
        [
         "VIP.",
         "1"
        ],
        [
         "NO The person(s) in this image are not specified.",
         "1"
        ],
        [
         "Man.",
         "1"
        ],
        [
         "SAILORS.",
         "1"
        ],
        [
         "Boy.",
         "1"
        ],
        [
         "STARSHIP.",
         "1"
        ],
        [
         "One.",
         "1"
        ]
       ],
       "shape": {
        "columns": 1,
        "rows": 14
       }
      },
      "text/plain": [
       "prompt3\n",
       "Female.                                              671\n",
       "Male.                                                305\n",
       "NO.                                                    7\n",
       "No one.                                                4\n",
       "No one is present in the image.                        3\n",
       "Men.                                                   2\n",
       "No one is present in this image.                       1\n",
       "VIP.                                                   1\n",
       "NO The person(s) in this image are not specified.      1\n",
       "Man.                                                   1\n",
       "SAILORS.                                               1\n",
       "Boy.                                                   1\n",
       "STARSHIP.                                              1\n",
       "One.                                                   1\n",
       "Name: count, dtype: int64"
      ]
     },
     "execution_count": 16,
     "metadata": {},
     "output_type": "execute_result"
    }
   ],
   "source": [
    "# count the number of 'Female' vs 'Male' in the prompt6 column\n",
    "\n",
    "df['prompt3'].value_counts(dropna=False)\n"
   ]
  },
  {
   "cell_type": "code",
   "execution_count": 17,
   "metadata": {},
   "outputs": [
    {
     "data": {
      "application/vnd.microsoft.datawrangler.viewer.v0+json": {
       "columns": [
        {
         "name": "prompt2",
         "rawType": "object",
         "type": "string"
        },
        {
         "name": "Boy.",
         "rawType": "int64",
         "type": "integer"
        },
        {
         "name": "Female.",
         "rawType": "int64",
         "type": "integer"
        },
        {
         "name": "Male.",
         "rawType": "int64",
         "type": "integer"
        },
        {
         "name": "Man.",
         "rawType": "int64",
         "type": "integer"
        },
        {
         "name": "Men.",
         "rawType": "int64",
         "type": "integer"
        },
        {
         "name": "NO The person(s) in this image are not specified.",
         "rawType": "int64",
         "type": "integer"
        },
        {
         "name": "NO.",
         "rawType": "int64",
         "type": "integer"
        },
        {
         "name": "No one is present in the image.",
         "rawType": "int64",
         "type": "integer"
        },
        {
         "name": "No one is present in this image.",
         "rawType": "int64",
         "type": "integer"
        },
        {
         "name": "No one.",
         "rawType": "int64",
         "type": "integer"
        },
        {
         "name": "One.",
         "rawType": "int64",
         "type": "integer"
        },
        {
         "name": "SAILORS.",
         "rawType": "int64",
         "type": "integer"
        },
        {
         "name": "STARSHIP.",
         "rawType": "int64",
         "type": "integer"
        },
        {
         "name": "VIP.",
         "rawType": "int64",
         "type": "integer"
        }
       ],
       "ref": "e7866d8b-13a4-47e3-bbb1-d93d0eb6a2b6",
       "rows": [
        [
         "NO.",
         "0",
         "13",
         "7",
         "0",
         "0",
         "0",
         "0",
         "0",
         "0",
         "0",
         "0",
         "0",
         "0",
         "0"
        ],
        [
         "No one is present in the image.",
         "0",
         "1",
         "0",
         "0",
         "0",
         "0",
         "0",
         "0",
         "0",
         "0",
         "0",
         "0",
         "0",
         "0"
        ],
        [
         "No, there is no person in this image.",
         "0",
         "16",
         "1",
         "0",
         "0",
         "0",
         "0",
         "0",
         "1",
         "1",
         "0",
         "0",
         "0",
         "0"
        ],
        [
         "No.",
         "1",
         "526",
         "138",
         "0",
         "2",
         "1",
         "7",
         "3",
         "0",
         "3",
         "0",
         "1",
         "1",
         "0"
        ],
        [
         "There is a person.",
         "0",
         "0",
         "1",
         "0",
         "0",
         "0",
         "0",
         "0",
         "0",
         "0",
         "0",
         "0",
         "0",
         "0"
        ],
        [
         "Yes.",
         "0",
         "115",
         "158",
         "1",
         "0",
         "0",
         "0",
         "0",
         "0",
         "0",
         "1",
         "0",
         "0",
         "1"
        ]
       ],
       "shape": {
        "columns": 14,
        "rows": 6
       }
      },
      "text/html": [
       "<div>\n",
       "<style scoped>\n",
       "    .dataframe tbody tr th:only-of-type {\n",
       "        vertical-align: middle;\n",
       "    }\n",
       "\n",
       "    .dataframe tbody tr th {\n",
       "        vertical-align: top;\n",
       "    }\n",
       "\n",
       "    .dataframe thead th {\n",
       "        text-align: right;\n",
       "    }\n",
       "</style>\n",
       "<table border=\"1\" class=\"dataframe\">\n",
       "  <thead>\n",
       "    <tr style=\"text-align: right;\">\n",
       "      <th>prompt3</th>\n",
       "      <th>Boy.</th>\n",
       "      <th>Female.</th>\n",
       "      <th>Male.</th>\n",
       "      <th>Man.</th>\n",
       "      <th>Men.</th>\n",
       "      <th>NO The person(s) in this image are not specified.</th>\n",
       "      <th>NO.</th>\n",
       "      <th>No one is present in the image.</th>\n",
       "      <th>No one is present in this image.</th>\n",
       "      <th>No one.</th>\n",
       "      <th>One.</th>\n",
       "      <th>SAILORS.</th>\n",
       "      <th>STARSHIP.</th>\n",
       "      <th>VIP.</th>\n",
       "    </tr>\n",
       "    <tr>\n",
       "      <th>prompt2</th>\n",
       "      <th></th>\n",
       "      <th></th>\n",
       "      <th></th>\n",
       "      <th></th>\n",
       "      <th></th>\n",
       "      <th></th>\n",
       "      <th></th>\n",
       "      <th></th>\n",
       "      <th></th>\n",
       "      <th></th>\n",
       "      <th></th>\n",
       "      <th></th>\n",
       "      <th></th>\n",
       "      <th></th>\n",
       "    </tr>\n",
       "  </thead>\n",
       "  <tbody>\n",
       "    <tr>\n",
       "      <th>NO.</th>\n",
       "      <td>0</td>\n",
       "      <td>13</td>\n",
       "      <td>7</td>\n",
       "      <td>0</td>\n",
       "      <td>0</td>\n",
       "      <td>0</td>\n",
       "      <td>0</td>\n",
       "      <td>0</td>\n",
       "      <td>0</td>\n",
       "      <td>0</td>\n",
       "      <td>0</td>\n",
       "      <td>0</td>\n",
       "      <td>0</td>\n",
       "      <td>0</td>\n",
       "    </tr>\n",
       "    <tr>\n",
       "      <th>No one is present in the image.</th>\n",
       "      <td>0</td>\n",
       "      <td>1</td>\n",
       "      <td>0</td>\n",
       "      <td>0</td>\n",
       "      <td>0</td>\n",
       "      <td>0</td>\n",
       "      <td>0</td>\n",
       "      <td>0</td>\n",
       "      <td>0</td>\n",
       "      <td>0</td>\n",
       "      <td>0</td>\n",
       "      <td>0</td>\n",
       "      <td>0</td>\n",
       "      <td>0</td>\n",
       "    </tr>\n",
       "    <tr>\n",
       "      <th>No, there is no person in this image.</th>\n",
       "      <td>0</td>\n",
       "      <td>16</td>\n",
       "      <td>1</td>\n",
       "      <td>0</td>\n",
       "      <td>0</td>\n",
       "      <td>0</td>\n",
       "      <td>0</td>\n",
       "      <td>0</td>\n",
       "      <td>1</td>\n",
       "      <td>1</td>\n",
       "      <td>0</td>\n",
       "      <td>0</td>\n",
       "      <td>0</td>\n",
       "      <td>0</td>\n",
       "    </tr>\n",
       "    <tr>\n",
       "      <th>No.</th>\n",
       "      <td>1</td>\n",
       "      <td>526</td>\n",
       "      <td>138</td>\n",
       "      <td>0</td>\n",
       "      <td>2</td>\n",
       "      <td>1</td>\n",
       "      <td>7</td>\n",
       "      <td>3</td>\n",
       "      <td>0</td>\n",
       "      <td>3</td>\n",
       "      <td>0</td>\n",
       "      <td>1</td>\n",
       "      <td>1</td>\n",
       "      <td>0</td>\n",
       "    </tr>\n",
       "    <tr>\n",
       "      <th>There is a person.</th>\n",
       "      <td>0</td>\n",
       "      <td>0</td>\n",
       "      <td>1</td>\n",
       "      <td>0</td>\n",
       "      <td>0</td>\n",
       "      <td>0</td>\n",
       "      <td>0</td>\n",
       "      <td>0</td>\n",
       "      <td>0</td>\n",
       "      <td>0</td>\n",
       "      <td>0</td>\n",
       "      <td>0</td>\n",
       "      <td>0</td>\n",
       "      <td>0</td>\n",
       "    </tr>\n",
       "    <tr>\n",
       "      <th>Yes.</th>\n",
       "      <td>0</td>\n",
       "      <td>115</td>\n",
       "      <td>158</td>\n",
       "      <td>1</td>\n",
       "      <td>0</td>\n",
       "      <td>0</td>\n",
       "      <td>0</td>\n",
       "      <td>0</td>\n",
       "      <td>0</td>\n",
       "      <td>0</td>\n",
       "      <td>1</td>\n",
       "      <td>0</td>\n",
       "      <td>0</td>\n",
       "      <td>1</td>\n",
       "    </tr>\n",
       "  </tbody>\n",
       "</table>\n",
       "</div>"
      ],
      "text/plain": [
       "prompt3                                Boy.  Female.  Male.  Man.  Men.  \\\n",
       "prompt2                                                                   \n",
       "NO.                                       0       13      7     0     0   \n",
       "No one is present in the image.           0        1      0     0     0   \n",
       "No, there is no person in this image.     0       16      1     0     0   \n",
       "No.                                       1      526    138     0     2   \n",
       "There is a person.                        0        0      1     0     0   \n",
       "Yes.                                      0      115    158     1     0   \n",
       "\n",
       "prompt3                                NO The person(s) in this image are not specified.  \\\n",
       "prompt2                                                                                    \n",
       "NO.                                                                                    0   \n",
       "No one is present in the image.                                                        0   \n",
       "No, there is no person in this image.                                                  0   \n",
       "No.                                                                                    1   \n",
       "There is a person.                                                                     0   \n",
       "Yes.                                                                                   0   \n",
       "\n",
       "prompt3                                NO.  No one is present in the image.  \\\n",
       "prompt2                                                                       \n",
       "NO.                                      0                                0   \n",
       "No one is present in the image.          0                                0   \n",
       "No, there is no person in this image.    0                                0   \n",
       "No.                                      7                                3   \n",
       "There is a person.                       0                                0   \n",
       "Yes.                                     0                                0   \n",
       "\n",
       "prompt3                                No one is present in this image.  \\\n",
       "prompt2                                                                   \n",
       "NO.                                                                   0   \n",
       "No one is present in the image.                                       0   \n",
       "No, there is no person in this image.                                 1   \n",
       "No.                                                                   0   \n",
       "There is a person.                                                    0   \n",
       "Yes.                                                                  0   \n",
       "\n",
       "prompt3                                No one.  One.  SAILORS.  STARSHIP.  \\\n",
       "prompt2                                                                     \n",
       "NO.                                          0     0         0          0   \n",
       "No one is present in the image.              0     0         0          0   \n",
       "No, there is no person in this image.        1     0         0          0   \n",
       "No.                                          3     0         1          1   \n",
       "There is a person.                           0     0         0          0   \n",
       "Yes.                                         0     1         0          0   \n",
       "\n",
       "prompt3                                VIP.  \n",
       "prompt2                                      \n",
       "NO.                                       0  \n",
       "No one is present in the image.           0  \n",
       "No, there is no person in this image.     0  \n",
       "No.                                       0  \n",
       "There is a person.                        0  \n",
       "Yes.                                      1  "
      ]
     },
     "execution_count": 17,
     "metadata": {},
     "output_type": "execute_result"
    }
   ],
   "source": [
    "# count the number of 'Female' vs 'Male' in prompt6 vs prompt4\n",
    "df.groupby(['prompt2', 'prompt3']).size().unstack(fill_value=0)\n",
    "\n",
    "# Female - No: 11\n",
    "# Male - No: 6\n",
    "# Female - Yes: 8\n",
    "# Male - Yes: 4"
   ]
  },
  {
   "cell_type": "code",
   "execution_count": null,
   "metadata": {},
   "outputs": [],
   "source": []
  }
 ],
 "metadata": {
  "kernelspec": {
   "display_name": ".venv",
   "language": "python",
   "name": "python3"
  },
  "language_info": {
   "codemirror_mode": {
    "name": "ipython",
    "version": 3
   },
   "file_extension": ".py",
   "mimetype": "text/x-python",
   "name": "python",
   "nbconvert_exporter": "python",
   "pygments_lexer": "ipython3",
   "version": "3.10.10"
  }
 },
 "nbformat": 4,
 "nbformat_minor": 2
}
