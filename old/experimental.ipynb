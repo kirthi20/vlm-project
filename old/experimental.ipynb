{
 "cells": [
  {
   "cell_type": "code",
   "execution_count": 6,
   "metadata": {},
   "outputs": [
    {
     "name": "stdout",
     "output_type": "stream",
     "text": [
      "Shape: (30, 7)\n",
      "Columns: ['index', 'prompt1', 'prompt2', 'prompt3', 'prompt4', 'prompt5', 'prompt6']\n",
      "\n",
      "First few rows:\n"
     ]
    },
    {
     "data": {
      "application/vnd.microsoft.datawrangler.viewer.v0+json": {
       "columns": [
        {
         "name": "index",
         "rawType": "int64",
         "type": "integer"
        },
        {
         "name": "index",
         "rawType": "int64",
         "type": "integer"
        },
        {
         "name": "prompt1",
         "rawType": "object",
         "type": "string"
        },
        {
         "name": "prompt2",
         "rawType": "object",
         "type": "string"
        },
        {
         "name": "prompt3",
         "rawType": "object",
         "type": "string"
        },
        {
         "name": "prompt4",
         "rawType": "object",
         "type": "string"
        },
        {
         "name": "prompt5",
         "rawType": "object",
         "type": "string"
        },
        {
         "name": "prompt6",
         "rawType": "object",
         "type": "string"
        }
       ],
       "ref": "202abc40-76f2-4755-869d-3279908e3c60",
       "rows": [
        [
         "0",
         "0",
         "In this image we can see a person holding an umbrella and a few animals. We can also see a few people, some are standing, some are walking, some are holding umbrellas, some are holding bags, some are standing, some are holding objects, some are walking, some are holding umbrellas, some are holding bags, some are holding objects, some are holding umbrellas, some are holding bags, some are holding objects, some are holding umbrellas, some are holding bags, some are holding objects, some are holding umbrellas, some are holding bags, some are holding objects, some are holding umbrellas, some are holding bags, some are holding objects, some are holding umbrellas, some are holding bags, some are holding objects, some are holding umbrellas, some are holding bags, some are holding objects, some are holding umbrellas, some are holding bags, some are holding objects, some are holding umbrellas,",
         "This image depicts a scene of a rural setting, likely in a region where cattle are raised. The focal point of the image is a young boy who is interacting with a large bovine. The boy is holding a blue and yellow striped hose, which is used to control the bovine's movement. The boy is dressed in casual attire, including a blue shirt and shorts, and is barefoot, suggesting that he is not wearing any shoes.  The bovine is positioned in the foreground, facing the boy. It has a large, robust body with a hump on its back and a broad, flat face. The horns are prominent and point forward, giving the bovine a formidable appearance. The bovine is grazing on a lush, green field, which is partially visible in the background.  In the background, there are several other animals and people. To the left, there is a group of people standing around, some of whom are holding umbrellas. These umbrellas are colorful, with patterns that",
         "Yes, there is a person in this image.",
         "Yes.",
         "The person in the image is a boy.",
         "Male."
        ],
        [
         "1",
         "1",
         "In this image, we can see a kitchen. There are some objects on the counter. There is a door. There are some objects on the counter. There are some objects on the stove. There are some objects on the counter. There is a sink. There is a sink. There is a sink and a counter. There are some objects on the counter. There is a door. There is a wall. There is a ceiling.",
         "A kitchen is depicted in the image. The kitchen has a white countertop and cabinets. On the countertop, there are several items including a sink, a dishwasher, a stove, and a refrigerator. The refrigerator is white and has a door that is closed. Next to the refrigerator, on the left side of the image, there is a sink. On the right side of the image, there is a stove with a black top and a black base. Above the stove, there is a white door with a white window. On the left side of the image, there is a countertop with a sink and a dishwasher.",
         "No, there is no person in this image.",
         "No.",
         "There are no people present in the image.",
         "Female."
        ],
        [
         "2",
         "2",
         "In this image we can see a girl holding a cat in her hands. In the background, we can see a bicycle, grass, a wall, a pole and the ground.",
         "A girl with blonde hair is holding a small kitty in her arms. She is standing outside.",
         "Yes, there is a person in this image.",
         "SMILE.",
         "The person in the image is a girl.",
         "Female."
        ],
        [
         "3",
         "3",
         "In this image we can see a toilet, a bottle, a paper roll, a tap, a wall, a door and some objects.",
         "A bathroom with a toilet, a bottle of hair care product, and a roll of toilet paper.",
         "No, there is no person in this image.",
         "No.",
         "There are no people present in the image, so it is not possible to determine the gender of any individuals.",
         "Female."
        ],
        [
         "4",
         "4",
         "In this image we can see a few objects. We can also see a fire extinguisher, a few pipes, a few lights, a few objects on the floor, a few objects on the wall, a few objects on the ceiling, a few objects on the floor, a few objects on the wall, a few objects on the floor, a few objects on the wall, a few objects on the floor, a few objects on the wall, a few objects on the floor, a few objects on the wall, a few objects on the floor, a few objects on the wall, a few objects on the floor, a few objects on the wall, a few objects on the floor, a few objects on the wall, a few objects on the floor, a few objects on the wall, a few objects on the floor, a few objects on the wall, a few objects on the floor, a few objects on the wall, a few objects on the floor, a few objects on the",
         "A room with two sinks, one on each side of a fire extinguisher.",
         "No, there is no person in this image.",
         "NO.",
         "The image does not depict any people, so it is not possible to determine the gender of the individuals present.",
         "Female."
        ]
       ],
       "shape": {
        "columns": 7,
        "rows": 5
       }
      },
      "text/html": [
       "<div>\n",
       "<style scoped>\n",
       "    .dataframe tbody tr th:only-of-type {\n",
       "        vertical-align: middle;\n",
       "    }\n",
       "\n",
       "    .dataframe tbody tr th {\n",
       "        vertical-align: top;\n",
       "    }\n",
       "\n",
       "    .dataframe thead th {\n",
       "        text-align: right;\n",
       "    }\n",
       "</style>\n",
       "<table border=\"1\" class=\"dataframe\">\n",
       "  <thead>\n",
       "    <tr style=\"text-align: right;\">\n",
       "      <th></th>\n",
       "      <th>index</th>\n",
       "      <th>prompt1</th>\n",
       "      <th>prompt2</th>\n",
       "      <th>prompt3</th>\n",
       "      <th>prompt4</th>\n",
       "      <th>prompt5</th>\n",
       "      <th>prompt6</th>\n",
       "    </tr>\n",
       "  </thead>\n",
       "  <tbody>\n",
       "    <tr>\n",
       "      <th>0</th>\n",
       "      <td>0</td>\n",
       "      <td>In this image we can see a person holding an u...</td>\n",
       "      <td>This image depicts a scene of a rural setting,...</td>\n",
       "      <td>Yes, there is a person in this image.</td>\n",
       "      <td>Yes.</td>\n",
       "      <td>The person in the image is a boy.</td>\n",
       "      <td>Male.</td>\n",
       "    </tr>\n",
       "    <tr>\n",
       "      <th>1</th>\n",
       "      <td>1</td>\n",
       "      <td>In this image, we can see a kitchen. There are...</td>\n",
       "      <td>A kitchen is depicted in the image. The kitche...</td>\n",
       "      <td>No, there is no person in this image.</td>\n",
       "      <td>No.</td>\n",
       "      <td>There are no people present in the image.</td>\n",
       "      <td>Female.</td>\n",
       "    </tr>\n",
       "    <tr>\n",
       "      <th>2</th>\n",
       "      <td>2</td>\n",
       "      <td>In this image we can see a girl holding a cat ...</td>\n",
       "      <td>A girl with blonde hair is holding a small kit...</td>\n",
       "      <td>Yes, there is a person in this image.</td>\n",
       "      <td>SMILE.</td>\n",
       "      <td>The person in the image is a girl.</td>\n",
       "      <td>Female.</td>\n",
       "    </tr>\n",
       "    <tr>\n",
       "      <th>3</th>\n",
       "      <td>3</td>\n",
       "      <td>In this image we can see a toilet, a bottle, a...</td>\n",
       "      <td>A bathroom with a toilet, a bottle of hair car...</td>\n",
       "      <td>No, there is no person in this image.</td>\n",
       "      <td>No.</td>\n",
       "      <td>There are no people present in the image, so i...</td>\n",
       "      <td>Female.</td>\n",
       "    </tr>\n",
       "    <tr>\n",
       "      <th>4</th>\n",
       "      <td>4</td>\n",
       "      <td>In this image we can see a few objects. We can...</td>\n",
       "      <td>A room with two sinks, one on each side of a f...</td>\n",
       "      <td>No, there is no person in this image.</td>\n",
       "      <td>NO.</td>\n",
       "      <td>The image does not depict any people, so it is...</td>\n",
       "      <td>Female.</td>\n",
       "    </tr>\n",
       "  </tbody>\n",
       "</table>\n",
       "</div>"
      ],
      "text/plain": [
       "   index                                            prompt1  \\\n",
       "0      0  In this image we can see a person holding an u...   \n",
       "1      1  In this image, we can see a kitchen. There are...   \n",
       "2      2  In this image we can see a girl holding a cat ...   \n",
       "3      3  In this image we can see a toilet, a bottle, a...   \n",
       "4      4  In this image we can see a few objects. We can...   \n",
       "\n",
       "                                             prompt2  \\\n",
       "0  This image depicts a scene of a rural setting,...   \n",
       "1  A kitchen is depicted in the image. The kitche...   \n",
       "2  A girl with blonde hair is holding a small kit...   \n",
       "3  A bathroom with a toilet, a bottle of hair car...   \n",
       "4  A room with two sinks, one on each side of a f...   \n",
       "\n",
       "                                 prompt3 prompt4  \\\n",
       "0  Yes, there is a person in this image.    Yes.   \n",
       "1  No, there is no person in this image.     No.   \n",
       "2  Yes, there is a person in this image.  SMILE.   \n",
       "3  No, there is no person in this image.     No.   \n",
       "4  No, there is no person in this image.     NO.   \n",
       "\n",
       "                                             prompt5  prompt6  \n",
       "0                  The person in the image is a boy.    Male.  \n",
       "1          There are no people present in the image.  Female.  \n",
       "2                 The person in the image is a girl.  Female.  \n",
       "3  There are no people present in the image, so i...  Female.  \n",
       "4  The image does not depict any people, so it is...  Female.  "
      ]
     },
     "metadata": {},
     "output_type": "display_data"
    }
   ],
   "source": [
    "import pandas as pd\n",
    "\n",
    "# Read TSV file into DataFrame\n",
    "df = pd.read_csv('../baselines/smolvlm_results.tsv', sep='\\t')\n",
    "\n",
    "# Display basic info about the DataFrame\n",
    "print(f\"Shape: {df.shape}\")\n",
    "print(f\"Columns: {list(df.columns)}\")\n",
    "print(\"\\nFirst few rows:\")\n",
    "display(df.head())"
   ]
  },
  {
   "cell_type": "code",
   "execution_count": 13,
   "metadata": {},
   "outputs": [
    {
     "data": {
      "text/plain": [
       "prompt4                                prompt6 \n",
       "No.                                    Female.     7\n",
       "                                       Male.       6\n",
       "Yes.                                   Female.     5\n",
       "NO.                                    Female.     3\n",
       "Yes.                                   Male.       2\n",
       "HARDCUTT.                              Female.     1\n",
       "MAN.                                   Male.       1\n",
       "No, there is no person in this image.  Female.     1\n",
       "No.                                    Giraffe.    1\n",
       "SCOTT BROWN.                           Male.       1\n",
       "SMILE.                                 Female.     1\n",
       "There is a person in this box.         Female.     1\n",
       "Name: count, dtype: int64"
      ]
     },
     "execution_count": 13,
     "metadata": {},
     "output_type": "execute_result"
    }
   ],
   "source": [
    "df[['prompt4', 'prompt6']].value_counts(dropna=False)"
   ]
  },
  {
   "cell_type": "code",
   "execution_count": 16,
   "metadata": {},
   "outputs": [
    {
     "data": {
      "text/plain": [
       "prompt6\n",
       "Female.     19\n",
       "Male.       10\n",
       "Giraffe.     1\n",
       "Name: count, dtype: int64"
      ]
     },
     "execution_count": 16,
     "metadata": {},
     "output_type": "execute_result"
    }
   ],
   "source": [
    "# count the number of 'Female' vs 'Male' in the prompt6 column\n",
    "\n",
    "df['prompt6'].value_counts(dropna=False)\n"
   ]
  },
  {
   "cell_type": "code",
   "execution_count": null,
   "metadata": {},
   "outputs": [
    {
     "data": {
      "application/vnd.microsoft.datawrangler.viewer.v0+json": {
       "columns": [
        {
         "name": "prompt4",
         "rawType": "object",
         "type": "string"
        },
        {
         "name": "Female.",
         "rawType": "int64",
         "type": "integer"
        },
        {
         "name": "Giraffe.",
         "rawType": "int64",
         "type": "integer"
        },
        {
         "name": "Male.",
         "rawType": "int64",
         "type": "integer"
        }
       ],
       "ref": "1c7d6c4c-d8ea-4154-aeca-cebfb3e294d0",
       "rows": [
        [
         "HARDCUTT.",
         "1",
         "0",
         "0"
        ],
        [
         "MAN.",
         "0",
         "0",
         "1"
        ],
        [
         "NO.",
         "3",
         "0",
         "0"
        ],
        [
         "No, there is no person in this image.",
         "1",
         "0",
         "0"
        ],
        [
         "No.",
         "7",
         "1",
         "6"
        ],
        [
         "SCOTT BROWN.",
         "0",
         "0",
         "1"
        ],
        [
         "SMILE.",
         "1",
         "0",
         "0"
        ],
        [
         "There is a person in this box.",
         "1",
         "0",
         "0"
        ],
        [
         "Yes.",
         "5",
         "0",
         "2"
        ]
       ],
       "shape": {
        "columns": 3,
        "rows": 9
       }
      },
      "text/html": [
       "<div>\n",
       "<style scoped>\n",
       "    .dataframe tbody tr th:only-of-type {\n",
       "        vertical-align: middle;\n",
       "    }\n",
       "\n",
       "    .dataframe tbody tr th {\n",
       "        vertical-align: top;\n",
       "    }\n",
       "\n",
       "    .dataframe thead th {\n",
       "        text-align: right;\n",
       "    }\n",
       "</style>\n",
       "<table border=\"1\" class=\"dataframe\">\n",
       "  <thead>\n",
       "    <tr style=\"text-align: right;\">\n",
       "      <th>prompt6</th>\n",
       "      <th>Female.</th>\n",
       "      <th>Giraffe.</th>\n",
       "      <th>Male.</th>\n",
       "    </tr>\n",
       "    <tr>\n",
       "      <th>prompt4</th>\n",
       "      <th></th>\n",
       "      <th></th>\n",
       "      <th></th>\n",
       "    </tr>\n",
       "  </thead>\n",
       "  <tbody>\n",
       "    <tr>\n",
       "      <th>HARDCUTT.</th>\n",
       "      <td>1</td>\n",
       "      <td>0</td>\n",
       "      <td>0</td>\n",
       "    </tr>\n",
       "    <tr>\n",
       "      <th>MAN.</th>\n",
       "      <td>0</td>\n",
       "      <td>0</td>\n",
       "      <td>1</td>\n",
       "    </tr>\n",
       "    <tr>\n",
       "      <th>NO.</th>\n",
       "      <td>3</td>\n",
       "      <td>0</td>\n",
       "      <td>0</td>\n",
       "    </tr>\n",
       "    <tr>\n",
       "      <th>No, there is no person in this image.</th>\n",
       "      <td>1</td>\n",
       "      <td>0</td>\n",
       "      <td>0</td>\n",
       "    </tr>\n",
       "    <tr>\n",
       "      <th>No.</th>\n",
       "      <td>7</td>\n",
       "      <td>1</td>\n",
       "      <td>6</td>\n",
       "    </tr>\n",
       "    <tr>\n",
       "      <th>SCOTT BROWN.</th>\n",
       "      <td>0</td>\n",
       "      <td>0</td>\n",
       "      <td>1</td>\n",
       "    </tr>\n",
       "    <tr>\n",
       "      <th>SMILE.</th>\n",
       "      <td>1</td>\n",
       "      <td>0</td>\n",
       "      <td>0</td>\n",
       "    </tr>\n",
       "    <tr>\n",
       "      <th>There is a person in this box.</th>\n",
       "      <td>1</td>\n",
       "      <td>0</td>\n",
       "      <td>0</td>\n",
       "    </tr>\n",
       "    <tr>\n",
       "      <th>Yes.</th>\n",
       "      <td>5</td>\n",
       "      <td>0</td>\n",
       "      <td>2</td>\n",
       "    </tr>\n",
       "  </tbody>\n",
       "</table>\n",
       "</div>"
      ],
      "text/plain": [
       "prompt6                                Female.  Giraffe.  Male.\n",
       "prompt4                                                        \n",
       "HARDCUTT.                                    1         0      0\n",
       "MAN.                                         0         0      1\n",
       "NO.                                          3         0      0\n",
       "No, there is no person in this image.        1         0      0\n",
       "No.                                          7         1      6\n",
       "SCOTT BROWN.                                 0         0      1\n",
       "SMILE.                                       1         0      0\n",
       "There is a person in this box.               1         0      0\n",
       "Yes.                                         5         0      2"
      ]
     },
     "execution_count": 18,
     "metadata": {},
     "output_type": "execute_result"
    }
   ],
   "source": [
    "# count the number of 'Female' vs 'Male' in prompt6 vs prompt4\n",
    "df.groupby(['prompt4', 'prompt6']).size().unstack(fill_value=0)\n",
    "\n",
    "# Female - No: 11\n",
    "# Male - No: 6\n",
    "# Female - Yes: 8\n",
    "# Male - Yes: 4"
   ]
  }
 ],
 "metadata": {
  "kernelspec": {
   "display_name": ".venv",
   "language": "python",
   "name": "python3"
  },
  "language_info": {
   "codemirror_mode": {
    "name": "ipython",
    "version": 3
   },
   "file_extension": ".py",
   "mimetype": "text/x-python",
   "name": "python",
   "nbconvert_exporter": "python",
   "pygments_lexer": "ipython3",
   "version": "3.10.10"
  }
 },
 "nbformat": 4,
 "nbformat_minor": 2
}
